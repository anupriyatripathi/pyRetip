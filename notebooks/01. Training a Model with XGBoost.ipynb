{
 "cells": [
  {
   "cell_type": "markdown",
   "id": "presidential-positive",
   "metadata": {},
   "source": [
    "![Retip](../images/retip_logo.png)\n",
    "# Retip: Retention Time Prediction for Metabolomics"
   ]
  },
  {
   "cell_type": "markdown",
   "id": "joined-defeat",
   "metadata": {},
   "source": [
    "### Retention Time Prediction Overview\n",
    "\n",
    "Retip is a tool for predicting retention times (RTs) of small molecules for high pressure liquid chromatography (HPLC) mass spectrometry.\n"
   ]
  },
  {
   "cell_type": "markdown",
   "id": "joined-outside",
   "metadata": {},
   "source": [
    "### Loading Data\n",
    "\n",
    "We begin by importing the retip library, which gives us access to the training, prediction and visualization functions."
   ]
  },
  {
   "cell_type": "code",
   "execution_count": null,
   "id": "aggregate-laugh",
   "metadata": {},
   "outputs": [],
   "source": [
    "try:\n",
    "    import retip\n",
    "except:\n",
    "    # add the parent directory to the path to load the Retip library locally in case it isn't installed\n",
    "    import os, sys\n",
    "    sys.path.insert(1, os.path.join(sys.path[0], '..'))\n",
    "    \n",
    "    import retip"
   ]
  },
  {
   "cell_type": "markdown",
   "id": "advanced-modeling",
   "metadata": {},
   "source": [
    "Now we can import our retention time dataset.  The user needs to prepare a compound retention time table in CSV or MS Excel format containing the compound name, retention time and chemical identifier.  Retip currently supports SMILES and PubChem CID as chemical identifiers.\n",
    "\n",
    "Retip will use this input file to build a the model and will predict retention times for other biochemical databases or an input query list of compounds. It is suggested that the file has at least 300 compounds to build a good retention time prediction model.\n",
    "\n",
    "Use the `retip.Dataset` class to create a new dataset.\n",
    "\n",
    "* The `test_size` parameter defines what percentage of your dataset should be used for testing/validation of the model (this example uses 20%)\n",
    "* The `seed` parameter sets a specific training/test split for the database, enabling reproducable model training"
   ]
  },
  {
   "cell_type": "code",
   "execution_count": null,
   "id": "anticipated-vermont",
   "metadata": {},
   "outputs": [],
   "source": [
    "dataset = retip.Dataset('../example_data/Plasma_positive.xlsx', test_size=0.2, seed=101, sheet_name='lib_2')"
   ]
  },
  {
   "cell_type": "code",
   "execution_count": null,
   "id": "reserved-duplicate",
   "metadata": {},
   "outputs": [],
   "source": [
    "dataset.head()"
   ]
  },
  {
   "cell_type": "markdown",
   "id": "divided-failure",
   "metadata": {},
   "source": [
    "Above you can see the first few rows of our starting dataset.  It contains the three requirements described before: name, retention time and chemical identifier (SMILES)."
   ]
  },
  {
   "cell_type": "markdown",
   "id": "republican-wholesale",
   "metadata": {},
   "source": [
    "Next, if your dataset does not already contain precalculated molecular descriptors, you can compute them with the [Mordred Molecular Descriptor Calculator](https://github.com/mordred-descriptor/mordred) by calling a simple function.  Note that molecules that cannot be parsed will be retained the dataset, but cannot be used for model training or validation."
   ]
  },
  {
   "cell_type": "code",
   "execution_count": null,
   "id": "revised-arizona",
   "metadata": {},
   "outputs": [],
   "source": [
    "dataset.calculate_descriptors()"
   ]
  },
  {
   "cell_type": "markdown",
   "id": "gothic-basketball",
   "metadata": {},
   "source": [
    "Since molecular descriptor calculation is a time-comsuming process, you can save the current state of your dataset. Next time you want to use retention time library, just use this export when loading your dataset instead"
   ]
  },
  {
   "cell_type": "code",
   "execution_count": null,
   "id": "informative-rogers",
   "metadata": {},
   "outputs": [],
   "source": [
    "dataset.save_dataset('Plasma_positive_retip-processed.csv')"
   ]
  },
  {
   "cell_type": "markdown",
   "id": "baking-drinking",
   "metadata": {},
   "source": [
    "### Training RT Prediction Model\n",
    "\n",
    "Here you can select your trainer to build your RT prediction model.  For this example we use XGBoost, but you can use `AutoGluonTrainer`.  To initialize your trainer, pass in your dataset with computed descriptors along with any of the optional parameters:\n",
    "\n",
    "* `cv` indicates the number of cross-validation splits (we recommend `cv=10` for a 10-fold cross validation)\n",
    "* `n_cpu` is the number of CPU cores to use for training (if not specified, it will use all available cores)\n",
    "\n",
    "Depending on your system, this can take ~20 minutes as the trainer performs a grid search over a large parameter space."
   ]
  },
  {
   "cell_type": "code",
   "execution_count": null,
   "id": "mysterious-color",
   "metadata": {},
   "outputs": [],
   "source": [
    "trainer = retip.XGBoostTrainer(dataset, cv=10, n_cpu=24)\n",
    "trainer.train()"
   ]
  },
  {
   "cell_type": "markdown",
   "id": "passive-joyce",
   "metadata": {},
   "source": [
    "You can score this model using the internal testing data, or alternatively pass in a different `Dataset` object with precomputed descriptors.  The plot parameter is optional but allows you to visualize how well the model works."
   ]
  },
  {
   "cell_type": "code",
   "execution_count": null,
   "id": "hispanic-fireplace",
   "metadata": {},
   "outputs": [],
   "source": [
    "trainer.score(plot=True)"
   ]
  },
  {
   "cell_type": "markdown",
   "id": "recorded-ideal",
   "metadata": {},
   "source": [
    "### External Validation\n",
    "\n",
    "You can also test the model using an external dataset.  We begin by loading the data in the same fashion. Since we aren't training on these data, we don't need to provide test/training split parameters.\n",
    "\n",
    "Even though molecular descriptors need to be calculated, you don't need to explicitly call the function.  If the trainer finds that descriptors are missing, it will calculate them for you."
   ]
  },
  {
   "cell_type": "code",
   "execution_count": null,
   "id": "addressed-looking",
   "metadata": {},
   "outputs": [],
   "source": [
    "val_data = retip.Dataset('../example_data/Plasma_positive.xlsx', sheet_name='ext')"
   ]
  },
  {
   "cell_type": "code",
   "execution_count": null,
   "id": "secret-garbage",
   "metadata": {},
   "outputs": [],
   "source": [
    "trainer.score(val_data, plot=True)"
   ]
  },
  {
   "cell_type": "markdown",
   "id": "coastal-aggregate",
   "metadata": {},
   "source": [
    "The RMSE and other scores on the external validation set are significantly worse than on our training and test, suggesting that our trainining set isn't sufficiently representative of our chemical space."
   ]
  },
  {
   "cell_type": "markdown",
   "id": "chubby-paint",
   "metadata": {},
   "source": [
    "### RT Prediction\n",
    "\n",
    "You can now use the trained model to predict retention times for a new dataset.  "
   ]
  },
  {
   "cell_type": "code",
   "execution_count": null,
   "id": "equivalent-steam",
   "metadata": {
    "scrolled": true
   },
   "outputs": [],
   "source": [
    "y_pred = trainer.predict(val_data)\n",
    "y_pred[:25]"
   ]
  },
  {
   "cell_type": "markdown",
   "id": "clear-eleven",
   "metadata": {},
   "source": [
    "This is great, but a list of numbers isn't very useful.  Instead, we can annotate our dataset:"
   ]
  },
  {
   "cell_type": "code",
   "execution_count": null,
   "id": "blind-milton",
   "metadata": {},
   "outputs": [],
   "source": [
    "trainer.annotate(val_data)"
   ]
  },
  {
   "cell_type": "code",
   "execution_count": null,
   "id": "typical-mathematics",
   "metadata": {},
   "outputs": [],
   "source": [
    "val_data.head()"
   ]
  },
  {
   "cell_type": "markdown",
   "id": "republican-frank",
   "metadata": {},
   "source": [
    "Now our dataset has a new column `RTP` column with the predicted retention time! In case there are some molecules that could not be loaded or for which descriptors could not be calculated, you will see a empty/null value in the RTP column. We can export this annotated dataset and exclude the descriptor columns by:"
   ]
  },
  {
   "cell_type": "code",
   "execution_count": null,
   "id": "interpreted-fundamental",
   "metadata": {},
   "outputs": [],
   "source": [
    "val_data.save_dataset('Plasma_positive_retip-ext-annotated.csv', include_descriptors=False)"
   ]
  },
  {
   "cell_type": "markdown",
   "id": "drawn-curtis",
   "metadata": {},
   "source": [
    "### Saving/Loading Models\n",
    "\n",
    "Once you produce a model you're happy with, you can save it to avoid needing to retrain in the future."
   ]
  },
  {
   "cell_type": "code",
   "execution_count": null,
   "id": "received-terrace",
   "metadata": {},
   "outputs": [],
   "source": [
    "trainer.save_model('Plasma_positve_xgboost-model.sav')"
   ]
  },
  {
   "cell_type": "markdown",
   "id": "respiratory-vessel",
   "metadata": {},
   "source": [
    "This exported model can then be reloaded and used to score datasets and predict new retention times.  However, unless a dataset is first passed to the trainer, it cannot be retained. "
   ]
  },
  {
   "cell_type": "code",
   "execution_count": null,
   "id": "absent-romantic",
   "metadata": {},
   "outputs": [],
   "source": [
    "trainer = retip.XGBoostTrainer()\n",
    "trainer.load_model('Plasma_positve_xgboost-model.sav')"
   ]
  },
  {
   "cell_type": "code",
   "execution_count": null,
   "id": "italic-government",
   "metadata": {},
   "outputs": [],
   "source": [
    "trainer.score(val_data)"
   ]
  }
 ],
 "metadata": {
  "kernelspec": {
   "display_name": "Python 3",
   "language": "python",
   "name": "python3"
  },
  "language_info": {
   "codemirror_mode": {
    "name": "ipython",
    "version": 3
   },
   "file_extension": ".py",
   "mimetype": "text/x-python",
   "name": "python",
   "nbconvert_exporter": "python",
   "pygments_lexer": "ipython3",
   "version": "3.7.10"
  }
 },
 "nbformat": 4,
 "nbformat_minor": 5
}
