{
 "cells": [
  {
   "cell_type": "markdown",
   "id": "presidential-positive",
   "metadata": {},
   "source": [
    "![Retip](../images/retip_logo.png)\n",
    "# Retip: Retention Time Prediction for Metabolomics"
   ]
  },
  {
   "cell_type": "markdown",
   "id": "joined-defeat",
   "metadata": {},
   "source": [
    "### Retention Time Prediction Overview\n",
    "\n",
    "Retip is a tool for predicting retention times (RTs) of small molecules for high pressure liquid chromatography (HPLC) mass spectrometry.\n"
   ]
  },
  {
   "cell_type": "markdown",
   "id": "joined-outside",
   "metadata": {},
   "source": [
    "### Loading Data\n",
    "\n",
    "We begin by importing the retip library, which gives us access to the training, prediction and visualization functions."
   ]
  },
  {
   "cell_type": "code",
   "execution_count": 1,
   "id": "aggregate-laugh",
   "metadata": {},
   "outputs": [],
   "source": [
    "try:\n",
    "    import retip\n",
    "except:\n",
    "    # add the parent directory to the path to load the Retip library locally in case it isn't installed\n",
    "    import sys\n",
    "    sys.path.insert(1, os.path.join(sys.path[0], '..'))\n",
    "    \n",
    "    import retip"
   ]
  },
  {
   "cell_type": "markdown",
   "id": "advanced-modeling",
   "metadata": {},
   "source": [
    "Now we can import our retention time dataset.  The user needs to prepare a compound retention time table in CSV or MS Excel format containing the compound name, retention time and chemical identifier.  Retip currently supports SMILES and PubChem CID as chemical identifiers.\n",
    "\n",
    "Retip will use this input file to build a the model and will predict retention times for other biochemical databases or an input query list of compounds. It is suggested that the file has at least 300 compounds to build a good retention time prediction model.\n",
    "\n",
    "Use the `retip.Dataset` class to create a new dataset.\n",
    "\n",
    "* The `test_size` parameter defines what percentage of your dataset should be used for testing/validation of the model (this example uses 20%)\n",
    "* The `seed` parameter sets a specific training/test split for the database, enabling reproducable model training"
   ]
  },
  {
   "cell_type": "code",
   "execution_count": 2,
   "id": "anticipated-vermont",
   "metadata": {},
   "outputs": [],
   "source": [
    "dataset = retip.Dataset('../example_data/Plasma_positive.xlsx', test_size=0.2, seed=101, sheet_name='lib_2')"
   ]
  },
  {
   "cell_type": "markdown",
   "id": "republican-wholesale",
   "metadata": {},
   "source": [
    "Next, if your dataset does not already contain precalculated molecular descriptors, you can compute them with the [Mordred Molecular Descriptor Calculator](https://github.com/mordred-descriptor/mordred) by calling a simple function.  Note that molecules that cannot be parsed will be retained the dataset, but cannot be used for model training or validation."
   ]
  },
  {
   "cell_type": "code",
   "execution_count": 3,
   "id": "revised-arizona",
   "metadata": {},
   "outputs": [
    {
     "name": "stdout",
     "output_type": "stream",
     "text": [
      "Skipping molecular descriptor calculation, descriptors have already been calculated\n"
     ]
    }
   ],
   "source": [
    "dataset.calculate_descriptors()"
   ]
  },
  {
   "cell_type": "markdown",
   "id": "gothic-basketball",
   "metadata": {},
   "source": [
    "Since molecular descriptor calculation is a time-comsuming process, you can save the current state of your dataset. Next time you want to use retention time library, just use this export when loading your dataset instead"
   ]
  },
  {
   "cell_type": "code",
   "execution_count": 4,
   "id": "informative-rogers",
   "metadata": {},
   "outputs": [
    {
     "name": "stdout",
     "output_type": "stream",
     "text": [
      "Saved dataset to Plasma_positive_retip-processed.csv\n"
     ]
    }
   ],
   "source": [
    "dataset.save_dataset('Plasma_positive_retip-processed.csv')"
   ]
  },
  {
   "cell_type": "markdown",
   "id": "baking-drinking",
   "metadata": {},
   "source": [
    "### Training RT Prediction Model\n",
    "\n",
    "Here you can select your trainer to build your RT prediction model.  For this example we use XGBoost, but you can use `AutoGluonTrainer`.  To initialize your trainer, pass in your dataset with computed descriptors along with any of the optional parameters:\n",
    "\n",
    "* `cv` indicates the number of cross-validation splits (we recommend `cv=10` for a 10-fold cross validation)\n",
    "* `n_cpu` is the number of CPU cores to use for training (if not specified, it will use all available cores)\n",
    "\n",
    "Depending on your system, this can take ~20 minutes as the trainer performs a grid search over a large parameter space."
   ]
  },
  {
   "cell_type": "code",
   "execution_count": 5,
   "id": "mysterious-color",
   "metadata": {},
   "outputs": [
    {
     "name": "stdout",
     "output_type": "stream",
     "text": [
      "Fitting 2 folds for each of 56 candidates, totalling 112 fits\n",
      "Training completed in 0:02:06.166422 with best RMSE 0.789\n"
     ]
    }
   ],
   "source": [
    "trainer = retip.XGBoostTrainer(dataset, cv=10, n_cpu=4)\n",
    "trainer.train()"
   ]
  },
  {
   "cell_type": "markdown",
   "id": "passive-joyce",
   "metadata": {},
   "source": [
    "You can score this model using the internal testing data, or alternatively pass in a different `Dataset` object with precomputed descriptors."
   ]
  },
  {
   "cell_type": "code",
   "execution_count": 6,
   "id": "hispanic-fireplace",
   "metadata": {},
   "outputs": [
    {
     "data": {
      "text/plain": [
       "{'root_mean_squared_error': 0.5877174338636932,\n",
       " 'mean_absolute_error': 0.5444404803863679,\n",
       " 'explained_variance_score': 0.8595191501106432,\n",
       " 'r2_score': 0.8594006451230303,\n",
       " 'pearson_correlation': 0.9291983987303947,\n",
       " 'mean_squared_error': 0.5877174338636932,\n",
       " 'median_absolute_error': 0.37269119262695316,\n",
       " '95_percent_confidence_interval': 1.2827148930884547}"
      ]
     },
     "execution_count": 6,
     "metadata": {},
     "output_type": "execute_result"
    }
   ],
   "source": [
    "trainer.score()"
   ]
  },
  {
   "cell_type": "markdown",
   "id": "recorded-ideal",
   "metadata": {},
   "source": [
    "### External Validation\n",
    "\n",
    "You can also test the model using an external dataset.  We begin by loading the data in the same fashion. Since we aren't training on these data, we don't need to provide test/training split parameters.\n",
    "\n",
    "Even though molecular descriptors need to be calculated, you don't need to explicitly call the function.  If the trainer finds that descriptors are missing, it will calculate them for you."
   ]
  },
  {
   "cell_type": "code",
   "execution_count": 7,
   "id": "addressed-looking",
   "metadata": {},
   "outputs": [],
   "source": [
    "val_data = retip.Dataset('../example_data/Plasma_positive.xlsx', sheet_name='ext')"
   ]
  },
  {
   "cell_type": "code",
   "execution_count": 8,
   "id": "secret-garbage",
   "metadata": {},
   "outputs": [
    {
     "name": "stderr",
     "output_type": "stream",
     "text": [
      "\r",
      "  0%|          | 0/320 [00:00<?, ?it/s]"
     ]
    },
    {
     "name": "stdout",
     "output_type": "stream",
     "text": [
      "Calculating descriptors for 320 structures\n"
     ]
    },
    {
     "name": "stderr",
     "output_type": "stream",
     "text": [
      "  2%|▎         | 8/320 [00:02<01:44,  2.98it/s]/home/sajjan/miniconda3/envs/retip2/lib/python3.7/site-packages/numpy/core/fromnumeric.py:87: RuntimeWarning: overflow encountered in reduce\n",
      "  return ufunc.reduce(obj, axis, dtype, out, **passkwargs)\n",
      "100%|██████████| 320/320 [01:49<00:00,  2.92it/s]\n"
     ]
    },
    {
     "data": {
      "text/plain": [
       "{'root_mean_squared_error': 0.9758720648620701,\n",
       " 'mean_absolute_error': 0.7128168755403443,\n",
       " 'explained_variance_score': 0.7861313154536403,\n",
       " 'r2_score': 0.7860491441667808,\n",
       " 'pearson_correlation': 0.8883198442717539,\n",
       " 'mean_squared_error': 0.9758720648620701,\n",
       " 'median_absolute_error': 0.5237401771545414,\n",
       " '95_percent_confidence_interval': 1.605217204241618}"
      ]
     },
     "execution_count": 8,
     "metadata": {},
     "output_type": "execute_result"
    }
   ],
   "source": [
    "trainer.score(val_data)"
   ]
  },
  {
   "cell_type": "markdown",
   "id": "coastal-aggregate",
   "metadata": {},
   "source": [
    "The RMSE and other scores on the external validation set are significantly worse than on our training and test, suggesting that our trainining set isn't sufficiently representative of our chemical space."
   ]
  },
  {
   "cell_type": "markdown",
   "id": "chubby-paint",
   "metadata": {},
   "source": [
    "### RT Prediction\n",
    "\n",
    "You can now use the trained model to predict retention times for a new dataset.  "
   ]
  },
  {
   "cell_type": "code",
   "execution_count": 9,
   "id": "equivalent-steam",
   "metadata": {
    "scrolled": true
   },
   "outputs": [
    {
     "data": {
      "text/plain": [
       "array([6.7116394, 6.352397 , 6.2965903, 6.745089 , 6.4961596, 6.592478 ,\n",
       "       6.754655 , 6.40973  , 6.322197 , 6.352319 , 6.384519 , 6.3995295,\n",
       "       6.440836 , 6.3601766, 6.6003065, 6.445873 , 6.138191 , 6.348131 ,\n",
       "       6.306133 , 6.3378386, 6.244544 , 6.2213554, 8.327709 , 6.6690598,\n",
       "       6.3473577], dtype=float32)"
      ]
     },
     "execution_count": 9,
     "metadata": {},
     "output_type": "execute_result"
    }
   ],
   "source": [
    "y_pred = trainer.predict(val_data)\n",
    "y_pred[:25]"
   ]
  },
  {
   "cell_type": "markdown",
   "id": "clear-eleven",
   "metadata": {},
   "source": [
    "This is great, but a list of numbers isn't very useful.  Instead, we can annotate our dataset:"
   ]
  },
  {
   "cell_type": "code",
   "execution_count": 10,
   "id": "blind-milton",
   "metadata": {},
   "outputs": [],
   "source": [
    "trainer.annotate(val_data)"
   ]
  },
  {
   "cell_type": "code",
   "execution_count": 11,
   "id": "typical-mathematics",
   "metadata": {},
   "outputs": [
    {
     "data": {
      "text/html": [
       "<div>\n",
       "<style scoped>\n",
       "    .dataframe tbody tr th:only-of-type {\n",
       "        vertical-align: middle;\n",
       "    }\n",
       "\n",
       "    .dataframe tbody tr th {\n",
       "        vertical-align: top;\n",
       "    }\n",
       "\n",
       "    .dataframe thead th {\n",
       "        text-align: right;\n",
       "    }\n",
       "</style>\n",
       "<table border=\"1\" class=\"dataframe\">\n",
       "  <thead>\n",
       "    <tr style=\"text-align: right;\">\n",
       "      <th></th>\n",
       "      <th>Name</th>\n",
       "      <th>InChIKey</th>\n",
       "      <th>SMILES</th>\n",
       "      <th>RT</th>\n",
       "      <th>RTP</th>\n",
       "      <th>ABC</th>\n",
       "      <th>ABCGG</th>\n",
       "      <th>nAcid</th>\n",
       "      <th>nBase</th>\n",
       "      <th>SpAbs_A</th>\n",
       "      <th>...</th>\n",
       "      <th>SRW10</th>\n",
       "      <th>TSRW10</th>\n",
       "      <th>MW</th>\n",
       "      <th>AMW</th>\n",
       "      <th>WPath</th>\n",
       "      <th>WPol</th>\n",
       "      <th>Zagreb1</th>\n",
       "      <th>Zagreb2</th>\n",
       "      <th>mZagreb1</th>\n",
       "      <th>mZagreb2</th>\n",
       "    </tr>\n",
       "  </thead>\n",
       "  <tbody>\n",
       "    <tr>\n",
       "      <th>0</th>\n",
       "      <td>Soyasapogenol E base + O-Hex-HexA</td>\n",
       "      <td>YDNHBSRZSMNZPB-NJAHCQCINA-N</td>\n",
       "      <td>O=C(O)C7OC(OC2CCC3(C)(C4CC=C1C5CC(C)(C)CC(=O)C...</td>\n",
       "      <td>7.84</td>\n",
       "      <td>6.711639</td>\n",
       "      <td>44.836157</td>\n",
       "      <td>32.982369</td>\n",
       "      <td>1</td>\n",
       "      <td>0</td>\n",
       "      <td>70.320901</td>\n",
       "      <td>...</td>\n",
       "      <td>11.553443</td>\n",
       "      <td>96.348334</td>\n",
       "      <td>794.445257</td>\n",
       "      <td>6.511846</td>\n",
       "      <td>12554</td>\n",
       "      <td>131</td>\n",
       "      <td>330.0</td>\n",
       "      <td>420.0</td>\n",
       "      <td>23.263889</td>\n",
       "      <td>11.631944</td>\n",
       "    </tr>\n",
       "    <tr>\n",
       "      <th>1</th>\n",
       "      <td>Soyasapogenol E base + O-HexA-Hex-dHex</td>\n",
       "      <td>CROUPKILZUPLQA-UHFFFAOYNA-N</td>\n",
       "      <td>O=C(O)C8OC(OC2CCC3(C)(C4CC=C1C5CC(C)(C)CC(=O)C...</td>\n",
       "      <td>7.62</td>\n",
       "      <td>6.352397</td>\n",
       "      <td>52.780741</td>\n",
       "      <td>38.464480</td>\n",
       "      <td>1</td>\n",
       "      <td>0</td>\n",
       "      <td>83.127288</td>\n",
       "      <td>...</td>\n",
       "      <td>11.673657</td>\n",
       "      <td>107.062212</td>\n",
       "      <td>940.503166</td>\n",
       "      <td>6.623262</td>\n",
       "      <td>19659</td>\n",
       "      <td>152</td>\n",
       "      <td>386.0</td>\n",
       "      <td>489.0</td>\n",
       "      <td>27.319444</td>\n",
       "      <td>13.743056</td>\n",
       "    </tr>\n",
       "    <tr>\n",
       "      <th>2</th>\n",
       "      <td>Soyasapogenol E base + O-HexA-Hex-Hex</td>\n",
       "      <td>JTXVTHCLTOUSSL-UHFFFAOYNA-N</td>\n",
       "      <td>O=C(O)C8OC(OC2CCC3(C)(C4CC=C1C5CC(C)(C)CC(=O)C...</td>\n",
       "      <td>7.49</td>\n",
       "      <td>6.296590</td>\n",
       "      <td>53.378458</td>\n",
       "      <td>38.971182</td>\n",
       "      <td>1</td>\n",
       "      <td>0</td>\n",
       "      <td>84.423353</td>\n",
       "      <td>...</td>\n",
       "      <td>11.680125</td>\n",
       "      <td>108.106572</td>\n",
       "      <td>956.498080</td>\n",
       "      <td>6.688798</td>\n",
       "      <td>20502</td>\n",
       "      <td>154</td>\n",
       "      <td>390.0</td>\n",
       "      <td>494.0</td>\n",
       "      <td>27.569444</td>\n",
       "      <td>14.076389</td>\n",
       "    </tr>\n",
       "    <tr>\n",
       "      <th>3</th>\n",
       "      <td>Soyasapogenol B base + O-HexA-Pen-dHex, O-C6H7...</td>\n",
       "      <td>VWKBHQGCNGULAZ-UHFFFAOYNA-N</td>\n",
       "      <td>O=C(O)C9OC(OC3CCC4(C)(C5CC=C2C6CC(C)(C)CC(OC1O...</td>\n",
       "      <td>7.79</td>\n",
       "      <td>6.745089</td>\n",
       "      <td>58.615935</td>\n",
       "      <td>41.117105</td>\n",
       "      <td>1</td>\n",
       "      <td>0</td>\n",
       "      <td>92.117673</td>\n",
       "      <td>...</td>\n",
       "      <td>11.738011</td>\n",
       "      <td>114.489110</td>\n",
       "      <td>1038.539945</td>\n",
       "      <td>6.700258</td>\n",
       "      <td>27052</td>\n",
       "      <td>164</td>\n",
       "      <td>426.0</td>\n",
       "      <td>536.0</td>\n",
       "      <td>29.402778</td>\n",
       "      <td>15.104167</td>\n",
       "    </tr>\n",
       "    <tr>\n",
       "      <th>4</th>\n",
       "      <td>Soyasapogenol B base + O-HexA-Hex-Pen, O-dHex</td>\n",
       "      <td>REIWEXDMDVAAEI-UHFFFAOYNA-N</td>\n",
       "      <td>CC1OC(OC2CC(C)(C)CC3C4=CCC5C6(C)CCC(OC7OC(C(O)...</td>\n",
       "      <td>5.56</td>\n",
       "      <td>6.496160</td>\n",
       "      <td>59.949268</td>\n",
       "      <td>42.489658</td>\n",
       "      <td>1</td>\n",
       "      <td>0</td>\n",
       "      <td>94.854730</td>\n",
       "      <td>...</td>\n",
       "      <td>11.764827</td>\n",
       "      <td>116.612958</td>\n",
       "      <td>1074.561074</td>\n",
       "      <td>6.674292</td>\n",
       "      <td>28816</td>\n",
       "      <td>170</td>\n",
       "      <td>436.0</td>\n",
       "      <td>550.0</td>\n",
       "      <td>30.513889</td>\n",
       "      <td>15.659722</td>\n",
       "    </tr>\n",
       "  </tbody>\n",
       "</table>\n",
       "<p>5 rows × 1618 columns</p>\n",
       "</div>"
      ],
      "text/plain": [
       "                                                Name  \\\n",
       "0                  Soyasapogenol E base + O-Hex-HexA   \n",
       "1             Soyasapogenol E base + O-HexA-Hex-dHex   \n",
       "2              Soyasapogenol E base + O-HexA-Hex-Hex   \n",
       "3  Soyasapogenol B base + O-HexA-Pen-dHex, O-C6H7...   \n",
       "4      Soyasapogenol B base + O-HexA-Hex-Pen, O-dHex   \n",
       "\n",
       "                      InChIKey  \\\n",
       "0  YDNHBSRZSMNZPB-NJAHCQCINA-N   \n",
       "1  CROUPKILZUPLQA-UHFFFAOYNA-N   \n",
       "2  JTXVTHCLTOUSSL-UHFFFAOYNA-N   \n",
       "3  VWKBHQGCNGULAZ-UHFFFAOYNA-N   \n",
       "4  REIWEXDMDVAAEI-UHFFFAOYNA-N   \n",
       "\n",
       "                                              SMILES    RT       RTP  \\\n",
       "0  O=C(O)C7OC(OC2CCC3(C)(C4CC=C1C5CC(C)(C)CC(=O)C...  7.84  6.711639   \n",
       "1  O=C(O)C8OC(OC2CCC3(C)(C4CC=C1C5CC(C)(C)CC(=O)C...  7.62  6.352397   \n",
       "2  O=C(O)C8OC(OC2CCC3(C)(C4CC=C1C5CC(C)(C)CC(=O)C...  7.49  6.296590   \n",
       "3  O=C(O)C9OC(OC3CCC4(C)(C5CC=C2C6CC(C)(C)CC(OC1O...  7.79  6.745089   \n",
       "4  CC1OC(OC2CC(C)(C)CC3C4=CCC5C6(C)CCC(OC7OC(C(O)...  5.56  6.496160   \n",
       "\n",
       "         ABC      ABCGG  nAcid  nBase    SpAbs_A  ...      SRW10      TSRW10  \\\n",
       "0  44.836157  32.982369      1      0  70.320901  ...  11.553443   96.348334   \n",
       "1  52.780741  38.464480      1      0  83.127288  ...  11.673657  107.062212   \n",
       "2  53.378458  38.971182      1      0  84.423353  ...  11.680125  108.106572   \n",
       "3  58.615935  41.117105      1      0  92.117673  ...  11.738011  114.489110   \n",
       "4  59.949268  42.489658      1      0  94.854730  ...  11.764827  116.612958   \n",
       "\n",
       "            MW       AMW  WPath  WPol  Zagreb1  Zagreb2   mZagreb1   mZagreb2  \n",
       "0   794.445257  6.511846  12554   131    330.0    420.0  23.263889  11.631944  \n",
       "1   940.503166  6.623262  19659   152    386.0    489.0  27.319444  13.743056  \n",
       "2   956.498080  6.688798  20502   154    390.0    494.0  27.569444  14.076389  \n",
       "3  1038.539945  6.700258  27052   164    426.0    536.0  29.402778  15.104167  \n",
       "4  1074.561074  6.674292  28816   170    436.0    550.0  30.513889  15.659722  \n",
       "\n",
       "[5 rows x 1618 columns]"
      ]
     },
     "execution_count": 11,
     "metadata": {},
     "output_type": "execute_result"
    }
   ],
   "source": [
    "val_data.head()"
   ]
  },
  {
   "cell_type": "markdown",
   "id": "republican-frank",
   "metadata": {},
   "source": [
    "Now our dataset has a new column `RTP` column with the predicted retention time! In case there are some molecules that could not be loaded or for which descriptors could not be calculated, you will see a empty/null value in the RTP column. We can export this annotated dataset and exclude the descriptor columns by:"
   ]
  },
  {
   "cell_type": "code",
   "execution_count": 12,
   "id": "interpreted-fundamental",
   "metadata": {},
   "outputs": [
    {
     "name": "stdout",
     "output_type": "stream",
     "text": [
      "Saved dataset to Plasma_positive_retip-ext-annotated.csv\n"
     ]
    }
   ],
   "source": [
    "val_data.save_dataset('Plasma_positive_retip-ext-annotated.csv', include_descriptors=False)"
   ]
  }
 ],
 "metadata": {
  "kernelspec": {
   "display_name": "Python 3",
   "language": "python",
   "name": "python3"
  },
  "language_info": {
   "codemirror_mode": {
    "name": "ipython",
    "version": 3
   },
   "file_extension": ".py",
   "mimetype": "text/x-python",
   "name": "python",
   "nbconvert_exporter": "python",
   "pygments_lexer": "ipython3",
   "version": "3.7.10"
  }
 },
 "nbformat": 4,
 "nbformat_minor": 5
}
