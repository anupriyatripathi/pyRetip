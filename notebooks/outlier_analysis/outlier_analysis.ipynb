{
 "cells": [
  {
   "cell_type": "markdown",
   "id": "legislative-iceland",
   "metadata": {},
   "source": [
    "![Retip](../../images/retip_logo.png)\n",
    "# Retip: Retention Time Prediction for Metabolomics and Lipidomics"
   ]
  },
  {
   "cell_type": "markdown",
   "id": "outer-consumer",
   "metadata": {},
   "source": [
    "### Identiying False Annotations\n",
    "\n",
    "Given an annotated metabolomics dataset, we can use retention time prediction to identify likely misannotated features.  To begin, we import Retip and load our data as usual. Outlier analysis requires the same type of input as model building, namely a table of compound Name, SMILES (or other supported chemical identifier) and retention time.\n",
    "\n",
    "Since we are not building this model to apply on other datasets, we do not need a to split it into separate training and test set."
   ]
  },
  {
   "cell_type": "code",
   "execution_count": null,
   "id": "agreed-defense",
   "metadata": {},
   "outputs": [],
   "source": [
    "try:\n",
    "    import retip\n",
    "except:\n",
    "    # add the parent directory to the path to load the Retip library locally in case it isn't installed\n",
    "    import os, sys\n",
    "    sys.path.insert(1, os.path.join(sys.path[0], '../..'))\n",
    "    \n",
    "    import retip"
   ]
  },
  {
   "cell_type": "code",
   "execution_count": null,
   "id": "taken-january",
   "metadata": {},
   "outputs": [],
   "source": [
    "dataset = retip.Dataset().load_retip_dataset('tomato_annotations.csv')\n",
    "dataset.calculate_descriptors()\n",
    "dataset.preprocess_features('metabolomics')"
   ]
  },
  {
   "cell_type": "code",
   "execution_count": null,
   "id": "0ca75e6b-bac2-4337-b319-e13f37fbb029",
   "metadata": {},
   "outputs": [],
   "source": [
    "dataset.describe()"
   ]
  },
  {
   "cell_type": "code",
   "execution_count": null,
   "id": "superior-embassy",
   "metadata": {},
   "outputs": [],
   "source": [
    "trainer = retip.XGBoostTrainer(dataset, cv=5)\n",
    "trainer.train()"
   ]
  },
  {
   "cell_type": "markdown",
   "id": "scheduled-exhaust",
   "metadata": {},
   "source": [
    "Running the `outlier_identification` function will provide two results:\n",
    "\n",
    "1. A plot showing the distribution of real vs. predicted retention times overlaid by a simple linear fit with 95% confidence intervals, with any annotations outside of this CI window are highlighted in red\n",
    "2. A table listing the outliers with their name, retention time and predicted retention time"
   ]
  },
  {
   "cell_type": "code",
   "execution_count": null,
   "id": "swedish-frank",
   "metadata": {},
   "outputs": [],
   "source": [
    "outliers = retip.visualization.outlier_identification(trainer, dataset, 'RTP', confidence_interval=95)\n",
    "outliers"
   ]
  },
  {
   "cell_type": "markdown",
   "id": "exposed-indie",
   "metadata": {},
   "source": [
    "You can also select a different confidence interval threshold, for example 90% CI:"
   ]
  },
  {
   "cell_type": "code",
   "execution_count": null,
   "id": "muslim-headline",
   "metadata": {},
   "outputs": [],
   "source": [
    "outliers = retip.outlier_identification(trainer, dataset, confidence_interval=90)\n",
    "outliers"
   ]
  }
 ],
 "metadata": {
  "kernelspec": {
   "display_name": "Python 3 (ipykernel)",
   "language": "python",
   "name": "python3"
  },
  "language_info": {
   "codemirror_mode": {
    "name": "ipython",
    "version": 3
   },
   "file_extension": ".py",
   "mimetype": "text/x-python",
   "name": "python",
   "nbconvert_exporter": "python",
   "pygments_lexer": "ipython3",
   "version": "3.10.12"
  }
 },
 "nbformat": 4,
 "nbformat_minor": 5
}
