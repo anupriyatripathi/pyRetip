{
 "cells": [
  {
   "cell_type": "markdown",
   "id": "legislative-iceland",
   "metadata": {},
   "source": [
    "![Retip](../images/retip_logo.png)\n",
    "# Retip: Retention Time Prediction for Metabolomics"
   ]
  },
  {
   "cell_type": "markdown",
   "id": "outer-consumer",
   "metadata": {},
   "source": [
    "### Identiying False Annotations\n",
    "\n",
    "Given an annotated metabolomics dataset, we can use retention time prediction to identify likely misannotated features.  To begin, we import Retip and load our data as usual. Outlier analysis requires the same type of input as model building, namely a table of compound Name, SMILES (or other supported chemical identifier) and retention time.\n",
    "\n",
    "Since we are not building this model to apply on other datasets, we do not need a to split it into separate training and test set."
   ]
  },
  {
   "cell_type": "code",
   "execution_count": 1,
   "id": "agreed-defense",
   "metadata": {},
   "outputs": [],
   "source": [
    "try:\n",
    "    import retip\n",
    "except:\n",
    "    # add the parent directory to the path to load the Retip library locally in case it isn't installed\n",
    "    import os, sys\n",
    "    sys.path.insert(1, os.path.join(sys.path[0], '..'))\n",
    "    \n",
    "    import retip"
   ]
  },
  {
   "cell_type": "code",
   "execution_count": 3,
   "id": "taken-january",
   "metadata": {},
   "outputs": [
    {
     "name": "stdout",
     "output_type": "stream",
     "text": [
      "Calculating descriptors for training dataset\n"
     ]
    },
    {
     "name": "stderr",
     "output_type": "stream",
     "text": [
      "100%|███████████████████████████████████████████████████████████████████████████████████████████████████████████████████████████████████████████████████████████| 1164/1164 [05:45<00:00,  3.37it/s]\n"
     ]
    },
    {
     "name": "stdout",
     "output_type": "stream",
     "text": [
      "Reduced feature set from 1613 to 817\n"
     ]
    }
   ],
   "source": [
    "dataset = retip.Dataset().load_retip_dataset('../example_data/tomato_annotations.csv')\n",
    "dataset.calculate_descriptors()\n",
    "dataset.preprocess_features('metabolomics')"
   ]
  },
  {
   "cell_type": "code",
   "execution_count": 4,
   "id": "0ca75e6b-bac2-4337-b319-e13f37fbb029",
   "metadata": {},
   "outputs": [
    {
     "name": "stdout",
     "output_type": "stream",
     "text": [
      "Training (1164, 821)\n"
     ]
    }
   ],
   "source": [
    "dataset.describe()"
   ]
  },
  {
   "cell_type": "code",
   "execution_count": 5,
   "id": "superior-embassy",
   "metadata": {},
   "outputs": [
    {
     "name": "stdout",
     "output_type": "stream",
     "text": [
      "Fitting 5 folds for each of 56 candidates, totalling 280 fits\n",
      "Training completed in 0:16:28.270350 with best RMSE -10.631\n"
     ]
    }
   ],
   "source": [
    "trainer = retip.XGBoostTrainer(dataset, cv=5)\n",
    "trainer.train()"
   ]
  },
  {
   "cell_type": "markdown",
   "id": "scheduled-exhaust",
   "metadata": {},
   "source": [
    "Running the `outlier_identification` function will provide two results:\n",
    "\n",
    "1. A plot showing the distribution of real vs. predicted retention times overlaid by a simple linear fit with 95% confidence intervals, with any annotations outside of this CI window are highlighted in red\n",
    "2. A table listing the outliers with their name, retention time and predicted retention time"
   ]
  },
  {
   "cell_type": "code",
   "execution_count": 7,
   "id": "swedish-frank",
   "metadata": {},
   "outputs": [
    {
     "data": {
      "text/html": [
       "\n",
       "    <div class=\"bk-root\">\n",
       "        <a href=\"https://bokeh.org\" target=\"_blank\" class=\"bk-logo bk-logo-small bk-logo-notebook\"></a>\n",
       "        <span id=\"1002\">Loading BokehJS ...</span>\n",
       "    </div>"
      ]
     },
     "metadata": {},
     "output_type": "display_data"
    },
    {
     "data": {
      "application/javascript": [
       "\n",
       "(function(root) {\n",
       "  function now() {\n",
       "    return new Date();\n",
       "  }\n",
       "\n",
       "  const force = true;\n",
       "\n",
       "  if (typeof root._bokeh_onload_callbacks === \"undefined\" || force === true) {\n",
       "    root._bokeh_onload_callbacks = [];\n",
       "    root._bokeh_is_loading = undefined;\n",
       "  }\n",
       "\n",
       "  const JS_MIME_TYPE = 'application/javascript';\n",
       "  const HTML_MIME_TYPE = 'text/html';\n",
       "  const EXEC_MIME_TYPE = 'application/vnd.bokehjs_exec.v0+json';\n",
       "  const CLASS_NAME = 'output_bokeh rendered_html';\n",
       "\n",
       "  /**\n",
       "   * Render data to the DOM node\n",
       "   */\n",
       "  function render(props, node) {\n",
       "    const script = document.createElement(\"script\");\n",
       "    node.appendChild(script);\n",
       "  }\n",
       "\n",
       "  /**\n",
       "   * Handle when an output is cleared or removed\n",
       "   */\n",
       "  function handleClearOutput(event, handle) {\n",
       "    const cell = handle.cell;\n",
       "\n",
       "    const id = cell.output_area._bokeh_element_id;\n",
       "    const server_id = cell.output_area._bokeh_server_id;\n",
       "    // Clean up Bokeh references\n",
       "    if (id != null && id in Bokeh.index) {\n",
       "      Bokeh.index[id].model.document.clear();\n",
       "      delete Bokeh.index[id];\n",
       "    }\n",
       "\n",
       "    if (server_id !== undefined) {\n",
       "      // Clean up Bokeh references\n",
       "      const cmd_clean = \"from bokeh.io.state import curstate; print(curstate().uuid_to_server['\" + server_id + \"'].get_sessions()[0].document.roots[0]._id)\";\n",
       "      cell.notebook.kernel.execute(cmd_clean, {\n",
       "        iopub: {\n",
       "          output: function(msg) {\n",
       "            const id = msg.content.text.trim();\n",
       "            if (id in Bokeh.index) {\n",
       "              Bokeh.index[id].model.document.clear();\n",
       "              delete Bokeh.index[id];\n",
       "            }\n",
       "          }\n",
       "        }\n",
       "      });\n",
       "      // Destroy server and session\n",
       "      const cmd_destroy = \"import bokeh.io.notebook as ion; ion.destroy_server('\" + server_id + \"')\";\n",
       "      cell.notebook.kernel.execute(cmd_destroy);\n",
       "    }\n",
       "  }\n",
       "\n",
       "  /**\n",
       "   * Handle when a new output is added\n",
       "   */\n",
       "  function handleAddOutput(event, handle) {\n",
       "    const output_area = handle.output_area;\n",
       "    const output = handle.output;\n",
       "\n",
       "    // limit handleAddOutput to display_data with EXEC_MIME_TYPE content only\n",
       "    if ((output.output_type != \"display_data\") || (!Object.prototype.hasOwnProperty.call(output.data, EXEC_MIME_TYPE))) {\n",
       "      return\n",
       "    }\n",
       "\n",
       "    const toinsert = output_area.element.find(\".\" + CLASS_NAME.split(' ')[0]);\n",
       "\n",
       "    if (output.metadata[EXEC_MIME_TYPE][\"id\"] !== undefined) {\n",
       "      toinsert[toinsert.length - 1].firstChild.textContent = output.data[JS_MIME_TYPE];\n",
       "      // store reference to embed id on output_area\n",
       "      output_area._bokeh_element_id = output.metadata[EXEC_MIME_TYPE][\"id\"];\n",
       "    }\n",
       "    if (output.metadata[EXEC_MIME_TYPE][\"server_id\"] !== undefined) {\n",
       "      const bk_div = document.createElement(\"div\");\n",
       "      bk_div.innerHTML = output.data[HTML_MIME_TYPE];\n",
       "      const script_attrs = bk_div.children[0].attributes;\n",
       "      for (let i = 0; i < script_attrs.length; i++) {\n",
       "        toinsert[toinsert.length - 1].firstChild.setAttribute(script_attrs[i].name, script_attrs[i].value);\n",
       "        toinsert[toinsert.length - 1].firstChild.textContent = bk_div.children[0].textContent\n",
       "      }\n",
       "      // store reference to server id on output_area\n",
       "      output_area._bokeh_server_id = output.metadata[EXEC_MIME_TYPE][\"server_id\"];\n",
       "    }\n",
       "  }\n",
       "\n",
       "  function register_renderer(events, OutputArea) {\n",
       "\n",
       "    function append_mime(data, metadata, element) {\n",
       "      // create a DOM node to render to\n",
       "      const toinsert = this.create_output_subarea(\n",
       "        metadata,\n",
       "        CLASS_NAME,\n",
       "        EXEC_MIME_TYPE\n",
       "      );\n",
       "      this.keyboard_manager.register_events(toinsert);\n",
       "      // Render to node\n",
       "      const props = {data: data, metadata: metadata[EXEC_MIME_TYPE]};\n",
       "      render(props, toinsert[toinsert.length - 1]);\n",
       "      element.append(toinsert);\n",
       "      return toinsert\n",
       "    }\n",
       "\n",
       "    /* Handle when an output is cleared or removed */\n",
       "    events.on('clear_output.CodeCell', handleClearOutput);\n",
       "    events.on('delete.Cell', handleClearOutput);\n",
       "\n",
       "    /* Handle when a new output is added */\n",
       "    events.on('output_added.OutputArea', handleAddOutput);\n",
       "\n",
       "    /**\n",
       "     * Register the mime type and append_mime function with output_area\n",
       "     */\n",
       "    OutputArea.prototype.register_mime_type(EXEC_MIME_TYPE, append_mime, {\n",
       "      /* Is output safe? */\n",
       "      safe: true,\n",
       "      /* Index of renderer in `output_area.display_order` */\n",
       "      index: 0\n",
       "    });\n",
       "  }\n",
       "\n",
       "  // register the mime type if in Jupyter Notebook environment and previously unregistered\n",
       "  if (root.Jupyter !== undefined) {\n",
       "    const events = require('base/js/events');\n",
       "    const OutputArea = require('notebook/js/outputarea').OutputArea;\n",
       "\n",
       "    if (OutputArea.prototype.mime_types().indexOf(EXEC_MIME_TYPE) == -1) {\n",
       "      register_renderer(events, OutputArea);\n",
       "    }\n",
       "  }\n",
       "\n",
       "  \n",
       "  if (typeof (root._bokeh_timeout) === \"undefined\" || force === true) {\n",
       "    root._bokeh_timeout = Date.now() + 5000;\n",
       "    root._bokeh_failed_load = false;\n",
       "  }\n",
       "\n",
       "  const NB_LOAD_WARNING = {'data': {'text/html':\n",
       "     \"<div style='background-color: #fdd'>\\n\"+\n",
       "     \"<p>\\n\"+\n",
       "     \"BokehJS does not appear to have successfully loaded. If loading BokehJS from CDN, this \\n\"+\n",
       "     \"may be due to a slow or bad network connection. Possible fixes:\\n\"+\n",
       "     \"</p>\\n\"+\n",
       "     \"<ul>\\n\"+\n",
       "     \"<li>re-rerun `output_notebook()` to attempt to load from CDN again, or</li>\\n\"+\n",
       "     \"<li>use INLINE resources instead, as so:</li>\\n\"+\n",
       "     \"</ul>\\n\"+\n",
       "     \"<code>\\n\"+\n",
       "     \"from bokeh.resources import INLINE\\n\"+\n",
       "     \"output_notebook(resources=INLINE)\\n\"+\n",
       "     \"</code>\\n\"+\n",
       "     \"</div>\"}};\n",
       "\n",
       "  function display_loaded() {\n",
       "    const el = document.getElementById(\"1002\");\n",
       "    if (el != null) {\n",
       "      el.textContent = \"BokehJS is loading...\";\n",
       "    }\n",
       "    if (root.Bokeh !== undefined) {\n",
       "      if (el != null) {\n",
       "        el.textContent = \"BokehJS \" + root.Bokeh.version + \" successfully loaded.\";\n",
       "      }\n",
       "    } else if (Date.now() < root._bokeh_timeout) {\n",
       "      setTimeout(display_loaded, 100)\n",
       "    }\n",
       "  }\n",
       "\n",
       "\n",
       "  function run_callbacks() {\n",
       "    try {\n",
       "      root._bokeh_onload_callbacks.forEach(function(callback) {\n",
       "        if (callback != null)\n",
       "          callback();\n",
       "      });\n",
       "    } finally {\n",
       "      delete root._bokeh_onload_callbacks\n",
       "    }\n",
       "    console.debug(\"Bokeh: all callbacks have finished\");\n",
       "  }\n",
       "\n",
       "  function load_libs(css_urls, js_urls, callback) {\n",
       "    if (css_urls == null) css_urls = [];\n",
       "    if (js_urls == null) js_urls = [];\n",
       "\n",
       "    root._bokeh_onload_callbacks.push(callback);\n",
       "    if (root._bokeh_is_loading > 0) {\n",
       "      console.debug(\"Bokeh: BokehJS is being loaded, scheduling callback at\", now());\n",
       "      return null;\n",
       "    }\n",
       "    if (js_urls == null || js_urls.length === 0) {\n",
       "      run_callbacks();\n",
       "      return null;\n",
       "    }\n",
       "    console.debug(\"Bokeh: BokehJS not loaded, scheduling load and callback at\", now());\n",
       "    root._bokeh_is_loading = css_urls.length + js_urls.length;\n",
       "\n",
       "    function on_load() {\n",
       "      root._bokeh_is_loading--;\n",
       "      if (root._bokeh_is_loading === 0) {\n",
       "        console.debug(\"Bokeh: all BokehJS libraries/stylesheets loaded\");\n",
       "        run_callbacks()\n",
       "      }\n",
       "    }\n",
       "\n",
       "    function on_error(url) {\n",
       "      console.error(\"failed to load \" + url);\n",
       "    }\n",
       "\n",
       "    for (let i = 0; i < css_urls.length; i++) {\n",
       "      const url = css_urls[i];\n",
       "      const element = document.createElement(\"link\");\n",
       "      element.onload = on_load;\n",
       "      element.onerror = on_error.bind(null, url);\n",
       "      element.rel = \"stylesheet\";\n",
       "      element.type = \"text/css\";\n",
       "      element.href = url;\n",
       "      console.debug(\"Bokeh: injecting link tag for BokehJS stylesheet: \", url);\n",
       "      document.body.appendChild(element);\n",
       "    }\n",
       "\n",
       "    for (let i = 0; i < js_urls.length; i++) {\n",
       "      const url = js_urls[i];\n",
       "      const element = document.createElement('script');\n",
       "      element.onload = on_load;\n",
       "      element.onerror = on_error.bind(null, url);\n",
       "      element.async = false;\n",
       "      element.src = url;\n",
       "      console.debug(\"Bokeh: injecting script tag for BokehJS library: \", url);\n",
       "      document.head.appendChild(element);\n",
       "    }\n",
       "  };\n",
       "\n",
       "  function inject_raw_css(css) {\n",
       "    const element = document.createElement(\"style\");\n",
       "    element.appendChild(document.createTextNode(css));\n",
       "    document.body.appendChild(element);\n",
       "  }\n",
       "\n",
       "  \n",
       "  const js_urls = [\"https://cdn.bokeh.org/bokeh/release/bokeh-2.4.0.min.js\", \"https://cdn.bokeh.org/bokeh/release/bokeh-gl-2.4.0.min.js\", \"https://cdn.bokeh.org/bokeh/release/bokeh-widgets-2.4.0.min.js\", \"https://cdn.bokeh.org/bokeh/release/bokeh-tables-2.4.0.min.js\", \"https://cdn.bokeh.org/bokeh/release/bokeh-mathjax-2.4.0.min.js\"];\n",
       "  const css_urls = [];\n",
       "  \n",
       "\n",
       "  const inline_js = [\n",
       "    function(Bokeh) {\n",
       "      Bokeh.set_log_level(\"info\");\n",
       "    },\n",
       "    function(Bokeh) {\n",
       "    \n",
       "    \n",
       "    }\n",
       "  ];\n",
       "\n",
       "  function run_inline_js() {\n",
       "    \n",
       "    if (root.Bokeh !== undefined || force === true) {\n",
       "      \n",
       "    for (let i = 0; i < inline_js.length; i++) {\n",
       "      inline_js[i].call(root, root.Bokeh);\n",
       "    }\n",
       "    if (force === true) {\n",
       "        display_loaded();\n",
       "      }} else if (Date.now() < root._bokeh_timeout) {\n",
       "      setTimeout(run_inline_js, 100);\n",
       "    } else if (!root._bokeh_failed_load) {\n",
       "      console.log(\"Bokeh: BokehJS failed to load within specified timeout.\");\n",
       "      root._bokeh_failed_load = true;\n",
       "    } else if (force !== true) {\n",
       "      const cell = $(document.getElementById(\"1002\")).parents('.cell').data().cell;\n",
       "      cell.output_area.append_execute_result(NB_LOAD_WARNING)\n",
       "    }\n",
       "\n",
       "  }\n",
       "\n",
       "  if (root._bokeh_is_loading === 0) {\n",
       "    console.debug(\"Bokeh: BokehJS loaded, going straight to plotting\");\n",
       "    run_inline_js();\n",
       "  } else {\n",
       "    load_libs(css_urls, js_urls, function() {\n",
       "      console.debug(\"Bokeh: BokehJS plotting callback run at\", now());\n",
       "      run_inline_js();\n",
       "    });\n",
       "  }\n",
       "}(window));"
      ],
      "application/vnd.bokehjs_load.v0+json": "\n(function(root) {\n  function now() {\n    return new Date();\n  }\n\n  const force = true;\n\n  if (typeof root._bokeh_onload_callbacks === \"undefined\" || force === true) {\n    root._bokeh_onload_callbacks = [];\n    root._bokeh_is_loading = undefined;\n  }\n\n  \n\n  \n  if (typeof (root._bokeh_timeout) === \"undefined\" || force === true) {\n    root._bokeh_timeout = Date.now() + 5000;\n    root._bokeh_failed_load = false;\n  }\n\n  const NB_LOAD_WARNING = {'data': {'text/html':\n     \"<div style='background-color: #fdd'>\\n\"+\n     \"<p>\\n\"+\n     \"BokehJS does not appear to have successfully loaded. If loading BokehJS from CDN, this \\n\"+\n     \"may be due to a slow or bad network connection. Possible fixes:\\n\"+\n     \"</p>\\n\"+\n     \"<ul>\\n\"+\n     \"<li>re-rerun `output_notebook()` to attempt to load from CDN again, or</li>\\n\"+\n     \"<li>use INLINE resources instead, as so:</li>\\n\"+\n     \"</ul>\\n\"+\n     \"<code>\\n\"+\n     \"from bokeh.resources import INLINE\\n\"+\n     \"output_notebook(resources=INLINE)\\n\"+\n     \"</code>\\n\"+\n     \"</div>\"}};\n\n  function display_loaded() {\n    const el = document.getElementById(\"1002\");\n    if (el != null) {\n      el.textContent = \"BokehJS is loading...\";\n    }\n    if (root.Bokeh !== undefined) {\n      if (el != null) {\n        el.textContent = \"BokehJS \" + root.Bokeh.version + \" successfully loaded.\";\n      }\n    } else if (Date.now() < root._bokeh_timeout) {\n      setTimeout(display_loaded, 100)\n    }\n  }\n\n\n  function run_callbacks() {\n    try {\n      root._bokeh_onload_callbacks.forEach(function(callback) {\n        if (callback != null)\n          callback();\n      });\n    } finally {\n      delete root._bokeh_onload_callbacks\n    }\n    console.debug(\"Bokeh: all callbacks have finished\");\n  }\n\n  function load_libs(css_urls, js_urls, callback) {\n    if (css_urls == null) css_urls = [];\n    if (js_urls == null) js_urls = [];\n\n    root._bokeh_onload_callbacks.push(callback);\n    if (root._bokeh_is_loading > 0) {\n      console.debug(\"Bokeh: BokehJS is being loaded, scheduling callback at\", now());\n      return null;\n    }\n    if (js_urls == null || js_urls.length === 0) {\n      run_callbacks();\n      return null;\n    }\n    console.debug(\"Bokeh: BokehJS not loaded, scheduling load and callback at\", now());\n    root._bokeh_is_loading = css_urls.length + js_urls.length;\n\n    function on_load() {\n      root._bokeh_is_loading--;\n      if (root._bokeh_is_loading === 0) {\n        console.debug(\"Bokeh: all BokehJS libraries/stylesheets loaded\");\n        run_callbacks()\n      }\n    }\n\n    function on_error(url) {\n      console.error(\"failed to load \" + url);\n    }\n\n    for (let i = 0; i < css_urls.length; i++) {\n      const url = css_urls[i];\n      const element = document.createElement(\"link\");\n      element.onload = on_load;\n      element.onerror = on_error.bind(null, url);\n      element.rel = \"stylesheet\";\n      element.type = \"text/css\";\n      element.href = url;\n      console.debug(\"Bokeh: injecting link tag for BokehJS stylesheet: \", url);\n      document.body.appendChild(element);\n    }\n\n    for (let i = 0; i < js_urls.length; i++) {\n      const url = js_urls[i];\n      const element = document.createElement('script');\n      element.onload = on_load;\n      element.onerror = on_error.bind(null, url);\n      element.async = false;\n      element.src = url;\n      console.debug(\"Bokeh: injecting script tag for BokehJS library: \", url);\n      document.head.appendChild(element);\n    }\n  };\n\n  function inject_raw_css(css) {\n    const element = document.createElement(\"style\");\n    element.appendChild(document.createTextNode(css));\n    document.body.appendChild(element);\n  }\n\n  \n  const js_urls = [\"https://cdn.bokeh.org/bokeh/release/bokeh-2.4.0.min.js\", \"https://cdn.bokeh.org/bokeh/release/bokeh-gl-2.4.0.min.js\", \"https://cdn.bokeh.org/bokeh/release/bokeh-widgets-2.4.0.min.js\", \"https://cdn.bokeh.org/bokeh/release/bokeh-tables-2.4.0.min.js\", \"https://cdn.bokeh.org/bokeh/release/bokeh-mathjax-2.4.0.min.js\"];\n  const css_urls = [];\n  \n\n  const inline_js = [\n    function(Bokeh) {\n      Bokeh.set_log_level(\"info\");\n    },\n    function(Bokeh) {\n    \n    \n    }\n  ];\n\n  function run_inline_js() {\n    \n    if (root.Bokeh !== undefined || force === true) {\n      \n    for (let i = 0; i < inline_js.length; i++) {\n      inline_js[i].call(root, root.Bokeh);\n    }\n    if (force === true) {\n        display_loaded();\n      }} else if (Date.now() < root._bokeh_timeout) {\n      setTimeout(run_inline_js, 100);\n    } else if (!root._bokeh_failed_load) {\n      console.log(\"Bokeh: BokehJS failed to load within specified timeout.\");\n      root._bokeh_failed_load = true;\n    } else if (force !== true) {\n      const cell = $(document.getElementById(\"1002\")).parents('.cell').data().cell;\n      cell.output_area.append_execute_result(NB_LOAD_WARNING)\n    }\n\n  }\n\n  if (root._bokeh_is_loading === 0) {\n    console.debug(\"Bokeh: BokehJS loaded, going straight to plotting\");\n    run_inline_js();\n  } else {\n    load_libs(css_urls, js_urls, function() {\n      console.debug(\"Bokeh: BokehJS plotting callback run at\", now());\n      run_inline_js();\n    });\n  }\n}(window));"
     },
     "metadata": {},
     "output_type": "display_data"
    },
    {
     "data": {
      "text/html": [
       "\n",
       "\n",
       "\n",
       "\n",
       "\n",
       "\n",
       "  <div class=\"bk-root\" id=\"afbfd2e4-020d-466b-9407-29ba7bd3476d\" data-root-id=\"1003\"></div>\n"
      ]
     },
     "metadata": {},
     "output_type": "display_data"
    },
    {
     "data": {
      "application/javascript": [
       "(function(root) {\n",
       "  function embed_document(root) {\n",
       "    \n",
       "  const docs_json = {\"ad05613d-22c4-4657-9f07-112d31c44e7b\":{\"defs\":[],\"roots\":{\"references\":[{\"attributes\":{\"below\":[{\"id\":\"1012\"}],\"center\":[{\"id\":\"1015\"},{\"id\":\"1019\"},{\"id\":\"1059\"},{\"id\":\"1061\"},{\"id\":\"1062\"},{\"id\":\"1063\"},{\"id\":\"1064\"}],\"left\":[{\"id\":\"1016\"}],\"renderers\":[{\"id\":\"1038\"},{\"id\":\"1044\"}],\"title\":{\"id\":\"1046\"},\"toolbar\":{\"id\":\"1027\"},\"x_range\":{\"id\":\"1004\"},\"x_scale\":{\"id\":\"1008\"},\"y_range\":{\"id\":\"1006\"},\"y_scale\":{\"id\":\"1010\"}},\"id\":\"1003\",\"subtype\":\"Figure\",\"type\":\"Plot\"},{\"attributes\":{\"fill_color\":{\"value\":\"#1f77b4\"},\"line_color\":{\"value\":\"#1f77b4\"},\"size\":{\"value\":3},\"x\":{\"field\":\"x\"},\"y\":{\"field\":\"y\"}},\"id\":\"1035\",\"type\":\"Scatter\"},{\"attributes\":{},\"id\":\"1049\",\"type\":\"BasicTickFormatter\"},{\"attributes\":{},\"id\":\"1008\",\"type\":\"LinearScale\"},{\"attributes\":{},\"id\":\"1055\",\"type\":\"Selection\"},{\"attributes\":{},\"id\":\"1052\",\"type\":\"BasicTickFormatter\"},{\"attributes\":{},\"id\":\"1010\",\"type\":\"LinearScale\"},{\"attributes\":{\"fill_alpha\":{\"value\":0.2},\"fill_color\":{\"value\":\"red\"},\"hatch_alpha\":{\"value\":0.2},\"hatch_color\":{\"value\":\"red\"},\"line_alpha\":{\"value\":0.2},\"line_color\":{\"value\":\"red\"},\"size\":{\"value\":3},\"x\":{\"field\":\"x\"},\"y\":{\"field\":\"y\"}},\"id\":\"1043\",\"type\":\"Scatter\"},{\"attributes\":{\"coordinates\":null,\"data_source\":{\"id\":\"1040\"},\"glyph\":{\"id\":\"1041\"},\"group\":null,\"hover_glyph\":null,\"muted_glyph\":{\"id\":\"1043\"},\"nonselection_glyph\":{\"id\":\"1042\"},\"view\":{\"id\":\"1045\"}},\"id\":\"1044\",\"type\":\"GlyphRenderer\"},{\"attributes\":{\"data\":{\"x\":{\"__ndarray__\":\"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\",\"dtype\":\"float64\",\"order\":\"little\",\"shape\":[1142]},\"y\":{\"__ndarray__\":\"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\",\"dtype\":\"float32\",\"order\":\"little\",\"shape\":[1142]}},\"selected\":{\"id\":\"1055\"},\"selection_policy\":{\"id\":\"1054\"}},\"id\":\"1034\",\"type\":\"ColumnDataSource\"},{\"attributes\":{\"fill_alpha\":{\"value\":0.1},\"fill_color\":{\"value\":\"red\"},\"hatch_alpha\":{\"value\":0.1},\"hatch_color\":{\"value\":\"red\"},\"line_alpha\":{\"value\":0.1},\"line_color\":{\"value\":\"red\"},\"size\":{\"value\":3},\"x\":{\"field\":\"x\"},\"y\":{\"field\":\"y\"}},\"id\":\"1042\",\"type\":\"Scatter\"},{\"attributes\":{},\"id\":\"1021\",\"type\":\"WheelZoomTool\"},{\"attributes\":{\"fill_color\":{\"value\":\"red\"},\"hatch_color\":{\"value\":\"red\"},\"line_color\":{\"value\":\"red\"},\"size\":{\"value\":3},\"x\":{\"field\":\"x\"},\"y\":{\"field\":\"y\"}},\"id\":\"1041\",\"type\":\"Scatter\"},{\"attributes\":{\"coordinates\":null,\"gradient\":0.7576147593250221,\"group\":null,\"line_alpha\":0.75,\"line_color\":\"blue\",\"line_dash\":[6],\"y_intercept\":-0.8034294865309659},\"id\":\"1064\",\"type\":\"Slope\"},{\"attributes\":{},\"id\":\"1025\",\"type\":\"HelpTool\"},{\"attributes\":{},\"id\":\"1056\",\"type\":\"UnionRenderers\"},{\"attributes\":{\"coordinates\":null,\"data_source\":{\"id\":\"1034\"},\"glyph\":{\"id\":\"1035\"},\"group\":null,\"hover_glyph\":null,\"muted_glyph\":{\"id\":\"1037\"},\"nonselection_glyph\":{\"id\":\"1036\"},\"view\":{\"id\":\"1039\"}},\"id\":\"1038\",\"type\":\"GlyphRenderer\"},{\"attributes\":{\"axis\":{\"id\":\"1016\"},\"coordinates\":null,\"dimension\":1,\"group\":null,\"ticker\":null},\"id\":\"1019\",\"type\":\"Grid\"},{\"attributes\":{\"fill_alpha\":{\"value\":0.2},\"fill_color\":{\"value\":\"#1f77b4\"},\"hatch_alpha\":{\"value\":0.2},\"line_alpha\":{\"value\":0.2},\"line_color\":{\"value\":\"#1f77b4\"},\"size\":{\"value\":3},\"x\":{\"field\":\"x\"},\"y\":{\"field\":\"y\"}},\"id\":\"1037\",\"type\":\"Scatter\"},{\"attributes\":{\"axis_label\":\"Predicted RT\",\"coordinates\":null,\"formatter\":{\"id\":\"1049\"},\"group\":null,\"major_label_policy\":{\"id\":\"1050\"},\"ticker\":{\"id\":\"1017\"}},\"id\":\"1016\",\"type\":\"LinearAxis\"},{\"attributes\":{},\"id\":\"1020\",\"type\":\"PanTool\"},{\"attributes\":{},\"id\":\"1057\",\"type\":\"Selection\"},{\"attributes\":{},\"id\":\"1024\",\"type\":\"ResetTool\"},{\"attributes\":{\"bottom_units\":\"screen\",\"coordinates\":null,\"fill_alpha\":0.5,\"fill_color\":\"lightgrey\",\"group\":null,\"left_units\":\"screen\",\"level\":\"overlay\",\"line_alpha\":1.0,\"line_color\":\"black\",\"line_dash\":[4,4],\"line_width\":2,\"right_units\":\"screen\",\"syncable\":false,\"top_units\":\"screen\"},\"id\":\"1026\",\"type\":\"BoxAnnotation\"},{\"attributes\":{\"fill_alpha\":{\"value\":0.1},\"fill_color\":{\"value\":\"#1f77b4\"},\"hatch_alpha\":{\"value\":0.1},\"line_alpha\":{\"value\":0.1},\"line_color\":{\"value\":\"#1f77b4\"},\"size\":{\"value\":3},\"x\":{\"field\":\"x\"},\"y\":{\"field\":\"y\"}},\"id\":\"1036\",\"type\":\"Scatter\"},{\"attributes\":{\"overlay\":{\"id\":\"1026\"}},\"id\":\"1022\",\"type\":\"BoxZoomTool\"},{\"attributes\":{},\"id\":\"1013\",\"type\":\"BasicTicker\"},{\"attributes\":{\"coordinates\":null,\"group\":null},\"id\":\"1046\",\"type\":\"Title\"},{\"attributes\":{},\"id\":\"1017\",\"type\":\"BasicTicker\"},{\"attributes\":{},\"id\":\"1006\",\"type\":\"DataRange1d\"},{\"attributes\":{\"axis\":{\"id\":\"1012\"},\"coordinates\":null,\"group\":null,\"ticker\":null},\"id\":\"1015\",\"type\":\"Grid\"},{\"attributes\":{\"coordinates\":null,\"gradient\":0.7576147593250221,\"group\":null,\"line_alpha\":0.75,\"line_color\":\"blue\",\"line_dash\":[6],\"y_intercept\":3.0210494742403613},\"id\":\"1063\",\"type\":\"Slope\"},{\"attributes\":{},\"id\":\"1050\",\"type\":\"AllLabels\"},{\"attributes\":{\"axis_label\":\"Experimental RT\",\"coordinates\":null,\"formatter\":{\"id\":\"1052\"},\"group\":null,\"major_label_policy\":{\"id\":\"1053\"},\"ticker\":{\"id\":\"1013\"}},\"id\":\"1012\",\"type\":\"LinearAxis\"},{\"attributes\":{\"coordinates\":null,\"gradient\":0.7576147593250221,\"group\":null,\"line_color\":\"blue\",\"y_intercept\":1.1088099938546976},\"id\":\"1062\",\"type\":\"Slope\"},{\"attributes\":{\"tools\":[{\"id\":\"1020\"},{\"id\":\"1021\"},{\"id\":\"1022\"},{\"id\":\"1023\"},{\"id\":\"1024\"},{\"id\":\"1025\"}]},\"id\":\"1027\",\"type\":\"Toolbar\"},{\"attributes\":{},\"id\":\"1054\",\"type\":\"UnionRenderers\"},{\"attributes\":{\"label\":{\"value\":\"Outliers\"},\"renderers\":[{\"id\":\"1044\"}]},\"id\":\"1060\",\"type\":\"LegendItem\"},{\"attributes\":{\"coordinates\":null,\"gradient\":1,\"group\":null,\"line_alpha\":0.5,\"y_intercept\":0},\"id\":\"1061\",\"type\":\"Slope\"},{\"attributes\":{},\"id\":\"1023\",\"type\":\"SaveTool\"},{\"attributes\":{\"source\":{\"id\":\"1040\"}},\"id\":\"1045\",\"type\":\"CDSView\"},{\"attributes\":{},\"id\":\"1004\",\"type\":\"DataRange1d\"},{\"attributes\":{\"coordinates\":null,\"group\":null,\"items\":[{\"id\":\"1060\"}],\"location\":\"top_left\"},\"id\":\"1059\",\"type\":\"Legend\"},{\"attributes\":{\"source\":{\"id\":\"1034\"}},\"id\":\"1039\",\"type\":\"CDSView\"},{\"attributes\":{\"data\":{\"x\":{\"__ndarray__\":\"CKwcWmQ7A0BmZmZmZmYNQIXrUbgeBRVASgwCK4eWFUCkcD0K16MWQESLbOf7qRZAarx0kxiEF0ARWDm0yHYZQNEi2/l+6hlAvEkMAiuHGkAtsp3vp8YaQM3MzMzMzBtAO7TIdr6fHUCDwMqhRTYeQHXpJjEIrB9ABoGVQ4tsIEDtfD81XvogQN9PjZduEiNA+FPjpZsEJEDNzMzMzAwmQG3n+6nxUidA5/up8dINKkA=\",\"dtype\":\"float64\",\"order\":\"little\",\"shape\":[22]},\"y\":{\"__ndarray__\":\"+fezQJ/FukBCEQxBgFlNQIr770DpF/FAbGpGQCw7fECfHv5AdQwBQXDPCEE161pARQ6UQFOVDUEuHJdAZZiZQD6MrUBym7VAQ3GpQMtAtkCR5OpAiNLHQA==\",\"dtype\":\"float32\",\"order\":\"little\",\"shape\":[22]}},\"selected\":{\"id\":\"1057\"},\"selection_policy\":{\"id\":\"1056\"}},\"id\":\"1040\",\"type\":\"ColumnDataSource\"},{\"attributes\":{},\"id\":\"1053\",\"type\":\"AllLabels\"}],\"root_ids\":[\"1003\"]},\"title\":\"Bokeh Application\",\"version\":\"2.4.0\"}};\n",
       "  const render_items = [{\"docid\":\"ad05613d-22c4-4657-9f07-112d31c44e7b\",\"root_ids\":[\"1003\"],\"roots\":{\"1003\":\"afbfd2e4-020d-466b-9407-29ba7bd3476d\"}}];\n",
       "  root.Bokeh.embed.embed_items_notebook(docs_json, render_items);\n",
       "\n",
       "  }\n",
       "  if (root.Bokeh !== undefined) {\n",
       "    embed_document(root);\n",
       "  } else {\n",
       "    let attempts = 0;\n",
       "    const timer = setInterval(function(root) {\n",
       "      if (root.Bokeh !== undefined) {\n",
       "        clearInterval(timer);\n",
       "        embed_document(root);\n",
       "      } else {\n",
       "        attempts++;\n",
       "        if (attempts > 100) {\n",
       "          clearInterval(timer);\n",
       "          console.log(\"Bokeh: ERROR: Unable to run BokehJS code because BokehJS library is missing\");\n",
       "        }\n",
       "      }\n",
       "    }, 10, root)\n",
       "  }\n",
       "})(window);"
      ],
      "application/vnd.bokehjs_exec.v0+json": ""
     },
     "metadata": {
      "application/vnd.bokehjs_exec.v0+json": {
       "id": "1003"
      }
     },
     "output_type": "display_data"
    },
    {
     "ename": "AttributeError",
     "evalue": "'Dataset' object has no attribute 'df'",
     "output_type": "error",
     "traceback": [
      "\u001b[0;31m---------------------------------------------------------------------------\u001b[0m",
      "\u001b[0;31mAttributeError\u001b[0m                            Traceback (most recent call last)",
      "\u001b[0;32m/tmp/ipykernel_3826674/416844430.py\u001b[0m in \u001b[0;36m<module>\u001b[0;34m\u001b[0m\n\u001b[0;32m----> 1\u001b[0;31m \u001b[0moutliers\u001b[0m \u001b[0;34m=\u001b[0m \u001b[0mretip\u001b[0m\u001b[0;34m.\u001b[0m\u001b[0mvisualization\u001b[0m\u001b[0;34m.\u001b[0m\u001b[0moutlier_identification\u001b[0m\u001b[0;34m(\u001b[0m\u001b[0mtrainer\u001b[0m\u001b[0;34m,\u001b[0m \u001b[0mdataset\u001b[0m\u001b[0;34m,\u001b[0m \u001b[0;34m'RTP'\u001b[0m\u001b[0;34m,\u001b[0m \u001b[0mconfidence_interval\u001b[0m\u001b[0;34m=\u001b[0m\u001b[0;36m95\u001b[0m\u001b[0;34m)\u001b[0m\u001b[0;34m\u001b[0m\u001b[0;34m\u001b[0m\u001b[0m\n\u001b[0m\u001b[1;32m      2\u001b[0m \u001b[0moutliers\u001b[0m\u001b[0;34m\u001b[0m\u001b[0;34m\u001b[0m\u001b[0m\n",
      "\u001b[0;32m~/Projects/pyRetip/notebooks/../retip/visualization.py\u001b[0m in \u001b[0;36moutlier_identification\u001b[0;34m(trainer, dataset, prediction_column, confidence_interval, output_filename)\u001b[0m\n\u001b[1;32m     93\u001b[0m     \u001b[0;31m# return annotated dataframe and outliers\u001b[0m\u001b[0;34m\u001b[0m\u001b[0;34m\u001b[0m\u001b[0;34m\u001b[0m\u001b[0m\n\u001b[1;32m     94\u001b[0m     \u001b[0mannotated\u001b[0m \u001b[0;34m=\u001b[0m \u001b[0mdataset\u001b[0m\u001b[0;34m.\u001b[0m\u001b[0mget_training_data\u001b[0m\u001b[0;34m(\u001b[0m\u001b[0minclude_metadata\u001b[0m\u001b[0;34m=\u001b[0m\u001b[0;32mTrue\u001b[0m\u001b[0;34m)\u001b[0m\u001b[0;34m\u001b[0m\u001b[0;34m\u001b[0m\u001b[0m\n\u001b[0;32m---> 95\u001b[0;31m     \u001b[0mannotated\u001b[0m \u001b[0;34m=\u001b[0m \u001b[0mannotated\u001b[0m\u001b[0;34m[\u001b[0m\u001b[0;34m[\u001b[0m\u001b[0mc\u001b[0m \u001b[0;32mfor\u001b[0m \u001b[0mc\u001b[0m \u001b[0;32min\u001b[0m \u001b[0mdataset\u001b[0m\u001b[0;34m.\u001b[0m\u001b[0mdf\u001b[0m\u001b[0;34m.\u001b[0m\u001b[0mcolumns\u001b[0m \u001b[0;32mif\u001b[0m \u001b[0mc\u001b[0m \u001b[0;32min\u001b[0m \u001b[0;34m[\u001b[0m\u001b[0;34m'Name'\u001b[0m\u001b[0;34m,\u001b[0m \u001b[0;34m'InChIKey'\u001b[0m\u001b[0;34m,\u001b[0m \u001b[0;34m'SMILES'\u001b[0m\u001b[0;34m,\u001b[0m \u001b[0;34m'RT'\u001b[0m\u001b[0;34m]\u001b[0m\u001b[0;34m]\u001b[0m\u001b[0;34m]\u001b[0m\u001b[0;34m.\u001b[0m\u001b[0mcopy\u001b[0m\u001b[0;34m(\u001b[0m\u001b[0;34m)\u001b[0m\u001b[0;34m\u001b[0m\u001b[0;34m\u001b[0m\u001b[0m\n\u001b[0m\u001b[1;32m     96\u001b[0m     \u001b[0mannotated\u001b[0m\u001b[0;34m[\u001b[0m\u001b[0mprediction_column\u001b[0m\u001b[0;34m]\u001b[0m \u001b[0;34m=\u001b[0m \u001b[0my_pred\u001b[0m\u001b[0;34m\u001b[0m\u001b[0;34m\u001b[0m\u001b[0m\n\u001b[1;32m     97\u001b[0m \u001b[0;34m\u001b[0m\u001b[0m\n",
      "\u001b[0;31mAttributeError\u001b[0m: 'Dataset' object has no attribute 'df'"
     ]
    }
   ],
   "source": [
    "outliers = retip.visualization.outlier_identification(trainer, dataset, 'RTP', confidence_interval=95)\n",
    "outliers"
   ]
  },
  {
   "cell_type": "markdown",
   "id": "exposed-indie",
   "metadata": {},
   "source": [
    "You can also select a different confidence interval threshold, for example 90% CI:"
   ]
  },
  {
   "cell_type": "code",
   "execution_count": null,
   "id": "muslim-headline",
   "metadata": {},
   "outputs": [],
   "source": [
    "outliers = retip.outlier_identification(trainer, dataset, confidence_interval=90)\n",
    "outliers"
   ]
  }
 ],
 "metadata": {
  "kernelspec": {
   "display_name": "Python 3 (ipykernel)",
   "language": "python",
   "name": "python3"
  },
  "language_info": {
   "codemirror_mode": {
    "name": "ipython",
    "version": 3
   },
   "file_extension": ".py",
   "mimetype": "text/x-python",
   "name": "python",
   "nbconvert_exporter": "python",
   "pygments_lexer": "ipython3",
   "version": "3.7.10"
  }
 },
 "nbformat": 4,
 "nbformat_minor": 5
}
