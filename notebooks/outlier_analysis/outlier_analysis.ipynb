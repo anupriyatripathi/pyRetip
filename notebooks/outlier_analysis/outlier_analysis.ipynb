{
 "cells": [
  {
   "cell_type": "markdown",
   "id": "legislative-iceland",
   "metadata": {},
   "source": [
    "![Retip](../../images/retip_logo.png)\n",
    "# Retip: Retention Time Prediction for Metabolomics and Lipidomics"
   ]
  },
  {
   "cell_type": "markdown",
   "id": "2f7f4aa0",
   "metadata": {},
   "source": [
    "Retip is a python tool for predicting retention times (RTs) of small molecules for high pressure liquid chromatography (HPLC) mass spectrometry. Retention time calculation can be useful in identifying unknowns and removing false positive annotations. The machine learning algorithms included in the tool are: **XGBoost**, **AutoGluon**, **AutoML** from **H2O** and **Random Forest**. This tutorial explains how to identify false annotations in a metabolomics dataset. The model is trained with **XGBoost**."
   ]
  },
  {
   "cell_type": "markdown",
   "id": "outer-consumer",
   "metadata": {},
   "source": [
    "## Identiying False Annotations"
   ]
  },
  {
   "cell_type": "markdown",
   "id": "53f36a0a",
   "metadata": {},
   "source": [
    "Given an annotated metabolomics dataset, the predicted retention time can be used to identify likely misannotated features."
   ]
  },
  {
   "cell_type": "markdown",
   "id": "be4499f3",
   "metadata": {},
   "source": [
    "### Loading data"
   ]
  },
  {
   "cell_type": "markdown",
   "id": "95d08512",
   "metadata": {},
   "source": [
    "Begin by importing the `retip` library, which provides access to the training, prediction and visualization functions."
   ]
  },
  {
   "cell_type": "code",
   "execution_count": 2,
   "id": "43d8082a",
   "metadata": {},
   "outputs": [],
   "source": [
    "%reload_ext autoreload\n",
    "%autoreload 2\n",
    "try:\n",
    "    import retip\n",
    "except:\n",
    "    # add the parent directory to the path to load the Retip library locally in case it isn't installed\n",
    "    import os, sys\n",
    "    directory = os.getcwd().split(\"pyRetip\")[0] + 'pyRetip'\n",
    "    sys.path.insert(1, directory)\n",
    "    \n",
    "    import retip"
   ]
  },
  {
   "cell_type": "markdown",
   "id": "56ef268e",
   "metadata": {},
   "source": [
    "The input data should be a compound retention time table in CSV or MS Excel format, containing the compound name, retention time and chemical identifier. Retip currently supports SMILES and PubChem CID as chemical identifiers.\n",
    "\n",
    "Retip will use this input file to build the model and predict retention times.\n",
    "\n",
    "Use the `retip.Dataset` class to load the data and create a new dataset.\n",
    "\n",
    "In this tutorial, the model will not be to predict RT on other datasets and it is not necessary to split the data into training and testing sets. For this reason, the `split_dataset` function will not be used in this tutorial (go to the metabolomics tutorials to see how it works)."
   ]
  },
  {
   "cell_type": "code",
   "execution_count": 3,
   "id": "agreed-defense",
   "metadata": {},
   "outputs": [],
   "source": [
    "dataset = retip.Dataset().load_retip_dataset('tomato_annotations.csv')"
   ]
  },
  {
   "cell_type": "code",
   "execution_count": 4,
   "id": "9f777540",
   "metadata": {},
   "outputs": [
    {
     "name": "stdout",
     "output_type": "stream",
     "text": [
      "Training\n",
      "                                            Name                     InChIKey  \\\n",
      "0  1-thiazol-2-ylethanone (PhytoBank:PHY0136536)  MOMFXATYAINJML-UHFFFAOYSA-N   \n",
      "1                                        Gramine  OCDGBSUVYYVKQZ-UHFFFAOYSA-N   \n",
      "\n",
      "                    SMILES     RT  \n",
      "0          CC(=O)C1=NC=CS1  0.774  \n",
      "1  CN(C)CC1=CNC2=CC=CC=C21  0.925  \n",
      "\n"
     ]
    }
   ],
   "source": [
    "dataset.head(2)"
   ]
  },
  {
   "cell_type": "markdown",
   "id": "00b7fd7b",
   "metadata": {},
   "source": [
    "Next, the precalculated molecular descriptors can be computed with the [Mordred Molecular Descriptor Calculator](https://github.com/mordred-descriptor/mordred) by calling the `calculate_descriptors` function. Note that molecules that cannot be parsed will be retained the dataset, but cannot be used for model training or validation."
   ]
  },
  {
   "cell_type": "code",
   "execution_count": 5,
   "id": "taken-january",
   "metadata": {},
   "outputs": [
    {
     "name": "stdout",
     "output_type": "stream",
     "text": [
      "Calculating descriptors for training dataset\n"
     ]
    },
    {
     "name": "stderr",
     "output_type": "stream",
     "text": [
      "  0%|          | 0/1164 [00:00<?, ?it/s]"
     ]
    },
    {
     "name": "stderr",
     "output_type": "stream",
     "text": [
      "100%|██████████| 1164/1164 [11:25<00:00,  1.70it/s]\n",
      "/home/neuspouamengual/Documentos/oloBion/pyRetip/retip/dataset.py:198: FutureWarning: Downcasting behavior in `replace` is deprecated and will be removed in a future version. To retain the old behavior, explicitly call `result.infer_objects(copy=False)`. To opt-in to the future behavior, set `pd.set_option('future.no_silent_downcasting', True)`\n",
      "  descs = descs.replace({False: 0, True: 1})\n"
     ]
    }
   ],
   "source": [
    "dataset.calculate_descriptors()"
   ]
  },
  {
   "cell_type": "markdown",
   "id": "f5c9efea",
   "metadata": {},
   "source": [
    "The `describe` function shows the shape of the datasets, indicating the number of rows and columns in each dataframe."
   ]
  },
  {
   "cell_type": "code",
   "execution_count": 6,
   "id": "0ca75e6b-bac2-4337-b319-e13f37fbb029",
   "metadata": {},
   "outputs": [
    {
     "name": "stdout",
     "output_type": "stream",
     "text": [
      "Training (1164, 1617)\n"
     ]
    }
   ],
   "source": [
    "dataset.describe()"
   ]
  },
  {
   "cell_type": "markdown",
   "id": "510131cd",
   "metadata": {},
   "source": [
    "The `preprocess_features` function performs feature reduction by removing features with missing values and to restrict feature sets to descriptors which calculate non-null values for large sets of molecules. It is important to perform this step before training."
   ]
  },
  {
   "cell_type": "code",
   "execution_count": 7,
   "id": "17b830f5",
   "metadata": {},
   "outputs": [
    {
     "name": "stdout",
     "output_type": "stream",
     "text": [
      "Reduced feature set from 1613 to 817\n"
     ]
    }
   ],
   "source": [
    "dataset.preprocess_features('metabolomics')"
   ]
  },
  {
   "cell_type": "markdown",
   "id": "116536e4",
   "metadata": {},
   "source": [
    "#### Save the new dataset"
   ]
  },
  {
   "cell_type": "markdown",
   "id": "c22363da",
   "metadata": {},
   "source": [
    "Given that molecular descriptor calculation is a time-comsuming process, it is possible to save the current state of the dataset. Next time this retention time library is needed, simply use this export when loading this dataset instead. Note that there is no need to include a file extension, as Retip will automatically append the dataset type to the filename provided."
   ]
  },
  {
   "cell_type": "code",
   "execution_count": 8,
   "id": "b0d1a31e",
   "metadata": {},
   "outputs": [
    {
     "name": "stdout",
     "output_type": "stream",
     "text": [
      "Saved training dataset to tomato_annotations_processed_training.csv\n"
     ]
    }
   ],
   "source": [
    "dataset.save_retip_dataset('tomato_annotations_processed')"
   ]
  },
  {
   "cell_type": "markdown",
   "id": "aa73de31",
   "metadata": {},
   "source": [
    "This dataset can be loaded by running the `load_retip_dataset` function."
   ]
  },
  {
   "cell_type": "code",
   "execution_count": 9,
   "id": "8f466fd9",
   "metadata": {},
   "outputs": [],
   "source": [
    "# dataset.load_retip_dataset('tomato_annotations_processed.csv')"
   ]
  },
  {
   "cell_type": "markdown",
   "id": "997d6827",
   "metadata": {},
   "source": [
    "### Training RT Prediction Model"
   ]
  },
  {
   "cell_type": "markdown",
   "id": "3deb374b",
   "metadata": {},
   "source": [
    "Here, the RT prediction model will be trained. First, initialize the `XGBoostTrainer` with the dataset with computed descriptors. Set the different parameters:\n",
    "\n",
    "- The `cv` parameter indicates the number of cross-validation splits. This value defaults to `10` for a 10-fold cross validation.\n",
    "- The `n_cpu` parameter is the number of CPU cores to use for training (if not specified, it will use all available cores). This value defaults to `None`.\n",
    "\n",
    "Depending on your system, this can take ~20 minutes as the trainer performs a grid search over a large parameter space."
   ]
  },
  {
   "cell_type": "code",
   "execution_count": 10,
   "id": "superior-embassy",
   "metadata": {},
   "outputs": [
    {
     "name": "stdout",
     "output_type": "stream",
     "text": [
      "Fitting 5 folds for each of 56 candidates, totalling 280 fits\n"
     ]
    }
   ],
   "source": [
    "trainer = retip.XGBoostTrainer(dataset, cv=5)\n",
    "trainer.train()"
   ]
  },
  {
   "cell_type": "markdown",
   "id": "2a3cd0b2",
   "metadata": {},
   "source": [
    "### Outlier identification"
   ]
  },
  {
   "cell_type": "markdown",
   "id": "scheduled-exhaust",
   "metadata": {},
   "source": [
    "False annotations are identified by running the `outlier_identification` function. The input parameters are `trainer`, `dataset` and `prediction_column`. Furthermore, it is possible to indicate the `confidence_interval` (defaults to 95) and the `output_filename`.\n",
    "\n",
    "Running the `outlier_identification` function will provid two results:\n",
    "\n",
    "1. A plot showing the distribution of real vs. predicted retention times overlaid by a simple linear fit with 95% confidence intervals, with any annotations outside of this CI window are highlighted in red.\n",
    "2. A table listing the outliers with their name, retention time and predicted retention time."
   ]
  },
  {
   "cell_type": "markdown",
   "id": "2a207b34",
   "metadata": {},
   "source": [
    "#### 95% CI"
   ]
  },
  {
   "cell_type": "code",
   "execution_count": null,
   "id": "swedish-frank",
   "metadata": {},
   "outputs": [
    {
     "data": {
      "text/html": [
       "    <style>\n",
       "        .bk-notebook-logo {\n",
       "            display: block;\n",
       "            width: 20px;\n",
       "            height: 20px;\n",
       "            background-image: url(data:image/png;base64,iVBORw0KGgoAAAANSUhEUgAAABQAAAAUCAYAAACNiR0NAAAABHNCSVQICAgIfAhkiAAAAAlwSFlzAAALEgAACxIB0t1+/AAAABx0RVh0U29mdHdhcmUAQWRvYmUgRmlyZXdvcmtzIENTNui8sowAAAOkSURBVDiNjZRtaJVlGMd/1/08zzln5zjP1LWcU9N0NkN8m2CYjpgQYQXqSs0I84OLIC0hkEKoPtiH3gmKoiJDU7QpLgoLjLIQCpEsNJ1vqUOdO7ppbuec5+V+rj4ctwzd8IIbbi6u+8f1539dt3A78eXC7QizUF7gyV1fD1Yqg4JWz84yffhm0qkFqBogB9rM8tZdtwVsPUhWhGcFJngGeWrPzHm5oaMmkfEg1usvLFyc8jLRqDOMru7AyC8saQr7GG7f5fvDeH7Ej8CM66nIF+8yngt6HWaKh7k49Soy9nXurCi1o3qUbS3zWfrYeQDTB/Qj6kX6Ybhw4B+bOYoLKCC9H3Nu/leUTZ1JdRWkkn2ldcCamzrcf47KKXdAJllSlxAOkRgyHsGC/zRday5Qld9DyoM4/q/rUoy/CXh3jzOu3bHUVZeU+DEn8FInkPBFlu3+nW3Nw0mk6vCDiWg8CeJaxEwuHS3+z5RgY+YBR6V1Z1nxSOfoaPa4LASWxxdNp+VWTk7+4vzaou8v8PN+xo+KY2xsw6une2frhw05CTYOmQvsEhjhWjn0bmXPjpE1+kplmmkP3suftwTubK9Vq22qKmrBhpY4jvd5afdRA3wGjFAgcnTK2s4hY0/GPNIb0nErGMCRxWOOX64Z8RAC4oCXdklmEvcL8o0BfkNK4lUg9HTl+oPlQxdNo3Mg4Nv175e/1LDGzZen30MEjRUtmXSfiTVu1kK8W4txyV6BMKlbgk3lMwYCiusNy9fVfvvwMxv8Ynl6vxoByANLTWplvuj/nF9m2+PDtt1eiHPBr1oIfhCChQMBw6Aw0UulqTKZdfVvfG7VcfIqLG9bcldL/+pdWTLxLUy8Qq38heUIjh4XlzZxzQm19lLFlr8vdQ97rjZVOLf8nclzckbcD4wxXMidpX30sFd37Fv/GtwwhzhxGVAprjbg0gCAEeIgwCZyTV2Z1REEW8O4py0wsjeloKoMr6iCY6dP92H6Vw/oTyICIthibxjm/DfN9lVz8IqtqKYLUXfoKVMVQVVJOElGjrnnUt9T9wbgp8AyYKaGlqingHZU/uG2NTZSVqwHQTWkx9hxjkpWDaCg6Ckj5qebgBVbT3V3NNXMSiWSDdGV3hrtzla7J+duwPOToIg42ChPQOQjspnSlp1V+Gjdged7+8UN5CRAV7a5EdFNwCjEaBR27b3W890TE7g24NAP/mMDXRWrGoFPQI9ls/MWO2dWFAar/xcOIImbbpA3zgAAAABJRU5ErkJggg==);\n",
       "        }\n",
       "    </style>\n",
       "    <div>\n",
       "        <a href=\"https://bokeh.org\" target=\"_blank\" class=\"bk-notebook-logo\"></a>\n",
       "        <span id=\"f176354c-6086-4434-9eff-cc96678583bd\">Loading BokehJS ...</span>\n",
       "    </div>\n"
      ]
     },
     "metadata": {},
     "output_type": "display_data"
    },
    {
     "data": {
      "application/javascript": "'use strict';\n(function(root) {\n  function now() {\n    return new Date();\n  }\n\n  const force = true;\n\n  if (typeof root._bokeh_onload_callbacks === \"undefined\" || force === true) {\n    root._bokeh_onload_callbacks = [];\n    root._bokeh_is_loading = undefined;\n  }\n\nconst JS_MIME_TYPE = 'application/javascript';\n  const HTML_MIME_TYPE = 'text/html';\n  const EXEC_MIME_TYPE = 'application/vnd.bokehjs_exec.v0+json';\n  const CLASS_NAME = 'output_bokeh rendered_html';\n\n  /**\n   * Render data to the DOM node\n   */\n  function render(props, node) {\n    const script = document.createElement(\"script\");\n    node.appendChild(script);\n  }\n\n  /**\n   * Handle when an output is cleared or removed\n   */\n  function handleClearOutput(event, handle) {\n    function drop(id) {\n      const view = Bokeh.index.get_by_id(id)\n      if (view != null) {\n        view.model.document.clear()\n        Bokeh.index.delete(view)\n      }\n    }\n\n    const cell = handle.cell;\n\n    const id = cell.output_area._bokeh_element_id;\n    const server_id = cell.output_area._bokeh_server_id;\n\n    // Clean up Bokeh references\n    if (id != null) {\n      drop(id)\n    }\n\n    if (server_id !== undefined) {\n      // Clean up Bokeh references\n      const cmd_clean = \"from bokeh.io.state import curstate; print(curstate().uuid_to_server['\" + server_id + \"'].get_sessions()[0].document.roots[0]._id)\";\n      cell.notebook.kernel.execute(cmd_clean, {\n        iopub: {\n          output: function(msg) {\n            const id = msg.content.text.trim()\n            drop(id)\n          }\n        }\n      });\n      // Destroy server and session\n      const cmd_destroy = \"import bokeh.io.notebook as ion; ion.destroy_server('\" + server_id + \"')\";\n      cell.notebook.kernel.execute(cmd_destroy);\n    }\n  }\n\n  /**\n   * Handle when a new output is added\n   */\n  function handleAddOutput(event, handle) {\n    const output_area = handle.output_area;\n    const output = handle.output;\n\n    // limit handleAddOutput to display_data with EXEC_MIME_TYPE content only\n    if ((output.output_type != \"display_data\") || (!Object.prototype.hasOwnProperty.call(output.data, EXEC_MIME_TYPE))) {\n      return\n    }\n\n    const toinsert = output_area.element.find(\".\" + CLASS_NAME.split(' ')[0]);\n\n    if (output.metadata[EXEC_MIME_TYPE][\"id\"] !== undefined) {\n      toinsert[toinsert.length - 1].firstChild.textContent = output.data[JS_MIME_TYPE];\n      // store reference to embed id on output_area\n      output_area._bokeh_element_id = output.metadata[EXEC_MIME_TYPE][\"id\"];\n    }\n    if (output.metadata[EXEC_MIME_TYPE][\"server_id\"] !== undefined) {\n      const bk_div = document.createElement(\"div\");\n      bk_div.innerHTML = output.data[HTML_MIME_TYPE];\n      const script_attrs = bk_div.children[0].attributes;\n      for (let i = 0; i < script_attrs.length; i++) {\n        toinsert[toinsert.length - 1].firstChild.setAttribute(script_attrs[i].name, script_attrs[i].value);\n        toinsert[toinsert.length - 1].firstChild.textContent = bk_div.children[0].textContent\n      }\n      // store reference to server id on output_area\n      output_area._bokeh_server_id = output.metadata[EXEC_MIME_TYPE][\"server_id\"];\n    }\n  }\n\n  function register_renderer(events, OutputArea) {\n\n    function append_mime(data, metadata, element) {\n      // create a DOM node to render to\n      const toinsert = this.create_output_subarea(\n        metadata,\n        CLASS_NAME,\n        EXEC_MIME_TYPE\n      );\n      this.keyboard_manager.register_events(toinsert);\n      // Render to node\n      const props = {data: data, metadata: metadata[EXEC_MIME_TYPE]};\n      render(props, toinsert[toinsert.length - 1]);\n      element.append(toinsert);\n      return toinsert\n    }\n\n    /* Handle when an output is cleared or removed */\n    events.on('clear_output.CodeCell', handleClearOutput);\n    events.on('delete.Cell', handleClearOutput);\n\n    /* Handle when a new output is added */\n    events.on('output_added.OutputArea', handleAddOutput);\n\n    /**\n     * Register the mime type and append_mime function with output_area\n     */\n    OutputArea.prototype.register_mime_type(EXEC_MIME_TYPE, append_mime, {\n      /* Is output safe? */\n      safe: true,\n      /* Index of renderer in `output_area.display_order` */\n      index: 0\n    });\n  }\n\n  // register the mime type if in Jupyter Notebook environment and previously unregistered\n  if (root.Jupyter !== undefined) {\n    const events = require('base/js/events');\n    const OutputArea = require('notebook/js/outputarea').OutputArea;\n\n    if (OutputArea.prototype.mime_types().indexOf(EXEC_MIME_TYPE) == -1) {\n      register_renderer(events, OutputArea);\n    }\n  }\n  if (typeof (root._bokeh_timeout) === \"undefined\" || force === true) {\n    root._bokeh_timeout = Date.now() + 5000;\n    root._bokeh_failed_load = false;\n  }\n\n  const NB_LOAD_WARNING = {'data': {'text/html':\n     \"<div style='background-color: #fdd'>\\n\"+\n     \"<p>\\n\"+\n     \"BokehJS does not appear to have successfully loaded. If loading BokehJS from CDN, this \\n\"+\n     \"may be due to a slow or bad network connection. Possible fixes:\\n\"+\n     \"</p>\\n\"+\n     \"<ul>\\n\"+\n     \"<li>re-rerun `output_notebook()` to attempt to load from CDN again, or</li>\\n\"+\n     \"<li>use INLINE resources instead, as so:</li>\\n\"+\n     \"</ul>\\n\"+\n     \"<code>\\n\"+\n     \"from bokeh.resources import INLINE\\n\"+\n     \"output_notebook(resources=INLINE)\\n\"+\n     \"</code>\\n\"+\n     \"</div>\"}};\n\n  function display_loaded(error = null) {\n    const el = document.getElementById(\"f176354c-6086-4434-9eff-cc96678583bd\");\n    if (el != null) {\n      const html = (() => {\n        if (typeof root.Bokeh === \"undefined\") {\n          if (error == null) {\n            return \"BokehJS is loading ...\";\n          } else {\n            return \"BokehJS failed to load.\";\n          }\n        } else {\n          const prefix = `BokehJS ${root.Bokeh.version}`;\n          if (error == null) {\n            return `${prefix} successfully loaded.`;\n          } else {\n            return `${prefix} <b>encountered errors</b> while loading and may not function as expected.`;\n          }\n        }\n      })();\n      el.innerHTML = html;\n\n      if (error != null) {\n        const wrapper = document.createElement(\"div\");\n        wrapper.style.overflow = \"auto\";\n        wrapper.style.height = \"5em\";\n        wrapper.style.resize = \"vertical\";\n        const content = document.createElement(\"div\");\n        content.style.fontFamily = \"monospace\";\n        content.style.whiteSpace = \"pre-wrap\";\n        content.style.backgroundColor = \"rgb(255, 221, 221)\";\n        content.textContent = error.stack ?? error.toString();\n        wrapper.append(content);\n        el.append(wrapper);\n      }\n    } else if (Date.now() < root._bokeh_timeout) {\n      setTimeout(() => display_loaded(error), 100);\n    }\n  }\n\n  function run_callbacks() {\n    try {\n      root._bokeh_onload_callbacks.forEach(function(callback) {\n        if (callback != null)\n          callback();\n      });\n    } finally {\n      delete root._bokeh_onload_callbacks\n    }\n    console.debug(\"Bokeh: all callbacks have finished\");\n  }\n\n  function load_libs(css_urls, js_urls, callback) {\n    if (css_urls == null) css_urls = [];\n    if (js_urls == null) js_urls = [];\n\n    root._bokeh_onload_callbacks.push(callback);\n    if (root._bokeh_is_loading > 0) {\n      console.debug(\"Bokeh: BokehJS is being loaded, scheduling callback at\", now());\n      return null;\n    }\n    if (js_urls == null || js_urls.length === 0) {\n      run_callbacks();\n      return null;\n    }\n    console.debug(\"Bokeh: BokehJS not loaded, scheduling load and callback at\", now());\n    root._bokeh_is_loading = css_urls.length + js_urls.length;\n\n    function on_load() {\n      root._bokeh_is_loading--;\n      if (root._bokeh_is_loading === 0) {\n        console.debug(\"Bokeh: all BokehJS libraries/stylesheets loaded\");\n        run_callbacks()\n      }\n    }\n\n    function on_error(url) {\n      console.error(\"failed to load \" + url);\n    }\n\n    for (let i = 0; i < css_urls.length; i++) {\n      const url = css_urls[i];\n      const element = document.createElement(\"link\");\n      element.onload = on_load;\n      element.onerror = on_error.bind(null, url);\n      element.rel = \"stylesheet\";\n      element.type = \"text/css\";\n      element.href = url;\n      console.debug(\"Bokeh: injecting link tag for BokehJS stylesheet: \", url);\n      document.body.appendChild(element);\n    }\n\n    for (let i = 0; i < js_urls.length; i++) {\n      const url = js_urls[i];\n      const element = document.createElement('script');\n      element.onload = on_load;\n      element.onerror = on_error.bind(null, url);\n      element.async = false;\n      element.src = url;\n      console.debug(\"Bokeh: injecting script tag for BokehJS library: \", url);\n      document.head.appendChild(element);\n    }\n  };\n\n  function inject_raw_css(css) {\n    const element = document.createElement(\"style\");\n    element.appendChild(document.createTextNode(css));\n    document.body.appendChild(element);\n  }\n\n  const js_urls = [\"https://cdn.bokeh.org/bokeh/release/bokeh-3.4.1.min.js\", \"https://cdn.bokeh.org/bokeh/release/bokeh-gl-3.4.1.min.js\", \"https://cdn.bokeh.org/bokeh/release/bokeh-widgets-3.4.1.min.js\", \"https://cdn.bokeh.org/bokeh/release/bokeh-tables-3.4.1.min.js\", \"https://cdn.bokeh.org/bokeh/release/bokeh-mathjax-3.4.1.min.js\"];\n  const css_urls = [];\n\n  const inline_js = [    function(Bokeh) {\n      Bokeh.set_log_level(\"info\");\n    },\nfunction(Bokeh) {\n    }\n  ];\n\n  function run_inline_js() {\n    if (root.Bokeh !== undefined || force === true) {\n      try {\n            for (let i = 0; i < inline_js.length; i++) {\n      inline_js[i].call(root, root.Bokeh);\n    }\n\n      } catch (error) {display_loaded(error);throw error;\n      }if (force === true) {\n        display_loaded();\n      }} else if (Date.now() < root._bokeh_timeout) {\n      setTimeout(run_inline_js, 100);\n    } else if (!root._bokeh_failed_load) {\n      console.log(\"Bokeh: BokehJS failed to load within specified timeout.\");\n      root._bokeh_failed_load = true;\n    } else if (force !== true) {\n      const cell = $(document.getElementById(\"f176354c-6086-4434-9eff-cc96678583bd\")).parents('.cell').data().cell;\n      cell.output_area.append_execute_result(NB_LOAD_WARNING)\n    }\n  }\n\n  if (root._bokeh_is_loading === 0) {\n    console.debug(\"Bokeh: BokehJS loaded, going straight to plotting\");\n    run_inline_js();\n  } else {\n    load_libs(css_urls, js_urls, function() {\n      console.debug(\"Bokeh: BokehJS plotting callback run at\", now());\n      run_inline_js();\n    });\n  }\n}(window));",
      "application/vnd.bokehjs_load.v0+json": ""
     },
     "metadata": {},
     "output_type": "display_data"
    },
    {
     "data": {
      "text/html": [
       "\n",
       "  <div id=\"a187f4ca-70d5-4158-9bc4-115d7e5f41b1\" data-root-id=\"p1361\" style=\"display: contents;\"></div>\n"
      ]
     },
     "metadata": {},
     "output_type": "display_data"
    },
    {
     "data": {
      "application/javascript": "(function(root) {\n  function embed_document(root) {\n  const docs_json = {\"22da894d-dbe9-4d14-8ead-200f01d0c275\":{\"version\":\"3.4.1\",\"title\":\"Bokeh Application\",\"roots\":[{\"type\":\"object\",\"name\":\"Figure\",\"id\":\"p1361\",\"attributes\":{\"x_range\":{\"type\":\"object\",\"name\":\"DataRange1d\",\"id\":\"p1362\"},\"y_range\":{\"type\":\"object\",\"name\":\"DataRange1d\",\"id\":\"p1363\"},\"x_scale\":{\"type\":\"object\",\"name\":\"LinearScale\",\"id\":\"p1370\"},\"y_scale\":{\"type\":\"object\",\"name\":\"LinearScale\",\"id\":\"p1371\"},\"title\":{\"type\":\"object\",\"name\":\"Title\",\"id\":\"p1368\"},\"renderers\":[{\"type\":\"object\",\"name\":\"GlyphRenderer\",\"id\":\"p1399\",\"attributes\":{\"data_source\":{\"type\":\"object\",\"name\":\"ColumnDataSource\",\"id\":\"p1393\",\"attributes\":{\"selected\":{\"type\":\"object\",\"name\":\"Selection\",\"id\":\"p1394\",\"attributes\":{\"indices\":[],\"line_indices\":[]}},\"selection_policy\":{\"type\":\"object\",\"name\":\"UnionRenderers\",\"id\":\"p1395\"},\"data\":{\"type\":\"map\",\"entries\":[[\"x\",{\"type\":\"ndarray\",\"array\":{\"type\":\"bytes\",\"data\":\"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\"},\"shape\":[1096],\"dtype\":\"float64\",\"order\":\"little\"}],[\"y\",{\"type\":\"ndarray\",\"array\":{\"type\":\"bytes\",\"data\":\"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\"},\"shape\":[1096],\"dtype\":\"float32\",\"order\":\"little\"}]]}}},\"view\":{\"type\":\"object\",\"name\":\"CDSView\",\"id\":\"p1400\",\"attributes\":{\"filter\":{\"type\":\"object\",\"name\":\"AllIndices\",\"id\":\"p1401\"}}},\"glyph\":{\"type\":\"object\",\"name\":\"Scatter\",\"id\":\"p1396\",\"attributes\":{\"x\":{\"type\":\"field\",\"field\":\"x\"},\"y\":{\"type\":\"field\",\"field\":\"y\"},\"size\":{\"type\":\"value\",\"value\":3},\"line_color\":{\"type\":\"value\",\"value\":\"#1f77b4\"},\"fill_color\":{\"type\":\"value\",\"value\":\"#1f77b4\"}}},\"nonselection_glyph\":{\"type\":\"object\",\"name\":\"Scatter\",\"id\":\"p1397\",\"attributes\":{\"x\":{\"type\":\"field\",\"field\":\"x\"},\"y\":{\"type\":\"field\",\"field\":\"y\"},\"size\":{\"type\":\"value\",\"value\":3},\"line_color\":{\"type\":\"value\",\"value\":\"#1f77b4\"},\"line_alpha\":{\"type\":\"value\",\"value\":0.1},\"fill_color\":{\"type\":\"value\",\"value\":\"#1f77b4\"},\"fill_alpha\":{\"type\":\"value\",\"value\":0.1},\"hatch_alpha\":{\"type\":\"value\",\"value\":0.1}}},\"muted_glyph\":{\"type\":\"object\",\"name\":\"Scatter\",\"id\":\"p1398\",\"attributes\":{\"x\":{\"type\":\"field\",\"field\":\"x\"},\"y\":{\"type\":\"field\",\"field\":\"y\"},\"size\":{\"type\":\"value\",\"value\":3},\"line_color\":{\"type\":\"value\",\"value\":\"#1f77b4\"},\"line_alpha\":{\"type\":\"value\",\"value\":0.2},\"fill_color\":{\"type\":\"value\",\"value\":\"#1f77b4\"},\"fill_alpha\":{\"type\":\"value\",\"value\":0.2},\"hatch_alpha\":{\"type\":\"value\",\"value\":0.2}}}}},{\"type\":\"object\",\"name\":\"GlyphRenderer\",\"id\":\"p1408\",\"attributes\":{\"data_source\":{\"type\":\"object\",\"name\":\"ColumnDataSource\",\"id\":\"p1402\",\"attributes\":{\"selected\":{\"type\":\"object\",\"name\":\"Selection\",\"id\":\"p1403\",\"attributes\":{\"indices\":[],\"line_indices\":[]}},\"selection_policy\":{\"type\":\"object\",\"name\":\"UnionRenderers\",\"id\":\"p1404\"},\"data\":{\"type\":\"map\",\"entries\":[[\"x\",{\"type\":\"ndarray\",\"array\":{\"type\":\"bytes\",\"data\":\"CKwcWmQ7A0D+1HjpJjEJQGZmZmZmZg1ASgwCK4cWD0DufD81XroPQC2yne+nRhFAbxKDwMqhEUAK16NwPQoSQAIrhxbZzhJAoBov3SQGE0DFILByaBETQH9qvHSTGBNAmpmZmZkZE0AfhetRuJ4TQEJg5dAi2xNAGy/dJAYBFECF61G4HgUVQOkmMQisHBVA6SYxCKwcFUCS7Xw/NV4VQEoMAiuHlhVAjZduEoPAFUCfRbbz/VQWQJ9FtvP9VBZApHA9CtejFkBEi2zn+6kWQEW28/3U+BZA1HjpJjEIF0BqvHSTGIQXQClcj8L1qBdA001iEFi5F0DXo3A9CtcXQEA1XrpJDBhAn0W28/1UGEAK16NwPYoYQN9PjZdukhhATDeJQWBlGUARWDm0yHYZQEW28/3UeBlA0SLb+X7qGUAEVg4tsh0aQC2yne+nxhpAqvHSTWIQG0CF61G4HoUbQM3MzMzMzBtAAyuHFtlOHEC8dJMYBFYcQDu0yHa+nx1Ag8DKoUU2HkB16SYxCKwfQPyp8dJN4h9Ake18PzUeIECYbhKDwEogQAaBlUOLbCBAd76fGi+dIECiRbbz/dQgQO18PzVe+iBAokW28/0UIkAnMQisHBoiQN9PjZduEiNAqMZLN4lBI0D4U+OlmwQkQO58PzVeuiRAT42XbhIDJkDNzMzMzAwmQG3n+6nxUidA30+Nl24SKEDn+6nx0g0qQA==\"},\"shape\":[68],\"dtype\":\"float64\",\"order\":\"little\"}],[\"y\",{\"type\":\"ndarray\",\"array\":{\"type\":\"bytes\",\"data\":\"QKCoQGIXpED7aLlAOki1QBsFtkCfYMNAh6DMQDWOOkBas8hA7R9JQD6q2kBX9llAG8FfQLdLz0AZ5GtASOdcQPhOA0EvO91APqraQFTE5EAHUWdA4yOCQDR4hUCdBetArbHuQI+R90AW1IFADjCIQOavc0BUyoFA8a/5QDmN8ECtWIlA7d37QAhF+kAOg+9AQwqTQO26k0BYrflAMZz6QDvQ+kDvYQpBD8ClQJt6AkFaSHVAaAsHQbkUCkFzAKNAMC8SQUS3ukDSMBJBrk3GQL1JyUBJmKhAt0vPQPo/F0GMOMBAhcDaQCp+0kAxr8hAnQXrQHJjxECkWQJBhnM5QXFM8UBAHA9B0jASQT6q2kA=\"},\"shape\":[68],\"dtype\":\"float32\",\"order\":\"little\"}]]}}},\"view\":{\"type\":\"object\",\"name\":\"CDSView\",\"id\":\"p1409\",\"attributes\":{\"filter\":{\"type\":\"object\",\"name\":\"AllIndices\",\"id\":\"p1410\"}}},\"glyph\":{\"type\":\"object\",\"name\":\"Scatter\",\"id\":\"p1405\",\"attributes\":{\"x\":{\"type\":\"field\",\"field\":\"x\"},\"y\":{\"type\":\"field\",\"field\":\"y\"},\"size\":{\"type\":\"value\",\"value\":3},\"line_color\":{\"type\":\"value\",\"value\":\"red\"},\"fill_color\":{\"type\":\"value\",\"value\":\"red\"},\"hatch_color\":{\"type\":\"value\",\"value\":\"red\"}}},\"nonselection_glyph\":{\"type\":\"object\",\"name\":\"Scatter\",\"id\":\"p1406\",\"attributes\":{\"x\":{\"type\":\"field\",\"field\":\"x\"},\"y\":{\"type\":\"field\",\"field\":\"y\"},\"size\":{\"type\":\"value\",\"value\":3},\"line_color\":{\"type\":\"value\",\"value\":\"red\"},\"line_alpha\":{\"type\":\"value\",\"value\":0.1},\"fill_color\":{\"type\":\"value\",\"value\":\"red\"},\"fill_alpha\":{\"type\":\"value\",\"value\":0.1},\"hatch_color\":{\"type\":\"value\",\"value\":\"red\"},\"hatch_alpha\":{\"type\":\"value\",\"value\":0.1}}},\"muted_glyph\":{\"type\":\"object\",\"name\":\"Scatter\",\"id\":\"p1407\",\"attributes\":{\"x\":{\"type\":\"field\",\"field\":\"x\"},\"y\":{\"type\":\"field\",\"field\":\"y\"},\"size\":{\"type\":\"value\",\"value\":3},\"line_color\":{\"type\":\"value\",\"value\":\"red\"},\"line_alpha\":{\"type\":\"value\",\"value\":0.2},\"fill_color\":{\"type\":\"value\",\"value\":\"red\"},\"fill_alpha\":{\"type\":\"value\",\"value\":0.2},\"hatch_color\":{\"type\":\"value\",\"value\":\"red\"},\"hatch_alpha\":{\"type\":\"value\",\"value\":0.2}}}}}],\"toolbar\":{\"type\":\"object\",\"name\":\"Toolbar\",\"id\":\"p1369\",\"attributes\":{\"tools\":[{\"type\":\"object\",\"name\":\"PanTool\",\"id\":\"p1382\"},{\"type\":\"object\",\"name\":\"WheelZoomTool\",\"id\":\"p1383\",\"attributes\":{\"renderers\":\"auto\"}},{\"type\":\"object\",\"name\":\"BoxZoomTool\",\"id\":\"p1384\",\"attributes\":{\"overlay\":{\"type\":\"object\",\"name\":\"BoxAnnotation\",\"id\":\"p1385\",\"attributes\":{\"syncable\":false,\"level\":\"overlay\",\"visible\":false,\"left\":{\"type\":\"number\",\"value\":\"nan\"},\"right\":{\"type\":\"number\",\"value\":\"nan\"},\"top\":{\"type\":\"number\",\"value\":\"nan\"},\"bottom\":{\"type\":\"number\",\"value\":\"nan\"},\"left_units\":\"canvas\",\"right_units\":\"canvas\",\"top_units\":\"canvas\",\"bottom_units\":\"canvas\",\"line_color\":\"black\",\"line_alpha\":1.0,\"line_width\":2,\"line_dash\":[4,4],\"fill_color\":\"lightgrey\",\"fill_alpha\":0.5}}}},{\"type\":\"object\",\"name\":\"SaveTool\",\"id\":\"p1390\"},{\"type\":\"object\",\"name\":\"ResetTool\",\"id\":\"p1391\"},{\"type\":\"object\",\"name\":\"HelpTool\",\"id\":\"p1392\"}]}},\"left\":[{\"type\":\"object\",\"name\":\"LinearAxis\",\"id\":\"p1377\",\"attributes\":{\"ticker\":{\"type\":\"object\",\"name\":\"BasicTicker\",\"id\":\"p1378\",\"attributes\":{\"mantissas\":[1,2,5]}},\"formatter\":{\"type\":\"object\",\"name\":\"BasicTickFormatter\",\"id\":\"p1379\"},\"axis_label\":\"Predicted RT\",\"major_label_policy\":{\"type\":\"object\",\"name\":\"AllLabels\",\"id\":\"p1380\"}}}],\"below\":[{\"type\":\"object\",\"name\":\"LinearAxis\",\"id\":\"p1372\",\"attributes\":{\"ticker\":{\"type\":\"object\",\"name\":\"BasicTicker\",\"id\":\"p1373\",\"attributes\":{\"mantissas\":[1,2,5]}},\"formatter\":{\"type\":\"object\",\"name\":\"BasicTickFormatter\",\"id\":\"p1374\"},\"axis_label\":\"Experimental RT\",\"major_label_policy\":{\"type\":\"object\",\"name\":\"AllLabels\",\"id\":\"p1375\"}}}],\"center\":[{\"type\":\"object\",\"name\":\"Grid\",\"id\":\"p1376\",\"attributes\":{\"axis\":{\"id\":\"p1372\"}}},{\"type\":\"object\",\"name\":\"Grid\",\"id\":\"p1381\",\"attributes\":{\"dimension\":1,\"axis\":{\"id\":\"p1377\"}}},{\"type\":\"object\",\"name\":\"Legend\",\"id\":\"p1411\",\"attributes\":{\"location\":\"top_left\",\"items\":[{\"type\":\"object\",\"name\":\"LegendItem\",\"id\":\"p1412\",\"attributes\":{\"label\":{\"type\":\"value\",\"value\":\"Outliers\"},\"renderers\":[{\"id\":\"p1408\"}]}}]}},{\"type\":\"object\",\"name\":\"Slope\",\"id\":\"p1413\",\"attributes\":{\"gradient\":1,\"y_intercept\":0,\"line_alpha\":0.5}},{\"type\":\"object\",\"name\":\"Slope\",\"id\":\"p1414\",\"attributes\":{\"gradient\":0.8401796241130851,\"y_intercept\":0.9117432412961941,\"line_color\":\"blue\"}},{\"type\":\"object\",\"name\":\"Slope\",\"id\":\"p1415\",\"attributes\":{\"gradient\":0.8401796241130851,\"y_intercept\":2.294446109338486,\"line_color\":\"blue\",\"line_alpha\":0.75,\"line_dash\":[6]}},{\"type\":\"object\",\"name\":\"Slope\",\"id\":\"p1416\",\"attributes\":{\"gradient\":0.8401796241130851,\"y_intercept\":-0.4709596267460978,\"line_color\":\"blue\",\"line_alpha\":0.75,\"line_dash\":[6]}}]}}]}};\n  const render_items = [{\"docid\":\"22da894d-dbe9-4d14-8ead-200f01d0c275\",\"roots\":{\"p1361\":\"a187f4ca-70d5-4158-9bc4-115d7e5f41b1\"},\"root_ids\":[\"p1361\"]}];\n  void root.Bokeh.embed.embed_items_notebook(docs_json, render_items);\n  }\n  if (root.Bokeh !== undefined) {\n    embed_document(root);\n  } else {\n    let attempts = 0;\n    const timer = setInterval(function(root) {\n      if (root.Bokeh !== undefined) {\n        clearInterval(timer);\n        embed_document(root);\n      } else {\n        attempts++;\n        if (attempts > 100) {\n          clearInterval(timer);\n          console.log(\"Bokeh: ERROR: Unable to run BokehJS code because BokehJS library is missing\");\n        }\n      }\n    }, 10, root)\n  }\n})(window);",
      "application/vnd.bokehjs_exec.v0+json": ""
     },
     "metadata": {
      "application/vnd.bokehjs_exec.v0+json": {
       "id": "p1361"
      }
     },
     "output_type": "display_data"
    }
   ],
   "source": [
    "outliers = retip.visualization.outlier_identification(trainer, dataset, 'RTP', confidence_interval=95)"
   ]
  },
  {
   "cell_type": "markdown",
   "id": "a7838513",
   "metadata": {},
   "source": [
    "##### Annotated features"
   ]
  },
  {
   "cell_type": "code",
   "execution_count": null,
   "id": "4919eea0",
   "metadata": {},
   "outputs": [
    {
     "data": {
      "text/html": [
       "<div>\n",
       "<style scoped>\n",
       "    .dataframe tbody tr th:only-of-type {\n",
       "        vertical-align: middle;\n",
       "    }\n",
       "\n",
       "    .dataframe tbody tr th {\n",
       "        vertical-align: top;\n",
       "    }\n",
       "\n",
       "    .dataframe thead th {\n",
       "        text-align: right;\n",
       "    }\n",
       "</style>\n",
       "<table border=\"1\" class=\"dataframe\">\n",
       "  <thead>\n",
       "    <tr style=\"text-align: right;\">\n",
       "      <th></th>\n",
       "      <th>Name</th>\n",
       "      <th>InChIKey</th>\n",
       "      <th>SMILES</th>\n",
       "      <th>RT</th>\n",
       "      <th>RTP</th>\n",
       "    </tr>\n",
       "  </thead>\n",
       "  <tbody>\n",
       "    <tr>\n",
       "      <th>0</th>\n",
       "      <td>1-thiazol-2-ylethanone (PhytoBank:PHY0136536)</td>\n",
       "      <td>MOMFXATYAINJML-UHFFFAOYSA-N</td>\n",
       "      <td>CC(=O)C1=NC=CS1</td>\n",
       "      <td>0.774</td>\n",
       "      <td>1.257465</td>\n",
       "    </tr>\n",
       "    <tr>\n",
       "      <th>1</th>\n",
       "      <td>Gramine</td>\n",
       "      <td>OCDGBSUVYYVKQZ-UHFFFAOYSA-N</td>\n",
       "      <td>CN(C)CC1=CNC2=CC=CC=C21</td>\n",
       "      <td>0.925</td>\n",
       "      <td>1.888878</td>\n",
       "    </tr>\n",
       "    <tr>\n",
       "      <th>2</th>\n",
       "      <td>1-hydroxy-6-(1-hydroxy-2-methyl-propyl)-3-isob...</td>\n",
       "      <td>MEFPAPWNDHCGJX-UHFFFAOYSA-N</td>\n",
       "      <td>CC(C)CC1=NC=C(C(O)C(C)C)[N+]([O-])=C1O</td>\n",
       "      <td>0.999</td>\n",
       "      <td>2.113504</td>\n",
       "    </tr>\n",
       "    <tr>\n",
       "      <th>3</th>\n",
       "      <td>FEAU (PhytoBank:PHY0170129)</td>\n",
       "      <td>SWFJAJRDLUUIOA-UHFFFAOYSA-N</td>\n",
       "      <td>CCC1=CN(C2OC(CO)C(O)C2F)C(=O)NC1=O</td>\n",
       "      <td>1.004</td>\n",
       "      <td>1.859538</td>\n",
       "    </tr>\n",
       "    <tr>\n",
       "      <th>4</th>\n",
       "      <td>3-Acetoxypyridine</td>\n",
       "      <td>QZDWODWEESGPLC-UHFFFAOYSA-N</td>\n",
       "      <td>CC(=O)OC1=CN=CC=C1</td>\n",
       "      <td>1.007</td>\n",
       "      <td>1.712436</td>\n",
       "    </tr>\n",
       "    <tr>\n",
       "      <th>...</th>\n",
       "      <td>...</td>\n",
       "      <td>...</td>\n",
       "      <td>...</td>\n",
       "      <td>...</td>\n",
       "      <td>...</td>\n",
       "    </tr>\n",
       "    <tr>\n",
       "      <th>1159</th>\n",
       "      <td>.gamma.-Undecalactone</td>\n",
       "      <td>PHXATPHONSXBIL-UHFFFAOYSA-N</td>\n",
       "      <td>CCCCCCCC1CCC(=O)O1</td>\n",
       "      <td>11.662</td>\n",
       "      <td>8.944397</td>\n",
       "    </tr>\n",
       "    <tr>\n",
       "      <th>1160</th>\n",
       "      <td>C13878 (KEGG:C13878)</td>\n",
       "      <td>ITQDKQBSRNKQCX-ZCXUNETKSA-N</td>\n",
       "      <td>CCCCCCCCCCCCCCCC(=O)OCC(COP(=O)(CCN)O)OC(=O)CC...</td>\n",
       "      <td>11.943</td>\n",
       "      <td>11.568171</td>\n",
       "    </tr>\n",
       "    <tr>\n",
       "      <th>1161</th>\n",
       "      <td>C14227 (KEGG:C14227)</td>\n",
       "      <td>MQIUGAXCHLFZKX-UHFFFAOYSA-N</td>\n",
       "      <td>CCCCCCCCOC(=O)C1=CC=CC=C1C(=O)OCCCCCCCC</td>\n",
       "      <td>12.031</td>\n",
       "      <td>11.358490</td>\n",
       "    </tr>\n",
       "    <tr>\n",
       "      <th>1162</th>\n",
       "      <td>N,N-Dimethyldodecylamine</td>\n",
       "      <td>YWFWDNVOPHGWMX-UHFFFAOYSA-N</td>\n",
       "      <td>CCCCCCCCCCCCN(C)C</td>\n",
       "      <td>12.036</td>\n",
       "      <td>9.136919</td>\n",
       "    </tr>\n",
       "    <tr>\n",
       "      <th>1163</th>\n",
       "      <td>Solasodine base + 2H, O-Hex-Hex-Hex-Pen</td>\n",
       "      <td>REJLGAUYTKNVJM-UHFFFAOYSA-N</td>\n",
       "      <td>CC1CCC2(C(C3C(O2)CC4C3(CCC5C4CCC6C5(CCC(C6)OC7...</td>\n",
       "      <td>13.027</td>\n",
       "      <td>6.833282</td>\n",
       "    </tr>\n",
       "  </tbody>\n",
       "</table>\n",
       "<p>1164 rows × 5 columns</p>\n",
       "</div>"
      ],
      "text/plain": [
       "                                                   Name  \\\n",
       "0         1-thiazol-2-ylethanone (PhytoBank:PHY0136536)   \n",
       "1                                               Gramine   \n",
       "2     1-hydroxy-6-(1-hydroxy-2-methyl-propyl)-3-isob...   \n",
       "3                           FEAU (PhytoBank:PHY0170129)   \n",
       "4                                     3-Acetoxypyridine   \n",
       "...                                                 ...   \n",
       "1159                              .gamma.-Undecalactone   \n",
       "1160                               C13878 (KEGG:C13878)   \n",
       "1161                               C14227 (KEGG:C14227)   \n",
       "1162                           N,N-Dimethyldodecylamine   \n",
       "1163            Solasodine base + 2H, O-Hex-Hex-Hex-Pen   \n",
       "\n",
       "                         InChIKey  \\\n",
       "0     MOMFXATYAINJML-UHFFFAOYSA-N   \n",
       "1     OCDGBSUVYYVKQZ-UHFFFAOYSA-N   \n",
       "2     MEFPAPWNDHCGJX-UHFFFAOYSA-N   \n",
       "3     SWFJAJRDLUUIOA-UHFFFAOYSA-N   \n",
       "4     QZDWODWEESGPLC-UHFFFAOYSA-N   \n",
       "...                           ...   \n",
       "1159  PHXATPHONSXBIL-UHFFFAOYSA-N   \n",
       "1160  ITQDKQBSRNKQCX-ZCXUNETKSA-N   \n",
       "1161  MQIUGAXCHLFZKX-UHFFFAOYSA-N   \n",
       "1162  YWFWDNVOPHGWMX-UHFFFAOYSA-N   \n",
       "1163  REJLGAUYTKNVJM-UHFFFAOYSA-N   \n",
       "\n",
       "                                                 SMILES      RT        RTP  \n",
       "0                                       CC(=O)C1=NC=CS1   0.774   1.257465  \n",
       "1                               CN(C)CC1=CNC2=CC=CC=C21   0.925   1.888878  \n",
       "2                CC(C)CC1=NC=C(C(O)C(C)C)[N+]([O-])=C1O   0.999   2.113504  \n",
       "3                    CCC1=CN(C2OC(CO)C(O)C2F)C(=O)NC1=O   1.004   1.859538  \n",
       "4                                    CC(=O)OC1=CN=CC=C1   1.007   1.712436  \n",
       "...                                                 ...     ...        ...  \n",
       "1159                                 CCCCCCCC1CCC(=O)O1  11.662   8.944397  \n",
       "1160  CCCCCCCCCCCCCCCC(=O)OCC(COP(=O)(CCN)O)OC(=O)CC...  11.943  11.568171  \n",
       "1161            CCCCCCCCOC(=O)C1=CC=CC=C1C(=O)OCCCCCCCC  12.031  11.358490  \n",
       "1162                                  CCCCCCCCCCCCN(C)C  12.036   9.136919  \n",
       "1163  CC1CCC2(C(C3C(O2)CC4C3(CCC5C4CCC6C5(CCC(C6)OC7...  13.027   6.833282  \n",
       "\n",
       "[1164 rows x 5 columns]"
      ]
     },
     "execution_count": 23,
     "metadata": {},
     "output_type": "execute_result"
    }
   ],
   "source": [
    "outliers[0]"
   ]
  },
  {
   "cell_type": "markdown",
   "id": "2f28d17b",
   "metadata": {},
   "source": [
    "##### Outliers"
   ]
  },
  {
   "cell_type": "code",
   "execution_count": null,
   "id": "02df9bdf",
   "metadata": {},
   "outputs": [
    {
     "data": {
      "text/html": [
       "<div>\n",
       "<style scoped>\n",
       "    .dataframe tbody tr th:only-of-type {\n",
       "        vertical-align: middle;\n",
       "    }\n",
       "\n",
       "    .dataframe tbody tr th {\n",
       "        vertical-align: top;\n",
       "    }\n",
       "\n",
       "    .dataframe thead th {\n",
       "        text-align: right;\n",
       "    }\n",
       "</style>\n",
       "<table border=\"1\" class=\"dataframe\">\n",
       "  <thead>\n",
       "    <tr style=\"text-align: right;\">\n",
       "      <th></th>\n",
       "      <th>Name</th>\n",
       "      <th>RT</th>\n",
       "      <th>RTP</th>\n",
       "    </tr>\n",
       "  </thead>\n",
       "  <tbody>\n",
       "    <tr>\n",
       "      <th>104</th>\n",
       "      <td>3'-Hydroxyrepaglinide</td>\n",
       "      <td>2.404</td>\n",
       "      <td>5.269562</td>\n",
       "    </tr>\n",
       "    <tr>\n",
       "      <th>207</th>\n",
       "      <td>Nummularine T (KNApSAcK:C00028745)</td>\n",
       "      <td>3.149</td>\n",
       "      <td>5.127854</td>\n",
       "    </tr>\n",
       "    <tr>\n",
       "      <th>287</th>\n",
       "      <td>Dibutyl phthalate</td>\n",
       "      <td>3.675</td>\n",
       "      <td>5.794065</td>\n",
       "    </tr>\n",
       "    <tr>\n",
       "      <th>315</th>\n",
       "      <td>1beta,3beta-dihydroxypregna-5,16-dien-20-one 1...</td>\n",
       "      <td>3.886</td>\n",
       "      <td>5.665067</td>\n",
       "    </tr>\n",
       "    <tr>\n",
       "      <th>322</th>\n",
       "      <td>theopederin D (PhytoBank:PHY0026141)</td>\n",
       "      <td>3.966</td>\n",
       "      <td>5.688123</td>\n",
       "    </tr>\n",
       "    <tr>\n",
       "      <th>...</th>\n",
       "      <td>...</td>\n",
       "      <td>...</td>\n",
       "      <td>...</td>\n",
       "    </tr>\n",
       "    <tr>\n",
       "      <th>1129</th>\n",
       "      <td>Ustilipid A (KNApSAcK:C00014891)</td>\n",
       "      <td>11.006</td>\n",
       "      <td>11.590704</td>\n",
       "    </tr>\n",
       "    <tr>\n",
       "      <th>1134</th>\n",
       "      <td>2-Ethylbutan-1-amine</td>\n",
       "      <td>11.025</td>\n",
       "      <td>7.540581</td>\n",
       "    </tr>\n",
       "    <tr>\n",
       "      <th>1159</th>\n",
       "      <td>.gamma.-Undecalactone</td>\n",
       "      <td>11.662</td>\n",
       "      <td>8.944397</td>\n",
       "    </tr>\n",
       "    <tr>\n",
       "      <th>1162</th>\n",
       "      <td>N,N-Dimethyldodecylamine</td>\n",
       "      <td>12.036</td>\n",
       "      <td>9.136919</td>\n",
       "    </tr>\n",
       "    <tr>\n",
       "      <th>1163</th>\n",
       "      <td>Solasodine base + 2H, O-Hex-Hex-Hex-Pen</td>\n",
       "      <td>13.027</td>\n",
       "      <td>6.833282</td>\n",
       "    </tr>\n",
       "  </tbody>\n",
       "</table>\n",
       "<p>68 rows × 3 columns</p>\n",
       "</div>"
      ],
      "text/plain": [
       "                                                   Name      RT        RTP\n",
       "104                               3'-Hydroxyrepaglinide   2.404   5.269562\n",
       "207                  Nummularine T (KNApSAcK:C00028745)   3.149   5.127854\n",
       "287                                   Dibutyl phthalate   3.675   5.794065\n",
       "315   1beta,3beta-dihydroxypregna-5,16-dien-20-one 1...   3.886   5.665067\n",
       "322                theopederin D (PhytoBank:PHY0026141)   3.966   5.688123\n",
       "...                                                 ...     ...        ...\n",
       "1129                   Ustilipid A (KNApSAcK:C00014891)  11.006  11.590704\n",
       "1134                               2-Ethylbutan-1-amine  11.025   7.540581\n",
       "1159                              .gamma.-Undecalactone  11.662   8.944397\n",
       "1162                           N,N-Dimethyldodecylamine  12.036   9.136919\n",
       "1163            Solasodine base + 2H, O-Hex-Hex-Hex-Pen  13.027   6.833282\n",
       "\n",
       "[68 rows x 3 columns]"
      ]
     },
     "execution_count": 24,
     "metadata": {},
     "output_type": "execute_result"
    }
   ],
   "source": [
    "outliers[1]"
   ]
  },
  {
   "cell_type": "markdown",
   "id": "2367444c",
   "metadata": {},
   "source": [
    "#### 90% CI"
   ]
  },
  {
   "cell_type": "code",
   "execution_count": null,
   "id": "muslim-headline",
   "metadata": {},
   "outputs": [
    {
     "data": {
      "text/html": [
       "    <style>\n",
       "        .bk-notebook-logo {\n",
       "            display: block;\n",
       "            width: 20px;\n",
       "            height: 20px;\n",
       "            background-image: url(data:image/png;base64,iVBORw0KGgoAAAANSUhEUgAAABQAAAAUCAYAAACNiR0NAAAABHNCSVQICAgIfAhkiAAAAAlwSFlzAAALEgAACxIB0t1+/AAAABx0RVh0U29mdHdhcmUAQWRvYmUgRmlyZXdvcmtzIENTNui8sowAAAOkSURBVDiNjZRtaJVlGMd/1/08zzln5zjP1LWcU9N0NkN8m2CYjpgQYQXqSs0I84OLIC0hkEKoPtiH3gmKoiJDU7QpLgoLjLIQCpEsNJ1vqUOdO7ppbuec5+V+rj4ctwzd8IIbbi6u+8f1539dt3A78eXC7QizUF7gyV1fD1Yqg4JWz84yffhm0qkFqBogB9rM8tZdtwVsPUhWhGcFJngGeWrPzHm5oaMmkfEg1usvLFyc8jLRqDOMru7AyC8saQr7GG7f5fvDeH7Ej8CM66nIF+8yngt6HWaKh7k49Soy9nXurCi1o3qUbS3zWfrYeQDTB/Qj6kX6Ybhw4B+bOYoLKCC9H3Nu/leUTZ1JdRWkkn2ldcCamzrcf47KKXdAJllSlxAOkRgyHsGC/zRday5Qld9DyoM4/q/rUoy/CXh3jzOu3bHUVZeU+DEn8FInkPBFlu3+nW3Nw0mk6vCDiWg8CeJaxEwuHS3+z5RgY+YBR6V1Z1nxSOfoaPa4LASWxxdNp+VWTk7+4vzaou8v8PN+xo+KY2xsw6une2frhw05CTYOmQvsEhjhWjn0bmXPjpE1+kplmmkP3suftwTubK9Vq22qKmrBhpY4jvd5afdRA3wGjFAgcnTK2s4hY0/GPNIb0nErGMCRxWOOX64Z8RAC4oCXdklmEvcL8o0BfkNK4lUg9HTl+oPlQxdNo3Mg4Nv175e/1LDGzZen30MEjRUtmXSfiTVu1kK8W4txyV6BMKlbgk3lMwYCiusNy9fVfvvwMxv8Ynl6vxoByANLTWplvuj/nF9m2+PDtt1eiHPBr1oIfhCChQMBw6Aw0UulqTKZdfVvfG7VcfIqLG9bcldL/+pdWTLxLUy8Qq38heUIjh4XlzZxzQm19lLFlr8vdQ97rjZVOLf8nclzckbcD4wxXMidpX30sFd37Fv/GtwwhzhxGVAprjbg0gCAEeIgwCZyTV2Z1REEW8O4py0wsjeloKoMr6iCY6dP92H6Vw/oTyICIthibxjm/DfN9lVz8IqtqKYLUXfoKVMVQVVJOElGjrnnUt9T9wbgp8AyYKaGlqingHZU/uG2NTZSVqwHQTWkx9hxjkpWDaCg6Ckj5qebgBVbT3V3NNXMSiWSDdGV3hrtzla7J+duwPOToIg42ChPQOQjspnSlp1V+Gjdged7+8UN5CRAV7a5EdFNwCjEaBR27b3W890TE7g24NAP/mMDXRWrGoFPQI9ls/MWO2dWFAar/xcOIImbbpA3zgAAAABJRU5ErkJggg==);\n",
       "        }\n",
       "    </style>\n",
       "    <div>\n",
       "        <a href=\"https://bokeh.org\" target=\"_blank\" class=\"bk-notebook-logo\"></a>\n",
       "        <span id=\"c8fc321f-49fe-4469-ae82-58115d8a6e48\">Loading BokehJS ...</span>\n",
       "    </div>\n"
      ]
     },
     "metadata": {},
     "output_type": "display_data"
    },
    {
     "data": {
      "application/javascript": "'use strict';\n(function(root) {\n  function now() {\n    return new Date();\n  }\n\n  const force = true;\n\n  if (typeof root._bokeh_onload_callbacks === \"undefined\" || force === true) {\n    root._bokeh_onload_callbacks = [];\n    root._bokeh_is_loading = undefined;\n  }\n\nconst JS_MIME_TYPE = 'application/javascript';\n  const HTML_MIME_TYPE = 'text/html';\n  const EXEC_MIME_TYPE = 'application/vnd.bokehjs_exec.v0+json';\n  const CLASS_NAME = 'output_bokeh rendered_html';\n\n  /**\n   * Render data to the DOM node\n   */\n  function render(props, node) {\n    const script = document.createElement(\"script\");\n    node.appendChild(script);\n  }\n\n  /**\n   * Handle when an output is cleared or removed\n   */\n  function handleClearOutput(event, handle) {\n    function drop(id) {\n      const view = Bokeh.index.get_by_id(id)\n      if (view != null) {\n        view.model.document.clear()\n        Bokeh.index.delete(view)\n      }\n    }\n\n    const cell = handle.cell;\n\n    const id = cell.output_area._bokeh_element_id;\n    const server_id = cell.output_area._bokeh_server_id;\n\n    // Clean up Bokeh references\n    if (id != null) {\n      drop(id)\n    }\n\n    if (server_id !== undefined) {\n      // Clean up Bokeh references\n      const cmd_clean = \"from bokeh.io.state import curstate; print(curstate().uuid_to_server['\" + server_id + \"'].get_sessions()[0].document.roots[0]._id)\";\n      cell.notebook.kernel.execute(cmd_clean, {\n        iopub: {\n          output: function(msg) {\n            const id = msg.content.text.trim()\n            drop(id)\n          }\n        }\n      });\n      // Destroy server and session\n      const cmd_destroy = \"import bokeh.io.notebook as ion; ion.destroy_server('\" + server_id + \"')\";\n      cell.notebook.kernel.execute(cmd_destroy);\n    }\n  }\n\n  /**\n   * Handle when a new output is added\n   */\n  function handleAddOutput(event, handle) {\n    const output_area = handle.output_area;\n    const output = handle.output;\n\n    // limit handleAddOutput to display_data with EXEC_MIME_TYPE content only\n    if ((output.output_type != \"display_data\") || (!Object.prototype.hasOwnProperty.call(output.data, EXEC_MIME_TYPE))) {\n      return\n    }\n\n    const toinsert = output_area.element.find(\".\" + CLASS_NAME.split(' ')[0]);\n\n    if (output.metadata[EXEC_MIME_TYPE][\"id\"] !== undefined) {\n      toinsert[toinsert.length - 1].firstChild.textContent = output.data[JS_MIME_TYPE];\n      // store reference to embed id on output_area\n      output_area._bokeh_element_id = output.metadata[EXEC_MIME_TYPE][\"id\"];\n    }\n    if (output.metadata[EXEC_MIME_TYPE][\"server_id\"] !== undefined) {\n      const bk_div = document.createElement(\"div\");\n      bk_div.innerHTML = output.data[HTML_MIME_TYPE];\n      const script_attrs = bk_div.children[0].attributes;\n      for (let i = 0; i < script_attrs.length; i++) {\n        toinsert[toinsert.length - 1].firstChild.setAttribute(script_attrs[i].name, script_attrs[i].value);\n        toinsert[toinsert.length - 1].firstChild.textContent = bk_div.children[0].textContent\n      }\n      // store reference to server id on output_area\n      output_area._bokeh_server_id = output.metadata[EXEC_MIME_TYPE][\"server_id\"];\n    }\n  }\n\n  function register_renderer(events, OutputArea) {\n\n    function append_mime(data, metadata, element) {\n      // create a DOM node to render to\n      const toinsert = this.create_output_subarea(\n        metadata,\n        CLASS_NAME,\n        EXEC_MIME_TYPE\n      );\n      this.keyboard_manager.register_events(toinsert);\n      // Render to node\n      const props = {data: data, metadata: metadata[EXEC_MIME_TYPE]};\n      render(props, toinsert[toinsert.length - 1]);\n      element.append(toinsert);\n      return toinsert\n    }\n\n    /* Handle when an output is cleared or removed */\n    events.on('clear_output.CodeCell', handleClearOutput);\n    events.on('delete.Cell', handleClearOutput);\n\n    /* Handle when a new output is added */\n    events.on('output_added.OutputArea', handleAddOutput);\n\n    /**\n     * Register the mime type and append_mime function with output_area\n     */\n    OutputArea.prototype.register_mime_type(EXEC_MIME_TYPE, append_mime, {\n      /* Is output safe? */\n      safe: true,\n      /* Index of renderer in `output_area.display_order` */\n      index: 0\n    });\n  }\n\n  // register the mime type if in Jupyter Notebook environment and previously unregistered\n  if (root.Jupyter !== undefined) {\n    const events = require('base/js/events');\n    const OutputArea = require('notebook/js/outputarea').OutputArea;\n\n    if (OutputArea.prototype.mime_types().indexOf(EXEC_MIME_TYPE) == -1) {\n      register_renderer(events, OutputArea);\n    }\n  }\n  if (typeof (root._bokeh_timeout) === \"undefined\" || force === true) {\n    root._bokeh_timeout = Date.now() + 5000;\n    root._bokeh_failed_load = false;\n  }\n\n  const NB_LOAD_WARNING = {'data': {'text/html':\n     \"<div style='background-color: #fdd'>\\n\"+\n     \"<p>\\n\"+\n     \"BokehJS does not appear to have successfully loaded. If loading BokehJS from CDN, this \\n\"+\n     \"may be due to a slow or bad network connection. Possible fixes:\\n\"+\n     \"</p>\\n\"+\n     \"<ul>\\n\"+\n     \"<li>re-rerun `output_notebook()` to attempt to load from CDN again, or</li>\\n\"+\n     \"<li>use INLINE resources instead, as so:</li>\\n\"+\n     \"</ul>\\n\"+\n     \"<code>\\n\"+\n     \"from bokeh.resources import INLINE\\n\"+\n     \"output_notebook(resources=INLINE)\\n\"+\n     \"</code>\\n\"+\n     \"</div>\"}};\n\n  function display_loaded(error = null) {\n    const el = document.getElementById(\"c8fc321f-49fe-4469-ae82-58115d8a6e48\");\n    if (el != null) {\n      const html = (() => {\n        if (typeof root.Bokeh === \"undefined\") {\n          if (error == null) {\n            return \"BokehJS is loading ...\";\n          } else {\n            return \"BokehJS failed to load.\";\n          }\n        } else {\n          const prefix = `BokehJS ${root.Bokeh.version}`;\n          if (error == null) {\n            return `${prefix} successfully loaded.`;\n          } else {\n            return `${prefix} <b>encountered errors</b> while loading and may not function as expected.`;\n          }\n        }\n      })();\n      el.innerHTML = html;\n\n      if (error != null) {\n        const wrapper = document.createElement(\"div\");\n        wrapper.style.overflow = \"auto\";\n        wrapper.style.height = \"5em\";\n        wrapper.style.resize = \"vertical\";\n        const content = document.createElement(\"div\");\n        content.style.fontFamily = \"monospace\";\n        content.style.whiteSpace = \"pre-wrap\";\n        content.style.backgroundColor = \"rgb(255, 221, 221)\";\n        content.textContent = error.stack ?? error.toString();\n        wrapper.append(content);\n        el.append(wrapper);\n      }\n    } else if (Date.now() < root._bokeh_timeout) {\n      setTimeout(() => display_loaded(error), 100);\n    }\n  }\n\n  function run_callbacks() {\n    try {\n      root._bokeh_onload_callbacks.forEach(function(callback) {\n        if (callback != null)\n          callback();\n      });\n    } finally {\n      delete root._bokeh_onload_callbacks\n    }\n    console.debug(\"Bokeh: all callbacks have finished\");\n  }\n\n  function load_libs(css_urls, js_urls, callback) {\n    if (css_urls == null) css_urls = [];\n    if (js_urls == null) js_urls = [];\n\n    root._bokeh_onload_callbacks.push(callback);\n    if (root._bokeh_is_loading > 0) {\n      console.debug(\"Bokeh: BokehJS is being loaded, scheduling callback at\", now());\n      return null;\n    }\n    if (js_urls == null || js_urls.length === 0) {\n      run_callbacks();\n      return null;\n    }\n    console.debug(\"Bokeh: BokehJS not loaded, scheduling load and callback at\", now());\n    root._bokeh_is_loading = css_urls.length + js_urls.length;\n\n    function on_load() {\n      root._bokeh_is_loading--;\n      if (root._bokeh_is_loading === 0) {\n        console.debug(\"Bokeh: all BokehJS libraries/stylesheets loaded\");\n        run_callbacks()\n      }\n    }\n\n    function on_error(url) {\n      console.error(\"failed to load \" + url);\n    }\n\n    for (let i = 0; i < css_urls.length; i++) {\n      const url = css_urls[i];\n      const element = document.createElement(\"link\");\n      element.onload = on_load;\n      element.onerror = on_error.bind(null, url);\n      element.rel = \"stylesheet\";\n      element.type = \"text/css\";\n      element.href = url;\n      console.debug(\"Bokeh: injecting link tag for BokehJS stylesheet: \", url);\n      document.body.appendChild(element);\n    }\n\n    for (let i = 0; i < js_urls.length; i++) {\n      const url = js_urls[i];\n      const element = document.createElement('script');\n      element.onload = on_load;\n      element.onerror = on_error.bind(null, url);\n      element.async = false;\n      element.src = url;\n      console.debug(\"Bokeh: injecting script tag for BokehJS library: \", url);\n      document.head.appendChild(element);\n    }\n  };\n\n  function inject_raw_css(css) {\n    const element = document.createElement(\"style\");\n    element.appendChild(document.createTextNode(css));\n    document.body.appendChild(element);\n  }\n\n  const js_urls = [\"https://cdn.bokeh.org/bokeh/release/bokeh-3.4.1.min.js\", \"https://cdn.bokeh.org/bokeh/release/bokeh-gl-3.4.1.min.js\", \"https://cdn.bokeh.org/bokeh/release/bokeh-widgets-3.4.1.min.js\", \"https://cdn.bokeh.org/bokeh/release/bokeh-tables-3.4.1.min.js\", \"https://cdn.bokeh.org/bokeh/release/bokeh-mathjax-3.4.1.min.js\"];\n  const css_urls = [];\n\n  const inline_js = [    function(Bokeh) {\n      Bokeh.set_log_level(\"info\");\n    },\nfunction(Bokeh) {\n    }\n  ];\n\n  function run_inline_js() {\n    if (root.Bokeh !== undefined || force === true) {\n      try {\n            for (let i = 0; i < inline_js.length; i++) {\n      inline_js[i].call(root, root.Bokeh);\n    }\n\n      } catch (error) {display_loaded(error);throw error;\n      }if (force === true) {\n        display_loaded();\n      }} else if (Date.now() < root._bokeh_timeout) {\n      setTimeout(run_inline_js, 100);\n    } else if (!root._bokeh_failed_load) {\n      console.log(\"Bokeh: BokehJS failed to load within specified timeout.\");\n      root._bokeh_failed_load = true;\n    } else if (force !== true) {\n      const cell = $(document.getElementById(\"c8fc321f-49fe-4469-ae82-58115d8a6e48\")).parents('.cell').data().cell;\n      cell.output_area.append_execute_result(NB_LOAD_WARNING)\n    }\n  }\n\n  if (root._bokeh_is_loading === 0) {\n    console.debug(\"Bokeh: BokehJS loaded, going straight to plotting\");\n    run_inline_js();\n  } else {\n    load_libs(css_urls, js_urls, function() {\n      console.debug(\"Bokeh: BokehJS plotting callback run at\", now());\n      run_inline_js();\n    });\n  }\n}(window));",
      "application/vnd.bokehjs_load.v0+json": ""
     },
     "metadata": {},
     "output_type": "display_data"
    },
    {
     "data": {
      "text/html": [
       "\n",
       "  <div id=\"e4c81bd5-ccec-4484-aa91-cfc584bcfa48\" data-root-id=\"p1421\" style=\"display: contents;\"></div>\n"
      ]
     },
     "metadata": {},
     "output_type": "display_data"
    },
    {
     "data": {
      "application/javascript": "(function(root) {\n  function embed_document(root) {\n  const docs_json = {\"320c57c2-ed4d-4054-a235-8e94f426042e\":{\"version\":\"3.4.1\",\"title\":\"Bokeh Application\",\"roots\":[{\"type\":\"object\",\"name\":\"Figure\",\"id\":\"p1421\",\"attributes\":{\"x_range\":{\"type\":\"object\",\"name\":\"DataRange1d\",\"id\":\"p1422\"},\"y_range\":{\"type\":\"object\",\"name\":\"DataRange1d\",\"id\":\"p1423\"},\"x_scale\":{\"type\":\"object\",\"name\":\"LinearScale\",\"id\":\"p1430\"},\"y_scale\":{\"type\":\"object\",\"name\":\"LinearScale\",\"id\":\"p1431\"},\"title\":{\"type\":\"object\",\"name\":\"Title\",\"id\":\"p1428\"},\"renderers\":[{\"type\":\"object\",\"name\":\"GlyphRenderer\",\"id\":\"p1459\",\"attributes\":{\"data_source\":{\"type\":\"object\",\"name\":\"ColumnDataSource\",\"id\":\"p1453\",\"attributes\":{\"selected\":{\"type\":\"object\",\"name\":\"Selection\",\"id\":\"p1454\",\"attributes\":{\"indices\":[],\"line_indices\":[]}},\"selection_policy\":{\"type\":\"object\",\"name\":\"UnionRenderers\",\"id\":\"p1455\"},\"data\":{\"type\":\"map\",\"entries\":[[\"x\",{\"type\":\"ndarray\",\"array\":{\"type\":\"bytes\",\"data\":\"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\"},\"shape\":[1012],\"dtype\":\"float64\",\"order\":\"little\"}],[\"y\",{\"type\":\"ndarray\",\"array\":{\"type\":\"bytes\",\"data\":\"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\"},\"shape\":[1012],\"dtype\":\"float32\",\"order\":\"little\"}]]}}},\"view\":{\"type\":\"object\",\"name\":\"CDSView\",\"id\":\"p1460\",\"attributes\":{\"filter\":{\"type\":\"object\",\"name\":\"AllIndices\",\"id\":\"p1461\"}}},\"glyph\":{\"type\":\"object\",\"name\":\"Scatter\",\"id\":\"p1456\",\"attributes\":{\"x\":{\"type\":\"field\",\"field\":\"x\"},\"y\":{\"type\":\"field\",\"field\":\"y\"},\"size\":{\"type\":\"value\",\"value\":3},\"line_color\":{\"type\":\"value\",\"value\":\"#1f77b4\"},\"fill_color\":{\"type\":\"value\",\"value\":\"#1f77b4\"}}},\"nonselection_glyph\":{\"type\":\"object\",\"name\":\"Scatter\",\"id\":\"p1457\",\"attributes\":{\"x\":{\"type\":\"field\",\"field\":\"x\"},\"y\":{\"type\":\"field\",\"field\":\"y\"},\"size\":{\"type\":\"value\",\"value\":3},\"line_color\":{\"type\":\"value\",\"value\":\"#1f77b4\"},\"line_alpha\":{\"type\":\"value\",\"value\":0.1},\"fill_color\":{\"type\":\"value\",\"value\":\"#1f77b4\"},\"fill_alpha\":{\"type\":\"value\",\"value\":0.1},\"hatch_alpha\":{\"type\":\"value\",\"value\":0.1}}},\"muted_glyph\":{\"type\":\"object\",\"name\":\"Scatter\",\"id\":\"p1458\",\"attributes\":{\"x\":{\"type\":\"field\",\"field\":\"x\"},\"y\":{\"type\":\"field\",\"field\":\"y\"},\"size\":{\"type\":\"value\",\"value\":3},\"line_color\":{\"type\":\"value\",\"value\":\"#1f77b4\"},\"line_alpha\":{\"type\":\"value\",\"value\":0.2},\"fill_color\":{\"type\":\"value\",\"value\":\"#1f77b4\"},\"fill_alpha\":{\"type\":\"value\",\"value\":0.2},\"hatch_alpha\":{\"type\":\"value\",\"value\":0.2}}}}},{\"type\":\"object\",\"name\":\"GlyphRenderer\",\"id\":\"p1468\",\"attributes\":{\"data_source\":{\"type\":\"object\",\"name\":\"ColumnDataSource\",\"id\":\"p1462\",\"attributes\":{\"selected\":{\"type\":\"object\",\"name\":\"Selection\",\"id\":\"p1463\",\"attributes\":{\"indices\":[],\"line_indices\":[]}},\"selection_policy\":{\"type\":\"object\",\"name\":\"UnionRenderers\",\"id\":\"p1464\"},\"data\":{\"type\":\"map\",\"entries\":[[\"x\",{\"type\":\"ndarray\",\"array\":{\"type\":\"bytes\",\"data\":\"DQIrhxbZ+D9MN4lBYOUBQAisHFpkOwNAIbByaJHtBkD+1HjpJjEJQIgW2c73UwpA8tJNYhBYCkB3vp8aL90LQAaBlUOLbAxAzczMzMzMDEDsUbgehesMQGZmZmZmZg1ASgwCK4cWD0DufD81XroPQGIQWDm0yA9AIbByaJHtD0AhsHJoke0PQKRwPQrXIxBAMzMzMzMzEEDNzMzMzEwQQNEi2/l+ahBA6iYxCKycEED4U+Olm8QQQCGwcmiR7RBAtMh2vp8aEUCkcD0K1yMRQFg5tMh2PhFALbKd76dGEUAEVg4tsp0RQG8Sg8DKoRFA/tR46SaxEUBOYhBYObQRQKabxCCw8hFACtejcD0KEkD+1HjpJjESQCuHFtnOdxJAK4cW2c53EkAbL90kBoESQAIrhxbZzhJAoBov3SQGE0A/NV66SQwTQMUgsHJoERNAf2q8dJMYE0CamZmZmRkTQDu0yHa+HxNAJzEIrBxaE0AfhetRuJ4TQAisHFpkuxNAvHSTGATWE0BCYOXQItsTQBsv3SQGARRA1XjpJjEIFECuR+F6FK4UQIXrUbgeBRVA6SYxCKwcFUDpJjEIrBwVQD0K16NwPRVAfT81XrpJFUB3vp8aL10VQJLtfD81XhVASgwCK4eWFUCNl24Sg8AVQEw3iUFg5RVAYOXQItv5FUBSuB6F61EWQJ9FtvP9VBZAn0W28/1UFkCkcD0K16MWQESLbOf7qRZAwcqhRbbzFkBFtvP91PgWQNR46SYxCBdA30+Nl24SF0BqvHSTGIQXQClcj8L1qBdA001iEFi5F0DXo3A9CtcXQEA1XrpJDBhAn0W28/1UGEDy0k1iEFgYQArXo3A9ihhA30+Nl26SGEBCYOXQItsYQDdeukkMAhlAZDvfT40XGUBMN4lBYGUZQBFYObTIdhlARbbz/dR4GUC4HoXrUbgZQBxaZDvfzxlA0SLb+X7qGUAGgZVDi+wZQARWDi2yHRpAQmDl0CJbGkDGSzeJQWAaQLxJDAIrhxpALbKd76fGGkD8qfHSTeIaQKrx0k1iEBtAarx0kxiEG0CF61G4HoUbQLgehetRuBtAzczMzMzMG0Do+6nx0s0bQH9qvHSTGBxAAyuHFtlOHEC8dJMYBFYcQDEIrBxaZBxAoBov3SSGHED2KFyPwvUcQNrO91PjJR1AO7TIdr6fHUCDwMqhRTYeQHXpJjEIrB9A/Knx0k3iH0Bg5dAi2/kfQLFyaJHt/B9Ake18PzUeIEDb+X5qvDQgQJhuEoPASiBAXrpJDAJrIEAGgZVDi2wgQHe+nxovnSBAokW28/3UIEDtfD81XvogQOxRuB6FKyFAPzVeuklMIUDEILByaFEhQD3fT42XriFAz/dT46XbIUBcj8L1KNwhQKJFtvP9FCJAJzEIrBwaIkCF61G4HkUiQPCnxks3SSJASgwCK4dWIkAK16NwPYoiQBsv3SQGwSJAy6FFtvP9IkDfT42XbhIjQKjGSzeJQSNA+FPjpZsEJED+1HjpJnEkQO58PzVeuiRAT42XbhIDJkDNzMzMzAwmQLpJDAIrhyZAxSCwcmiRJkAv3SQGgdUmQG3n+6nxUidA30+Nl24SKEDn+6nx0g0qQA==\"},\"shape\":[152],\"dtype\":\"float64\",\"order\":\"little\"}],[\"y\",{\"type\":\"ndarray\",\"array\":{\"type\":\"bytes\",\"data\":\"Av9fQDfteUBAoKhATskFQGIXpECSmyNA3gwmQK3gJUA3d6VArOojQHMAo0D7aLlAOki1QBsFtkB8Ta5AtB+uQFNusEAOPrFAgOdOQJmrr0AOuENAY8WvQCI8UEArK7dAuBO1QAkuuEBqbVtAn2DDQF1VvkCHoMxAHjK9QBBDX0Aa+7pANY46QJAGZECRJWhAiCXAQIwtxUBas8hA7R9JQG8ebEA+qtpAV/ZZQBvBX0A0hm9Az4HHQLdLz0DIzMdAqYvIQBnka0BI51xANqt6QHJozED4TgNBLzvdQD6q2kDDLNJAs3GAQGmO0UBUxORAB1FnQOMjgkCiQdZA+7uHQODqiEA0eIVAnQXrQK2x7kCPkfdAoB/eQBbUgUAOMIhAB/TgQOavc0BUyoFA8a/5QDmN8ECtWIlA7d37QNmVlUAIRfpADoPvQAt06EAkiZlA2ZyiQEMKk0DtupNAWK35QFE+7UC10u5AMZz6QB+170A70PpAh9zwQKMQ8kAVrPtA72EKQaD29kAPwKVAi0z8QJt6AkFNXPpAWkh1QDK4+kBb3gJBaAsHQbkUCkH3XrhAR78CQRr7ukD2ngJBcwCjQDAvEkFEt7pA0jASQRkCDkFQDMtArk3GQCIqD0G9SclAX3HSQEmYqEC3S89A+j8XQYw4wECV8txAB7fhQLuJ4EBs2hhBVZDoQC9Q6kCFwNpAKn7SQMADHUGJYuhAtjAbQaFFH0HEEvNAIWj4QDGvyECdBetAcmPEQKZ/A0GkWQJBhnM5QXFM8UARQDpBOhc5QagXPUFAHA9B0jASQT6q2kA=\"},\"shape\":[152],\"dtype\":\"float32\",\"order\":\"little\"}]]}}},\"view\":{\"type\":\"object\",\"name\":\"CDSView\",\"id\":\"p1469\",\"attributes\":{\"filter\":{\"type\":\"object\",\"name\":\"AllIndices\",\"id\":\"p1470\"}}},\"glyph\":{\"type\":\"object\",\"name\":\"Scatter\",\"id\":\"p1465\",\"attributes\":{\"x\":{\"type\":\"field\",\"field\":\"x\"},\"y\":{\"type\":\"field\",\"field\":\"y\"},\"size\":{\"type\":\"value\",\"value\":3},\"line_color\":{\"type\":\"value\",\"value\":\"red\"},\"fill_color\":{\"type\":\"value\",\"value\":\"red\"},\"hatch_color\":{\"type\":\"value\",\"value\":\"red\"}}},\"nonselection_glyph\":{\"type\":\"object\",\"name\":\"Scatter\",\"id\":\"p1466\",\"attributes\":{\"x\":{\"type\":\"field\",\"field\":\"x\"},\"y\":{\"type\":\"field\",\"field\":\"y\"},\"size\":{\"type\":\"value\",\"value\":3},\"line_color\":{\"type\":\"value\",\"value\":\"red\"},\"line_alpha\":{\"type\":\"value\",\"value\":0.1},\"fill_color\":{\"type\":\"value\",\"value\":\"red\"},\"fill_alpha\":{\"type\":\"value\",\"value\":0.1},\"hatch_color\":{\"type\":\"value\",\"value\":\"red\"},\"hatch_alpha\":{\"type\":\"value\",\"value\":0.1}}},\"muted_glyph\":{\"type\":\"object\",\"name\":\"Scatter\",\"id\":\"p1467\",\"attributes\":{\"x\":{\"type\":\"field\",\"field\":\"x\"},\"y\":{\"type\":\"field\",\"field\":\"y\"},\"size\":{\"type\":\"value\",\"value\":3},\"line_color\":{\"type\":\"value\",\"value\":\"red\"},\"line_alpha\":{\"type\":\"value\",\"value\":0.2},\"fill_color\":{\"type\":\"value\",\"value\":\"red\"},\"fill_alpha\":{\"type\":\"value\",\"value\":0.2},\"hatch_color\":{\"type\":\"value\",\"value\":\"red\"},\"hatch_alpha\":{\"type\":\"value\",\"value\":0.2}}}}}],\"toolbar\":{\"type\":\"object\",\"name\":\"Toolbar\",\"id\":\"p1429\",\"attributes\":{\"tools\":[{\"type\":\"object\",\"name\":\"PanTool\",\"id\":\"p1442\"},{\"type\":\"object\",\"name\":\"WheelZoomTool\",\"id\":\"p1443\",\"attributes\":{\"renderers\":\"auto\"}},{\"type\":\"object\",\"name\":\"BoxZoomTool\",\"id\":\"p1444\",\"attributes\":{\"overlay\":{\"type\":\"object\",\"name\":\"BoxAnnotation\",\"id\":\"p1445\",\"attributes\":{\"syncable\":false,\"level\":\"overlay\",\"visible\":false,\"left\":{\"type\":\"number\",\"value\":\"nan\"},\"right\":{\"type\":\"number\",\"value\":\"nan\"},\"top\":{\"type\":\"number\",\"value\":\"nan\"},\"bottom\":{\"type\":\"number\",\"value\":\"nan\"},\"left_units\":\"canvas\",\"right_units\":\"canvas\",\"top_units\":\"canvas\",\"bottom_units\":\"canvas\",\"line_color\":\"black\",\"line_alpha\":1.0,\"line_width\":2,\"line_dash\":[4,4],\"fill_color\":\"lightgrey\",\"fill_alpha\":0.5}}}},{\"type\":\"object\",\"name\":\"SaveTool\",\"id\":\"p1450\"},{\"type\":\"object\",\"name\":\"ResetTool\",\"id\":\"p1451\"},{\"type\":\"object\",\"name\":\"HelpTool\",\"id\":\"p1452\"}]}},\"left\":[{\"type\":\"object\",\"name\":\"LinearAxis\",\"id\":\"p1437\",\"attributes\":{\"ticker\":{\"type\":\"object\",\"name\":\"BasicTicker\",\"id\":\"p1438\",\"attributes\":{\"mantissas\":[1,2,5]}},\"formatter\":{\"type\":\"object\",\"name\":\"BasicTickFormatter\",\"id\":\"p1439\"},\"axis_label\":\"Predicted RT\",\"major_label_policy\":{\"type\":\"object\",\"name\":\"AllLabels\",\"id\":\"p1440\"}}}],\"below\":[{\"type\":\"object\",\"name\":\"LinearAxis\",\"id\":\"p1432\",\"attributes\":{\"ticker\":{\"type\":\"object\",\"name\":\"BasicTicker\",\"id\":\"p1433\",\"attributes\":{\"mantissas\":[1,2,5]}},\"formatter\":{\"type\":\"object\",\"name\":\"BasicTickFormatter\",\"id\":\"p1434\"},\"axis_label\":\"Experimental RT\",\"major_label_policy\":{\"type\":\"object\",\"name\":\"AllLabels\",\"id\":\"p1435\"}}}],\"center\":[{\"type\":\"object\",\"name\":\"Grid\",\"id\":\"p1436\",\"attributes\":{\"axis\":{\"id\":\"p1432\"}}},{\"type\":\"object\",\"name\":\"Grid\",\"id\":\"p1441\",\"attributes\":{\"dimension\":1,\"axis\":{\"id\":\"p1437\"}}},{\"type\":\"object\",\"name\":\"Legend\",\"id\":\"p1471\",\"attributes\":{\"location\":\"top_left\",\"items\":[{\"type\":\"object\",\"name\":\"LegendItem\",\"id\":\"p1472\",\"attributes\":{\"label\":{\"type\":\"value\",\"value\":\"Outliers\"},\"renderers\":[{\"id\":\"p1468\"}]}}]}},{\"type\":\"object\",\"name\":\"Slope\",\"id\":\"p1473\",\"attributes\":{\"gradient\":1,\"y_intercept\":0,\"line_alpha\":0.5}},{\"type\":\"object\",\"name\":\"Slope\",\"id\":\"p1474\",\"attributes\":{\"gradient\":0.8401796241130851,\"y_intercept\":0.9117432412961941,\"line_color\":\"blue\"}},{\"type\":\"object\",\"name\":\"Slope\",\"id\":\"p1475\",\"attributes\":{\"gradient\":0.8401796241130851,\"y_intercept\":1.9899757315288273,\"line_color\":\"blue\",\"line_alpha\":0.75,\"line_dash\":[6]}},{\"type\":\"object\",\"name\":\"Slope\",\"id\":\"p1476\",\"attributes\":{\"gradient\":0.8401796241130851,\"y_intercept\":-0.16648924893643913,\"line_color\":\"blue\",\"line_alpha\":0.75,\"line_dash\":[6]}}]}}]}};\n  const render_items = [{\"docid\":\"320c57c2-ed4d-4054-a235-8e94f426042e\",\"roots\":{\"p1421\":\"e4c81bd5-ccec-4484-aa91-cfc584bcfa48\"},\"root_ids\":[\"p1421\"]}];\n  void root.Bokeh.embed.embed_items_notebook(docs_json, render_items);\n  }\n  if (root.Bokeh !== undefined) {\n    embed_document(root);\n  } else {\n    let attempts = 0;\n    const timer = setInterval(function(root) {\n      if (root.Bokeh !== undefined) {\n        clearInterval(timer);\n        embed_document(root);\n      } else {\n        attempts++;\n        if (attempts > 100) {\n          clearInterval(timer);\n          console.log(\"Bokeh: ERROR: Unable to run BokehJS code because BokehJS library is missing\");\n        }\n      }\n    }, 10, root)\n  }\n})(window);",
      "application/vnd.bokehjs_exec.v0+json": ""
     },
     "metadata": {
      "application/vnd.bokehjs_exec.v0+json": {
       "id": "p1421"
      }
     },
     "output_type": "display_data"
    }
   ],
   "source": [
    "outliers = retip.visualization.outlier_identification(trainer, dataset, 'RTP', confidence_interval=90)"
   ]
  },
  {
   "cell_type": "markdown",
   "id": "2da1c337",
   "metadata": {},
   "source": [
    "##### Annotated features"
   ]
  },
  {
   "cell_type": "code",
   "execution_count": null,
   "id": "e786a737",
   "metadata": {},
   "outputs": [
    {
     "data": {
      "text/html": [
       "<div>\n",
       "<style scoped>\n",
       "    .dataframe tbody tr th:only-of-type {\n",
       "        vertical-align: middle;\n",
       "    }\n",
       "\n",
       "    .dataframe tbody tr th {\n",
       "        vertical-align: top;\n",
       "    }\n",
       "\n",
       "    .dataframe thead th {\n",
       "        text-align: right;\n",
       "    }\n",
       "</style>\n",
       "<table border=\"1\" class=\"dataframe\">\n",
       "  <thead>\n",
       "    <tr style=\"text-align: right;\">\n",
       "      <th></th>\n",
       "      <th>Name</th>\n",
       "      <th>InChIKey</th>\n",
       "      <th>SMILES</th>\n",
       "      <th>RT</th>\n",
       "      <th>RTP</th>\n",
       "    </tr>\n",
       "  </thead>\n",
       "  <tbody>\n",
       "    <tr>\n",
       "      <th>0</th>\n",
       "      <td>1-thiazol-2-ylethanone (PhytoBank:PHY0136536)</td>\n",
       "      <td>MOMFXATYAINJML-UHFFFAOYSA-N</td>\n",
       "      <td>CC(=O)C1=NC=CS1</td>\n",
       "      <td>0.774</td>\n",
       "      <td>1.257465</td>\n",
       "    </tr>\n",
       "    <tr>\n",
       "      <th>1</th>\n",
       "      <td>Gramine</td>\n",
       "      <td>OCDGBSUVYYVKQZ-UHFFFAOYSA-N</td>\n",
       "      <td>CN(C)CC1=CNC2=CC=CC=C21</td>\n",
       "      <td>0.925</td>\n",
       "      <td>1.888878</td>\n",
       "    </tr>\n",
       "    <tr>\n",
       "      <th>2</th>\n",
       "      <td>1-hydroxy-6-(1-hydroxy-2-methyl-propyl)-3-isob...</td>\n",
       "      <td>MEFPAPWNDHCGJX-UHFFFAOYSA-N</td>\n",
       "      <td>CC(C)CC1=NC=C(C(O)C(C)C)[N+]([O-])=C1O</td>\n",
       "      <td>0.999</td>\n",
       "      <td>2.113504</td>\n",
       "    </tr>\n",
       "    <tr>\n",
       "      <th>3</th>\n",
       "      <td>FEAU (PhytoBank:PHY0170129)</td>\n",
       "      <td>SWFJAJRDLUUIOA-UHFFFAOYSA-N</td>\n",
       "      <td>CCC1=CN(C2OC(CO)C(O)C2F)C(=O)NC1=O</td>\n",
       "      <td>1.004</td>\n",
       "      <td>1.859538</td>\n",
       "    </tr>\n",
       "    <tr>\n",
       "      <th>4</th>\n",
       "      <td>3-Acetoxypyridine</td>\n",
       "      <td>QZDWODWEESGPLC-UHFFFAOYSA-N</td>\n",
       "      <td>CC(=O)OC1=CN=CC=C1</td>\n",
       "      <td>1.007</td>\n",
       "      <td>1.712436</td>\n",
       "    </tr>\n",
       "    <tr>\n",
       "      <th>...</th>\n",
       "      <td>...</td>\n",
       "      <td>...</td>\n",
       "      <td>...</td>\n",
       "      <td>...</td>\n",
       "      <td>...</td>\n",
       "    </tr>\n",
       "    <tr>\n",
       "      <th>1159</th>\n",
       "      <td>.gamma.-Undecalactone</td>\n",
       "      <td>PHXATPHONSXBIL-UHFFFAOYSA-N</td>\n",
       "      <td>CCCCCCCC1CCC(=O)O1</td>\n",
       "      <td>11.662</td>\n",
       "      <td>8.944397</td>\n",
       "    </tr>\n",
       "    <tr>\n",
       "      <th>1160</th>\n",
       "      <td>C13878 (KEGG:C13878)</td>\n",
       "      <td>ITQDKQBSRNKQCX-ZCXUNETKSA-N</td>\n",
       "      <td>CCCCCCCCCCCCCCCC(=O)OCC(COP(=O)(CCN)O)OC(=O)CC...</td>\n",
       "      <td>11.943</td>\n",
       "      <td>11.568171</td>\n",
       "    </tr>\n",
       "    <tr>\n",
       "      <th>1161</th>\n",
       "      <td>C14227 (KEGG:C14227)</td>\n",
       "      <td>MQIUGAXCHLFZKX-UHFFFAOYSA-N</td>\n",
       "      <td>CCCCCCCCOC(=O)C1=CC=CC=C1C(=O)OCCCCCCCC</td>\n",
       "      <td>12.031</td>\n",
       "      <td>11.358490</td>\n",
       "    </tr>\n",
       "    <tr>\n",
       "      <th>1162</th>\n",
       "      <td>N,N-Dimethyldodecylamine</td>\n",
       "      <td>YWFWDNVOPHGWMX-UHFFFAOYSA-N</td>\n",
       "      <td>CCCCCCCCCCCCN(C)C</td>\n",
       "      <td>12.036</td>\n",
       "      <td>9.136919</td>\n",
       "    </tr>\n",
       "    <tr>\n",
       "      <th>1163</th>\n",
       "      <td>Solasodine base + 2H, O-Hex-Hex-Hex-Pen</td>\n",
       "      <td>REJLGAUYTKNVJM-UHFFFAOYSA-N</td>\n",
       "      <td>CC1CCC2(C(C3C(O2)CC4C3(CCC5C4CCC6C5(CCC(C6)OC7...</td>\n",
       "      <td>13.027</td>\n",
       "      <td>6.833282</td>\n",
       "    </tr>\n",
       "  </tbody>\n",
       "</table>\n",
       "<p>1164 rows × 5 columns</p>\n",
       "</div>"
      ],
      "text/plain": [
       "                                                   Name  \\\n",
       "0         1-thiazol-2-ylethanone (PhytoBank:PHY0136536)   \n",
       "1                                               Gramine   \n",
       "2     1-hydroxy-6-(1-hydroxy-2-methyl-propyl)-3-isob...   \n",
       "3                           FEAU (PhytoBank:PHY0170129)   \n",
       "4                                     3-Acetoxypyridine   \n",
       "...                                                 ...   \n",
       "1159                              .gamma.-Undecalactone   \n",
       "1160                               C13878 (KEGG:C13878)   \n",
       "1161                               C14227 (KEGG:C14227)   \n",
       "1162                           N,N-Dimethyldodecylamine   \n",
       "1163            Solasodine base + 2H, O-Hex-Hex-Hex-Pen   \n",
       "\n",
       "                         InChIKey  \\\n",
       "0     MOMFXATYAINJML-UHFFFAOYSA-N   \n",
       "1     OCDGBSUVYYVKQZ-UHFFFAOYSA-N   \n",
       "2     MEFPAPWNDHCGJX-UHFFFAOYSA-N   \n",
       "3     SWFJAJRDLUUIOA-UHFFFAOYSA-N   \n",
       "4     QZDWODWEESGPLC-UHFFFAOYSA-N   \n",
       "...                           ...   \n",
       "1159  PHXATPHONSXBIL-UHFFFAOYSA-N   \n",
       "1160  ITQDKQBSRNKQCX-ZCXUNETKSA-N   \n",
       "1161  MQIUGAXCHLFZKX-UHFFFAOYSA-N   \n",
       "1162  YWFWDNVOPHGWMX-UHFFFAOYSA-N   \n",
       "1163  REJLGAUYTKNVJM-UHFFFAOYSA-N   \n",
       "\n",
       "                                                 SMILES      RT        RTP  \n",
       "0                                       CC(=O)C1=NC=CS1   0.774   1.257465  \n",
       "1                               CN(C)CC1=CNC2=CC=CC=C21   0.925   1.888878  \n",
       "2                CC(C)CC1=NC=C(C(O)C(C)C)[N+]([O-])=C1O   0.999   2.113504  \n",
       "3                    CCC1=CN(C2OC(CO)C(O)C2F)C(=O)NC1=O   1.004   1.859538  \n",
       "4                                    CC(=O)OC1=CN=CC=C1   1.007   1.712436  \n",
       "...                                                 ...     ...        ...  \n",
       "1159                                 CCCCCCCC1CCC(=O)O1  11.662   8.944397  \n",
       "1160  CCCCCCCCCCCCCCCC(=O)OCC(COP(=O)(CCN)O)OC(=O)CC...  11.943  11.568171  \n",
       "1161            CCCCCCCCOC(=O)C1=CC=CC=C1C(=O)OCCCCCCCC  12.031  11.358490  \n",
       "1162                                  CCCCCCCCCCCCN(C)C  12.036   9.136919  \n",
       "1163  CC1CCC2(C(C3C(O2)CC4C3(CCC5C4CCC6C5(CCC(C6)OC7...  13.027   6.833282  \n",
       "\n",
       "[1164 rows x 5 columns]"
      ]
     },
     "execution_count": 26,
     "metadata": {},
     "output_type": "execute_result"
    }
   ],
   "source": [
    "outliers[0]"
   ]
  },
  {
   "cell_type": "markdown",
   "id": "758215a6",
   "metadata": {},
   "source": [
    "##### Outliers"
   ]
  },
  {
   "cell_type": "code",
   "execution_count": null,
   "id": "8367da12",
   "metadata": {},
   "outputs": [
    {
     "data": {
      "text/html": [
       "<div>\n",
       "<style scoped>\n",
       "    .dataframe tbody tr th:only-of-type {\n",
       "        vertical-align: middle;\n",
       "    }\n",
       "\n",
       "    .dataframe tbody tr th {\n",
       "        vertical-align: top;\n",
       "    }\n",
       "\n",
       "    .dataframe thead th {\n",
       "        text-align: right;\n",
       "    }\n",
       "</style>\n",
       "<table border=\"1\" class=\"dataframe\">\n",
       "  <thead>\n",
       "    <tr style=\"text-align: right;\">\n",
       "      <th></th>\n",
       "      <th>Name</th>\n",
       "      <th>RT</th>\n",
       "      <th>RTP</th>\n",
       "    </tr>\n",
       "  </thead>\n",
       "  <tbody>\n",
       "    <tr>\n",
       "      <th>30</th>\n",
       "      <td>Methoxetamine</td>\n",
       "      <td>1.553</td>\n",
       "      <td>3.499939</td>\n",
       "    </tr>\n",
       "    <tr>\n",
       "      <th>86</th>\n",
       "      <td>Pracinostat</td>\n",
       "      <td>2.237</td>\n",
       "      <td>3.905103</td>\n",
       "    </tr>\n",
       "    <tr>\n",
       "      <th>104</th>\n",
       "      <td>3'-Hydroxyrepaglinide</td>\n",
       "      <td>2.404</td>\n",
       "      <td>5.269562</td>\n",
       "    </tr>\n",
       "    <tr>\n",
       "      <th>164</th>\n",
       "      <td>C00051;C02471 (KEGG:C00051;C02471)</td>\n",
       "      <td>2.866</td>\n",
       "      <td>2.090412</td>\n",
       "    </tr>\n",
       "    <tr>\n",
       "      <th>207</th>\n",
       "      <td>Nummularine T (KNApSAcK:C00028745)</td>\n",
       "      <td>3.149</td>\n",
       "      <td>5.127854</td>\n",
       "    </tr>\n",
       "    <tr>\n",
       "      <th>...</th>\n",
       "      <td>...</td>\n",
       "      <td>...</td>\n",
       "      <td>...</td>\n",
       "    </tr>\n",
       "    <tr>\n",
       "      <th>1145</th>\n",
       "      <td>C13878 (KEGG:C13878)</td>\n",
       "      <td>11.284</td>\n",
       "      <td>11.568171</td>\n",
       "    </tr>\n",
       "    <tr>\n",
       "      <th>1151</th>\n",
       "      <td>1-O-acetyl-2-O-[(3R)-3-(acetyloxy)eicosanoyl]-...</td>\n",
       "      <td>11.417</td>\n",
       "      <td>11.818275</td>\n",
       "    </tr>\n",
       "    <tr>\n",
       "      <th>1159</th>\n",
       "      <td>.gamma.-Undecalactone</td>\n",
       "      <td>11.662</td>\n",
       "      <td>8.944397</td>\n",
       "    </tr>\n",
       "    <tr>\n",
       "      <th>1162</th>\n",
       "      <td>N,N-Dimethyldodecylamine</td>\n",
       "      <td>12.036</td>\n",
       "      <td>9.136919</td>\n",
       "    </tr>\n",
       "    <tr>\n",
       "      <th>1163</th>\n",
       "      <td>Solasodine base + 2H, O-Hex-Hex-Hex-Pen</td>\n",
       "      <td>13.027</td>\n",
       "      <td>6.833282</td>\n",
       "    </tr>\n",
       "  </tbody>\n",
       "</table>\n",
       "<p>152 rows × 3 columns</p>\n",
       "</div>"
      ],
      "text/plain": [
       "                                                   Name      RT        RTP\n",
       "30                                        Methoxetamine   1.553   3.499939\n",
       "86                                          Pracinostat   2.237   3.905103\n",
       "104                               3'-Hydroxyrepaglinide   2.404   5.269562\n",
       "164                  C00051;C02471 (KEGG:C00051;C02471)   2.866   2.090412\n",
       "207                  Nummularine T (KNApSAcK:C00028745)   3.149   5.127854\n",
       "...                                                 ...     ...        ...\n",
       "1145                               C13878 (KEGG:C13878)  11.284  11.568171\n",
       "1151  1-O-acetyl-2-O-[(3R)-3-(acetyloxy)eicosanoyl]-...  11.417  11.818275\n",
       "1159                              .gamma.-Undecalactone  11.662   8.944397\n",
       "1162                           N,N-Dimethyldodecylamine  12.036   9.136919\n",
       "1163            Solasodine base + 2H, O-Hex-Hex-Hex-Pen  13.027   6.833282\n",
       "\n",
       "[152 rows x 3 columns]"
      ]
     },
     "execution_count": 27,
     "metadata": {},
     "output_type": "execute_result"
    }
   ],
   "source": [
    "outliers[1]"
   ]
  }
 ],
 "metadata": {
  "kernelspec": {
   "display_name": "Python 3 (ipykernel)",
   "language": "python",
   "name": "python3"
  },
  "language_info": {
   "codemirror_mode": {
    "name": "ipython",
    "version": 3
   },
   "file_extension": ".py",
   "mimetype": "text/x-python",
   "name": "python",
   "nbconvert_exporter": "python",
   "pygments_lexer": "ipython3",
   "version": "3.10.14"
  }
 },
 "nbformat": 4,
 "nbformat_minor": 5
}
