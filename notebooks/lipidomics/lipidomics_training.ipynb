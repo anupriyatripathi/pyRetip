{
 "cells": [
  {
   "cell_type": "markdown",
   "id": "caring-delight",
   "metadata": {},
   "source": [
    "![Retip](../../images/retip_logo.png)\n",
    "# Retip: Retention Time Prediction for Metabolomics and Lipidomics"
   ]
  },
  {
   "cell_type": "markdown",
   "id": "82029ac2-54e8-4b00-92c5-7a198c18c295",
   "metadata": {},
   "source": [
    "### Retention Time Prediction Overview\n",
    "\n",
    "Retip is a tool for predicting retention times (RTs) of small molecules for high pressure liquid chromatography (HPLC) mass spectrometry."
   ]
  },
  {
   "cell_type": "markdown",
   "id": "mounted-republican",
   "metadata": {},
   "source": [
    "### Training a Model with AutoGluon\n",
    "\n",
    "[AutoGluon](https://auto.gluon.ai) is an AutoML library designed to automate the full machine learning pipeline, including feature  preprocessing, training multiple model types, and constructing ensembles of models to improve overall accuracy.\n",
    "\n",
    "We begin by importing the retip library, which gives us access to the training, prediction and visualization functions."
   ]
  },
  {
   "cell_type": "code",
   "execution_count": null,
   "id": "grand-watts",
   "metadata": {},
   "outputs": [],
   "source": [
    "try:\n",
    "    import retip\n",
    "except:\n",
    "    # add the parent directory to the path to load the Retip library locally in case it isn't installed\n",
    "    import os, sys\n",
    "    sys.path.insert(1, os.path.join(sys.path[0], '../..'))\n",
    "\n",
    "    import retip"
   ]
  },
  {
   "cell_type": "markdown",
   "id": "7736b9c3-1d34-48e2-b74f-dc41bf5f29ab",
   "metadata": {},
   "source": [
    "### Loading Data\n",
    "\n",
    "Now we can import our retention time dataset.  The user needs to prepare a compound retention time table in CSV or MS Excel format containing the compound name, retention time and chemical identifier.  Retip currently supports SMILES and PubChem CID as chemical identifiers. Retip will use this input file to build a the model and will predict retention times for other biochemical databases or an input query list of compounds.\n",
    "\n",
    "Use the `retip.Dataset` class to create a new dataset.\n",
    "\n",
    "* The `test_size` parameter defines what percentage of your dataset should be used for testing/validation of the model (this example uses 20%)\n",
    "* The `seed` parameter sets a specific training/test split for the database, enabling reproducable model training"
   ]
  },
  {
   "cell_type": "markdown",
   "id": "52e67ec9-7b2b-4787-9dc9-e86ca4f9ce47",
   "metadata": {},
   "source": [
    "In this tutorial, we are using a pre-split dataset (the training and tests sets are provided as separate CSV files) which contain SMILES structures for each entry, and so no splitting parameters are required."
   ]
  },
  {
   "cell_type": "code",
   "execution_count": null,
   "id": "ahead-windsor",
   "metadata": {},
   "outputs": [],
   "source": [
    "dataset = retip.Dataset(target_column='RT').load_retip_dataset(\n",
    "    training='lipidomics_c18_retip_training.csv',\n",
    "    testing='lipidomics_c18_retip_testing.csv')"
   ]
  },
  {
   "cell_type": "code",
   "execution_count": null,
   "id": "1f2b7553-a716-4e2f-a734-892004e92d09",
   "metadata": {},
   "outputs": [],
   "source": [
    "dataset.head(2)"
   ]
  },
  {
   "cell_type": "code",
   "execution_count": null,
   "id": "smaller-james",
   "metadata": {},
   "outputs": [],
   "source": [
    "dataset.calculate_descriptors()\n",
    "dataset.preprocess_features('lipidomics')"
   ]
  },
  {
   "cell_type": "code",
   "execution_count": null,
   "id": "71f15fc9-fd0c-45db-9f6a-d121cf772deb",
   "metadata": {},
   "outputs": [],
   "source": [
    "dataset.save_retip_dataset('lipidomics_c18_retip_preprocessed')"
   ]
  },
  {
   "cell_type": "markdown",
   "id": "bright-roberts",
   "metadata": {},
   "source": [
    "### Training RT Prediction Model\n",
    "\n",
    "Similarly to XGBoost, we create a model trainer.  The main difference is that we no longer need a cross-validation parameter (AutoGluon takes care of this), and instead we need to specify the training time in minutes.  Here, we select `training_duration=30` to train for 30 minutes."
   ]
  },
  {
   "cell_type": "code",
   "execution_count": null,
   "id": "incident-casting",
   "metadata": {
    "scrolled": true
   },
   "outputs": [],
   "source": [
    "trainer = retip.AutoGluonTrainer(dataset, training_duration=10)\n",
    "trainer.train()"
   ]
  },
  {
   "cell_type": "markdown",
   "id": "younger-burning",
   "metadata": {},
   "source": [
    "You can score this model using the internal testing data, or alternatively pass in a different `Dataset` object with precomputed descriptors."
   ]
  },
  {
   "cell_type": "code",
   "execution_count": null,
   "id": "advance-pledge",
   "metadata": {},
   "outputs": [],
   "source": [
    "trainer.score(plot=True)"
   ]
  },
  {
   "cell_type": "markdown",
   "id": "suited-explosion",
   "metadata": {},
   "source": [
    "If you use AutoGluon a lot, remember to clear out old models from the `AutogluonModels` directory!"
   ]
  }
 ],
 "metadata": {
  "kernelspec": {
   "display_name": "Python 3 (ipykernel)",
   "language": "python",
   "name": "python3"
  },
  "language_info": {
   "codemirror_mode": {
    "name": "ipython",
    "version": 3
   },
   "file_extension": ".py",
   "mimetype": "text/x-python",
   "name": "python",
   "nbconvert_exporter": "python",
   "pygments_lexer": "ipython3",
   "version": "3.10.12"
  }
 },
 "nbformat": 4,
 "nbformat_minor": 5
}
