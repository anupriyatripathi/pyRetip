{
 "cells": [
  {
   "cell_type": "markdown",
   "id": "68f8f6a2",
   "metadata": {},
   "source": [
    "![Retip](../../images/retip_logo.png)\n",
    "# Retip: Retention Time Prediction for Metabolomics and Lipidomics"
   ]
  },
  {
   "cell_type": "markdown",
   "id": "bec6ca41",
   "metadata": {},
   "source": [
    "Retip is a python tool for predicting retention times (RTs) of small molecules for high pressure liquid chromatography (HPLC) mass spectrometry. Retention time calculation can be useful in identifying unknowns and removing false positive annotations. The machine learning algorithms included in the tool are: **XGBoost**, **AutoGluon**, **AutoML** from **H2O** and **Random Forest**. This tutorial explains how to train a model with **Random Forest**."
   ]
  },
  {
   "cell_type": "markdown",
   "id": "0eca5949",
   "metadata": {},
   "source": [
    "## Training a Model with Random Forest"
   ]
  },
  {
   "cell_type": "markdown",
   "id": "be76b617",
   "metadata": {},
   "source": [
    "..."
   ]
  },
  {
   "cell_type": "markdown",
   "id": "284120ed",
   "metadata": {},
   "source": [
    "### Loading Data"
   ]
  },
  {
   "cell_type": "markdown",
   "id": "d69a03cf",
   "metadata": {},
   "source": [
    "Begin by importing the `retip` library, which provides access to the training, prediction and visualization functions."
   ]
  },
  {
   "cell_type": "code",
   "execution_count": 1,
   "id": "90eabd64",
   "metadata": {},
   "outputs": [],
   "source": [
    "%reload_ext autoreload\n",
    "%autoreload 2\n",
    "try:\n",
    "    import retip\n",
    "except:\n",
    "    # add the parent directory to the path to load the Retip library locally in case it isn't installed\n",
    "    import os, sys\n",
    "    directory = os.getcwd().split(\"pyRetip\")[0] + 'pyRetip'\n",
    "    sys.path.insert(1, directory)\n",
    "    \n",
    "    import retip"
   ]
  },
  {
   "cell_type": "markdown",
   "id": "8ff54e76",
   "metadata": {},
   "source": [
    "The input data should be a compound retention time table in CSV or MS Excel format, containing the compound name, retention time and chemical identifier. Retip currently supports SMILES and PubChem CID as chemical identifiers.\n",
    "\n",
    "Retip will use this input file to build the model and predict retention times for other biochemical databases or an input query list of compounds. It is suggested that the file has at least 300 compounds to build a good retention time prediction model.\n",
    "\n",
    "Use the `retip.Dataset` class to load the data and create a new dataset."
   ]
  },
  {
   "cell_type": "code",
   "execution_count": 2,
   "id": "687e5b39",
   "metadata": {},
   "outputs": [],
   "source": [
    "dataset = retip.Dataset(target_column='RT').load_retip_dataset(\n",
    "    training='Plasma_positive.xlsx', training_sheet_name='lib_2',\n",
    "    validation='Plasma_positive.xlsx', validation_sheet_name='ext')"
   ]
  },
  {
   "cell_type": "code",
   "execution_count": 3,
   "id": "e420bef7",
   "metadata": {},
   "outputs": [
    {
     "name": "stdout",
     "output_type": "stream",
     "text": [
      "Training\n",
      "             Name                     InChIKey  \\\n",
      "0       Withanone  FAZIYUIDUNHZRG-UHFFFAOYNA-N   \n",
      "1  Corosolic acid  HFGSQOYIOKBQOW-UHFFFAOYNA-N   \n",
      "\n",
      "                                              SMILES    RT  \n",
      "0  CC(C1CC(C)=C(C)C(=O)O1)C1(O)CCC2C3C4OC4C4(O)CC...  6.82  \n",
      "1  CC1CCC2(CCC3(C)C(=CCC4C5(C)CC(O)C(O)C(C)(C)C5C...  9.89  \n",
      "\n",
      "Validation\n",
      "                                     Name                     InChIKey  \\\n",
      "0       Soyasapogenol E base + O-Hex-HexA  YDNHBSRZSMNZPB-NJAHCQCINA-N   \n",
      "1  Soyasapogenol E base + O-HexA-Hex-dHex  CROUPKILZUPLQA-UHFFFAOYNA-N   \n",
      "\n",
      "                                              SMILES    RT  \n",
      "0  O=C(O)C7OC(OC2CCC3(C)(C4CC=C1C5CC(C)(C)CC(=O)C...  7.84  \n",
      "1  O=C(O)C8OC(OC2CCC3(C)(C4CC=C1C5CC(C)(C)CC(=O)C...  7.62  \n",
      "\n"
     ]
    }
   ],
   "source": [
    "dataset.head(2)"
   ]
  },
  {
   "cell_type": "markdown",
   "id": "25dd188c-213a-484f-8bda-a11240366a96",
   "metadata": {},
   "source": [
    "Next, the precalculated molecular descriptors can be computed with the [Mordred Molecular Descriptor Calculator](https://github.com/mordred-descriptor/mordred) by calling the `calculate_descriptors` function. Note that molecules that cannot be parsed will be retained the dataset, but cannot be used for model training or validation."
   ]
  },
  {
   "cell_type": "code",
   "execution_count": 4,
   "id": "b45f41d2",
   "metadata": {},
   "outputs": [
    {
     "name": "stdout",
     "output_type": "stream",
     "text": [
      "Calculating descriptors for training dataset\n"
     ]
    },
    {
     "name": "stderr",
     "output_type": "stream",
     "text": [
      "  0%|          | 0/494 [00:00<?, ?it/s]"
     ]
    },
    {
     "name": "stderr",
     "output_type": "stream",
     "text": [
      "100%|██████████| 494/494 [02:34<00:00,  3.20it/s]\n",
      "/home/neuspouamengual/Documentos/oloBion/pyRetip/retip/dataset.py:198: FutureWarning: Downcasting behavior in `replace` is deprecated and will be removed in a future version. To retain the old behavior, explicitly call `result.infer_objects(copy=False)`. To opt-in to the future behavior, set `pd.set_option('future.no_silent_downcasting', True)`\n",
      "  descs = descs.replace({False: 0, True: 1})\n"
     ]
    },
    {
     "name": "stdout",
     "output_type": "stream",
     "text": [
      "Calculating descriptors for validation dataset\n"
     ]
    },
    {
     "name": "stderr",
     "output_type": "stream",
     "text": [
      "100%|██████████| 358/358 [02:14<00:00,  2.65it/s]\n",
      "/home/neuspouamengual/Documentos/oloBion/pyRetip/retip/dataset.py:198: FutureWarning: Downcasting behavior in `replace` is deprecated and will be removed in a future version. To retain the old behavior, explicitly call `result.infer_objects(copy=False)`. To opt-in to the future behavior, set `pd.set_option('future.no_silent_downcasting', True)`\n",
      "  descs = descs.replace({False: 0, True: 1})\n"
     ]
    }
   ],
   "source": [
    "dataset.calculate_descriptors()"
   ]
  },
  {
   "cell_type": "markdown",
   "id": "500b1065-3e90-42a2-95e7-98ff9b363889",
   "metadata": {},
   "source": [
    "The `describe` function shows the shape of the datasets, indicating the number of rows and columns in each dataframe."
   ]
  },
  {
   "cell_type": "code",
   "execution_count": 5,
   "id": "0a12678e-ed48-47e5-a64c-0738e965cb0a",
   "metadata": {},
   "outputs": [
    {
     "name": "stdout",
     "output_type": "stream",
     "text": [
      "Training (494, 1617)\n",
      "Validation (358, 1617)\n"
     ]
    }
   ],
   "source": [
    "dataset.describe()"
   ]
  },
  {
   "cell_type": "markdown",
   "id": "66528ecc",
   "metadata": {},
   "source": [
    "The `preprocess_features` function performs feature reduction by removing features with missing values and to restrict feature sets to descriptors which calculate non-null values for large sets of molecules. It is important to perform this step before training."
   ]
  },
  {
   "cell_type": "code",
   "execution_count": 6,
   "id": "7cfe980c",
   "metadata": {},
   "outputs": [
    {
     "name": "stdout",
     "output_type": "stream",
     "text": [
      "Reduced feature set from 1613 to 817\n"
     ]
    }
   ],
   "source": [
    "dataset.preprocess_features('metabolomics')"
   ]
  },
  {
   "cell_type": "markdown",
   "id": "03be66fb",
   "metadata": {},
   "source": [
    "Finally, it is possible to split the data into training and testing sets if it has not been loaded in separate files before. The `split_dataset` function makes that possible.\n",
    "\n",
    "- The `test_size` parameter defines what percentage of the dataset should be used for testing of the model's accuracy (this example uses 20%).\n",
    "- The `seed` parameter sets a specific training/test split for the database, enabling reproducable model training.\n",
    "- The `validation_split` parameter constructs an additional dataset for validation if desired."
   ]
  },
  {
   "cell_type": "code",
   "execution_count": 7,
   "id": "e75a86f0-4b8e-43de-9b89-9e2d50a8c41f",
   "metadata": {},
   "outputs": [],
   "source": [
    "dataset.split_dataset(test_split=0.2, seed=101)"
   ]
  },
  {
   "cell_type": "code",
   "execution_count": 8,
   "id": "1b8e926f-cae6-4b96-9b30-a2cedd0bdb08",
   "metadata": {},
   "outputs": [
    {
     "name": "stdout",
     "output_type": "stream",
     "text": [
      "Training (395, 821)\n",
      "Validation (358, 821)\n",
      "Testing (99, 821)\n"
     ]
    }
   ],
   "source": [
    "dataset.describe()"
   ]
  },
  {
   "cell_type": "markdown",
   "id": "2d562e06",
   "metadata": {},
   "source": [
    "#### Save the new dataset"
   ]
  },
  {
   "cell_type": "markdown",
   "id": "7170a855",
   "metadata": {},
   "source": [
    "Given that molecular descriptor calculation is a time-comsuming process, it is possible to save the current state of the dataset. Next time this retention time library is needed, simply use this export when loading this dataset instead. Note that there is no need to include a file extension, as Retip will automatically append the dataset type to the filename provided."
   ]
  },
  {
   "cell_type": "code",
   "execution_count": 9,
   "id": "f1c84751",
   "metadata": {},
   "outputs": [
    {
     "name": "stdout",
     "output_type": "stream",
     "text": [
      "Saved training dataset to Plasma_positive_retip_processed_training.csv\n",
      "Saved validation dataset to Plasma_positive_retip_processed_validation.csv\n",
      "Saved testing dataset to Plasma_positive_retip_processed_testing.csv\n"
     ]
    }
   ],
   "source": [
    "dataset.save_retip_dataset('Plasma_positive_retip_processed')"
   ]
  },
  {
   "cell_type": "markdown",
   "id": "d8478dd2-cc97-4f8d-9c77-bf868e954abb",
   "metadata": {},
   "source": [
    "This dataset can be loaded by running the `load_retip_dataset` function."
   ]
  },
  {
   "cell_type": "code",
   "execution_count": 10,
   "id": "dc270785",
   "metadata": {},
   "outputs": [],
   "source": [
    "# dataset = retip.Dataset(target_column='RT').load_retip_dataset(\n",
    "#     'Plasma_positive_retip_processed_training.csv',\n",
    "#     'Plasma_positive_retip_processed_testing.csv',\n",
    "#     'Plasma_positive_retip_processed_validation.csv')"
   ]
  },
  {
   "cell_type": "markdown",
   "id": "c9799203",
   "metadata": {},
   "source": [
    "### Training RT Prediction Model"
   ]
  },
  {
   "cell_type": "markdown",
   "id": "db8f5aee",
   "metadata": {},
   "source": [
    "Here, the RT prediction model will be trained. First, initialize the `RandomForestTrainer` with the dataset with computed descriptors. Set the different parameters:\n",
    "\n",
    "- The `n_estimator` parameter defines the number of trees in the forest. This value defaults to `100`.\n",
    "- The `random_state` parameter controls both the randomness of the bootstrapping of the samples used when building trees and the sampling of the features to consider when looking for the best split at each node. This value defaults to `0`."
   ]
  },
  {
   "cell_type": "code",
   "execution_count": 11,
   "id": "aecb0f8b",
   "metadata": {},
   "outputs": [
    {
     "name": "stderr",
     "output_type": "stream",
     "text": [
      "[Parallel(n_jobs=1)]: Done  49 tasks      | elapsed:    4.3s\n"
     ]
    },
    {
     "name": "stdout",
     "output_type": "stream",
     "text": [
      "Training completed in 0:00:09.021063 with best R² 0.786\n"
     ]
    }
   ],
   "source": [
    "trainer = retip.RandomForestTrainer(dataset)\n",
    "trainer.train()"
   ]
  },
  {
   "cell_type": "markdown",
   "id": "2baa5db4",
   "metadata": {},
   "source": [
    "### Testing the RT Prediction Model"
   ]
  },
  {
   "cell_type": "markdown",
   "id": "9130dd0a",
   "metadata": {},
   "source": [
    "The model can be scored using the internal testing data of the `Dataset` object, or alternatively pass a dataframe with precomputed descriptors. In that case, the `target_column` needs to be specified. Set the `plot` parameter to `True` to visualize how well the model works. Moreover, it is possible to save the plot indicating the `plot_filename`."
   ]
  },
  {
   "cell_type": "markdown",
   "id": "4c7707ea",
   "metadata": {},
   "source": [
    "#### Internal testing data"
   ]
  },
  {
   "cell_type": "code",
   "execution_count": 12,
   "id": "bc3e336e",
   "metadata": {},
   "outputs": [
    {
     "name": "stderr",
     "output_type": "stream",
     "text": [
      "[Parallel(n_jobs=1)]: Done  49 tasks      | elapsed:    0.0s\n"
     ]
    },
    {
     "data": {
      "text/html": [
       "    <style>\n",
       "        .bk-notebook-logo {\n",
       "            display: block;\n",
       "            width: 20px;\n",
       "            height: 20px;\n",
       "            background-image: url(data:image/png;base64,iVBORw0KGgoAAAANSUhEUgAAABQAAAAUCAYAAACNiR0NAAAABHNCSVQICAgIfAhkiAAAAAlwSFlzAAALEgAACxIB0t1+/AAAABx0RVh0U29mdHdhcmUAQWRvYmUgRmlyZXdvcmtzIENTNui8sowAAAOkSURBVDiNjZRtaJVlGMd/1/08zzln5zjP1LWcU9N0NkN8m2CYjpgQYQXqSs0I84OLIC0hkEKoPtiH3gmKoiJDU7QpLgoLjLIQCpEsNJ1vqUOdO7ppbuec5+V+rj4ctwzd8IIbbi6u+8f1539dt3A78eXC7QizUF7gyV1fD1Yqg4JWz84yffhm0qkFqBogB9rM8tZdtwVsPUhWhGcFJngGeWrPzHm5oaMmkfEg1usvLFyc8jLRqDOMru7AyC8saQr7GG7f5fvDeH7Ej8CM66nIF+8yngt6HWaKh7k49Soy9nXurCi1o3qUbS3zWfrYeQDTB/Qj6kX6Ybhw4B+bOYoLKCC9H3Nu/leUTZ1JdRWkkn2ldcCamzrcf47KKXdAJllSlxAOkRgyHsGC/zRday5Qld9DyoM4/q/rUoy/CXh3jzOu3bHUVZeU+DEn8FInkPBFlu3+nW3Nw0mk6vCDiWg8CeJaxEwuHS3+z5RgY+YBR6V1Z1nxSOfoaPa4LASWxxdNp+VWTk7+4vzaou8v8PN+xo+KY2xsw6une2frhw05CTYOmQvsEhjhWjn0bmXPjpE1+kplmmkP3suftwTubK9Vq22qKmrBhpY4jvd5afdRA3wGjFAgcnTK2s4hY0/GPNIb0nErGMCRxWOOX64Z8RAC4oCXdklmEvcL8o0BfkNK4lUg9HTl+oPlQxdNo3Mg4Nv175e/1LDGzZen30MEjRUtmXSfiTVu1kK8W4txyV6BMKlbgk3lMwYCiusNy9fVfvvwMxv8Ynl6vxoByANLTWplvuj/nF9m2+PDtt1eiHPBr1oIfhCChQMBw6Aw0UulqTKZdfVvfG7VcfIqLG9bcldL/+pdWTLxLUy8Qq38heUIjh4XlzZxzQm19lLFlr8vdQ97rjZVOLf8nclzckbcD4wxXMidpX30sFd37Fv/GtwwhzhxGVAprjbg0gCAEeIgwCZyTV2Z1REEW8O4py0wsjeloKoMr6iCY6dP92H6Vw/oTyICIthibxjm/DfN9lVz8IqtqKYLUXfoKVMVQVVJOElGjrnnUt9T9wbgp8AyYKaGlqingHZU/uG2NTZSVqwHQTWkx9hxjkpWDaCg6Ckj5qebgBVbT3V3NNXMSiWSDdGV3hrtzla7J+duwPOToIg42ChPQOQjspnSlp1V+Gjdged7+8UN5CRAV7a5EdFNwCjEaBR27b3W890TE7g24NAP/mMDXRWrGoFPQI9ls/MWO2dWFAar/xcOIImbbpA3zgAAAABJRU5ErkJggg==);\n",
       "        }\n",
       "    </style>\n",
       "    <div>\n",
       "        <a href=\"https://bokeh.org\" target=\"_blank\" class=\"bk-notebook-logo\"></a>\n",
       "        <span id=\"a95c2224-bdc5-4dc0-a2dd-2744bd1a5e83\">Loading BokehJS ...</span>\n",
       "    </div>\n"
      ]
     },
     "metadata": {},
     "output_type": "display_data"
    },
    {
     "data": {
      "application/javascript": "'use strict';\n(function(root) {\n  function now() {\n    return new Date();\n  }\n\n  const force = true;\n\n  if (typeof root._bokeh_onload_callbacks === \"undefined\" || force === true) {\n    root._bokeh_onload_callbacks = [];\n    root._bokeh_is_loading = undefined;\n  }\n\nconst JS_MIME_TYPE = 'application/javascript';\n  const HTML_MIME_TYPE = 'text/html';\n  const EXEC_MIME_TYPE = 'application/vnd.bokehjs_exec.v0+json';\n  const CLASS_NAME = 'output_bokeh rendered_html';\n\n  /**\n   * Render data to the DOM node\n   */\n  function render(props, node) {\n    const script = document.createElement(\"script\");\n    node.appendChild(script);\n  }\n\n  /**\n   * Handle when an output is cleared or removed\n   */\n  function handleClearOutput(event, handle) {\n    function drop(id) {\n      const view = Bokeh.index.get_by_id(id)\n      if (view != null) {\n        view.model.document.clear()\n        Bokeh.index.delete(view)\n      }\n    }\n\n    const cell = handle.cell;\n\n    const id = cell.output_area._bokeh_element_id;\n    const server_id = cell.output_area._bokeh_server_id;\n\n    // Clean up Bokeh references\n    if (id != null) {\n      drop(id)\n    }\n\n    if (server_id !== undefined) {\n      // Clean up Bokeh references\n      const cmd_clean = \"from bokeh.io.state import curstate; print(curstate().uuid_to_server['\" + server_id + \"'].get_sessions()[0].document.roots[0]._id)\";\n      cell.notebook.kernel.execute(cmd_clean, {\n        iopub: {\n          output: function(msg) {\n            const id = msg.content.text.trim()\n            drop(id)\n          }\n        }\n      });\n      // Destroy server and session\n      const cmd_destroy = \"import bokeh.io.notebook as ion; ion.destroy_server('\" + server_id + \"')\";\n      cell.notebook.kernel.execute(cmd_destroy);\n    }\n  }\n\n  /**\n   * Handle when a new output is added\n   */\n  function handleAddOutput(event, handle) {\n    const output_area = handle.output_area;\n    const output = handle.output;\n\n    // limit handleAddOutput to display_data with EXEC_MIME_TYPE content only\n    if ((output.output_type != \"display_data\") || (!Object.prototype.hasOwnProperty.call(output.data, EXEC_MIME_TYPE))) {\n      return\n    }\n\n    const toinsert = output_area.element.find(\".\" + CLASS_NAME.split(' ')[0]);\n\n    if (output.metadata[EXEC_MIME_TYPE][\"id\"] !== undefined) {\n      toinsert[toinsert.length - 1].firstChild.textContent = output.data[JS_MIME_TYPE];\n      // store reference to embed id on output_area\n      output_area._bokeh_element_id = output.metadata[EXEC_MIME_TYPE][\"id\"];\n    }\n    if (output.metadata[EXEC_MIME_TYPE][\"server_id\"] !== undefined) {\n      const bk_div = document.createElement(\"div\");\n      bk_div.innerHTML = output.data[HTML_MIME_TYPE];\n      const script_attrs = bk_div.children[0].attributes;\n      for (let i = 0; i < script_attrs.length; i++) {\n        toinsert[toinsert.length - 1].firstChild.setAttribute(script_attrs[i].name, script_attrs[i].value);\n        toinsert[toinsert.length - 1].firstChild.textContent = bk_div.children[0].textContent\n      }\n      // store reference to server id on output_area\n      output_area._bokeh_server_id = output.metadata[EXEC_MIME_TYPE][\"server_id\"];\n    }\n  }\n\n  function register_renderer(events, OutputArea) {\n\n    function append_mime(data, metadata, element) {\n      // create a DOM node to render to\n      const toinsert = this.create_output_subarea(\n        metadata,\n        CLASS_NAME,\n        EXEC_MIME_TYPE\n      );\n      this.keyboard_manager.register_events(toinsert);\n      // Render to node\n      const props = {data: data, metadata: metadata[EXEC_MIME_TYPE]};\n      render(props, toinsert[toinsert.length - 1]);\n      element.append(toinsert);\n      return toinsert\n    }\n\n    /* Handle when an output is cleared or removed */\n    events.on('clear_output.CodeCell', handleClearOutput);\n    events.on('delete.Cell', handleClearOutput);\n\n    /* Handle when a new output is added */\n    events.on('output_added.OutputArea', handleAddOutput);\n\n    /**\n     * Register the mime type and append_mime function with output_area\n     */\n    OutputArea.prototype.register_mime_type(EXEC_MIME_TYPE, append_mime, {\n      /* Is output safe? */\n      safe: true,\n      /* Index of renderer in `output_area.display_order` */\n      index: 0\n    });\n  }\n\n  // register the mime type if in Jupyter Notebook environment and previously unregistered\n  if (root.Jupyter !== undefined) {\n    const events = require('base/js/events');\n    const OutputArea = require('notebook/js/outputarea').OutputArea;\n\n    if (OutputArea.prototype.mime_types().indexOf(EXEC_MIME_TYPE) == -1) {\n      register_renderer(events, OutputArea);\n    }\n  }\n  if (typeof (root._bokeh_timeout) === \"undefined\" || force === true) {\n    root._bokeh_timeout = Date.now() + 5000;\n    root._bokeh_failed_load = false;\n  }\n\n  const NB_LOAD_WARNING = {'data': {'text/html':\n     \"<div style='background-color: #fdd'>\\n\"+\n     \"<p>\\n\"+\n     \"BokehJS does not appear to have successfully loaded. If loading BokehJS from CDN, this \\n\"+\n     \"may be due to a slow or bad network connection. Possible fixes:\\n\"+\n     \"</p>\\n\"+\n     \"<ul>\\n\"+\n     \"<li>re-rerun `output_notebook()` to attempt to load from CDN again, or</li>\\n\"+\n     \"<li>use INLINE resources instead, as so:</li>\\n\"+\n     \"</ul>\\n\"+\n     \"<code>\\n\"+\n     \"from bokeh.resources import INLINE\\n\"+\n     \"output_notebook(resources=INLINE)\\n\"+\n     \"</code>\\n\"+\n     \"</div>\"}};\n\n  function display_loaded(error = null) {\n    const el = document.getElementById(\"a95c2224-bdc5-4dc0-a2dd-2744bd1a5e83\");\n    if (el != null) {\n      const html = (() => {\n        if (typeof root.Bokeh === \"undefined\") {\n          if (error == null) {\n            return \"BokehJS is loading ...\";\n          } else {\n            return \"BokehJS failed to load.\";\n          }\n        } else {\n          const prefix = `BokehJS ${root.Bokeh.version}`;\n          if (error == null) {\n            return `${prefix} successfully loaded.`;\n          } else {\n            return `${prefix} <b>encountered errors</b> while loading and may not function as expected.`;\n          }\n        }\n      })();\n      el.innerHTML = html;\n\n      if (error != null) {\n        const wrapper = document.createElement(\"div\");\n        wrapper.style.overflow = \"auto\";\n        wrapper.style.height = \"5em\";\n        wrapper.style.resize = \"vertical\";\n        const content = document.createElement(\"div\");\n        content.style.fontFamily = \"monospace\";\n        content.style.whiteSpace = \"pre-wrap\";\n        content.style.backgroundColor = \"rgb(255, 221, 221)\";\n        content.textContent = error.stack ?? error.toString();\n        wrapper.append(content);\n        el.append(wrapper);\n      }\n    } else if (Date.now() < root._bokeh_timeout) {\n      setTimeout(() => display_loaded(error), 100);\n    }\n  }\n\n  function run_callbacks() {\n    try {\n      root._bokeh_onload_callbacks.forEach(function(callback) {\n        if (callback != null)\n          callback();\n      });\n    } finally {\n      delete root._bokeh_onload_callbacks\n    }\n    console.debug(\"Bokeh: all callbacks have finished\");\n  }\n\n  function load_libs(css_urls, js_urls, callback) {\n    if (css_urls == null) css_urls = [];\n    if (js_urls == null) js_urls = [];\n\n    root._bokeh_onload_callbacks.push(callback);\n    if (root._bokeh_is_loading > 0) {\n      console.debug(\"Bokeh: BokehJS is being loaded, scheduling callback at\", now());\n      return null;\n    }\n    if (js_urls == null || js_urls.length === 0) {\n      run_callbacks();\n      return null;\n    }\n    console.debug(\"Bokeh: BokehJS not loaded, scheduling load and callback at\", now());\n    root._bokeh_is_loading = css_urls.length + js_urls.length;\n\n    function on_load() {\n      root._bokeh_is_loading--;\n      if (root._bokeh_is_loading === 0) {\n        console.debug(\"Bokeh: all BokehJS libraries/stylesheets loaded\");\n        run_callbacks()\n      }\n    }\n\n    function on_error(url) {\n      console.error(\"failed to load \" + url);\n    }\n\n    for (let i = 0; i < css_urls.length; i++) {\n      const url = css_urls[i];\n      const element = document.createElement(\"link\");\n      element.onload = on_load;\n      element.onerror = on_error.bind(null, url);\n      element.rel = \"stylesheet\";\n      element.type = \"text/css\";\n      element.href = url;\n      console.debug(\"Bokeh: injecting link tag for BokehJS stylesheet: \", url);\n      document.body.appendChild(element);\n    }\n\n    for (let i = 0; i < js_urls.length; i++) {\n      const url = js_urls[i];\n      const element = document.createElement('script');\n      element.onload = on_load;\n      element.onerror = on_error.bind(null, url);\n      element.async = false;\n      element.src = url;\n      console.debug(\"Bokeh: injecting script tag for BokehJS library: \", url);\n      document.head.appendChild(element);\n    }\n  };\n\n  function inject_raw_css(css) {\n    const element = document.createElement(\"style\");\n    element.appendChild(document.createTextNode(css));\n    document.body.appendChild(element);\n  }\n\n  const js_urls = [\"https://cdn.bokeh.org/bokeh/release/bokeh-3.4.1.min.js\", \"https://cdn.bokeh.org/bokeh/release/bokeh-gl-3.4.1.min.js\", \"https://cdn.bokeh.org/bokeh/release/bokeh-widgets-3.4.1.min.js\", \"https://cdn.bokeh.org/bokeh/release/bokeh-tables-3.4.1.min.js\", \"https://cdn.bokeh.org/bokeh/release/bokeh-mathjax-3.4.1.min.js\"];\n  const css_urls = [];\n\n  const inline_js = [    function(Bokeh) {\n      Bokeh.set_log_level(\"info\");\n    },\nfunction(Bokeh) {\n    }\n  ];\n\n  function run_inline_js() {\n    if (root.Bokeh !== undefined || force === true) {\n      try {\n            for (let i = 0; i < inline_js.length; i++) {\n      inline_js[i].call(root, root.Bokeh);\n    }\n\n      } catch (error) {display_loaded(error);throw error;\n      }if (force === true) {\n        display_loaded();\n      }} else if (Date.now() < root._bokeh_timeout) {\n      setTimeout(run_inline_js, 100);\n    } else if (!root._bokeh_failed_load) {\n      console.log(\"Bokeh: BokehJS failed to load within specified timeout.\");\n      root._bokeh_failed_load = true;\n    } else if (force !== true) {\n      const cell = $(document.getElementById(\"a95c2224-bdc5-4dc0-a2dd-2744bd1a5e83\")).parents('.cell').data().cell;\n      cell.output_area.append_execute_result(NB_LOAD_WARNING)\n    }\n  }\n\n  if (root._bokeh_is_loading === 0) {\n    console.debug(\"Bokeh: BokehJS loaded, going straight to plotting\");\n    run_inline_js();\n  } else {\n    load_libs(css_urls, js_urls, function() {\n      console.debug(\"Bokeh: BokehJS plotting callback run at\", now());\n      run_inline_js();\n    });\n  }\n}(window));",
      "application/vnd.bokehjs_load.v0+json": ""
     },
     "metadata": {},
     "output_type": "display_data"
    },
    {
     "data": {
      "text/html": [
       "\n",
       "  <div id=\"d678e479-dfcb-41f5-a8c2-482e85477709\" data-root-id=\"p1001\" style=\"display: contents;\"></div>\n"
      ]
     },
     "metadata": {},
     "output_type": "display_data"
    },
    {
     "data": {
      "application/javascript": "(function(root) {\n  function embed_document(root) {\n  const docs_json = {\"ed683130-45a6-4ae6-bbdf-4bf18265faf3\":{\"version\":\"3.4.1\",\"title\":\"Bokeh Application\",\"roots\":[{\"type\":\"object\",\"name\":\"Figure\",\"id\":\"p1001\",\"attributes\":{\"x_range\":{\"type\":\"object\",\"name\":\"DataRange1d\",\"id\":\"p1002\"},\"y_range\":{\"type\":\"object\",\"name\":\"DataRange1d\",\"id\":\"p1003\"},\"x_scale\":{\"type\":\"object\",\"name\":\"LinearScale\",\"id\":\"p1010\"},\"y_scale\":{\"type\":\"object\",\"name\":\"LinearScale\",\"id\":\"p1011\"},\"title\":{\"type\":\"object\",\"name\":\"Title\",\"id\":\"p1008\"},\"renderers\":[{\"type\":\"object\",\"name\":\"GlyphRenderer\",\"id\":\"p1039\",\"attributes\":{\"data_source\":{\"type\":\"object\",\"name\":\"ColumnDataSource\",\"id\":\"p1033\",\"attributes\":{\"selected\":{\"type\":\"object\",\"name\":\"Selection\",\"id\":\"p1034\",\"attributes\":{\"indices\":[],\"line_indices\":[]}},\"selection_policy\":{\"type\":\"object\",\"name\":\"UnionRenderers\",\"id\":\"p1035\"},\"data\":{\"type\":\"map\",\"entries\":[[\"x\",{\"type\":\"ndarray\",\"array\":{\"type\":\"bytes\",\"data\":\"CtejcD0KFEApXI/C9SgXQIXrUbgehQdACtejcD0KEEDsUbgehesJQM3MzMzMzApAKVyPwvUoJECPwvUoXI8IQOxRuB6F6/0/SOF6FK5HC0B7FK5H4XoMQArXo3A9CglAH4XrUbgeB0CamZmZmZkQQJqZmZmZmQ1AXI/C9ShcHkDhehSuR+EKQAAAAAAAgCBAUrgehetRIECuR+F6FK4RQGZmZmZmZgpAzczMzMzMHUDhehSuR+ECQIXrUbgehQtA9ihcj8L1CEAK16NwPQoiQIXrUbgehRVAZmZmZmZmBEAfhetRuB4QQM3MzMzMzPw/ZmZmZmZmIEDhehSuR+EMQHE9CtejcB1ApHA9Ctej/D9cj8L1KFwRQGZmZmZmZgRAmpmZmZmZFEBmZmZmZmYOQB+F61G4Hg9AmpmZmZmZGUBxPQrXo3ARQKRwPQrXowJAMzMzMzMzCUC4HoXrUbgGQMP1KFyPwhpAmpmZmZmZBUDD9Shcj8ILQArXo3A9iiNA9ihcj8L1EEDNzMzMzEwhQD0K16NwPQRAcT0K16NwCUBcj8L1KFwcQEjhehSuRwNA16NwPQrXE0DhehSuR+ERQMP1KFyPwhhAuB6F61G4AkBSuB6F61EKQHE9CtejcA1ACtejcD0KEUAK16NwPQoSQJqZmZmZmQlAAAAAAACAIUC4HoXrUbgTQM3MzMzMzB1A4XoUrkfhHUAUrkfhehQOQHE9CtejcBlAH4XrUbgeDUAAAAAAAAAUQNejcD0K1xBAKVyPwvUoEEDD9Shcj0IjQPYoXI/C9RFAZmZmZmZmEkDXo3A9CtcTQHE9CtejcAdAw/UoXI/CC0CamZmZmZkNQEjhehSuRwlAKVyPwvUoGEAK16NwPQoLQM3MzMzMzBRAXI/C9ShcC0BI4XoUrkf9P3E9CtejcBVAUrgehetR/D+uR+F6FK4JQB+F61G4HhRArkfhehSuFUCkcD0K16MAQEjhehSuRx9AmpmZmZmZE0AK16NwPQoVQHE9CtejcBZAXI/C9SjcIUBSuB6F61EMQArXo3A9CgNA\"},\"shape\":[99],\"dtype\":\"float64\",\"order\":\"little\"}],[\"y\",{\"type\":\"ndarray\",\"array\":{\"type\":\"bytes\",\"data\":\"5Nms+lytFECFL0ymCsYXQM5dS8gHvQhABSuHFtnOEUDot68D58wQQKR5xyk6UhBA3QuTqYLxIkA8m1Wfq60QQPcx5q4lZAFAFh3J5T+kEUDTO07RkRwWQAwkKH6MuQtAo++nxku3C0DTK2UZ4lgQQCAhH/Rs1g5Ar1BrmnccGECWZYhjXdwHQA6cM6K0txhA9v3UeOmmFkBJ4XoUrscSQEGC4seYuwxAN6Tfvg5cG0DVItv5fmoDQAyKH2PuWgxA/DHmriVkCkBbQj7o2cwgQIVa07zjVBdABET67etACkCstmJ/2T0QQBgEVg4tMgBAX7pJDALrGkC6jQbwFogRQIxjXdxGwxhA5mGh1jRvB0CPfvs6cE4RQK+UZYhjXQRAob3BFyZTGkB0xyk6kssOQKHWNO84hRFAfATFjzH3FkAhufyH9FsRQFoOLbKdbwZAWEvIBz2bDkDRiNLe4IsEQH8vTKYKhhtA16NwPQpXAEARpb3BFyYQQKROQBNhQyJA8o5TdCQXEkBWW7G/7P4iQGNd3EYDeAJAr5RliGPdEECXOgFNhM0ZQAK8BRIUvwFA+Fxtxf4yFEBTJ6CJsGERQGhv8IXJFBhA7cA5I0r7A0BU2ht8YTIIQLevA+eMKA5A6tms+lytFUAGcayL2ygSQNea5h2naAZAf0i/fR24HUDb+X5qvDQWQIFRSZ2AphhAd3EbDeAtGUDqJjEIrJwQQIU41sVtNBhArNhfdk+eDkAXc9cS8kEYQBDHuriNhhJAylTBqKSOEED9qfHSTSIdQGmR7Xw/NRJAA5oIG57eDEA4kst/SL8UQDHmriXkAxFAT2uad5wiGECEDU+vlCURQI+XbhKDQAxAn0W28/0UF0BSBaOSOoEQQHISg8DKIRNAfz81XrpJB0AM+aBns2oEQAqTqYJRCRJAYUvIBz0bAECTh4Va0/wQQEVpb/CFCRZAz9VW7C+7FEDEnxov3aQBQGm8dJMYhBZA6Pup8dKNEkBjKcsQx7oQQK1wPQrX4xZAdGiR7Xz/GkCDlUOLbOcKQC1cj8L1qAFA\"},\"shape\":[99],\"dtype\":\"float64\",\"order\":\"little\"}]]}}},\"view\":{\"type\":\"object\",\"name\":\"CDSView\",\"id\":\"p1040\",\"attributes\":{\"filter\":{\"type\":\"object\",\"name\":\"AllIndices\",\"id\":\"p1041\"}}},\"glyph\":{\"type\":\"object\",\"name\":\"Scatter\",\"id\":\"p1036\",\"attributes\":{\"x\":{\"type\":\"field\",\"field\":\"x\"},\"y\":{\"type\":\"field\",\"field\":\"y\"},\"size\":{\"type\":\"value\",\"value\":3},\"line_color\":{\"type\":\"value\",\"value\":\"#1f77b4\"},\"fill_color\":{\"type\":\"value\",\"value\":\"#1f77b4\"}}},\"nonselection_glyph\":{\"type\":\"object\",\"name\":\"Scatter\",\"id\":\"p1037\",\"attributes\":{\"x\":{\"type\":\"field\",\"field\":\"x\"},\"y\":{\"type\":\"field\",\"field\":\"y\"},\"size\":{\"type\":\"value\",\"value\":3},\"line_color\":{\"type\":\"value\",\"value\":\"#1f77b4\"},\"line_alpha\":{\"type\":\"value\",\"value\":0.1},\"fill_color\":{\"type\":\"value\",\"value\":\"#1f77b4\"},\"fill_alpha\":{\"type\":\"value\",\"value\":0.1},\"hatch_alpha\":{\"type\":\"value\",\"value\":0.1}}},\"muted_glyph\":{\"type\":\"object\",\"name\":\"Scatter\",\"id\":\"p1038\",\"attributes\":{\"x\":{\"type\":\"field\",\"field\":\"x\"},\"y\":{\"type\":\"field\",\"field\":\"y\"},\"size\":{\"type\":\"value\",\"value\":3},\"line_color\":{\"type\":\"value\",\"value\":\"#1f77b4\"},\"line_alpha\":{\"type\":\"value\",\"value\":0.2},\"fill_color\":{\"type\":\"value\",\"value\":\"#1f77b4\"},\"fill_alpha\":{\"type\":\"value\",\"value\":0.2},\"hatch_alpha\":{\"type\":\"value\",\"value\":0.2}}}}}],\"toolbar\":{\"type\":\"object\",\"name\":\"Toolbar\",\"id\":\"p1009\",\"attributes\":{\"tools\":[{\"type\":\"object\",\"name\":\"PanTool\",\"id\":\"p1022\"},{\"type\":\"object\",\"name\":\"WheelZoomTool\",\"id\":\"p1023\",\"attributes\":{\"renderers\":\"auto\"}},{\"type\":\"object\",\"name\":\"BoxZoomTool\",\"id\":\"p1024\",\"attributes\":{\"overlay\":{\"type\":\"object\",\"name\":\"BoxAnnotation\",\"id\":\"p1025\",\"attributes\":{\"syncable\":false,\"level\":\"overlay\",\"visible\":false,\"left\":{\"type\":\"number\",\"value\":\"nan\"},\"right\":{\"type\":\"number\",\"value\":\"nan\"},\"top\":{\"type\":\"number\",\"value\":\"nan\"},\"bottom\":{\"type\":\"number\",\"value\":\"nan\"},\"left_units\":\"canvas\",\"right_units\":\"canvas\",\"top_units\":\"canvas\",\"bottom_units\":\"canvas\",\"line_color\":\"black\",\"line_alpha\":1.0,\"line_width\":2,\"line_dash\":[4,4],\"fill_color\":\"lightgrey\",\"fill_alpha\":0.5}}}},{\"type\":\"object\",\"name\":\"SaveTool\",\"id\":\"p1030\"},{\"type\":\"object\",\"name\":\"ResetTool\",\"id\":\"p1031\"},{\"type\":\"object\",\"name\":\"HelpTool\",\"id\":\"p1032\"}]}},\"left\":[{\"type\":\"object\",\"name\":\"LinearAxis\",\"id\":\"p1017\",\"attributes\":{\"ticker\":{\"type\":\"object\",\"name\":\"BasicTicker\",\"id\":\"p1018\",\"attributes\":{\"mantissas\":[1,2,5]}},\"formatter\":{\"type\":\"object\",\"name\":\"BasicTickFormatter\",\"id\":\"p1019\"},\"axis_label\":\"Predicted RT\",\"major_label_policy\":{\"type\":\"object\",\"name\":\"AllLabels\",\"id\":\"p1020\"}}}],\"below\":[{\"type\":\"object\",\"name\":\"LinearAxis\",\"id\":\"p1012\",\"attributes\":{\"ticker\":{\"type\":\"object\",\"name\":\"BasicTicker\",\"id\":\"p1013\",\"attributes\":{\"mantissas\":[1,2,5]}},\"formatter\":{\"type\":\"object\",\"name\":\"BasicTickFormatter\",\"id\":\"p1014\"},\"axis_label\":\"Library RT\",\"major_label_policy\":{\"type\":\"object\",\"name\":\"AllLabels\",\"id\":\"p1015\"}}}],\"center\":[{\"type\":\"object\",\"name\":\"Grid\",\"id\":\"p1016\",\"attributes\":{\"axis\":{\"id\":\"p1012\"}}},{\"type\":\"object\",\"name\":\"Grid\",\"id\":\"p1021\",\"attributes\":{\"dimension\":1,\"axis\":{\"id\":\"p1017\"}}},{\"type\":\"object\",\"name\":\"Slope\",\"id\":\"p1042\",\"attributes\":{\"gradient\":1,\"y_intercept\":0,\"line_alpha\":0.5}},{\"type\":\"object\",\"name\":\"Slope\",\"id\":\"p1043\",\"attributes\":{\"gradient\":0.7320981512433136,\"y_intercept\":1.2344521840363236,\"line_color\":\"blue\"}}]}}]}};\n  const render_items = [{\"docid\":\"ed683130-45a6-4ae6-bbdf-4bf18265faf3\",\"roots\":{\"p1001\":\"d678e479-dfcb-41f5-a8c2-482e85477709\"},\"root_ids\":[\"p1001\"]}];\n  void root.Bokeh.embed.embed_items_notebook(docs_json, render_items);\n  }\n  if (root.Bokeh !== undefined) {\n    embed_document(root);\n  } else {\n    let attempts = 0;\n    const timer = setInterval(function(root) {\n      if (root.Bokeh !== undefined) {\n        clearInterval(timer);\n        embed_document(root);\n      } else {\n        attempts++;\n        if (attempts > 100) {\n          clearInterval(timer);\n          console.log(\"Bokeh: ERROR: Unable to run BokehJS code because BokehJS library is missing\");\n        }\n      }\n    }, 10, root)\n  }\n})(window);",
      "application/vnd.bokehjs_exec.v0+json": ""
     },
     "metadata": {
      "application/vnd.bokehjs_exec.v0+json": {
       "id": "p1001"
      }
     },
     "output_type": "display_data"
    },
    {
     "name": "stderr",
     "output_type": "stream",
     "text": [
      "/home/neuspouamengual/Descargas/anaconda3/envs/pyretip/lib/python3.10/site-packages/sklearn/metrics/_regression.py:483: FutureWarning: 'squared' is deprecated in version 1.4 and will be removed in 1.6. To calculate the root mean squared error, use the function'root_mean_squared_error'.\n",
      "  warnings.warn(\n"
     ]
    },
    {
     "data": {
      "text/plain": [
       "{'root_mean_squared_error': 0.8672356911707474,\n",
       " 'mean_squared_error': 0.752097744040404,\n",
       " 'mean_absolute_error': 0.6298888888888889,\n",
       " 'median_absolute_error': 0.44200000000000284,\n",
       " 'explained_variance_score': 0.8200766914949522,\n",
       " 'mean_absolute_percentage_error': 0.14361447354272433,\n",
       " 'absolute_median_relative_error': 0.10290625000000081,\n",
       " 'r2_score': 0.8200760237426785,\n",
       " 'pearson_correlation': 0.9121915589762818,\n",
       " '90_percent_confidence_interval': 1.1097344882592273,\n",
       " '95_percent_confidence_interval': 1.4248024179293735}"
      ]
     },
     "execution_count": 12,
     "metadata": {},
     "output_type": "execute_result"
    }
   ],
   "source": [
    "trainer.score(plot=True)"
   ]
  },
  {
   "cell_type": "markdown",
   "id": "930f38b1",
   "metadata": {},
   "source": [
    "#### External Validation"
   ]
  },
  {
   "cell_type": "markdown",
   "id": "b0451f01",
   "metadata": {},
   "source": [
    "The model can be tested using the external dataset that we loaded initially. The target column must be specified."
   ]
  },
  {
   "cell_type": "code",
   "execution_count": 13,
   "id": "a275ad82",
   "metadata": {},
   "outputs": [
    {
     "name": "stderr",
     "output_type": "stream",
     "text": [
      "[Parallel(n_jobs=1)]: Done  49 tasks      | elapsed:    0.0s\n"
     ]
    },
    {
     "data": {
      "text/html": [
       "    <style>\n",
       "        .bk-notebook-logo {\n",
       "            display: block;\n",
       "            width: 20px;\n",
       "            height: 20px;\n",
       "            background-image: url(data:image/png;base64,iVBORw0KGgoAAAANSUhEUgAAABQAAAAUCAYAAACNiR0NAAAABHNCSVQICAgIfAhkiAAAAAlwSFlzAAALEgAACxIB0t1+/AAAABx0RVh0U29mdHdhcmUAQWRvYmUgRmlyZXdvcmtzIENTNui8sowAAAOkSURBVDiNjZRtaJVlGMd/1/08zzln5zjP1LWcU9N0NkN8m2CYjpgQYQXqSs0I84OLIC0hkEKoPtiH3gmKoiJDU7QpLgoLjLIQCpEsNJ1vqUOdO7ppbuec5+V+rj4ctwzd8IIbbi6u+8f1539dt3A78eXC7QizUF7gyV1fD1Yqg4JWz84yffhm0qkFqBogB9rM8tZdtwVsPUhWhGcFJngGeWrPzHm5oaMmkfEg1usvLFyc8jLRqDOMru7AyC8saQr7GG7f5fvDeH7Ej8CM66nIF+8yngt6HWaKh7k49Soy9nXurCi1o3qUbS3zWfrYeQDTB/Qj6kX6Ybhw4B+bOYoLKCC9H3Nu/leUTZ1JdRWkkn2ldcCamzrcf47KKXdAJllSlxAOkRgyHsGC/zRday5Qld9DyoM4/q/rUoy/CXh3jzOu3bHUVZeU+DEn8FInkPBFlu3+nW3Nw0mk6vCDiWg8CeJaxEwuHS3+z5RgY+YBR6V1Z1nxSOfoaPa4LASWxxdNp+VWTk7+4vzaou8v8PN+xo+KY2xsw6une2frhw05CTYOmQvsEhjhWjn0bmXPjpE1+kplmmkP3suftwTubK9Vq22qKmrBhpY4jvd5afdRA3wGjFAgcnTK2s4hY0/GPNIb0nErGMCRxWOOX64Z8RAC4oCXdklmEvcL8o0BfkNK4lUg9HTl+oPlQxdNo3Mg4Nv175e/1LDGzZen30MEjRUtmXSfiTVu1kK8W4txyV6BMKlbgk3lMwYCiusNy9fVfvvwMxv8Ynl6vxoByANLTWplvuj/nF9m2+PDtt1eiHPBr1oIfhCChQMBw6Aw0UulqTKZdfVvfG7VcfIqLG9bcldL/+pdWTLxLUy8Qq38heUIjh4XlzZxzQm19lLFlr8vdQ97rjZVOLf8nclzckbcD4wxXMidpX30sFd37Fv/GtwwhzhxGVAprjbg0gCAEeIgwCZyTV2Z1REEW8O4py0wsjeloKoMr6iCY6dP92H6Vw/oTyICIthibxjm/DfN9lVz8IqtqKYLUXfoKVMVQVVJOElGjrnnUt9T9wbgp8AyYKaGlqingHZU/uG2NTZSVqwHQTWkx9hxjkpWDaCg6Ckj5qebgBVbT3V3NNXMSiWSDdGV3hrtzla7J+duwPOToIg42ChPQOQjspnSlp1V+Gjdged7+8UN5CRAV7a5EdFNwCjEaBR27b3W890TE7g24NAP/mMDXRWrGoFPQI9ls/MWO2dWFAar/xcOIImbbpA3zgAAAABJRU5ErkJggg==);\n",
       "        }\n",
       "    </style>\n",
       "    <div>\n",
       "        <a href=\"https://bokeh.org\" target=\"_blank\" class=\"bk-notebook-logo\"></a>\n",
       "        <span id=\"ce21a0fa-3e67-4344-a3df-8324161996c9\">Loading BokehJS ...</span>\n",
       "    </div>\n"
      ]
     },
     "metadata": {},
     "output_type": "display_data"
    },
    {
     "data": {
      "application/javascript": "'use strict';\n(function(root) {\n  function now() {\n    return new Date();\n  }\n\n  const force = true;\n\n  if (typeof root._bokeh_onload_callbacks === \"undefined\" || force === true) {\n    root._bokeh_onload_callbacks = [];\n    root._bokeh_is_loading = undefined;\n  }\n\nconst JS_MIME_TYPE = 'application/javascript';\n  const HTML_MIME_TYPE = 'text/html';\n  const EXEC_MIME_TYPE = 'application/vnd.bokehjs_exec.v0+json';\n  const CLASS_NAME = 'output_bokeh rendered_html';\n\n  /**\n   * Render data to the DOM node\n   */\n  function render(props, node) {\n    const script = document.createElement(\"script\");\n    node.appendChild(script);\n  }\n\n  /**\n   * Handle when an output is cleared or removed\n   */\n  function handleClearOutput(event, handle) {\n    function drop(id) {\n      const view = Bokeh.index.get_by_id(id)\n      if (view != null) {\n        view.model.document.clear()\n        Bokeh.index.delete(view)\n      }\n    }\n\n    const cell = handle.cell;\n\n    const id = cell.output_area._bokeh_element_id;\n    const server_id = cell.output_area._bokeh_server_id;\n\n    // Clean up Bokeh references\n    if (id != null) {\n      drop(id)\n    }\n\n    if (server_id !== undefined) {\n      // Clean up Bokeh references\n      const cmd_clean = \"from bokeh.io.state import curstate; print(curstate().uuid_to_server['\" + server_id + \"'].get_sessions()[0].document.roots[0]._id)\";\n      cell.notebook.kernel.execute(cmd_clean, {\n        iopub: {\n          output: function(msg) {\n            const id = msg.content.text.trim()\n            drop(id)\n          }\n        }\n      });\n      // Destroy server and session\n      const cmd_destroy = \"import bokeh.io.notebook as ion; ion.destroy_server('\" + server_id + \"')\";\n      cell.notebook.kernel.execute(cmd_destroy);\n    }\n  }\n\n  /**\n   * Handle when a new output is added\n   */\n  function handleAddOutput(event, handle) {\n    const output_area = handle.output_area;\n    const output = handle.output;\n\n    // limit handleAddOutput to display_data with EXEC_MIME_TYPE content only\n    if ((output.output_type != \"display_data\") || (!Object.prototype.hasOwnProperty.call(output.data, EXEC_MIME_TYPE))) {\n      return\n    }\n\n    const toinsert = output_area.element.find(\".\" + CLASS_NAME.split(' ')[0]);\n\n    if (output.metadata[EXEC_MIME_TYPE][\"id\"] !== undefined) {\n      toinsert[toinsert.length - 1].firstChild.textContent = output.data[JS_MIME_TYPE];\n      // store reference to embed id on output_area\n      output_area._bokeh_element_id = output.metadata[EXEC_MIME_TYPE][\"id\"];\n    }\n    if (output.metadata[EXEC_MIME_TYPE][\"server_id\"] !== undefined) {\n      const bk_div = document.createElement(\"div\");\n      bk_div.innerHTML = output.data[HTML_MIME_TYPE];\n      const script_attrs = bk_div.children[0].attributes;\n      for (let i = 0; i < script_attrs.length; i++) {\n        toinsert[toinsert.length - 1].firstChild.setAttribute(script_attrs[i].name, script_attrs[i].value);\n        toinsert[toinsert.length - 1].firstChild.textContent = bk_div.children[0].textContent\n      }\n      // store reference to server id on output_area\n      output_area._bokeh_server_id = output.metadata[EXEC_MIME_TYPE][\"server_id\"];\n    }\n  }\n\n  function register_renderer(events, OutputArea) {\n\n    function append_mime(data, metadata, element) {\n      // create a DOM node to render to\n      const toinsert = this.create_output_subarea(\n        metadata,\n        CLASS_NAME,\n        EXEC_MIME_TYPE\n      );\n      this.keyboard_manager.register_events(toinsert);\n      // Render to node\n      const props = {data: data, metadata: metadata[EXEC_MIME_TYPE]};\n      render(props, toinsert[toinsert.length - 1]);\n      element.append(toinsert);\n      return toinsert\n    }\n\n    /* Handle when an output is cleared or removed */\n    events.on('clear_output.CodeCell', handleClearOutput);\n    events.on('delete.Cell', handleClearOutput);\n\n    /* Handle when a new output is added */\n    events.on('output_added.OutputArea', handleAddOutput);\n\n    /**\n     * Register the mime type and append_mime function with output_area\n     */\n    OutputArea.prototype.register_mime_type(EXEC_MIME_TYPE, append_mime, {\n      /* Is output safe? */\n      safe: true,\n      /* Index of renderer in `output_area.display_order` */\n      index: 0\n    });\n  }\n\n  // register the mime type if in Jupyter Notebook environment and previously unregistered\n  if (root.Jupyter !== undefined) {\n    const events = require('base/js/events');\n    const OutputArea = require('notebook/js/outputarea').OutputArea;\n\n    if (OutputArea.prototype.mime_types().indexOf(EXEC_MIME_TYPE) == -1) {\n      register_renderer(events, OutputArea);\n    }\n  }\n  if (typeof (root._bokeh_timeout) === \"undefined\" || force === true) {\n    root._bokeh_timeout = Date.now() + 5000;\n    root._bokeh_failed_load = false;\n  }\n\n  const NB_LOAD_WARNING = {'data': {'text/html':\n     \"<div style='background-color: #fdd'>\\n\"+\n     \"<p>\\n\"+\n     \"BokehJS does not appear to have successfully loaded. If loading BokehJS from CDN, this \\n\"+\n     \"may be due to a slow or bad network connection. Possible fixes:\\n\"+\n     \"</p>\\n\"+\n     \"<ul>\\n\"+\n     \"<li>re-rerun `output_notebook()` to attempt to load from CDN again, or</li>\\n\"+\n     \"<li>use INLINE resources instead, as so:</li>\\n\"+\n     \"</ul>\\n\"+\n     \"<code>\\n\"+\n     \"from bokeh.resources import INLINE\\n\"+\n     \"output_notebook(resources=INLINE)\\n\"+\n     \"</code>\\n\"+\n     \"</div>\"}};\n\n  function display_loaded(error = null) {\n    const el = document.getElementById(\"ce21a0fa-3e67-4344-a3df-8324161996c9\");\n    if (el != null) {\n      const html = (() => {\n        if (typeof root.Bokeh === \"undefined\") {\n          if (error == null) {\n            return \"BokehJS is loading ...\";\n          } else {\n            return \"BokehJS failed to load.\";\n          }\n        } else {\n          const prefix = `BokehJS ${root.Bokeh.version}`;\n          if (error == null) {\n            return `${prefix} successfully loaded.`;\n          } else {\n            return `${prefix} <b>encountered errors</b> while loading and may not function as expected.`;\n          }\n        }\n      })();\n      el.innerHTML = html;\n\n      if (error != null) {\n        const wrapper = document.createElement(\"div\");\n        wrapper.style.overflow = \"auto\";\n        wrapper.style.height = \"5em\";\n        wrapper.style.resize = \"vertical\";\n        const content = document.createElement(\"div\");\n        content.style.fontFamily = \"monospace\";\n        content.style.whiteSpace = \"pre-wrap\";\n        content.style.backgroundColor = \"rgb(255, 221, 221)\";\n        content.textContent = error.stack ?? error.toString();\n        wrapper.append(content);\n        el.append(wrapper);\n      }\n    } else if (Date.now() < root._bokeh_timeout) {\n      setTimeout(() => display_loaded(error), 100);\n    }\n  }\n\n  function run_callbacks() {\n    try {\n      root._bokeh_onload_callbacks.forEach(function(callback) {\n        if (callback != null)\n          callback();\n      });\n    } finally {\n      delete root._bokeh_onload_callbacks\n    }\n    console.debug(\"Bokeh: all callbacks have finished\");\n  }\n\n  function load_libs(css_urls, js_urls, callback) {\n    if (css_urls == null) css_urls = [];\n    if (js_urls == null) js_urls = [];\n\n    root._bokeh_onload_callbacks.push(callback);\n    if (root._bokeh_is_loading > 0) {\n      console.debug(\"Bokeh: BokehJS is being loaded, scheduling callback at\", now());\n      return null;\n    }\n    if (js_urls == null || js_urls.length === 0) {\n      run_callbacks();\n      return null;\n    }\n    console.debug(\"Bokeh: BokehJS not loaded, scheduling load and callback at\", now());\n    root._bokeh_is_loading = css_urls.length + js_urls.length;\n\n    function on_load() {\n      root._bokeh_is_loading--;\n      if (root._bokeh_is_loading === 0) {\n        console.debug(\"Bokeh: all BokehJS libraries/stylesheets loaded\");\n        run_callbacks()\n      }\n    }\n\n    function on_error(url) {\n      console.error(\"failed to load \" + url);\n    }\n\n    for (let i = 0; i < css_urls.length; i++) {\n      const url = css_urls[i];\n      const element = document.createElement(\"link\");\n      element.onload = on_load;\n      element.onerror = on_error.bind(null, url);\n      element.rel = \"stylesheet\";\n      element.type = \"text/css\";\n      element.href = url;\n      console.debug(\"Bokeh: injecting link tag for BokehJS stylesheet: \", url);\n      document.body.appendChild(element);\n    }\n\n    for (let i = 0; i < js_urls.length; i++) {\n      const url = js_urls[i];\n      const element = document.createElement('script');\n      element.onload = on_load;\n      element.onerror = on_error.bind(null, url);\n      element.async = false;\n      element.src = url;\n      console.debug(\"Bokeh: injecting script tag for BokehJS library: \", url);\n      document.head.appendChild(element);\n    }\n  };\n\n  function inject_raw_css(css) {\n    const element = document.createElement(\"style\");\n    element.appendChild(document.createTextNode(css));\n    document.body.appendChild(element);\n  }\n\n  const js_urls = [\"https://cdn.bokeh.org/bokeh/release/bokeh-3.4.1.min.js\", \"https://cdn.bokeh.org/bokeh/release/bokeh-gl-3.4.1.min.js\", \"https://cdn.bokeh.org/bokeh/release/bokeh-widgets-3.4.1.min.js\", \"https://cdn.bokeh.org/bokeh/release/bokeh-tables-3.4.1.min.js\", \"https://cdn.bokeh.org/bokeh/release/bokeh-mathjax-3.4.1.min.js\"];\n  const css_urls = [];\n\n  const inline_js = [    function(Bokeh) {\n      Bokeh.set_log_level(\"info\");\n    },\nfunction(Bokeh) {\n    }\n  ];\n\n  function run_inline_js() {\n    if (root.Bokeh !== undefined || force === true) {\n      try {\n            for (let i = 0; i < inline_js.length; i++) {\n      inline_js[i].call(root, root.Bokeh);\n    }\n\n      } catch (error) {display_loaded(error);throw error;\n      }if (force === true) {\n        display_loaded();\n      }} else if (Date.now() < root._bokeh_timeout) {\n      setTimeout(run_inline_js, 100);\n    } else if (!root._bokeh_failed_load) {\n      console.log(\"Bokeh: BokehJS failed to load within specified timeout.\");\n      root._bokeh_failed_load = true;\n    } else if (force !== true) {\n      const cell = $(document.getElementById(\"ce21a0fa-3e67-4344-a3df-8324161996c9\")).parents('.cell').data().cell;\n      cell.output_area.append_execute_result(NB_LOAD_WARNING)\n    }\n  }\n\n  if (root._bokeh_is_loading === 0) {\n    console.debug(\"Bokeh: BokehJS loaded, going straight to plotting\");\n    run_inline_js();\n  } else {\n    load_libs(css_urls, js_urls, function() {\n      console.debug(\"Bokeh: BokehJS plotting callback run at\", now());\n      run_inline_js();\n    });\n  }\n}(window));",
      "application/vnd.bokehjs_load.v0+json": ""
     },
     "metadata": {},
     "output_type": "display_data"
    },
    {
     "data": {
      "text/html": [
       "\n",
       "  <div id=\"f895415f-e839-4765-95cd-7e17d4fbcd65\" data-root-id=\"p1046\" style=\"display: contents;\"></div>\n"
      ]
     },
     "metadata": {},
     "output_type": "display_data"
    },
    {
     "data": {
      "application/javascript": "(function(root) {\n  function embed_document(root) {\n  const docs_json = {\"62e8d142-93fa-473f-ad40-30667d710ba1\":{\"version\":\"3.4.1\",\"title\":\"Bokeh Application\",\"roots\":[{\"type\":\"object\",\"name\":\"Figure\",\"id\":\"p1046\",\"attributes\":{\"x_range\":{\"type\":\"object\",\"name\":\"DataRange1d\",\"id\":\"p1047\"},\"y_range\":{\"type\":\"object\",\"name\":\"DataRange1d\",\"id\":\"p1048\"},\"x_scale\":{\"type\":\"object\",\"name\":\"LinearScale\",\"id\":\"p1055\"},\"y_scale\":{\"type\":\"object\",\"name\":\"LinearScale\",\"id\":\"p1056\"},\"title\":{\"type\":\"object\",\"name\":\"Title\",\"id\":\"p1053\"},\"renderers\":[{\"type\":\"object\",\"name\":\"GlyphRenderer\",\"id\":\"p1084\",\"attributes\":{\"data_source\":{\"type\":\"object\",\"name\":\"ColumnDataSource\",\"id\":\"p1078\",\"attributes\":{\"selected\":{\"type\":\"object\",\"name\":\"Selection\",\"id\":\"p1079\",\"attributes\":{\"indices\":[],\"line_indices\":[]}},\"selection_policy\":{\"type\":\"object\",\"name\":\"UnionRenderers\",\"id\":\"p1080\"},\"data\":{\"type\":\"map\",\"entries\":[[\"x\",{\"type\":\"ndarray\",\"array\":{\"type\":\"bytes\",\"data\":\"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\"},\"shape\":[358],\"dtype\":\"float64\",\"order\":\"little\"}],[\"y\",{\"type\":\"ndarray\",\"array\":{\"type\":\"bytes\",\"data\":\"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\"},\"shape\":[358],\"dtype\":\"float64\",\"order\":\"little\"}]]}}},\"view\":{\"type\":\"object\",\"name\":\"CDSView\",\"id\":\"p1085\",\"attributes\":{\"filter\":{\"type\":\"object\",\"name\":\"AllIndices\",\"id\":\"p1086\"}}},\"glyph\":{\"type\":\"object\",\"name\":\"Scatter\",\"id\":\"p1081\",\"attributes\":{\"x\":{\"type\":\"field\",\"field\":\"x\"},\"y\":{\"type\":\"field\",\"field\":\"y\"},\"size\":{\"type\":\"value\",\"value\":3},\"line_color\":{\"type\":\"value\",\"value\":\"#1f77b4\"},\"fill_color\":{\"type\":\"value\",\"value\":\"#1f77b4\"}}},\"nonselection_glyph\":{\"type\":\"object\",\"name\":\"Scatter\",\"id\":\"p1082\",\"attributes\":{\"x\":{\"type\":\"field\",\"field\":\"x\"},\"y\":{\"type\":\"field\",\"field\":\"y\"},\"size\":{\"type\":\"value\",\"value\":3},\"line_color\":{\"type\":\"value\",\"value\":\"#1f77b4\"},\"line_alpha\":{\"type\":\"value\",\"value\":0.1},\"fill_color\":{\"type\":\"value\",\"value\":\"#1f77b4\"},\"fill_alpha\":{\"type\":\"value\",\"value\":0.1},\"hatch_alpha\":{\"type\":\"value\",\"value\":0.1}}},\"muted_glyph\":{\"type\":\"object\",\"name\":\"Scatter\",\"id\":\"p1083\",\"attributes\":{\"x\":{\"type\":\"field\",\"field\":\"x\"},\"y\":{\"type\":\"field\",\"field\":\"y\"},\"size\":{\"type\":\"value\",\"value\":3},\"line_color\":{\"type\":\"value\",\"value\":\"#1f77b4\"},\"line_alpha\":{\"type\":\"value\",\"value\":0.2},\"fill_color\":{\"type\":\"value\",\"value\":\"#1f77b4\"},\"fill_alpha\":{\"type\":\"value\",\"value\":0.2},\"hatch_alpha\":{\"type\":\"value\",\"value\":0.2}}}}}],\"toolbar\":{\"type\":\"object\",\"name\":\"Toolbar\",\"id\":\"p1054\",\"attributes\":{\"tools\":[{\"type\":\"object\",\"name\":\"PanTool\",\"id\":\"p1067\"},{\"type\":\"object\",\"name\":\"WheelZoomTool\",\"id\":\"p1068\",\"attributes\":{\"renderers\":\"auto\"}},{\"type\":\"object\",\"name\":\"BoxZoomTool\",\"id\":\"p1069\",\"attributes\":{\"overlay\":{\"type\":\"object\",\"name\":\"BoxAnnotation\",\"id\":\"p1070\",\"attributes\":{\"syncable\":false,\"level\":\"overlay\",\"visible\":false,\"left\":{\"type\":\"number\",\"value\":\"nan\"},\"right\":{\"type\":\"number\",\"value\":\"nan\"},\"top\":{\"type\":\"number\",\"value\":\"nan\"},\"bottom\":{\"type\":\"number\",\"value\":\"nan\"},\"left_units\":\"canvas\",\"right_units\":\"canvas\",\"top_units\":\"canvas\",\"bottom_units\":\"canvas\",\"line_color\":\"black\",\"line_alpha\":1.0,\"line_width\":2,\"line_dash\":[4,4],\"fill_color\":\"lightgrey\",\"fill_alpha\":0.5}}}},{\"type\":\"object\",\"name\":\"SaveTool\",\"id\":\"p1075\"},{\"type\":\"object\",\"name\":\"ResetTool\",\"id\":\"p1076\"},{\"type\":\"object\",\"name\":\"HelpTool\",\"id\":\"p1077\"}]}},\"left\":[{\"type\":\"object\",\"name\":\"LinearAxis\",\"id\":\"p1062\",\"attributes\":{\"ticker\":{\"type\":\"object\",\"name\":\"BasicTicker\",\"id\":\"p1063\",\"attributes\":{\"mantissas\":[1,2,5]}},\"formatter\":{\"type\":\"object\",\"name\":\"BasicTickFormatter\",\"id\":\"p1064\"},\"axis_label\":\"Predicted RT\",\"major_label_policy\":{\"type\":\"object\",\"name\":\"AllLabels\",\"id\":\"p1065\"}}}],\"below\":[{\"type\":\"object\",\"name\":\"LinearAxis\",\"id\":\"p1057\",\"attributes\":{\"ticker\":{\"type\":\"object\",\"name\":\"BasicTicker\",\"id\":\"p1058\",\"attributes\":{\"mantissas\":[1,2,5]}},\"formatter\":{\"type\":\"object\",\"name\":\"BasicTickFormatter\",\"id\":\"p1059\"},\"axis_label\":\"Library RT\",\"major_label_policy\":{\"type\":\"object\",\"name\":\"AllLabels\",\"id\":\"p1060\"}}}],\"center\":[{\"type\":\"object\",\"name\":\"Grid\",\"id\":\"p1061\",\"attributes\":{\"axis\":{\"id\":\"p1057\"}}},{\"type\":\"object\",\"name\":\"Grid\",\"id\":\"p1066\",\"attributes\":{\"dimension\":1,\"axis\":{\"id\":\"p1062\"}}},{\"type\":\"object\",\"name\":\"Slope\",\"id\":\"p1087\",\"attributes\":{\"gradient\":1,\"y_intercept\":0,\"line_alpha\":0.5}},{\"type\":\"object\",\"name\":\"Slope\",\"id\":\"p1088\",\"attributes\":{\"gradient\":0.6841725170995167,\"y_intercept\":1.3936555860784485,\"line_color\":\"blue\"}}]}}]}};\n  const render_items = [{\"docid\":\"62e8d142-93fa-473f-ad40-30667d710ba1\",\"roots\":{\"p1046\":\"f895415f-e839-4765-95cd-7e17d4fbcd65\"},\"root_ids\":[\"p1046\"]}];\n  void root.Bokeh.embed.embed_items_notebook(docs_json, render_items);\n  }\n  if (root.Bokeh !== undefined) {\n    embed_document(root);\n  } else {\n    let attempts = 0;\n    const timer = setInterval(function(root) {\n      if (root.Bokeh !== undefined) {\n        clearInterval(timer);\n        embed_document(root);\n      } else {\n        attempts++;\n        if (attempts > 100) {\n          clearInterval(timer);\n          console.log(\"Bokeh: ERROR: Unable to run BokehJS code because BokehJS library is missing\");\n        }\n      }\n    }, 10, root)\n  }\n})(window);",
      "application/vnd.bokehjs_exec.v0+json": ""
     },
     "metadata": {
      "application/vnd.bokehjs_exec.v0+json": {
       "id": "p1046"
      }
     },
     "output_type": "display_data"
    },
    {
     "name": "stderr",
     "output_type": "stream",
     "text": [
      "/home/neuspouamengual/Descargas/anaconda3/envs/pyretip/lib/python3.10/site-packages/sklearn/metrics/_regression.py:483: FutureWarning: 'squared' is deprecated in version 1.4 and will be removed in 1.6. To calculate the root mean squared error, use the function'root_mean_squared_error'.\n",
      "  warnings.warn(\n"
     ]
    },
    {
     "data": {
      "text/plain": [
       "{'root_mean_squared_error': 1.1134127134512433,\n",
       " 'mean_squared_error': 1.2396878704748604,\n",
       " 'mean_absolute_error': 0.7734751396648044,\n",
       " 'median_absolute_error': 0.5732999999999984,\n",
       " 'explained_variance_score': 0.7370675054741544,\n",
       " 'mean_absolute_percentage_error': 0.16311060222504875,\n",
       " 'absolute_median_relative_error': 0.11798381640403334,\n",
       " 'r2_score': 0.7282099873494736,\n",
       " 'pearson_correlation': 0.8611037086293741,\n",
       " '90_percent_confidence_interval': 1.6044519845240366,\n",
       " '95_percent_confidence_interval': 2.002311200066016}"
      ]
     },
     "execution_count": 13,
     "metadata": {},
     "output_type": "execute_result"
    }
   ],
   "source": [
    "trainer.score(dataset.get_validation_data(), target_column='RT', plot=True)"
   ]
  },
  {
   "cell_type": "markdown",
   "id": "b875cf66",
   "metadata": {},
   "source": [
    "The RMSE and other scores on the external validation set are significantly worse than on our training and test, suggesting that our trainining set isn't sufficiently representative of our chemical space."
   ]
  },
  {
   "cell_type": "markdown",
   "id": "ef5371aa",
   "metadata": {},
   "source": [
    "### RT Prediction"
   ]
  },
  {
   "cell_type": "markdown",
   "id": "3f7a0c49",
   "metadata": {},
   "source": [
    "The trained model can be used to predict retention times for a new dataset."
   ]
  },
  {
   "cell_type": "code",
   "execution_count": 14,
   "id": "f89ffd3d",
   "metadata": {
    "scrolled": true
   },
   "outputs": [
    {
     "name": "stderr",
     "output_type": "stream",
     "text": [
      "[Parallel(n_jobs=1)]: Done  49 tasks      | elapsed:    0.0s\n"
     ]
    },
    {
     "data": {
      "text/plain": [
       "array([6.5895, 6.3409, 6.4395, 6.4341, 6.2873, 6.2166, 6.6554, 6.4619,\n",
       "       6.5139, 6.509 , 6.2512, 6.3971, 6.2671, 6.3904, 6.3236, 6.2617,\n",
       "       6.2343, 5.7364, 6.3985, 6.5484, 6.3017, 6.4336, 8.7766, 6.3343,\n",
       "       6.5785])"
      ]
     },
     "execution_count": 14,
     "metadata": {},
     "output_type": "execute_result"
    }
   ],
   "source": [
    "y_pred = trainer.predict(dataset.get_validation_data())\n",
    "y_pred[:25]"
   ]
  },
  {
   "cell_type": "markdown",
   "id": "158945fd",
   "metadata": {},
   "source": [
    "This is great, but a list of numbers isn't very useful.  Instead, we can annotate our dataset:"
   ]
  },
  {
   "cell_type": "code",
   "execution_count": 15,
   "id": "05c445b0",
   "metadata": {},
   "outputs": [
    {
     "name": "stderr",
     "output_type": "stream",
     "text": [
      "[Parallel(n_jobs=1)]: Done  49 tasks      | elapsed:    0.0s\n"
     ]
    }
   ],
   "source": [
    "annotated = trainer.annotate(dataset.get_validation_data(include_metadata=True), prediction_column='RTP')"
   ]
  },
  {
   "cell_type": "code",
   "execution_count": 16,
   "id": "dea4ad58",
   "metadata": {},
   "outputs": [
    {
     "data": {
      "text/html": [
       "<div>\n",
       "<style scoped>\n",
       "    .dataframe tbody tr th:only-of-type {\n",
       "        vertical-align: middle;\n",
       "    }\n",
       "\n",
       "    .dataframe tbody tr th {\n",
       "        vertical-align: top;\n",
       "    }\n",
       "\n",
       "    .dataframe thead th {\n",
       "        text-align: right;\n",
       "    }\n",
       "</style>\n",
       "<table border=\"1\" class=\"dataframe\">\n",
       "  <thead>\n",
       "    <tr style=\"text-align: right;\">\n",
       "      <th></th>\n",
       "      <th>Name</th>\n",
       "      <th>InChIKey</th>\n",
       "      <th>SMILES</th>\n",
       "      <th>RTP</th>\n",
       "      <th>RT</th>\n",
       "      <th>ABC</th>\n",
       "      <th>ABCGG</th>\n",
       "      <th>nAcid</th>\n",
       "      <th>nBase</th>\n",
       "      <th>nAromAtom</th>\n",
       "      <th>...</th>\n",
       "      <th>SRW09</th>\n",
       "      <th>SRW10</th>\n",
       "      <th>TSRW10</th>\n",
       "      <th>MW</th>\n",
       "      <th>AMW</th>\n",
       "      <th>WPath</th>\n",
       "      <th>WPol</th>\n",
       "      <th>Zagreb1</th>\n",
       "      <th>Zagreb2</th>\n",
       "      <th>mZagreb2</th>\n",
       "    </tr>\n",
       "  </thead>\n",
       "  <tbody>\n",
       "    <tr>\n",
       "      <th>0</th>\n",
       "      <td>Soyasapogenol E base + O-Hex-HexA</td>\n",
       "      <td>YDNHBSRZSMNZPB-NJAHCQCINA-N</td>\n",
       "      <td>O=C(O)C7OC(OC2CCC3(C)(C4CC=C1C5CC(C)(C)CC(=O)C...</td>\n",
       "      <td>6.5895</td>\n",
       "      <td>7.84</td>\n",
       "      <td>44.836157</td>\n",
       "      <td>32.982369</td>\n",
       "      <td>1</td>\n",
       "      <td>0</td>\n",
       "      <td>0</td>\n",
       "      <td>...</td>\n",
       "      <td>0.0</td>\n",
       "      <td>11.553443</td>\n",
       "      <td>96.348334</td>\n",
       "      <td>794.445257</td>\n",
       "      <td>6.511846</td>\n",
       "      <td>12554</td>\n",
       "      <td>131</td>\n",
       "      <td>330.0</td>\n",
       "      <td>420.0</td>\n",
       "      <td>11.631944</td>\n",
       "    </tr>\n",
       "    <tr>\n",
       "      <th>1</th>\n",
       "      <td>Soyasapogenol E base + O-HexA-Hex-dHex</td>\n",
       "      <td>CROUPKILZUPLQA-UHFFFAOYNA-N</td>\n",
       "      <td>O=C(O)C8OC(OC2CCC3(C)(C4CC=C1C5CC(C)(C)CC(=O)C...</td>\n",
       "      <td>6.3409</td>\n",
       "      <td>7.62</td>\n",
       "      <td>52.780741</td>\n",
       "      <td>38.464480</td>\n",
       "      <td>1</td>\n",
       "      <td>0</td>\n",
       "      <td>0</td>\n",
       "      <td>...</td>\n",
       "      <td>0.0</td>\n",
       "      <td>11.673657</td>\n",
       "      <td>107.062212</td>\n",
       "      <td>940.503166</td>\n",
       "      <td>6.623262</td>\n",
       "      <td>19659</td>\n",
       "      <td>152</td>\n",
       "      <td>386.0</td>\n",
       "      <td>489.0</td>\n",
       "      <td>13.743056</td>\n",
       "    </tr>\n",
       "    <tr>\n",
       "      <th>2</th>\n",
       "      <td>Soyasapogenol E base + O-HexA-Hex-Hex</td>\n",
       "      <td>JTXVTHCLTOUSSL-UHFFFAOYNA-N</td>\n",
       "      <td>O=C(O)C8OC(OC2CCC3(C)(C4CC=C1C5CC(C)(C)CC(=O)C...</td>\n",
       "      <td>6.4395</td>\n",
       "      <td>7.49</td>\n",
       "      <td>53.378458</td>\n",
       "      <td>38.971182</td>\n",
       "      <td>1</td>\n",
       "      <td>0</td>\n",
       "      <td>0</td>\n",
       "      <td>...</td>\n",
       "      <td>0.0</td>\n",
       "      <td>11.680125</td>\n",
       "      <td>108.106572</td>\n",
       "      <td>956.498080</td>\n",
       "      <td>6.688798</td>\n",
       "      <td>20502</td>\n",
       "      <td>154</td>\n",
       "      <td>390.0</td>\n",
       "      <td>494.0</td>\n",
       "      <td>14.076389</td>\n",
       "    </tr>\n",
       "    <tr>\n",
       "      <th>3</th>\n",
       "      <td>Soyasapogenol B base + O-HexA-Pen-dHex, O-C6H7...</td>\n",
       "      <td>VWKBHQGCNGULAZ-UHFFFAOYNA-N</td>\n",
       "      <td>O=C(O)C9OC(OC3CCC4(C)(C5CC=C2C6CC(C)(C)CC(OC1O...</td>\n",
       "      <td>6.4341</td>\n",
       "      <td>7.79</td>\n",
       "      <td>58.615935</td>\n",
       "      <td>41.117105</td>\n",
       "      <td>1</td>\n",
       "      <td>0</td>\n",
       "      <td>0</td>\n",
       "      <td>...</td>\n",
       "      <td>0.0</td>\n",
       "      <td>11.738011</td>\n",
       "      <td>114.489110</td>\n",
       "      <td>1038.539945</td>\n",
       "      <td>6.700258</td>\n",
       "      <td>27052</td>\n",
       "      <td>164</td>\n",
       "      <td>426.0</td>\n",
       "      <td>536.0</td>\n",
       "      <td>15.104167</td>\n",
       "    </tr>\n",
       "    <tr>\n",
       "      <th>4</th>\n",
       "      <td>Soyasapogenol B base + O-HexA-Hex-Pen, O-dHex</td>\n",
       "      <td>REIWEXDMDVAAEI-UHFFFAOYNA-N</td>\n",
       "      <td>CC1OC(OC2CC(C)(C)CC3C4=CCC5C6(C)CCC(OC7OC(C(O)...</td>\n",
       "      <td>6.2873</td>\n",
       "      <td>5.56</td>\n",
       "      <td>59.949268</td>\n",
       "      <td>42.489658</td>\n",
       "      <td>1</td>\n",
       "      <td>0</td>\n",
       "      <td>0</td>\n",
       "      <td>...</td>\n",
       "      <td>0.0</td>\n",
       "      <td>11.764827</td>\n",
       "      <td>116.612958</td>\n",
       "      <td>1074.561074</td>\n",
       "      <td>6.674292</td>\n",
       "      <td>28816</td>\n",
       "      <td>170</td>\n",
       "      <td>436.0</td>\n",
       "      <td>550.0</td>\n",
       "      <td>15.659722</td>\n",
       "    </tr>\n",
       "  </tbody>\n",
       "</table>\n",
       "<p>5 rows × 822 columns</p>\n",
       "</div>"
      ],
      "text/plain": [
       "                                                Name  \\\n",
       "0                  Soyasapogenol E base + O-Hex-HexA   \n",
       "1             Soyasapogenol E base + O-HexA-Hex-dHex   \n",
       "2              Soyasapogenol E base + O-HexA-Hex-Hex   \n",
       "3  Soyasapogenol B base + O-HexA-Pen-dHex, O-C6H7...   \n",
       "4      Soyasapogenol B base + O-HexA-Hex-Pen, O-dHex   \n",
       "\n",
       "                      InChIKey  \\\n",
       "0  YDNHBSRZSMNZPB-NJAHCQCINA-N   \n",
       "1  CROUPKILZUPLQA-UHFFFAOYNA-N   \n",
       "2  JTXVTHCLTOUSSL-UHFFFAOYNA-N   \n",
       "3  VWKBHQGCNGULAZ-UHFFFAOYNA-N   \n",
       "4  REIWEXDMDVAAEI-UHFFFAOYNA-N   \n",
       "\n",
       "                                              SMILES     RTP    RT        ABC  \\\n",
       "0  O=C(O)C7OC(OC2CCC3(C)(C4CC=C1C5CC(C)(C)CC(=O)C...  6.5895  7.84  44.836157   \n",
       "1  O=C(O)C8OC(OC2CCC3(C)(C4CC=C1C5CC(C)(C)CC(=O)C...  6.3409  7.62  52.780741   \n",
       "2  O=C(O)C8OC(OC2CCC3(C)(C4CC=C1C5CC(C)(C)CC(=O)C...  6.4395  7.49  53.378458   \n",
       "3  O=C(O)C9OC(OC3CCC4(C)(C5CC=C2C6CC(C)(C)CC(OC1O...  6.4341  7.79  58.615935   \n",
       "4  CC1OC(OC2CC(C)(C)CC3C4=CCC5C6(C)CCC(OC7OC(C(O)...  6.2873  5.56  59.949268   \n",
       "\n",
       "       ABCGG  nAcid  nBase  nAromAtom  ...  SRW09      SRW10      TSRW10  \\\n",
       "0  32.982369      1      0          0  ...    0.0  11.553443   96.348334   \n",
       "1  38.464480      1      0          0  ...    0.0  11.673657  107.062212   \n",
       "2  38.971182      1      0          0  ...    0.0  11.680125  108.106572   \n",
       "3  41.117105      1      0          0  ...    0.0  11.738011  114.489110   \n",
       "4  42.489658      1      0          0  ...    0.0  11.764827  116.612958   \n",
       "\n",
       "            MW       AMW  WPath  WPol  Zagreb1  Zagreb2   mZagreb2  \n",
       "0   794.445257  6.511846  12554   131    330.0    420.0  11.631944  \n",
       "1   940.503166  6.623262  19659   152    386.0    489.0  13.743056  \n",
       "2   956.498080  6.688798  20502   154    390.0    494.0  14.076389  \n",
       "3  1038.539945  6.700258  27052   164    426.0    536.0  15.104167  \n",
       "4  1074.561074  6.674292  28816   170    436.0    550.0  15.659722  \n",
       "\n",
       "[5 rows x 822 columns]"
      ]
     },
     "execution_count": 16,
     "metadata": {},
     "output_type": "execute_result"
    }
   ],
   "source": [
    "annotated.head()"
   ]
  },
  {
   "cell_type": "markdown",
   "id": "10d6a07a",
   "metadata": {},
   "source": [
    "Now the dataset includes a new column `RTP` containing the predicted retention time. The `RTP` values of molecules that could not be loaded or descriptors could not be calculated will be empty or null."
   ]
  },
  {
   "cell_type": "markdown",
   "id": "18d22ea1",
   "metadata": {},
   "source": [
    "### Feature importance"
   ]
  },
  {
   "cell_type": "markdown",
   "id": "676d14bc",
   "metadata": {},
   "source": [
    "The feature importance of the model can be visualized using the `plot_feature_importance` function by providing the model trained as input. It is possible to save the plot indicating the `plot_filename`."
   ]
  },
  {
   "cell_type": "code",
   "execution_count": 153,
   "id": "ceccb830",
   "metadata": {},
   "outputs": [
    {
     "data": {
      "text/html": [
       "    <style>\n",
       "        .bk-notebook-logo {\n",
       "            display: block;\n",
       "            width: 20px;\n",
       "            height: 20px;\n",
       "            background-image: url(data:image/png;base64,iVBORw0KGgoAAAANSUhEUgAAABQAAAAUCAYAAACNiR0NAAAABHNCSVQICAgIfAhkiAAAAAlwSFlzAAALEgAACxIB0t1+/AAAABx0RVh0U29mdHdhcmUAQWRvYmUgRmlyZXdvcmtzIENTNui8sowAAAOkSURBVDiNjZRtaJVlGMd/1/08zzln5zjP1LWcU9N0NkN8m2CYjpgQYQXqSs0I84OLIC0hkEKoPtiH3gmKoiJDU7QpLgoLjLIQCpEsNJ1vqUOdO7ppbuec5+V+rj4ctwzd8IIbbi6u+8f1539dt3A78eXC7QizUF7gyV1fD1Yqg4JWz84yffhm0qkFqBogB9rM8tZdtwVsPUhWhGcFJngGeWrPzHm5oaMmkfEg1usvLFyc8jLRqDOMru7AyC8saQr7GG7f5fvDeH7Ej8CM66nIF+8yngt6HWaKh7k49Soy9nXurCi1o3qUbS3zWfrYeQDTB/Qj6kX6Ybhw4B+bOYoLKCC9H3Nu/leUTZ1JdRWkkn2ldcCamzrcf47KKXdAJllSlxAOkRgyHsGC/zRday5Qld9DyoM4/q/rUoy/CXh3jzOu3bHUVZeU+DEn8FInkPBFlu3+nW3Nw0mk6vCDiWg8CeJaxEwuHS3+z5RgY+YBR6V1Z1nxSOfoaPa4LASWxxdNp+VWTk7+4vzaou8v8PN+xo+KY2xsw6une2frhw05CTYOmQvsEhjhWjn0bmXPjpE1+kplmmkP3suftwTubK9Vq22qKmrBhpY4jvd5afdRA3wGjFAgcnTK2s4hY0/GPNIb0nErGMCRxWOOX64Z8RAC4oCXdklmEvcL8o0BfkNK4lUg9HTl+oPlQxdNo3Mg4Nv175e/1LDGzZen30MEjRUtmXSfiTVu1kK8W4txyV6BMKlbgk3lMwYCiusNy9fVfvvwMxv8Ynl6vxoByANLTWplvuj/nF9m2+PDtt1eiHPBr1oIfhCChQMBw6Aw0UulqTKZdfVvfG7VcfIqLG9bcldL/+pdWTLxLUy8Qq38heUIjh4XlzZxzQm19lLFlr8vdQ97rjZVOLf8nclzckbcD4wxXMidpX30sFd37Fv/GtwwhzhxGVAprjbg0gCAEeIgwCZyTV2Z1REEW8O4py0wsjeloKoMr6iCY6dP92H6Vw/oTyICIthibxjm/DfN9lVz8IqtqKYLUXfoKVMVQVVJOElGjrnnUt9T9wbgp8AyYKaGlqingHZU/uG2NTZSVqwHQTWkx9hxjkpWDaCg6Ckj5qebgBVbT3V3NNXMSiWSDdGV3hrtzla7J+duwPOToIg42ChPQOQjspnSlp1V+Gjdged7+8UN5CRAV7a5EdFNwCjEaBR27b3W890TE7g24NAP/mMDXRWrGoFPQI9ls/MWO2dWFAar/xcOIImbbpA3zgAAAABJRU5ErkJggg==);\n",
       "        }\n",
       "    </style>\n",
       "    <div>\n",
       "        <a href=\"https://bokeh.org\" target=\"_blank\" class=\"bk-notebook-logo\"></a>\n",
       "        <span id=\"d8b83269-143e-40f2-88a8-f8eff954c801\">Loading BokehJS ...</span>\n",
       "    </div>\n"
      ]
     },
     "metadata": {},
     "output_type": "display_data"
    },
    {
     "data": {
      "application/javascript": "'use strict';\n(function(root) {\n  function now() {\n    return new Date();\n  }\n\n  const force = true;\n\n  if (typeof root._bokeh_onload_callbacks === \"undefined\" || force === true) {\n    root._bokeh_onload_callbacks = [];\n    root._bokeh_is_loading = undefined;\n  }\n\nconst JS_MIME_TYPE = 'application/javascript';\n  const HTML_MIME_TYPE = 'text/html';\n  const EXEC_MIME_TYPE = 'application/vnd.bokehjs_exec.v0+json';\n  const CLASS_NAME = 'output_bokeh rendered_html';\n\n  /**\n   * Render data to the DOM node\n   */\n  function render(props, node) {\n    const script = document.createElement(\"script\");\n    node.appendChild(script);\n  }\n\n  /**\n   * Handle when an output is cleared or removed\n   */\n  function handleClearOutput(event, handle) {\n    function drop(id) {\n      const view = Bokeh.index.get_by_id(id)\n      if (view != null) {\n        view.model.document.clear()\n        Bokeh.index.delete(view)\n      }\n    }\n\n    const cell = handle.cell;\n\n    const id = cell.output_area._bokeh_element_id;\n    const server_id = cell.output_area._bokeh_server_id;\n\n    // Clean up Bokeh references\n    if (id != null) {\n      drop(id)\n    }\n\n    if (server_id !== undefined) {\n      // Clean up Bokeh references\n      const cmd_clean = \"from bokeh.io.state import curstate; print(curstate().uuid_to_server['\" + server_id + \"'].get_sessions()[0].document.roots[0]._id)\";\n      cell.notebook.kernel.execute(cmd_clean, {\n        iopub: {\n          output: function(msg) {\n            const id = msg.content.text.trim()\n            drop(id)\n          }\n        }\n      });\n      // Destroy server and session\n      const cmd_destroy = \"import bokeh.io.notebook as ion; ion.destroy_server('\" + server_id + \"')\";\n      cell.notebook.kernel.execute(cmd_destroy);\n    }\n  }\n\n  /**\n   * Handle when a new output is added\n   */\n  function handleAddOutput(event, handle) {\n    const output_area = handle.output_area;\n    const output = handle.output;\n\n    // limit handleAddOutput to display_data with EXEC_MIME_TYPE content only\n    if ((output.output_type != \"display_data\") || (!Object.prototype.hasOwnProperty.call(output.data, EXEC_MIME_TYPE))) {\n      return\n    }\n\n    const toinsert = output_area.element.find(\".\" + CLASS_NAME.split(' ')[0]);\n\n    if (output.metadata[EXEC_MIME_TYPE][\"id\"] !== undefined) {\n      toinsert[toinsert.length - 1].firstChild.textContent = output.data[JS_MIME_TYPE];\n      // store reference to embed id on output_area\n      output_area._bokeh_element_id = output.metadata[EXEC_MIME_TYPE][\"id\"];\n    }\n    if (output.metadata[EXEC_MIME_TYPE][\"server_id\"] !== undefined) {\n      const bk_div = document.createElement(\"div\");\n      bk_div.innerHTML = output.data[HTML_MIME_TYPE];\n      const script_attrs = bk_div.children[0].attributes;\n      for (let i = 0; i < script_attrs.length; i++) {\n        toinsert[toinsert.length - 1].firstChild.setAttribute(script_attrs[i].name, script_attrs[i].value);\n        toinsert[toinsert.length - 1].firstChild.textContent = bk_div.children[0].textContent\n      }\n      // store reference to server id on output_area\n      output_area._bokeh_server_id = output.metadata[EXEC_MIME_TYPE][\"server_id\"];\n    }\n  }\n\n  function register_renderer(events, OutputArea) {\n\n    function append_mime(data, metadata, element) {\n      // create a DOM node to render to\n      const toinsert = this.create_output_subarea(\n        metadata,\n        CLASS_NAME,\n        EXEC_MIME_TYPE\n      );\n      this.keyboard_manager.register_events(toinsert);\n      // Render to node\n      const props = {data: data, metadata: metadata[EXEC_MIME_TYPE]};\n      render(props, toinsert[toinsert.length - 1]);\n      element.append(toinsert);\n      return toinsert\n    }\n\n    /* Handle when an output is cleared or removed */\n    events.on('clear_output.CodeCell', handleClearOutput);\n    events.on('delete.Cell', handleClearOutput);\n\n    /* Handle when a new output is added */\n    events.on('output_added.OutputArea', handleAddOutput);\n\n    /**\n     * Register the mime type and append_mime function with output_area\n     */\n    OutputArea.prototype.register_mime_type(EXEC_MIME_TYPE, append_mime, {\n      /* Is output safe? */\n      safe: true,\n      /* Index of renderer in `output_area.display_order` */\n      index: 0\n    });\n  }\n\n  // register the mime type if in Jupyter Notebook environment and previously unregistered\n  if (root.Jupyter !== undefined) {\n    const events = require('base/js/events');\n    const OutputArea = require('notebook/js/outputarea').OutputArea;\n\n    if (OutputArea.prototype.mime_types().indexOf(EXEC_MIME_TYPE) == -1) {\n      register_renderer(events, OutputArea);\n    }\n  }\n  if (typeof (root._bokeh_timeout) === \"undefined\" || force === true) {\n    root._bokeh_timeout = Date.now() + 5000;\n    root._bokeh_failed_load = false;\n  }\n\n  const NB_LOAD_WARNING = {'data': {'text/html':\n     \"<div style='background-color: #fdd'>\\n\"+\n     \"<p>\\n\"+\n     \"BokehJS does not appear to have successfully loaded. If loading BokehJS from CDN, this \\n\"+\n     \"may be due to a slow or bad network connection. Possible fixes:\\n\"+\n     \"</p>\\n\"+\n     \"<ul>\\n\"+\n     \"<li>re-rerun `output_notebook()` to attempt to load from CDN again, or</li>\\n\"+\n     \"<li>use INLINE resources instead, as so:</li>\\n\"+\n     \"</ul>\\n\"+\n     \"<code>\\n\"+\n     \"from bokeh.resources import INLINE\\n\"+\n     \"output_notebook(resources=INLINE)\\n\"+\n     \"</code>\\n\"+\n     \"</div>\"}};\n\n  function display_loaded(error = null) {\n    const el = document.getElementById(\"d8b83269-143e-40f2-88a8-f8eff954c801\");\n    if (el != null) {\n      const html = (() => {\n        if (typeof root.Bokeh === \"undefined\") {\n          if (error == null) {\n            return \"BokehJS is loading ...\";\n          } else {\n            return \"BokehJS failed to load.\";\n          }\n        } else {\n          const prefix = `BokehJS ${root.Bokeh.version}`;\n          if (error == null) {\n            return `${prefix} successfully loaded.`;\n          } else {\n            return `${prefix} <b>encountered errors</b> while loading and may not function as expected.`;\n          }\n        }\n      })();\n      el.innerHTML = html;\n\n      if (error != null) {\n        const wrapper = document.createElement(\"div\");\n        wrapper.style.overflow = \"auto\";\n        wrapper.style.height = \"5em\";\n        wrapper.style.resize = \"vertical\";\n        const content = document.createElement(\"div\");\n        content.style.fontFamily = \"monospace\";\n        content.style.whiteSpace = \"pre-wrap\";\n        content.style.backgroundColor = \"rgb(255, 221, 221)\";\n        content.textContent = error.stack ?? error.toString();\n        wrapper.append(content);\n        el.append(wrapper);\n      }\n    } else if (Date.now() < root._bokeh_timeout) {\n      setTimeout(() => display_loaded(error), 100);\n    }\n  }\n\n  function run_callbacks() {\n    try {\n      root._bokeh_onload_callbacks.forEach(function(callback) {\n        if (callback != null)\n          callback();\n      });\n    } finally {\n      delete root._bokeh_onload_callbacks\n    }\n    console.debug(\"Bokeh: all callbacks have finished\");\n  }\n\n  function load_libs(css_urls, js_urls, callback) {\n    if (css_urls == null) css_urls = [];\n    if (js_urls == null) js_urls = [];\n\n    root._bokeh_onload_callbacks.push(callback);\n    if (root._bokeh_is_loading > 0) {\n      console.debug(\"Bokeh: BokehJS is being loaded, scheduling callback at\", now());\n      return null;\n    }\n    if (js_urls == null || js_urls.length === 0) {\n      run_callbacks();\n      return null;\n    }\n    console.debug(\"Bokeh: BokehJS not loaded, scheduling load and callback at\", now());\n    root._bokeh_is_loading = css_urls.length + js_urls.length;\n\n    function on_load() {\n      root._bokeh_is_loading--;\n      if (root._bokeh_is_loading === 0) {\n        console.debug(\"Bokeh: all BokehJS libraries/stylesheets loaded\");\n        run_callbacks()\n      }\n    }\n\n    function on_error(url) {\n      console.error(\"failed to load \" + url);\n    }\n\n    for (let i = 0; i < css_urls.length; i++) {\n      const url = css_urls[i];\n      const element = document.createElement(\"link\");\n      element.onload = on_load;\n      element.onerror = on_error.bind(null, url);\n      element.rel = \"stylesheet\";\n      element.type = \"text/css\";\n      element.href = url;\n      console.debug(\"Bokeh: injecting link tag for BokehJS stylesheet: \", url);\n      document.body.appendChild(element);\n    }\n\n    for (let i = 0; i < js_urls.length; i++) {\n      const url = js_urls[i];\n      const element = document.createElement('script');\n      element.onload = on_load;\n      element.onerror = on_error.bind(null, url);\n      element.async = false;\n      element.src = url;\n      console.debug(\"Bokeh: injecting script tag for BokehJS library: \", url);\n      document.head.appendChild(element);\n    }\n  };\n\n  function inject_raw_css(css) {\n    const element = document.createElement(\"style\");\n    element.appendChild(document.createTextNode(css));\n    document.body.appendChild(element);\n  }\n\n  const js_urls = [\"https://cdn.bokeh.org/bokeh/release/bokeh-3.4.1.min.js\", \"https://cdn.bokeh.org/bokeh/release/bokeh-gl-3.4.1.min.js\", \"https://cdn.bokeh.org/bokeh/release/bokeh-widgets-3.4.1.min.js\", \"https://cdn.bokeh.org/bokeh/release/bokeh-tables-3.4.1.min.js\", \"https://cdn.bokeh.org/bokeh/release/bokeh-mathjax-3.4.1.min.js\"];\n  const css_urls = [];\n\n  const inline_js = [    function(Bokeh) {\n      Bokeh.set_log_level(\"info\");\n    },\nfunction(Bokeh) {\n    }\n  ];\n\n  function run_inline_js() {\n    if (root.Bokeh !== undefined || force === true) {\n      try {\n            for (let i = 0; i < inline_js.length; i++) {\n      inline_js[i].call(root, root.Bokeh);\n    }\n\n      } catch (error) {display_loaded(error);throw error;\n      }if (force === true) {\n        display_loaded();\n      }} else if (Date.now() < root._bokeh_timeout) {\n      setTimeout(run_inline_js, 100);\n    } else if (!root._bokeh_failed_load) {\n      console.log(\"Bokeh: BokehJS failed to load within specified timeout.\");\n      root._bokeh_failed_load = true;\n    } else if (force !== true) {\n      const cell = $(document.getElementById(\"d8b83269-143e-40f2-88a8-f8eff954c801\")).parents('.cell').data().cell;\n      cell.output_area.append_execute_result(NB_LOAD_WARNING)\n    }\n  }\n\n  if (root._bokeh_is_loading === 0) {\n    console.debug(\"Bokeh: BokehJS loaded, going straight to plotting\");\n    run_inline_js();\n  } else {\n    load_libs(css_urls, js_urls, function() {\n      console.debug(\"Bokeh: BokehJS plotting callback run at\", now());\n      run_inline_js();\n    });\n  }\n}(window));",
      "application/vnd.bokehjs_load.v0+json": ""
     },
     "metadata": {},
     "output_type": "display_data"
    },
    {
     "data": {
      "text/html": [
       "\n",
       "  <div id=\"e41de4cb-30b2-4b23-9f71-29ac37fb1f7e\" data-root-id=\"p4677\" style=\"display: contents;\"></div>\n"
      ]
     },
     "metadata": {},
     "output_type": "display_data"
    },
    {
     "data": {
      "application/javascript": "(function(root) {\n  function embed_document(root) {\n  const docs_json = {\"6f638025-ff66-47f5-9ea4-ad081afaefda\":{\"version\":\"3.4.1\",\"title\":\"Bokeh Application\",\"roots\":[{\"type\":\"object\",\"name\":\"Figure\",\"id\":\"p4677\",\"attributes\":{\"x_range\":{\"type\":\"object\",\"name\":\"DataRange1d\",\"id\":\"p4679\",\"attributes\":{\"start\":0}},\"y_range\":{\"type\":\"object\",\"name\":\"FactorRange\",\"id\":\"p4687\",\"attributes\":{\"factors\":[\"piPC3\",\"IC0\",\"nN\",\"ATSC2are\",\"SdO\",\"ATSC5dv\",\"VSA_EState5\",\"SIC2\",\"nFHRing\",\"ATSC1dv\",\"ATSC4are\",\"VSA_EState2\",\"AATSC0i\",\"SlogP_VSA5\",\"PEOE_VSA8\",\"nBase\",\"SMR_VSA3\",\"PEOE_VSA6\",\"AATS1i\",\"SLogP\"]}},\"x_scale\":{\"type\":\"object\",\"name\":\"LinearScale\",\"id\":\"p4688\"},\"y_scale\":{\"type\":\"object\",\"name\":\"CategoricalScale\",\"id\":\"p4689\"},\"title\":{\"type\":\"object\",\"name\":\"Title\",\"id\":\"p4680\",\"attributes\":{\"text\":\"Feature importance (top 20) \\n\",\"text_color\":\"#384049\",\"text_font_size\":\"15px\",\"align\":\"center\"}},\"renderers\":[{\"type\":\"object\",\"name\":\"GlyphRenderer\",\"id\":\"p4717\",\"attributes\":{\"data_source\":{\"type\":\"object\",\"name\":\"ColumnDataSource\",\"id\":\"p4674\",\"attributes\":{\"selected\":{\"type\":\"object\",\"name\":\"Selection\",\"id\":\"p4675\",\"attributes\":{\"indices\":[],\"line_indices\":[]}},\"selection_policy\":{\"type\":\"object\",\"name\":\"UnionRenderers\",\"id\":\"p4676\"},\"data\":{\"type\":\"map\",\"entries\":[[\"index\",{\"type\":\"ndarray\",\"array\":{\"type\":\"bytes\",\"data\":\"EwAAABIAAAARAAAAEAAAAA8AAAAOAAAADQAAAAwAAAALAAAACgAAAAkAAAAIAAAABwAAAAYAAAAFAAAABAAAAAMAAAACAAAAAQAAAAAAAAA=\"},\"shape\":[20],\"dtype\":\"int32\",\"order\":\"little\"}],[\"feature\",{\"type\":\"ndarray\",\"array\":[\"piPC3\",\"IC0\",\"nN\",\"ATSC2are\",\"SdO\",\"ATSC5dv\",\"VSA_EState5\",\"SIC2\",\"nFHRing\",\"ATSC1dv\",\"ATSC4are\",\"VSA_EState2\",\"AATSC0i\",\"SlogP_VSA5\",\"PEOE_VSA8\",\"nBase\",\"SMR_VSA3\",\"PEOE_VSA6\",\"AATS1i\",\"SLogP\"],\"shape\":[20],\"dtype\":\"object\",\"order\":\"little\"}],[\"importance\",{\"type\":\"ndarray\",\"array\":{\"type\":\"bytes\",\"data\":\"GkaM9n+UdD+4eXa3Rtt1P6XmsRylHHY/Y4kqrLsEdz9tONbkFWp3Pz/PAxF16Hk/GE1hzleVfT87XhH1sPR+P/iN7siQvX8/PwV2OWlYgz/DYj2txXmDP9pEbeIPUoQ/zaKjC4fehT8xehcFadqLP3rgA0p7GpQ//eAQDRFElz8Enlw09JeXP8XocDSOY5o/LFSovs1Vxj9TBQapbbXTPw==\"},\"shape\":[20],\"dtype\":\"float64\",\"order\":\"little\"}]]}}},\"view\":{\"type\":\"object\",\"name\":\"CDSView\",\"id\":\"p4718\",\"attributes\":{\"filter\":{\"type\":\"object\",\"name\":\"AllIndices\",\"id\":\"p4719\"}}},\"glyph\":{\"type\":\"object\",\"name\":\"HBar\",\"id\":\"p4714\",\"attributes\":{\"y\":{\"type\":\"field\",\"field\":\"feature\"},\"height\":{\"type\":\"value\",\"value\":0.8},\"right\":{\"type\":\"field\",\"field\":\"importance\"},\"line_color\":{\"type\":\"value\",\"value\":\"#D02937\"},\"fill_color\":{\"type\":\"value\",\"value\":\"#D02937\"}}},\"nonselection_glyph\":{\"type\":\"object\",\"name\":\"HBar\",\"id\":\"p4715\",\"attributes\":{\"y\":{\"type\":\"field\",\"field\":\"feature\"},\"height\":{\"type\":\"value\",\"value\":0.8},\"right\":{\"type\":\"field\",\"field\":\"importance\"},\"line_color\":{\"type\":\"value\",\"value\":\"#D02937\"},\"line_alpha\":{\"type\":\"value\",\"value\":0.1},\"fill_color\":{\"type\":\"value\",\"value\":\"#D02937\"},\"fill_alpha\":{\"type\":\"value\",\"value\":0.1},\"hatch_alpha\":{\"type\":\"value\",\"value\":0.1}}},\"muted_glyph\":{\"type\":\"object\",\"name\":\"HBar\",\"id\":\"p4716\",\"attributes\":{\"y\":{\"type\":\"field\",\"field\":\"feature\"},\"height\":{\"type\":\"value\",\"value\":0.8},\"right\":{\"type\":\"field\",\"field\":\"importance\"},\"line_color\":{\"type\":\"value\",\"value\":\"#D02937\"},\"line_alpha\":{\"type\":\"value\",\"value\":0.2},\"fill_color\":{\"type\":\"value\",\"value\":\"#D02937\"},\"fill_alpha\":{\"type\":\"value\",\"value\":0.2},\"hatch_alpha\":{\"type\":\"value\",\"value\":0.2}}}}}],\"toolbar\":{\"type\":\"object\",\"name\":\"Toolbar\",\"id\":\"p4686\",\"attributes\":{\"tools\":[{\"type\":\"object\",\"name\":\"PanTool\",\"id\":\"p4700\"},{\"type\":\"object\",\"name\":\"WheelZoomTool\",\"id\":\"p4701\",\"attributes\":{\"renderers\":\"auto\"}},{\"type\":\"object\",\"name\":\"BoxZoomTool\",\"id\":\"p4702\",\"attributes\":{\"overlay\":{\"type\":\"object\",\"name\":\"BoxAnnotation\",\"id\":\"p4703\",\"attributes\":{\"syncable\":false,\"level\":\"overlay\",\"visible\":false,\"left\":{\"type\":\"number\",\"value\":\"nan\"},\"right\":{\"type\":\"number\",\"value\":\"nan\"},\"top\":{\"type\":\"number\",\"value\":\"nan\"},\"bottom\":{\"type\":\"number\",\"value\":\"nan\"},\"left_units\":\"canvas\",\"right_units\":\"canvas\",\"top_units\":\"canvas\",\"bottom_units\":\"canvas\",\"line_color\":\"black\",\"line_alpha\":1.0,\"line_width\":2,\"line_dash\":[4,4],\"fill_color\":\"lightgrey\",\"fill_alpha\":0.5}}}},{\"type\":\"object\",\"name\":\"SaveTool\",\"id\":\"p4708\"},{\"type\":\"object\",\"name\":\"ResetTool\",\"id\":\"p4709\"},{\"type\":\"object\",\"name\":\"HelpTool\",\"id\":\"p4710\"},{\"type\":\"object\",\"name\":\"HoverTool\",\"id\":\"p4720\",\"attributes\":{\"renderers\":\"auto\",\"tooltips\":\"\\n        <div>\\n            <span style=\\\"font-weight: bold; color: #384049;\\\">@feature:</span>\\n            <span style=\\\"color: #384049;\\\">@importance</span>\\n        </div>\\n    \"}}]}},\"left\":[{\"type\":\"object\",\"name\":\"CategoricalAxis\",\"id\":\"p4695\",\"attributes\":{\"ticker\":{\"type\":\"object\",\"name\":\"CategoricalTicker\",\"id\":\"p4696\"},\"formatter\":{\"type\":\"object\",\"name\":\"CategoricalTickFormatter\",\"id\":\"p4697\"},\"axis_label_text_color\":\"#384049\",\"axis_label_text_font_style\":\"bold\",\"major_label_policy\":{\"type\":\"object\",\"name\":\"AllLabels\",\"id\":\"p4698\"},\"axis_line_color\":\"#384049\",\"major_tick_line_color\":\"#384049\",\"major_tick_in\":0,\"minor_tick_line_color\":\"#384049\",\"minor_tick_out\":3}}],\"below\":[{\"type\":\"object\",\"name\":\"LinearAxis\",\"id\":\"p4690\",\"attributes\":{\"ticker\":{\"type\":\"object\",\"name\":\"BasicTicker\",\"id\":\"p4691\",\"attributes\":{\"mantissas\":[1,2,5]}},\"formatter\":{\"type\":\"object\",\"name\":\"BasicTickFormatter\",\"id\":\"p4692\"},\"axis_label\":\"Importance\",\"axis_label_text_color\":\"#384049\",\"axis_label_text_font_style\":\"bold\",\"major_label_policy\":{\"type\":\"object\",\"name\":\"AllLabels\",\"id\":\"p4693\"},\"axis_line_color\":\"#384049\",\"major_tick_line_color\":\"#384049\",\"major_tick_in\":0,\"minor_tick_line_color\":\"#384049\",\"minor_tick_out\":3}}],\"center\":[{\"type\":\"object\",\"name\":\"Grid\",\"id\":\"p4694\",\"attributes\":{\"axis\":{\"id\":\"p4690\"},\"grid_line_color\":null}},{\"type\":\"object\",\"name\":\"Grid\",\"id\":\"p4699\",\"attributes\":{\"dimension\":1,\"axis\":{\"id\":\"p4695\"},\"grid_line_color\":null}}]}}]}};\n  const render_items = [{\"docid\":\"6f638025-ff66-47f5-9ea4-ad081afaefda\",\"roots\":{\"p4677\":\"e41de4cb-30b2-4b23-9f71-29ac37fb1f7e\"},\"root_ids\":[\"p4677\"]}];\n  void root.Bokeh.embed.embed_items_notebook(docs_json, render_items);\n  }\n  if (root.Bokeh !== undefined) {\n    embed_document(root);\n  } else {\n    let attempts = 0;\n    const timer = setInterval(function(root) {\n      if (root.Bokeh !== undefined) {\n        clearInterval(timer);\n        embed_document(root);\n      } else {\n        attempts++;\n        if (attempts > 100) {\n          clearInterval(timer);\n          console.log(\"Bokeh: ERROR: Unable to run BokehJS code because BokehJS library is missing\");\n        }\n      }\n    }, 10, root)\n  }\n})(window);",
      "application/vnd.bokehjs_exec.v0+json": ""
     },
     "metadata": {
      "application/vnd.bokehjs_exec.v0+json": {
       "id": "p4677"
      }
     },
     "output_type": "display_data"
    }
   ],
   "source": [
    "retip.visualization.plot_feature_importance(trainer)"
   ]
  },
  {
   "cell_type": "markdown",
   "id": "7f8e11a9",
   "metadata": {},
   "source": [
    "It is also possible to get all feature importance values as a dataframe using the `feature_importance` function."
   ]
  },
  {
   "cell_type": "code",
   "execution_count": null,
   "id": "bed01745",
   "metadata": {},
   "outputs": [],
   "source": [
    "# trainer.feature_importance().head()"
   ]
  },
  {
   "cell_type": "markdown",
   "id": "7a4d16b1",
   "metadata": {},
   "source": [
    "### Saving/Loading Models"
   ]
  },
  {
   "cell_type": "markdown",
   "id": "cc334651",
   "metadata": {},
   "source": [
    "The model can be saved to avoid needing to retrain in the future. It will save time!"
   ]
  },
  {
   "cell_type": "code",
   "execution_count": 17,
   "id": "a23250fb",
   "metadata": {},
   "outputs": [
    {
     "name": "stdout",
     "output_type": "stream",
     "text": [
      "Exported model to Plasma_positve_randomforest-model.joblib\n"
     ]
    }
   ],
   "source": [
    "trainer.save_model('Plasma_positve_randomforest-model.joblib')"
   ]
  },
  {
   "cell_type": "markdown",
   "id": "24b2af48",
   "metadata": {},
   "source": [
    "This exported model can then be reloaded and used to score datasets and predict new retention times.  However, unless a dataset is first passed to the trainer, it cannot be retrained."
   ]
  },
  {
   "cell_type": "code",
   "execution_count": 19,
   "id": "9c454b5c",
   "metadata": {},
   "outputs": [
    {
     "name": "stdout",
     "output_type": "stream",
     "text": [
      "Loaded Plasma_positve_randomforest-model.joblib\n"
     ]
    }
   ],
   "source": [
    "trainer = retip.RandomForestTrainer(dataset)\n",
    "trainer.load_model('Plasma_positve_randomforest-model.joblib')"
   ]
  }
 ],
 "metadata": {
  "kernelspec": {
   "display_name": "Python 3 (ipykernel)",
   "language": "python",
   "name": "python3"
  },
  "language_info": {
   "codemirror_mode": {
    "name": "ipython",
    "version": 3
   },
   "file_extension": ".py",
   "mimetype": "text/x-python",
   "name": "python",
   "nbconvert_exporter": "python",
   "pygments_lexer": "ipython3",
   "version": "3.10.14"
  }
 },
 "nbformat": 4,
 "nbformat_minor": 5
}
