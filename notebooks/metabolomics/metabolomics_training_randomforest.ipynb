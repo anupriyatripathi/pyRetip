{
 "cells": [
  {
   "cell_type": "markdown",
   "id": "68f8f6a2",
   "metadata": {},
   "source": [
    "![Retip](../../images/retip_logo.png)\n",
    "# Retip: Retention Time Prediction for Metabolomics and Lipidomics"
   ]
  },
  {
   "cell_type": "markdown",
   "id": "bec6ca41",
   "metadata": {},
   "source": [
    "Retip is a python tool for predicting retention times (RTs) of small molecules for high pressure liquid chromatography (HPLC) mass spectrometry. Retention time calculation can be useful in identifying unknowns and removing false positive annotations. The machine learning algorithms included in the tool are: **XGBoost**, **AutoGluon**, **AutoML** from **H2O** and **Random Forest**. This tutorial explains how to train a model with **Random Forest**."
   ]
  },
  {
   "cell_type": "markdown",
   "id": "0eca5949",
   "metadata": {},
   "source": [
    "## Training a Model with Random Forest"
   ]
  },
  {
   "cell_type": "markdown",
   "id": "be76b617",
   "metadata": {},
   "source": [
    "[Random forest](https://scikit-learn.org/stable/modules/generated/sklearn.ensemble.RandomForestRegressor.html) is a machine learning method widely used for classification and regression. It works by constructing a multitude of decision trees during the training phase. For regression tasks, the output is the average prediction of the individual trees."
   ]
  },
  {
   "cell_type": "markdown",
   "id": "284120ed",
   "metadata": {},
   "source": [
    "### Loading Data"
   ]
  },
  {
   "cell_type": "markdown",
   "id": "d69a03cf",
   "metadata": {},
   "source": [
    "Begin by importing the `retip` library, which provides access to the training, prediction and visualization functions."
   ]
  },
  {
   "cell_type": "code",
   "execution_count": 1,
   "id": "90eabd64",
   "metadata": {},
   "outputs": [],
   "source": [
    "%reload_ext autoreload\n",
    "%autoreload 2\n",
    "try:\n",
    "    import retip\n",
    "except:\n",
    "    # add the parent directory to the path to load the Retip library locally in case it isn't installed\n",
    "    import os, sys\n",
    "    directory = os.getcwd().split(\"pyRetip\")[0] + 'pyRetip'\n",
    "    sys.path.insert(1, directory)\n",
    "    \n",
    "    import retip"
   ]
  },
  {
   "cell_type": "markdown",
   "id": "8ff54e76",
   "metadata": {},
   "source": [
    "The input data should be a compound retention time table in CSV or MS Excel format, containing the compound name, retention time and chemical identifier. Retip currently supports SMILES and PubChem CID as chemical identifiers.\n",
    "\n",
    "Retip will use this input file to build the model and predict retention times for other biochemical databases or an input query list of compounds. It is suggested that the file has at least 300 compounds to build a good retention time prediction model.\n",
    "\n",
    "Use the `retip.Dataset` class to load the data and create a new dataset."
   ]
  },
  {
   "cell_type": "code",
   "execution_count": 2,
   "id": "687e5b39",
   "metadata": {},
   "outputs": [],
   "source": [
    "dataset = retip.Dataset(target_column='RT').load_retip_dataset(\n",
    "    training='Plasma_positive.xlsx', training_sheet_name='lib_2',\n",
    "    validation='Plasma_positive.xlsx', validation_sheet_name='ext')"
   ]
  },
  {
   "cell_type": "code",
   "execution_count": 3,
   "id": "e420bef7",
   "metadata": {},
   "outputs": [
    {
     "name": "stdout",
     "output_type": "stream",
     "text": [
      "Training\n",
      "             Name                     InChIKey  \\\n",
      "0       Withanone  FAZIYUIDUNHZRG-UHFFFAOYNA-N   \n",
      "1  Corosolic acid  HFGSQOYIOKBQOW-UHFFFAOYNA-N   \n",
      "\n",
      "                                              SMILES    RT  \n",
      "0  CC(C1CC(C)=C(C)C(=O)O1)C1(O)CCC2C3C4OC4C4(O)CC...  6.82  \n",
      "1  CC1CCC2(CCC3(C)C(=CCC4C5(C)CC(O)C(O)C(C)(C)C5C...  9.89  \n",
      "\n",
      "Validation\n",
      "                                     Name                     InChIKey  \\\n",
      "0       Soyasapogenol E base + O-Hex-HexA  YDNHBSRZSMNZPB-NJAHCQCINA-N   \n",
      "1  Soyasapogenol E base + O-HexA-Hex-dHex  CROUPKILZUPLQA-UHFFFAOYNA-N   \n",
      "\n",
      "                                              SMILES    RT  \n",
      "0  O=C(O)C7OC(OC2CCC3(C)(C4CC=C1C5CC(C)(C)CC(=O)C...  7.84  \n",
      "1  O=C(O)C8OC(OC2CCC3(C)(C4CC=C1C5CC(C)(C)CC(=O)C...  7.62  \n",
      "\n"
     ]
    }
   ],
   "source": [
    "dataset.head(2)"
   ]
  },
  {
   "cell_type": "markdown",
   "id": "25dd188c-213a-484f-8bda-a11240366a96",
   "metadata": {},
   "source": [
    "Next, the precalculated molecular descriptors can be computed with the [Mordred Molecular Descriptor Calculator](https://github.com/mordred-descriptor/mordred) by calling the `calculate_descriptors` function. Note that molecules that cannot be parsed will be retained the dataset, but cannot be used for model training or validation."
   ]
  },
  {
   "cell_type": "code",
   "execution_count": 4,
   "id": "b45f41d2",
   "metadata": {},
   "outputs": [
    {
     "name": "stdout",
     "output_type": "stream",
     "text": [
      "Calculating descriptors for training dataset\n"
     ]
    },
    {
     "name": "stderr",
     "output_type": "stream",
     "text": [
      "100%|██████████| 494/494 [01:33<00:00,  5.30it/s]\n",
      "/home/npa/Documentos/pyRetip/retip/dataset.py:198: FutureWarning: Downcasting behavior in `replace` is deprecated and will be removed in a future version. To retain the old behavior, explicitly call `result.infer_objects(copy=False)`. To opt-in to the future behavior, set `pd.set_option('future.no_silent_downcasting', True)`\n",
      "  descs = descs.replace({False: 0, True: 1})\n"
     ]
    },
    {
     "name": "stdout",
     "output_type": "stream",
     "text": [
      "Calculating descriptors for validation dataset\n"
     ]
    },
    {
     "name": "stderr",
     "output_type": "stream",
     "text": [
      "100%|██████████| 358/358 [01:23<00:00,  4.30it/s]\n",
      "/home/npa/Documentos/pyRetip/retip/dataset.py:198: FutureWarning: Downcasting behavior in `replace` is deprecated and will be removed in a future version. To retain the old behavior, explicitly call `result.infer_objects(copy=False)`. To opt-in to the future behavior, set `pd.set_option('future.no_silent_downcasting', True)`\n",
      "  descs = descs.replace({False: 0, True: 1})\n"
     ]
    }
   ],
   "source": [
    "dataset.calculate_descriptors()"
   ]
  },
  {
   "cell_type": "markdown",
   "id": "500b1065-3e90-42a2-95e7-98ff9b363889",
   "metadata": {},
   "source": [
    "The `describe` function shows the shape of the datasets, indicating the number of rows and columns in each dataframe."
   ]
  },
  {
   "cell_type": "code",
   "execution_count": 5,
   "id": "0a12678e-ed48-47e5-a64c-0738e965cb0a",
   "metadata": {},
   "outputs": [
    {
     "name": "stdout",
     "output_type": "stream",
     "text": [
      "Training (494, 1617)\n",
      "Validation (358, 1617)\n"
     ]
    }
   ],
   "source": [
    "dataset.describe()"
   ]
  },
  {
   "cell_type": "markdown",
   "id": "66528ecc",
   "metadata": {},
   "source": [
    "The `preprocess_features` function performs feature reduction by removing features with missing values and to restrict feature sets to descriptors which calculate non-null values for large sets of molecules. It is important to perform this step before training."
   ]
  },
  {
   "cell_type": "code",
   "execution_count": 6,
   "id": "7cfe980c",
   "metadata": {},
   "outputs": [
    {
     "name": "stdout",
     "output_type": "stream",
     "text": [
      "Reduced feature set from 1613 to 817\n"
     ]
    }
   ],
   "source": [
    "dataset.preprocess_features('metabolomics')"
   ]
  },
  {
   "cell_type": "markdown",
   "id": "03be66fb",
   "metadata": {},
   "source": [
    "Finally, it is possible to split the data into training and testing sets if it has not been loaded in separate files before. The `split_dataset` function makes that possible.\n",
    "\n",
    "- The `test_size` parameter defines what percentage of the dataset should be used for testing of the model's accuracy (this example uses 20%).\n",
    "- The `seed` parameter sets a specific training/test split for the database, enabling reproducable model training.\n",
    "- The `validation_split` parameter constructs an additional dataset for validation if desired."
   ]
  },
  {
   "cell_type": "code",
   "execution_count": 7,
   "id": "e75a86f0-4b8e-43de-9b89-9e2d50a8c41f",
   "metadata": {},
   "outputs": [],
   "source": [
    "dataset.split_dataset(test_split=0.2, seed=101)"
   ]
  },
  {
   "cell_type": "code",
   "execution_count": 8,
   "id": "1b8e926f-cae6-4b96-9b30-a2cedd0bdb08",
   "metadata": {},
   "outputs": [
    {
     "name": "stdout",
     "output_type": "stream",
     "text": [
      "Training (395, 821)\n",
      "Validation (358, 821)\n",
      "Testing (99, 821)\n"
     ]
    }
   ],
   "source": [
    "dataset.describe()"
   ]
  },
  {
   "cell_type": "markdown",
   "id": "2d562e06",
   "metadata": {},
   "source": [
    "#### Save the new dataset"
   ]
  },
  {
   "cell_type": "markdown",
   "id": "7170a855",
   "metadata": {},
   "source": [
    "Given that molecular descriptor calculation is a time-comsuming process, it is possible to save the current state of the dataset. Next time this retention time library is needed, simply use this export when loading this dataset instead. Note that there is no need to include a file extension, as Retip will automatically append the dataset type to the filename provided."
   ]
  },
  {
   "cell_type": "code",
   "execution_count": 9,
   "id": "f1c84751",
   "metadata": {},
   "outputs": [
    {
     "name": "stdout",
     "output_type": "stream",
     "text": [
      "Saved training dataset to Plasma_positive_retip_processed_training.csv\n",
      "Saved validation dataset to Plasma_positive_retip_processed_validation.csv\n",
      "Saved testing dataset to Plasma_positive_retip_processed_testing.csv\n"
     ]
    }
   ],
   "source": [
    "dataset.save_retip_dataset('Plasma_positive_retip_processed')"
   ]
  },
  {
   "cell_type": "markdown",
   "id": "d8478dd2-cc97-4f8d-9c77-bf868e954abb",
   "metadata": {},
   "source": [
    "This dataset can be loaded by running the `load_retip_dataset` function."
   ]
  },
  {
   "cell_type": "code",
   "execution_count": 10,
   "id": "dc270785",
   "metadata": {},
   "outputs": [],
   "source": [
    "# dataset = retip.Dataset(target_column='RT').load_retip_dataset(\n",
    "#     'Plasma_positive_retip_processed_training.csv',\n",
    "#     'Plasma_positive_retip_processed_testing.csv',\n",
    "#     'Plasma_positive_retip_processed_validation.csv')"
   ]
  },
  {
   "cell_type": "markdown",
   "id": "c9799203",
   "metadata": {},
   "source": [
    "### Training RT Prediction Model"
   ]
  },
  {
   "cell_type": "markdown",
   "id": "db8f5aee",
   "metadata": {},
   "source": [
    "Here, the RT prediction model will be trained. First, initialize the `RandomForestTrainer` with the dataset with computed descriptors. Set the different parameters:\n",
    "\n",
    "- The `n_estimator` parameter defines the number of trees in the forest. This value defaults to `100`.\n",
    "- The `random_state` parameter controls both the randomness of the bootstrapping of the samples used when building trees and the sampling of the features to consider when looking for the best split at each node. This value defaults to `0`."
   ]
  },
  {
   "cell_type": "code",
   "execution_count": 11,
   "id": "aecb0f8b",
   "metadata": {},
   "outputs": [
    {
     "name": "stdout",
     "output_type": "stream",
     "text": [
      "Fitting 10 folds for each of 10 candidates, totalling 100 fits\n",
      "Training completed in 0:00:24.610011 with best R² 0.7688071574187945\n"
     ]
    }
   ],
   "source": [
    "trainer = retip.RandomForestTrainer(dataset)\n",
    "trainer.train()"
   ]
  },
  {
   "cell_type": "markdown",
   "id": "2baa5db4",
   "metadata": {},
   "source": [
    "### Testing the RT Prediction Model"
   ]
  },
  {
   "cell_type": "markdown",
   "id": "9130dd0a",
   "metadata": {},
   "source": [
    "The model can be scored using the internal testing data of the `Dataset` object, or alternatively pass a dataframe with precomputed descriptors. In that case, the `target_column` needs to be specified, and the `Name` column has to be included to display that information in the plot (optional). Set the `plot` parameter to `True` to visualize how well the model works. Moreover, it is possible to save the plot indicating the `plot_filename`."
   ]
  },
  {
   "cell_type": "markdown",
   "id": "4c7707ea",
   "metadata": {},
   "source": [
    "#### Internal testing data"
   ]
  },
  {
   "cell_type": "code",
   "execution_count": 12,
   "id": "bc3e336e",
   "metadata": {},
   "outputs": [
    {
     "data": {
      "text/html": [
       "    <style>\n",
       "        .bk-notebook-logo {\n",
       "            display: block;\n",
       "            width: 20px;\n",
       "            height: 20px;\n",
       "            background-image: url(data:image/png;base64,iVBORw0KGgoAAAANSUhEUgAAABQAAAAUCAYAAACNiR0NAAAABHNCSVQICAgIfAhkiAAAAAlwSFlzAAALEgAACxIB0t1+/AAAABx0RVh0U29mdHdhcmUAQWRvYmUgRmlyZXdvcmtzIENTNui8sowAAAOkSURBVDiNjZRtaJVlGMd/1/08zzln5zjP1LWcU9N0NkN8m2CYjpgQYQXqSs0I84OLIC0hkEKoPtiH3gmKoiJDU7QpLgoLjLIQCpEsNJ1vqUOdO7ppbuec5+V+rj4ctwzd8IIbbi6u+8f1539dt3A78eXC7QizUF7gyV1fD1Yqg4JWz84yffhm0qkFqBogB9rM8tZdtwVsPUhWhGcFJngGeWrPzHm5oaMmkfEg1usvLFyc8jLRqDOMru7AyC8saQr7GG7f5fvDeH7Ej8CM66nIF+8yngt6HWaKh7k49Soy9nXurCi1o3qUbS3zWfrYeQDTB/Qj6kX6Ybhw4B+bOYoLKCC9H3Nu/leUTZ1JdRWkkn2ldcCamzrcf47KKXdAJllSlxAOkRgyHsGC/zRday5Qld9DyoM4/q/rUoy/CXh3jzOu3bHUVZeU+DEn8FInkPBFlu3+nW3Nw0mk6vCDiWg8CeJaxEwuHS3+z5RgY+YBR6V1Z1nxSOfoaPa4LASWxxdNp+VWTk7+4vzaou8v8PN+xo+KY2xsw6une2frhw05CTYOmQvsEhjhWjn0bmXPjpE1+kplmmkP3suftwTubK9Vq22qKmrBhpY4jvd5afdRA3wGjFAgcnTK2s4hY0/GPNIb0nErGMCRxWOOX64Z8RAC4oCXdklmEvcL8o0BfkNK4lUg9HTl+oPlQxdNo3Mg4Nv175e/1LDGzZen30MEjRUtmXSfiTVu1kK8W4txyV6BMKlbgk3lMwYCiusNy9fVfvvwMxv8Ynl6vxoByANLTWplvuj/nF9m2+PDtt1eiHPBr1oIfhCChQMBw6Aw0UulqTKZdfVvfG7VcfIqLG9bcldL/+pdWTLxLUy8Qq38heUIjh4XlzZxzQm19lLFlr8vdQ97rjZVOLf8nclzckbcD4wxXMidpX30sFd37Fv/GtwwhzhxGVAprjbg0gCAEeIgwCZyTV2Z1REEW8O4py0wsjeloKoMr6iCY6dP92H6Vw/oTyICIthibxjm/DfN9lVz8IqtqKYLUXfoKVMVQVVJOElGjrnnUt9T9wbgp8AyYKaGlqingHZU/uG2NTZSVqwHQTWkx9hxjkpWDaCg6Ckj5qebgBVbT3V3NNXMSiWSDdGV3hrtzla7J+duwPOToIg42ChPQOQjspnSlp1V+Gjdged7+8UN5CRAV7a5EdFNwCjEaBR27b3W890TE7g24NAP/mMDXRWrGoFPQI9ls/MWO2dWFAar/xcOIImbbpA3zgAAAABJRU5ErkJggg==);\n",
       "        }\n",
       "    </style>\n",
       "    <div>\n",
       "        <a href=\"https://bokeh.org\" target=\"_blank\" class=\"bk-notebook-logo\"></a>\n",
       "        <span id=\"dabd5648-305e-4df0-b4ee-c1285ca476a4\">Loading BokehJS ...</span>\n",
       "    </div>\n"
      ]
     },
     "metadata": {},
     "output_type": "display_data"
    },
    {
     "data": {
      "application/javascript": "'use strict';\n(function(root) {\n  function now() {\n    return new Date();\n  }\n\n  const force = true;\n\n  if (typeof root._bokeh_onload_callbacks === \"undefined\" || force === true) {\n    root._bokeh_onload_callbacks = [];\n    root._bokeh_is_loading = undefined;\n  }\n\nconst JS_MIME_TYPE = 'application/javascript';\n  const HTML_MIME_TYPE = 'text/html';\n  const EXEC_MIME_TYPE = 'application/vnd.bokehjs_exec.v0+json';\n  const CLASS_NAME = 'output_bokeh rendered_html';\n\n  /**\n   * Render data to the DOM node\n   */\n  function render(props, node) {\n    const script = document.createElement(\"script\");\n    node.appendChild(script);\n  }\n\n  /**\n   * Handle when an output is cleared or removed\n   */\n  function handleClearOutput(event, handle) {\n    function drop(id) {\n      const view = Bokeh.index.get_by_id(id)\n      if (view != null) {\n        view.model.document.clear()\n        Bokeh.index.delete(view)\n      }\n    }\n\n    const cell = handle.cell;\n\n    const id = cell.output_area._bokeh_element_id;\n    const server_id = cell.output_area._bokeh_server_id;\n\n    // Clean up Bokeh references\n    if (id != null) {\n      drop(id)\n    }\n\n    if (server_id !== undefined) {\n      // Clean up Bokeh references\n      const cmd_clean = \"from bokeh.io.state import curstate; print(curstate().uuid_to_server['\" + server_id + \"'].get_sessions()[0].document.roots[0]._id)\";\n      cell.notebook.kernel.execute(cmd_clean, {\n        iopub: {\n          output: function(msg) {\n            const id = msg.content.text.trim()\n            drop(id)\n          }\n        }\n      });\n      // Destroy server and session\n      const cmd_destroy = \"import bokeh.io.notebook as ion; ion.destroy_server('\" + server_id + \"')\";\n      cell.notebook.kernel.execute(cmd_destroy);\n    }\n  }\n\n  /**\n   * Handle when a new output is added\n   */\n  function handleAddOutput(event, handle) {\n    const output_area = handle.output_area;\n    const output = handle.output;\n\n    // limit handleAddOutput to display_data with EXEC_MIME_TYPE content only\n    if ((output.output_type != \"display_data\") || (!Object.prototype.hasOwnProperty.call(output.data, EXEC_MIME_TYPE))) {\n      return\n    }\n\n    const toinsert = output_area.element.find(\".\" + CLASS_NAME.split(' ')[0]);\n\n    if (output.metadata[EXEC_MIME_TYPE][\"id\"] !== undefined) {\n      toinsert[toinsert.length - 1].firstChild.textContent = output.data[JS_MIME_TYPE];\n      // store reference to embed id on output_area\n      output_area._bokeh_element_id = output.metadata[EXEC_MIME_TYPE][\"id\"];\n    }\n    if (output.metadata[EXEC_MIME_TYPE][\"server_id\"] !== undefined) {\n      const bk_div = document.createElement(\"div\");\n      bk_div.innerHTML = output.data[HTML_MIME_TYPE];\n      const script_attrs = bk_div.children[0].attributes;\n      for (let i = 0; i < script_attrs.length; i++) {\n        toinsert[toinsert.length - 1].firstChild.setAttribute(script_attrs[i].name, script_attrs[i].value);\n        toinsert[toinsert.length - 1].firstChild.textContent = bk_div.children[0].textContent\n      }\n      // store reference to server id on output_area\n      output_area._bokeh_server_id = output.metadata[EXEC_MIME_TYPE][\"server_id\"];\n    }\n  }\n\n  function register_renderer(events, OutputArea) {\n\n    function append_mime(data, metadata, element) {\n      // create a DOM node to render to\n      const toinsert = this.create_output_subarea(\n        metadata,\n        CLASS_NAME,\n        EXEC_MIME_TYPE\n      );\n      this.keyboard_manager.register_events(toinsert);\n      // Render to node\n      const props = {data: data, metadata: metadata[EXEC_MIME_TYPE]};\n      render(props, toinsert[toinsert.length - 1]);\n      element.append(toinsert);\n      return toinsert\n    }\n\n    /* Handle when an output is cleared or removed */\n    events.on('clear_output.CodeCell', handleClearOutput);\n    events.on('delete.Cell', handleClearOutput);\n\n    /* Handle when a new output is added */\n    events.on('output_added.OutputArea', handleAddOutput);\n\n    /**\n     * Register the mime type and append_mime function with output_area\n     */\n    OutputArea.prototype.register_mime_type(EXEC_MIME_TYPE, append_mime, {\n      /* Is output safe? */\n      safe: true,\n      /* Index of renderer in `output_area.display_order` */\n      index: 0\n    });\n  }\n\n  // register the mime type if in Jupyter Notebook environment and previously unregistered\n  if (root.Jupyter !== undefined) {\n    const events = require('base/js/events');\n    const OutputArea = require('notebook/js/outputarea').OutputArea;\n\n    if (OutputArea.prototype.mime_types().indexOf(EXEC_MIME_TYPE) == -1) {\n      register_renderer(events, OutputArea);\n    }\n  }\n  if (typeof (root._bokeh_timeout) === \"undefined\" || force === true) {\n    root._bokeh_timeout = Date.now() + 5000;\n    root._bokeh_failed_load = false;\n  }\n\n  const NB_LOAD_WARNING = {'data': {'text/html':\n     \"<div style='background-color: #fdd'>\\n\"+\n     \"<p>\\n\"+\n     \"BokehJS does not appear to have successfully loaded. If loading BokehJS from CDN, this \\n\"+\n     \"may be due to a slow or bad network connection. Possible fixes:\\n\"+\n     \"</p>\\n\"+\n     \"<ul>\\n\"+\n     \"<li>re-rerun `output_notebook()` to attempt to load from CDN again, or</li>\\n\"+\n     \"<li>use INLINE resources instead, as so:</li>\\n\"+\n     \"</ul>\\n\"+\n     \"<code>\\n\"+\n     \"from bokeh.resources import INLINE\\n\"+\n     \"output_notebook(resources=INLINE)\\n\"+\n     \"</code>\\n\"+\n     \"</div>\"}};\n\n  function display_loaded(error = null) {\n    const el = document.getElementById(\"dabd5648-305e-4df0-b4ee-c1285ca476a4\");\n    if (el != null) {\n      const html = (() => {\n        if (typeof root.Bokeh === \"undefined\") {\n          if (error == null) {\n            return \"BokehJS is loading ...\";\n          } else {\n            return \"BokehJS failed to load.\";\n          }\n        } else {\n          const prefix = `BokehJS ${root.Bokeh.version}`;\n          if (error == null) {\n            return `${prefix} successfully loaded.`;\n          } else {\n            return `${prefix} <b>encountered errors</b> while loading and may not function as expected.`;\n          }\n        }\n      })();\n      el.innerHTML = html;\n\n      if (error != null) {\n        const wrapper = document.createElement(\"div\");\n        wrapper.style.overflow = \"auto\";\n        wrapper.style.height = \"5em\";\n        wrapper.style.resize = \"vertical\";\n        const content = document.createElement(\"div\");\n        content.style.fontFamily = \"monospace\";\n        content.style.whiteSpace = \"pre-wrap\";\n        content.style.backgroundColor = \"rgb(255, 221, 221)\";\n        content.textContent = error.stack ?? error.toString();\n        wrapper.append(content);\n        el.append(wrapper);\n      }\n    } else if (Date.now() < root._bokeh_timeout) {\n      setTimeout(() => display_loaded(error), 100);\n    }\n  }\n\n  function run_callbacks() {\n    try {\n      root._bokeh_onload_callbacks.forEach(function(callback) {\n        if (callback != null)\n          callback();\n      });\n    } finally {\n      delete root._bokeh_onload_callbacks\n    }\n    console.debug(\"Bokeh: all callbacks have finished\");\n  }\n\n  function load_libs(css_urls, js_urls, callback) {\n    if (css_urls == null) css_urls = [];\n    if (js_urls == null) js_urls = [];\n\n    root._bokeh_onload_callbacks.push(callback);\n    if (root._bokeh_is_loading > 0) {\n      console.debug(\"Bokeh: BokehJS is being loaded, scheduling callback at\", now());\n      return null;\n    }\n    if (js_urls == null || js_urls.length === 0) {\n      run_callbacks();\n      return null;\n    }\n    console.debug(\"Bokeh: BokehJS not loaded, scheduling load and callback at\", now());\n    root._bokeh_is_loading = css_urls.length + js_urls.length;\n\n    function on_load() {\n      root._bokeh_is_loading--;\n      if (root._bokeh_is_loading === 0) {\n        console.debug(\"Bokeh: all BokehJS libraries/stylesheets loaded\");\n        run_callbacks()\n      }\n    }\n\n    function on_error(url) {\n      console.error(\"failed to load \" + url);\n    }\n\n    for (let i = 0; i < css_urls.length; i++) {\n      const url = css_urls[i];\n      const element = document.createElement(\"link\");\n      element.onload = on_load;\n      element.onerror = on_error.bind(null, url);\n      element.rel = \"stylesheet\";\n      element.type = \"text/css\";\n      element.href = url;\n      console.debug(\"Bokeh: injecting link tag for BokehJS stylesheet: \", url);\n      document.body.appendChild(element);\n    }\n\n    for (let i = 0; i < js_urls.length; i++) {\n      const url = js_urls[i];\n      const element = document.createElement('script');\n      element.onload = on_load;\n      element.onerror = on_error.bind(null, url);\n      element.async = false;\n      element.src = url;\n      console.debug(\"Bokeh: injecting script tag for BokehJS library: \", url);\n      document.head.appendChild(element);\n    }\n  };\n\n  function inject_raw_css(css) {\n    const element = document.createElement(\"style\");\n    element.appendChild(document.createTextNode(css));\n    document.body.appendChild(element);\n  }\n\n  const js_urls = [\"https://cdn.bokeh.org/bokeh/release/bokeh-3.4.1.min.js\", \"https://cdn.bokeh.org/bokeh/release/bokeh-gl-3.4.1.min.js\", \"https://cdn.bokeh.org/bokeh/release/bokeh-widgets-3.4.1.min.js\", \"https://cdn.bokeh.org/bokeh/release/bokeh-tables-3.4.1.min.js\", \"https://cdn.bokeh.org/bokeh/release/bokeh-mathjax-3.4.1.min.js\"];\n  const css_urls = [];\n\n  const inline_js = [    function(Bokeh) {\n      Bokeh.set_log_level(\"info\");\n    },\nfunction(Bokeh) {\n    }\n  ];\n\n  function run_inline_js() {\n    if (root.Bokeh !== undefined || force === true) {\n      try {\n            for (let i = 0; i < inline_js.length; i++) {\n      inline_js[i].call(root, root.Bokeh);\n    }\n\n      } catch (error) {display_loaded(error);throw error;\n      }if (force === true) {\n        display_loaded();\n      }} else if (Date.now() < root._bokeh_timeout) {\n      setTimeout(run_inline_js, 100);\n    } else if (!root._bokeh_failed_load) {\n      console.log(\"Bokeh: BokehJS failed to load within specified timeout.\");\n      root._bokeh_failed_load = true;\n    } else if (force !== true) {\n      const cell = $(document.getElementById(\"dabd5648-305e-4df0-b4ee-c1285ca476a4\")).parents('.cell').data().cell;\n      cell.output_area.append_execute_result(NB_LOAD_WARNING)\n    }\n  }\n\n  if (root._bokeh_is_loading === 0) {\n    console.debug(\"Bokeh: BokehJS loaded, going straight to plotting\");\n    run_inline_js();\n  } else {\n    load_libs(css_urls, js_urls, function() {\n      console.debug(\"Bokeh: BokehJS plotting callback run at\", now());\n      run_inline_js();\n    });\n  }\n}(window));",
      "application/vnd.bokehjs_load.v0+json": ""
     },
     "metadata": {},
     "output_type": "display_data"
    },
    {
     "data": {
      "text/html": [
       "\n",
       "  <div id=\"eb577dee-b7f9-4c0e-a232-d5d843a84f79\" data-root-id=\"p1001\" style=\"display: contents;\"></div>\n"
      ]
     },
     "metadata": {},
     "output_type": "display_data"
    },
    {
     "data": {
      "application/javascript": "(function(root) {\n  function embed_document(root) {\n  const docs_json = {\"f93f685c-8111-4fc7-b05e-3d5850e6a8d3\":{\"version\":\"3.4.1\",\"title\":\"Bokeh Application\",\"roots\":[{\"type\":\"object\",\"name\":\"Figure\",\"id\":\"p1001\",\"attributes\":{\"x_range\":{\"type\":\"object\",\"name\":\"DataRange1d\",\"id\":\"p1002\"},\"y_range\":{\"type\":\"object\",\"name\":\"DataRange1d\",\"id\":\"p1003\"},\"x_scale\":{\"type\":\"object\",\"name\":\"LinearScale\",\"id\":\"p1010\"},\"y_scale\":{\"type\":\"object\",\"name\":\"LinearScale\",\"id\":\"p1011\"},\"title\":{\"type\":\"object\",\"name\":\"Title\",\"id\":\"p1008\"},\"renderers\":[{\"type\":\"object\",\"name\":\"GlyphRenderer\",\"id\":\"p1042\",\"attributes\":{\"data_source\":{\"type\":\"object\",\"name\":\"ColumnDataSource\",\"id\":\"p1033\",\"attributes\":{\"selected\":{\"type\":\"object\",\"name\":\"Selection\",\"id\":\"p1034\",\"attributes\":{\"indices\":[],\"line_indices\":[]}},\"selection_policy\":{\"type\":\"object\",\"name\":\"UnionRenderers\",\"id\":\"p1035\"},\"data\":{\"type\":\"map\",\"entries\":[[\"index\",{\"type\":\"ndarray\",\"array\":{\"type\":\"bytes\",\"data\":\"BAEAABIAAADBAQAAxgAAAIAAAADsAAAAzgEAAOQAAAB+AQAA1QAAALUBAAAJAQAA9gAAADsBAADhAQAAJwAAAK4BAAAMAAAAIAAAALoAAABMAQAAZAAAAGsBAAB2AQAAkAEAAHIAAAATAAAApQAAAC4BAAAWAQAAnAEAAOoAAAAfAAAAKgEAAFEAAABaAQAAJwEAAL0AAADaAAAAWQAAADQBAAChAAAAmwAAAGABAAAiAQAAFQEAAE4BAAACAAAAbwEAAMQBAADTAQAAygAAAP8AAABZAQAArQEAALYBAAChAQAAEgEAAGIBAAC7AAAA4wAAAGIAAABBAAAAaAAAAHUAAACpAQAA4wEAADAAAAABAQAA2gEAABgAAACOAQAAXwAAAAgAAABEAQAAxwEAAIIAAAAmAAAAswAAAMgAAACKAAAATwEAAJ0AAACyAAAAhwEAAHsBAABFAAAArwEAAM0AAACaAAAASAAAAGkBAAAeAQAAwgAAADcAAAD7AAAAOQAAADIBAABtAQAA\"},\"shape\":[99],\"dtype\":\"int32\",\"order\":\"little\"}],[\"Name\",{\"type\":\"ndarray\",\"array\":[\"alpha-Chaconine\",\"Chrysanthellin B\",\"Cyanidin-3-O-rutinoside\",\"7alpha-Voacangine hydroxyindolenine\",\"Procyanidin B2\",\"Boldine\",\"FA 18:1+1O (Ricinoleic acid)\",\"Hetisine\",\"Leucine\",\"(+)-Tubocurarine chloride\",\"8-Methylsulfinyloctyl isothiocyanate\",\"Chlorogenic acid\",\"Karakoline\",\"Kaempferol-3-O-glucoside-3''-rhamnoside\",\"Luteolin-8-C-glucoside\",\"Schizandrin\",\"Loganin\",\"Saikosaponin D\",\"O-Acetylsolasodine\",\"Gardnutine\",\"Vicenin 2\",\"2'-Hydroxyflavanone\",\"Alanylleucine (isomer of 675)\",\"trans-Caffeic acid\",\"Pelargonidin-3-O-glucoside\",\"Chalcone\",\"Hederacoside C\",\"Vasicine\",\"Quercetin-3-O-glucoside\",\"Uridine (not validated)\",\"Ginsenoside Rg3(S-FORM)\",\"11,12-Methylenedioxykopsinaline\",\"N-Acetylsolasodine\",\"Tryptamine (not validated)\",\"Kaempferol-3-O-glucuronoside\",\"PyroglutamylIsoleucine (isomer of 1005)\",\"Daidzein\",\"Senecionine\",\"Reserpic acid\",\"Baicalein\",\"Syringetin-3-O-glucoside\",\"Sparteine\",\"Homatropine\",\"Alanylphenylalanine\",\"Formononetin\",\"5'-S-Methyl-5'-thioadenosine\",\"Isookanin-7-O-glucoside\",\"Maslinic acid\",\"6-Methoxy-7-hydroxycoumarin\",\"Dodecyl hydrogen sulfate\",\"Glutaric acid\",\"Harmol\",\"Soyasaponin Bb\",\"Threonylleucine (isomer of 809, 925)\",\"Lariciresinol\",\"Kaempferol-3-O-arabinoside\",\"Ginsenoside Rb3\",\"Amino-nitro-toluene\",\"Leucylleucine\",\"Gardnerine\",\"Laudanosine\",\"Hesperetin-7-O-rutinoside\",\"Swertiamarin\",\"Osthole\",\"Ellipticine\",\"[6]-Gingerol\",\"Pinocembrin\",\"Oxyacanthine\",\"Licoricesaponin G2\",\"Myricetin-3-O-galactoside\",\"3,4,5-Trihydroxystilbene\",\"Sinapic acid\",\"Eriodictyol-7-O-neohesperidoside\",\"Ginsenoside Rg5\",\"Flavone base + 3O, O-HexA\",\"Cryptochlorogenic acid\",\"Silychrystin\",\"4-Hydroxyquinoline\",\"Neocuproine\",\"Harmane\",\"Malvidin-3-O-galactoside\",\"Flavanone base + 3O, 1MeO\",\"Vincanidine\",\"Tabersonine\",\"Geniposide\",\"Tyramine\",\"Ginkgolide B\",\"2-Propenyl glucosinolate\",\"Gelsemine\",\"Speciosine\",\"isosakuranetin-7-O-neohesperidoside\",\"Leucylglycine\",\"Phytosphingosine (not validated, isomer of 1697)\",\"Rhynchophylline\",\"Enterodiol\",\"Mesaconitine\",\"Justicidin G\",\"Quercetin-3,4'-O-di-beta-glucoside\",\"Serylleucine\"],\"shape\":[99],\"dtype\":\"object\",\"order\":\"little\"}],[\"y\",{\"type\":\"ndarray\",\"array\":{\"type\":\"bytes\",\"data\":\"CtejcD0KFEApXI/C9SgXQIXrUbgehQdACtejcD0KEEDsUbgehesJQM3MzMzMzApAKVyPwvUoJECPwvUoXI8IQOxRuB6F6/0/SOF6FK5HC0B7FK5H4XoMQArXo3A9CglAH4XrUbgeB0CamZmZmZkQQJqZmZmZmQ1AXI/C9ShcHkDhehSuR+EKQAAAAAAAgCBAUrgehetRIECuR+F6FK4RQGZmZmZmZgpAzczMzMzMHUDhehSuR+ECQIXrUbgehQtA9ihcj8L1CEAK16NwPQoiQIXrUbgehRVAZmZmZmZmBEAfhetRuB4QQM3MzMzMzPw/ZmZmZmZmIEDhehSuR+EMQHE9CtejcB1ApHA9Ctej/D9cj8L1KFwRQGZmZmZmZgRAmpmZmZmZFEBmZmZmZmYOQB+F61G4Hg9AmpmZmZmZGUBxPQrXo3ARQKRwPQrXowJAMzMzMzMzCUC4HoXrUbgGQMP1KFyPwhpAmpmZmZmZBUDD9Shcj8ILQArXo3A9iiNA9ihcj8L1EEDNzMzMzEwhQD0K16NwPQRAcT0K16NwCUBcj8L1KFwcQEjhehSuRwNA16NwPQrXE0DhehSuR+ERQMP1KFyPwhhAuB6F61G4AkBSuB6F61EKQHE9CtejcA1ACtejcD0KEUAK16NwPQoSQJqZmZmZmQlAAAAAAACAIUC4HoXrUbgTQM3MzMzMzB1A4XoUrkfhHUAUrkfhehQOQHE9CtejcBlAH4XrUbgeDUAAAAAAAAAUQNejcD0K1xBAKVyPwvUoEEDD9Shcj0IjQPYoXI/C9RFAZmZmZmZmEkDXo3A9CtcTQHE9CtejcAdAw/UoXI/CC0CamZmZmZkNQEjhehSuRwlAKVyPwvUoGEAK16NwPQoLQM3MzMzMzBRAXI/C9ShcC0BI4XoUrkf9P3E9CtejcBVAUrgehetR/D+uR+F6FK4JQB+F61G4HhRArkfhehSuFUCkcD0K16MAQEjhehSuRx9AmpmZmZmZE0AK16NwPQoVQHE9CtejcBZAXI/C9SjcIUBSuB6F61EMQArXo3A9CgNA\"},\"shape\":[99],\"dtype\":\"float64\",\"order\":\"little\"}],[\"y_pred\",{\"type\":\"ndarray\",\"array\":{\"type\":\"bytes\",\"data\":\"vE8qdE8vFUBgS0DfHZYXQO46RBiOyQlA4eI08vQFEkBXn8JlqgsRQHFqNN5RBBBAXbpf1vDKIkAWpqo5AwgQQE/B8OPACQFAxCwjHyLFEUB0SHY8o1AXQDOHf7zF9wtAssDstfSdC0D/x6eLxYkQQOgrEv+KTA5AcW9YDGxlGEByuAW4JMIHQLuY1WVfdRhA5rxp8bWaF0A8XxfV8MUSQJJSLSvBJw1ANG4s9VGZG0DfkeSUhXoCQHNjWrJzmwxACGAly7TmCkBEHbJ31VcgQHr/4s3bUBdAJTJOSJ5eC0AT7FlaPIoQQKN3QY1TTABA+yV4eMVrG0APRF9dkU8RQJ1kEUA7jhlAG5xIoN0wB0CPgR1K4L0RQHcTEK2MQwVAMgpmxQDlGUDqZr7UTPoNQN+Y+pALyxFAT3Q9CXrzF0BDpsCnVloRQA3GEmkXGAhAYXD9aKB3DkBIEEgMMSAEQJRP52DPjxpAJH6LJYbeAECgIAheZf4PQA/CjNVRLiJA/HMllxZJEkB/KmWl7CkiQEFhddThrgFALeUMqRvsEEBoj/4z8+oZQLgJE81zuAFAJaPQ1ycBFEAYqMZeDacRQJ9APnLzARdA50HpNaSRA0CKS0i220AIQCxQEmEavg5Az0rFpOdJFkC2Br4OmOERQCgfCyUoXQdArYpd3kpnHEA4sLFiDIkWQN9k6P16QhhAEjNpVOgxGUB+a3tFSisRQIHWN2GC7BhAwGVyUkfNDkDAuV3zW7YYQKgP6P0d7RFAZN2PW6q8EEA/uxp6fbccQAuckN9PxhFAGywxxasSDUAF/f5dg88UQFaWDVvDfhFAeiA7+vqvF0CP8gi9YKwRQAEFuu3O1QtAOI0pp58IGEDpOt3uP0wQQB4cmjghnxJA0yabo0ORB0DiuKDvIzgEQNYDYNQzSRJAn89W4ebT/z/EcaNbq24QQHPqy71R8hVA+LXDdkuLFEAxl/x5gdkAQDa4tqWayBZATFjWWwmmEkDWiaie+lEQQNGfVLP+LBdApgQG6QiIGkDUJ4G0m1kKQN34rSD8hQFA\"},\"shape\":[99],\"dtype\":\"float64\",\"order\":\"little\"}]]}}},\"view\":{\"type\":\"object\",\"name\":\"CDSView\",\"id\":\"p1043\",\"attributes\":{\"filter\":{\"type\":\"object\",\"name\":\"AllIndices\",\"id\":\"p1044\"}}},\"glyph\":{\"type\":\"object\",\"name\":\"Scatter\",\"id\":\"p1039\",\"attributes\":{\"x\":{\"type\":\"field\",\"field\":\"y\"},\"y\":{\"type\":\"field\",\"field\":\"y_pred\"},\"size\":{\"type\":\"value\",\"value\":3},\"line_color\":{\"type\":\"value\",\"value\":\"#5E676F\"},\"fill_color\":{\"type\":\"value\",\"value\":\"#5E676F\"},\"hatch_color\":{\"type\":\"value\",\"value\":\"#5E676F\"}}},\"nonselection_glyph\":{\"type\":\"object\",\"name\":\"Scatter\",\"id\":\"p1040\",\"attributes\":{\"x\":{\"type\":\"field\",\"field\":\"y\"},\"y\":{\"type\":\"field\",\"field\":\"y_pred\"},\"size\":{\"type\":\"value\",\"value\":3},\"line_color\":{\"type\":\"value\",\"value\":\"#5E676F\"},\"line_alpha\":{\"type\":\"value\",\"value\":0.1},\"fill_color\":{\"type\":\"value\",\"value\":\"#5E676F\"},\"fill_alpha\":{\"type\":\"value\",\"value\":0.1},\"hatch_color\":{\"type\":\"value\",\"value\":\"#5E676F\"},\"hatch_alpha\":{\"type\":\"value\",\"value\":0.1}}},\"muted_glyph\":{\"type\":\"object\",\"name\":\"Scatter\",\"id\":\"p1041\",\"attributes\":{\"x\":{\"type\":\"field\",\"field\":\"y\"},\"y\":{\"type\":\"field\",\"field\":\"y_pred\"},\"size\":{\"type\":\"value\",\"value\":3},\"line_color\":{\"type\":\"value\",\"value\":\"#5E676F\"},\"line_alpha\":{\"type\":\"value\",\"value\":0.2},\"fill_color\":{\"type\":\"value\",\"value\":\"#5E676F\"},\"fill_alpha\":{\"type\":\"value\",\"value\":0.2},\"hatch_color\":{\"type\":\"value\",\"value\":\"#5E676F\"},\"hatch_alpha\":{\"type\":\"value\",\"value\":0.2}}}}}],\"toolbar\":{\"type\":\"object\",\"name\":\"Toolbar\",\"id\":\"p1009\",\"attributes\":{\"tools\":[{\"type\":\"object\",\"name\":\"PanTool\",\"id\":\"p1022\"},{\"type\":\"object\",\"name\":\"WheelZoomTool\",\"id\":\"p1023\",\"attributes\":{\"renderers\":\"auto\"}},{\"type\":\"object\",\"name\":\"BoxZoomTool\",\"id\":\"p1024\",\"attributes\":{\"overlay\":{\"type\":\"object\",\"name\":\"BoxAnnotation\",\"id\":\"p1025\",\"attributes\":{\"syncable\":false,\"level\":\"overlay\",\"visible\":false,\"left\":{\"type\":\"number\",\"value\":\"nan\"},\"right\":{\"type\":\"number\",\"value\":\"nan\"},\"top\":{\"type\":\"number\",\"value\":\"nan\"},\"bottom\":{\"type\":\"number\",\"value\":\"nan\"},\"left_units\":\"canvas\",\"right_units\":\"canvas\",\"top_units\":\"canvas\",\"bottom_units\":\"canvas\",\"line_color\":\"black\",\"line_alpha\":1.0,\"line_width\":2,\"line_dash\":[4,4],\"fill_color\":\"lightgrey\",\"fill_alpha\":0.5}}}},{\"type\":\"object\",\"name\":\"SaveTool\",\"id\":\"p1030\"},{\"type\":\"object\",\"name\":\"ResetTool\",\"id\":\"p1031\"},{\"type\":\"object\",\"name\":\"HelpTool\",\"id\":\"p1032\"},{\"type\":\"object\",\"name\":\"HoverTool\",\"id\":\"p1047\",\"attributes\":{\"renderers\":\"auto\",\"tooltips\":\"\\n            <div>\\n                <span style=\\\"font-weight: bold; color: #384049;\\\">@Name<br></span>\\n                <span style=\\\"color: #384049;\\\">@y, @y_pred<br></span>\\n            </div>\\n        \"}}]}},\"left\":[{\"type\":\"object\",\"name\":\"LinearAxis\",\"id\":\"p1017\",\"attributes\":{\"ticker\":{\"type\":\"object\",\"name\":\"BasicTicker\",\"id\":\"p1018\",\"attributes\":{\"mantissas\":[1,2,5]}},\"formatter\":{\"type\":\"object\",\"name\":\"BasicTickFormatter\",\"id\":\"p1019\"},\"axis_label\":\"Predicted RT\",\"axis_label_text_color\":\"#384049\",\"axis_label_text_font_style\":\"bold\",\"major_label_policy\":{\"type\":\"object\",\"name\":\"AllLabels\",\"id\":\"p1020\"},\"axis_line_color\":\"#384049\",\"major_tick_line_color\":\"#384049\",\"major_tick_in\":0,\"minor_tick_line_color\":\"#384049\",\"minor_tick_out\":3}}],\"below\":[{\"type\":\"object\",\"name\":\"LinearAxis\",\"id\":\"p1012\",\"attributes\":{\"ticker\":{\"type\":\"object\",\"name\":\"BasicTicker\",\"id\":\"p1013\",\"attributes\":{\"mantissas\":[1,2,5]}},\"formatter\":{\"type\":\"object\",\"name\":\"BasicTickFormatter\",\"id\":\"p1014\"},\"axis_label\":\"Library RT\",\"axis_label_text_color\":\"#384049\",\"axis_label_text_font_style\":\"bold\",\"major_label_policy\":{\"type\":\"object\",\"name\":\"AllLabels\",\"id\":\"p1015\"},\"axis_line_color\":\"#384049\",\"major_tick_line_color\":\"#384049\",\"major_tick_in\":0,\"minor_tick_line_color\":\"#384049\",\"minor_tick_out\":3}}],\"center\":[{\"type\":\"object\",\"name\":\"Grid\",\"id\":\"p1016\",\"attributes\":{\"axis\":{\"id\":\"p1012\"},\"grid_line_color\":null}},{\"type\":\"object\",\"name\":\"Grid\",\"id\":\"p1021\",\"attributes\":{\"dimension\":1,\"axis\":{\"id\":\"p1017\"},\"grid_line_color\":null}},{\"type\":\"object\",\"name\":\"Slope\",\"id\":\"p1045\",\"attributes\":{\"gradient\":1,\"y_intercept\":0,\"line_color\":\"#384049\",\"line_alpha\":0.5}},{\"type\":\"object\",\"name\":\"Slope\",\"id\":\"p1046\",\"attributes\":{\"gradient\":0.7221500855546344,\"y_intercept\":1.2822629730323543,\"line_color\":\"#D02937\"}}]}}]}};\n  const render_items = [{\"docid\":\"f93f685c-8111-4fc7-b05e-3d5850e6a8d3\",\"roots\":{\"p1001\":\"eb577dee-b7f9-4c0e-a232-d5d843a84f79\"},\"root_ids\":[\"p1001\"]}];\n  void root.Bokeh.embed.embed_items_notebook(docs_json, render_items);\n  }\n  if (root.Bokeh !== undefined) {\n    embed_document(root);\n  } else {\n    let attempts = 0;\n    const timer = setInterval(function(root) {\n      if (root.Bokeh !== undefined) {\n        clearInterval(timer);\n        embed_document(root);\n      } else {\n        attempts++;\n        if (attempts > 100) {\n          clearInterval(timer);\n          console.log(\"Bokeh: ERROR: Unable to run BokehJS code because BokehJS library is missing\");\n        }\n      }\n    }, 10, root)\n  }\n})(window);",
      "application/vnd.bokehjs_exec.v0+json": ""
     },
     "metadata": {
      "application/vnd.bokehjs_exec.v0+json": {
       "id": "p1001"
      }
     },
     "output_type": "display_data"
    },
    {
     "name": "stderr",
     "output_type": "stream",
     "text": [
      "/home/npa/miniconda3/envs/pyretip/lib/python3.10/site-packages/sklearn/metrics/_regression.py:483: FutureWarning: 'squared' is deprecated in version 1.4 and will be removed in 1.6. To calculate the root mean squared error, use the function'root_mean_squared_error'.\n",
      "  warnings.warn(\n"
     ]
    },
    {
     "data": {
      "text/plain": [
       "{'root_mean_squared_error': 0.8754579327090968,\n",
       " 'mean_squared_error': 0.7664265919432854,\n",
       " 'mean_absolute_error': 0.6352909350974505,\n",
       " 'median_absolute_error': 0.44896348665223673,\n",
       " 'explained_variance_score': 0.8166514231493082,\n",
       " 'mean_absolute_percentage_error': 0.14562256059462936,\n",
       " 'absolute_median_relative_error': 0.10473073731823745,\n",
       " 'r2_score': 0.8166481404518408,\n",
       " 'pearson_correlation': 0.9115261528265156,\n",
       " '90_percent_confidence_interval': 1.1182301244276283,\n",
       " '95_percent_confidence_interval': 1.4362829488384106}"
      ]
     },
     "execution_count": 12,
     "metadata": {},
     "output_type": "execute_result"
    }
   ],
   "source": [
    "trainer.score(plot=True)"
   ]
  },
  {
   "cell_type": "markdown",
   "id": "930f38b1",
   "metadata": {},
   "source": [
    "#### External Validation"
   ]
  },
  {
   "cell_type": "markdown",
   "id": "b0451f01",
   "metadata": {},
   "source": [
    "The model can be tested using the external dataset that we loaded initially. The target column must be specified."
   ]
  },
  {
   "cell_type": "code",
   "execution_count": 13,
   "id": "a275ad82",
   "metadata": {},
   "outputs": [
    {
     "data": {
      "text/html": [
       "    <style>\n",
       "        .bk-notebook-logo {\n",
       "            display: block;\n",
       "            width: 20px;\n",
       "            height: 20px;\n",
       "            background-image: url(data:image/png;base64,iVBORw0KGgoAAAANSUhEUgAAABQAAAAUCAYAAACNiR0NAAAABHNCSVQICAgIfAhkiAAAAAlwSFlzAAALEgAACxIB0t1+/AAAABx0RVh0U29mdHdhcmUAQWRvYmUgRmlyZXdvcmtzIENTNui8sowAAAOkSURBVDiNjZRtaJVlGMd/1/08zzln5zjP1LWcU9N0NkN8m2CYjpgQYQXqSs0I84OLIC0hkEKoPtiH3gmKoiJDU7QpLgoLjLIQCpEsNJ1vqUOdO7ppbuec5+V+rj4ctwzd8IIbbi6u+8f1539dt3A78eXC7QizUF7gyV1fD1Yqg4JWz84yffhm0qkFqBogB9rM8tZdtwVsPUhWhGcFJngGeWrPzHm5oaMmkfEg1usvLFyc8jLRqDOMru7AyC8saQr7GG7f5fvDeH7Ej8CM66nIF+8yngt6HWaKh7k49Soy9nXurCi1o3qUbS3zWfrYeQDTB/Qj6kX6Ybhw4B+bOYoLKCC9H3Nu/leUTZ1JdRWkkn2ldcCamzrcf47KKXdAJllSlxAOkRgyHsGC/zRday5Qld9DyoM4/q/rUoy/CXh3jzOu3bHUVZeU+DEn8FInkPBFlu3+nW3Nw0mk6vCDiWg8CeJaxEwuHS3+z5RgY+YBR6V1Z1nxSOfoaPa4LASWxxdNp+VWTk7+4vzaou8v8PN+xo+KY2xsw6une2frhw05CTYOmQvsEhjhWjn0bmXPjpE1+kplmmkP3suftwTubK9Vq22qKmrBhpY4jvd5afdRA3wGjFAgcnTK2s4hY0/GPNIb0nErGMCRxWOOX64Z8RAC4oCXdklmEvcL8o0BfkNK4lUg9HTl+oPlQxdNo3Mg4Nv175e/1LDGzZen30MEjRUtmXSfiTVu1kK8W4txyV6BMKlbgk3lMwYCiusNy9fVfvvwMxv8Ynl6vxoByANLTWplvuj/nF9m2+PDtt1eiHPBr1oIfhCChQMBw6Aw0UulqTKZdfVvfG7VcfIqLG9bcldL/+pdWTLxLUy8Qq38heUIjh4XlzZxzQm19lLFlr8vdQ97rjZVOLf8nclzckbcD4wxXMidpX30sFd37Fv/GtwwhzhxGVAprjbg0gCAEeIgwCZyTV2Z1REEW8O4py0wsjeloKoMr6iCY6dP92H6Vw/oTyICIthibxjm/DfN9lVz8IqtqKYLUXfoKVMVQVVJOElGjrnnUt9T9wbgp8AyYKaGlqingHZU/uG2NTZSVqwHQTWkx9hxjkpWDaCg6Ckj5qebgBVbT3V3NNXMSiWSDdGV3hrtzla7J+duwPOToIg42ChPQOQjspnSlp1V+Gjdged7+8UN5CRAV7a5EdFNwCjEaBR27b3W890TE7g24NAP/mMDXRWrGoFPQI9ls/MWO2dWFAar/xcOIImbbpA3zgAAAABJRU5ErkJggg==);\n",
       "        }\n",
       "    </style>\n",
       "    <div>\n",
       "        <a href=\"https://bokeh.org\" target=\"_blank\" class=\"bk-notebook-logo\"></a>\n",
       "        <span id=\"ad4782df-9636-42f1-bd90-aaa90a44df31\">Loading BokehJS ...</span>\n",
       "    </div>\n"
      ]
     },
     "metadata": {},
     "output_type": "display_data"
    },
    {
     "data": {
      "application/javascript": "'use strict';\n(function(root) {\n  function now() {\n    return new Date();\n  }\n\n  const force = true;\n\n  if (typeof root._bokeh_onload_callbacks === \"undefined\" || force === true) {\n    root._bokeh_onload_callbacks = [];\n    root._bokeh_is_loading = undefined;\n  }\n\nconst JS_MIME_TYPE = 'application/javascript';\n  const HTML_MIME_TYPE = 'text/html';\n  const EXEC_MIME_TYPE = 'application/vnd.bokehjs_exec.v0+json';\n  const CLASS_NAME = 'output_bokeh rendered_html';\n\n  /**\n   * Render data to the DOM node\n   */\n  function render(props, node) {\n    const script = document.createElement(\"script\");\n    node.appendChild(script);\n  }\n\n  /**\n   * Handle when an output is cleared or removed\n   */\n  function handleClearOutput(event, handle) {\n    function drop(id) {\n      const view = Bokeh.index.get_by_id(id)\n      if (view != null) {\n        view.model.document.clear()\n        Bokeh.index.delete(view)\n      }\n    }\n\n    const cell = handle.cell;\n\n    const id = cell.output_area._bokeh_element_id;\n    const server_id = cell.output_area._bokeh_server_id;\n\n    // Clean up Bokeh references\n    if (id != null) {\n      drop(id)\n    }\n\n    if (server_id !== undefined) {\n      // Clean up Bokeh references\n      const cmd_clean = \"from bokeh.io.state import curstate; print(curstate().uuid_to_server['\" + server_id + \"'].get_sessions()[0].document.roots[0]._id)\";\n      cell.notebook.kernel.execute(cmd_clean, {\n        iopub: {\n          output: function(msg) {\n            const id = msg.content.text.trim()\n            drop(id)\n          }\n        }\n      });\n      // Destroy server and session\n      const cmd_destroy = \"import bokeh.io.notebook as ion; ion.destroy_server('\" + server_id + \"')\";\n      cell.notebook.kernel.execute(cmd_destroy);\n    }\n  }\n\n  /**\n   * Handle when a new output is added\n   */\n  function handleAddOutput(event, handle) {\n    const output_area = handle.output_area;\n    const output = handle.output;\n\n    // limit handleAddOutput to display_data with EXEC_MIME_TYPE content only\n    if ((output.output_type != \"display_data\") || (!Object.prototype.hasOwnProperty.call(output.data, EXEC_MIME_TYPE))) {\n      return\n    }\n\n    const toinsert = output_area.element.find(\".\" + CLASS_NAME.split(' ')[0]);\n\n    if (output.metadata[EXEC_MIME_TYPE][\"id\"] !== undefined) {\n      toinsert[toinsert.length - 1].firstChild.textContent = output.data[JS_MIME_TYPE];\n      // store reference to embed id on output_area\n      output_area._bokeh_element_id = output.metadata[EXEC_MIME_TYPE][\"id\"];\n    }\n    if (output.metadata[EXEC_MIME_TYPE][\"server_id\"] !== undefined) {\n      const bk_div = document.createElement(\"div\");\n      bk_div.innerHTML = output.data[HTML_MIME_TYPE];\n      const script_attrs = bk_div.children[0].attributes;\n      for (let i = 0; i < script_attrs.length; i++) {\n        toinsert[toinsert.length - 1].firstChild.setAttribute(script_attrs[i].name, script_attrs[i].value);\n        toinsert[toinsert.length - 1].firstChild.textContent = bk_div.children[0].textContent\n      }\n      // store reference to server id on output_area\n      output_area._bokeh_server_id = output.metadata[EXEC_MIME_TYPE][\"server_id\"];\n    }\n  }\n\n  function register_renderer(events, OutputArea) {\n\n    function append_mime(data, metadata, element) {\n      // create a DOM node to render to\n      const toinsert = this.create_output_subarea(\n        metadata,\n        CLASS_NAME,\n        EXEC_MIME_TYPE\n      );\n      this.keyboard_manager.register_events(toinsert);\n      // Render to node\n      const props = {data: data, metadata: metadata[EXEC_MIME_TYPE]};\n      render(props, toinsert[toinsert.length - 1]);\n      element.append(toinsert);\n      return toinsert\n    }\n\n    /* Handle when an output is cleared or removed */\n    events.on('clear_output.CodeCell', handleClearOutput);\n    events.on('delete.Cell', handleClearOutput);\n\n    /* Handle when a new output is added */\n    events.on('output_added.OutputArea', handleAddOutput);\n\n    /**\n     * Register the mime type and append_mime function with output_area\n     */\n    OutputArea.prototype.register_mime_type(EXEC_MIME_TYPE, append_mime, {\n      /* Is output safe? */\n      safe: true,\n      /* Index of renderer in `output_area.display_order` */\n      index: 0\n    });\n  }\n\n  // register the mime type if in Jupyter Notebook environment and previously unregistered\n  if (root.Jupyter !== undefined) {\n    const events = require('base/js/events');\n    const OutputArea = require('notebook/js/outputarea').OutputArea;\n\n    if (OutputArea.prototype.mime_types().indexOf(EXEC_MIME_TYPE) == -1) {\n      register_renderer(events, OutputArea);\n    }\n  }\n  if (typeof (root._bokeh_timeout) === \"undefined\" || force === true) {\n    root._bokeh_timeout = Date.now() + 5000;\n    root._bokeh_failed_load = false;\n  }\n\n  const NB_LOAD_WARNING = {'data': {'text/html':\n     \"<div style='background-color: #fdd'>\\n\"+\n     \"<p>\\n\"+\n     \"BokehJS does not appear to have successfully loaded. If loading BokehJS from CDN, this \\n\"+\n     \"may be due to a slow or bad network connection. Possible fixes:\\n\"+\n     \"</p>\\n\"+\n     \"<ul>\\n\"+\n     \"<li>re-rerun `output_notebook()` to attempt to load from CDN again, or</li>\\n\"+\n     \"<li>use INLINE resources instead, as so:</li>\\n\"+\n     \"</ul>\\n\"+\n     \"<code>\\n\"+\n     \"from bokeh.resources import INLINE\\n\"+\n     \"output_notebook(resources=INLINE)\\n\"+\n     \"</code>\\n\"+\n     \"</div>\"}};\n\n  function display_loaded(error = null) {\n    const el = document.getElementById(\"ad4782df-9636-42f1-bd90-aaa90a44df31\");\n    if (el != null) {\n      const html = (() => {\n        if (typeof root.Bokeh === \"undefined\") {\n          if (error == null) {\n            return \"BokehJS is loading ...\";\n          } else {\n            return \"BokehJS failed to load.\";\n          }\n        } else {\n          const prefix = `BokehJS ${root.Bokeh.version}`;\n          if (error == null) {\n            return `${prefix} successfully loaded.`;\n          } else {\n            return `${prefix} <b>encountered errors</b> while loading and may not function as expected.`;\n          }\n        }\n      })();\n      el.innerHTML = html;\n\n      if (error != null) {\n        const wrapper = document.createElement(\"div\");\n        wrapper.style.overflow = \"auto\";\n        wrapper.style.height = \"5em\";\n        wrapper.style.resize = \"vertical\";\n        const content = document.createElement(\"div\");\n        content.style.fontFamily = \"monospace\";\n        content.style.whiteSpace = \"pre-wrap\";\n        content.style.backgroundColor = \"rgb(255, 221, 221)\";\n        content.textContent = error.stack ?? error.toString();\n        wrapper.append(content);\n        el.append(wrapper);\n      }\n    } else if (Date.now() < root._bokeh_timeout) {\n      setTimeout(() => display_loaded(error), 100);\n    }\n  }\n\n  function run_callbacks() {\n    try {\n      root._bokeh_onload_callbacks.forEach(function(callback) {\n        if (callback != null)\n          callback();\n      });\n    } finally {\n      delete root._bokeh_onload_callbacks\n    }\n    console.debug(\"Bokeh: all callbacks have finished\");\n  }\n\n  function load_libs(css_urls, js_urls, callback) {\n    if (css_urls == null) css_urls = [];\n    if (js_urls == null) js_urls = [];\n\n    root._bokeh_onload_callbacks.push(callback);\n    if (root._bokeh_is_loading > 0) {\n      console.debug(\"Bokeh: BokehJS is being loaded, scheduling callback at\", now());\n      return null;\n    }\n    if (js_urls == null || js_urls.length === 0) {\n      run_callbacks();\n      return null;\n    }\n    console.debug(\"Bokeh: BokehJS not loaded, scheduling load and callback at\", now());\n    root._bokeh_is_loading = css_urls.length + js_urls.length;\n\n    function on_load() {\n      root._bokeh_is_loading--;\n      if (root._bokeh_is_loading === 0) {\n        console.debug(\"Bokeh: all BokehJS libraries/stylesheets loaded\");\n        run_callbacks()\n      }\n    }\n\n    function on_error(url) {\n      console.error(\"failed to load \" + url);\n    }\n\n    for (let i = 0; i < css_urls.length; i++) {\n      const url = css_urls[i];\n      const element = document.createElement(\"link\");\n      element.onload = on_load;\n      element.onerror = on_error.bind(null, url);\n      element.rel = \"stylesheet\";\n      element.type = \"text/css\";\n      element.href = url;\n      console.debug(\"Bokeh: injecting link tag for BokehJS stylesheet: \", url);\n      document.body.appendChild(element);\n    }\n\n    for (let i = 0; i < js_urls.length; i++) {\n      const url = js_urls[i];\n      const element = document.createElement('script');\n      element.onload = on_load;\n      element.onerror = on_error.bind(null, url);\n      element.async = false;\n      element.src = url;\n      console.debug(\"Bokeh: injecting script tag for BokehJS library: \", url);\n      document.head.appendChild(element);\n    }\n  };\n\n  function inject_raw_css(css) {\n    const element = document.createElement(\"style\");\n    element.appendChild(document.createTextNode(css));\n    document.body.appendChild(element);\n  }\n\n  const js_urls = [\"https://cdn.bokeh.org/bokeh/release/bokeh-3.4.1.min.js\", \"https://cdn.bokeh.org/bokeh/release/bokeh-gl-3.4.1.min.js\", \"https://cdn.bokeh.org/bokeh/release/bokeh-widgets-3.4.1.min.js\", \"https://cdn.bokeh.org/bokeh/release/bokeh-tables-3.4.1.min.js\", \"https://cdn.bokeh.org/bokeh/release/bokeh-mathjax-3.4.1.min.js\"];\n  const css_urls = [];\n\n  const inline_js = [    function(Bokeh) {\n      Bokeh.set_log_level(\"info\");\n    },\nfunction(Bokeh) {\n    }\n  ];\n\n  function run_inline_js() {\n    if (root.Bokeh !== undefined || force === true) {\n      try {\n            for (let i = 0; i < inline_js.length; i++) {\n      inline_js[i].call(root, root.Bokeh);\n    }\n\n      } catch (error) {display_loaded(error);throw error;\n      }if (force === true) {\n        display_loaded();\n      }} else if (Date.now() < root._bokeh_timeout) {\n      setTimeout(run_inline_js, 100);\n    } else if (!root._bokeh_failed_load) {\n      console.log(\"Bokeh: BokehJS failed to load within specified timeout.\");\n      root._bokeh_failed_load = true;\n    } else if (force !== true) {\n      const cell = $(document.getElementById(\"ad4782df-9636-42f1-bd90-aaa90a44df31\")).parents('.cell').data().cell;\n      cell.output_area.append_execute_result(NB_LOAD_WARNING)\n    }\n  }\n\n  if (root._bokeh_is_loading === 0) {\n    console.debug(\"Bokeh: BokehJS loaded, going straight to plotting\");\n    run_inline_js();\n  } else {\n    load_libs(css_urls, js_urls, function() {\n      console.debug(\"Bokeh: BokehJS plotting callback run at\", now());\n      run_inline_js();\n    });\n  }\n}(window));",
      "application/vnd.bokehjs_load.v0+json": ""
     },
     "metadata": {},
     "output_type": "display_data"
    },
    {
     "data": {
      "text/html": [
       "\n",
       "  <div id=\"e0b9e613-9d87-4d46-a789-521befaab610\" data-root-id=\"p1051\" style=\"display: contents;\"></div>\n"
      ]
     },
     "metadata": {},
     "output_type": "display_data"
    },
    {
     "data": {
      "application/javascript": "(function(root) {\n  function embed_document(root) {\n  const docs_json = {\"bfe629ee-7c1f-41f3-bf0c-81a6f29bc7a7\":{\"version\":\"3.4.1\",\"title\":\"Bokeh Application\",\"roots\":[{\"type\":\"object\",\"name\":\"Figure\",\"id\":\"p1051\",\"attributes\":{\"x_range\":{\"type\":\"object\",\"name\":\"DataRange1d\",\"id\":\"p1052\"},\"y_range\":{\"type\":\"object\",\"name\":\"DataRange1d\",\"id\":\"p1053\"},\"x_scale\":{\"type\":\"object\",\"name\":\"LinearScale\",\"id\":\"p1060\"},\"y_scale\":{\"type\":\"object\",\"name\":\"LinearScale\",\"id\":\"p1061\"},\"title\":{\"type\":\"object\",\"name\":\"Title\",\"id\":\"p1058\"},\"renderers\":[{\"type\":\"object\",\"name\":\"GlyphRenderer\",\"id\":\"p1092\",\"attributes\":{\"data_source\":{\"type\":\"object\",\"name\":\"ColumnDataSource\",\"id\":\"p1083\",\"attributes\":{\"selected\":{\"type\":\"object\",\"name\":\"Selection\",\"id\":\"p1084\",\"attributes\":{\"indices\":[],\"line_indices\":[]}},\"selection_policy\":{\"type\":\"object\",\"name\":\"UnionRenderers\",\"id\":\"p1085\"},\"data\":{\"type\":\"map\",\"entries\":[[\"index\",{\"type\":\"ndarray\",\"array\":{\"type\":\"bytes\",\"data\":\"AAAAAAEAAAACAAAAAwAAAAQAAAAFAAAABgAAAAcAAAAIAAAACQAAAAoAAAALAAAADAAAAA0AAAAOAAAADwAAABAAAAARAAAAEgAAABMAAAAUAAAAFQAAABYAAAAXAAAAGAAAABkAAAAaAAAAGwAAABwAAAAdAAAAHgAAAB8AAAAgAAAAIQAAACIAAAAjAAAAJAAAACUAAAAmAAAAJwAAACgAAAApAAAAKgAAACsAAAAsAAAALQAAAC4AAAAvAAAAMAAAADEAAAAyAAAAMwAAADQAAAA1AAAANgAAADcAAAA4AAAAOQAAADoAAAA7AAAAPAAAAD0AAAA+AAAAPwAAAEAAAABBAAAAQgAAAEMAAABEAAAARQAAAEYAAABHAAAASAAAAEkAAABKAAAASwAAAEwAAABNAAAATgAAAE8AAABQAAAAUQAAAFIAAABTAAAAVAAAAFUAAABWAAAAVwAAAFgAAABZAAAAWgAAAFsAAABcAAAAXQAAAF4AAABfAAAAYAAAAGEAAABiAAAAYwAAAGQAAABlAAAAZgAAAGcAAABoAAAAaQAAAGoAAABrAAAAbAAAAG0AAABuAAAAbwAAAHAAAABxAAAAcgAAAHMAAAB0AAAAdQAAAHYAAAB3AAAAeAAAAHkAAAB6AAAAewAAAHwAAAB9AAAAfgAAAH8AAACAAAAAgQAAAIIAAACDAAAAhAAAAIUAAACGAAAAhwAAAIgAAACJAAAAigAAAIsAAACMAAAAjQAAAI4AAACPAAAAkAAAAJEAAACSAAAAkwAAAJQAAACVAAAAlgAAAJcAAACYAAAAmQAAAJoAAACbAAAAnAAAAJ0AAACeAAAAnwAAAKAAAAChAAAAogAAAKMAAACkAAAApQAAAKYAAACnAAAAqAAAAKkAAACqAAAAqwAAAKwAAACtAAAArgAAAK8AAACwAAAAsQAAALIAAACzAAAAtAAAALUAAAC2AAAAtwAAALgAAAC5AAAAugAAALsAAAC8AAAAvQAAAL4AAAC/AAAAwAAAAMEAAADCAAAAwwAAAMQAAADFAAAAxgAAAMcAAADIAAAAyQAAAMoAAADLAAAAzAAAAM0AAADOAAAAzwAAANAAAADRAAAA0gAAANMAAADUAAAA1QAAANYAAADXAAAA2AAAANkAAADaAAAA2wAAANwAAADdAAAA3gAAAN8AAADgAAAA4QAAAOIAAADjAAAA5AAAAOUAAADmAAAA5wAAAOgAAADpAAAA6gAAAOsAAADsAAAA7QAAAO4AAADvAAAA8AAAAPEAAADyAAAA8wAAAPQAAAD1AAAA9gAAAPcAAAD4AAAA+QAAAPoAAAD7AAAA/AAAAP0AAAD+AAAA/wAAAAABAAABAQAAAgEAAAMBAAAEAQAABQEAAAYBAAAHAQAACAEAAAkBAAAKAQAACwEAAAwBAAANAQAADgEAAA8BAAAQAQAAEQEAABIBAAATAQAAFAEAABUBAAAWAQAAFwEAABgBAAAZAQAAGgEAABsBAAAcAQAAHQEAAB4BAAAfAQAAIAEAACEBAAAiAQAAIwEAACQBAAAlAQAAJgEAACcBAAAoAQAAKQEAACoBAAArAQAALAEAAC0BAAAuAQAALwEAADABAAAxAQAAMgEAADMBAAA0AQAANQEAADYBAAA3AQAAOAEAADkBAAA6AQAAOwEAADwBAAA9AQAAPgEAAD8BAABAAQAAQQEAAEIBAABDAQAARAEAAEUBAABGAQAARwEAAEgBAABJAQAASgEAAEsBAABMAQAATQEAAE4BAABPAQAAUAEAAFEBAABSAQAAUwEAAFQBAABVAQAAVgEAAFcBAABYAQAAWQEAAFoBAABbAQAAXAEAAF0BAABeAQAAXwEAAGABAABhAQAAYgEAAGMBAABkAQAAZQEAAA==\"},\"shape\":[358],\"dtype\":\"int32\",\"order\":\"little\"}],[\"y\",{\"type\":\"ndarray\",\"array\":{\"type\":\"bytes\",\"data\":\"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\"},\"shape\":[358],\"dtype\":\"float64\",\"order\":\"little\"}],[\"y_pred\",{\"type\":\"ndarray\",\"array\":{\"type\":\"bytes\",\"data\":\"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\"},\"shape\":[358],\"dtype\":\"float64\",\"order\":\"little\"}]]}}},\"view\":{\"type\":\"object\",\"name\":\"CDSView\",\"id\":\"p1093\",\"attributes\":{\"filter\":{\"type\":\"object\",\"name\":\"AllIndices\",\"id\":\"p1094\"}}},\"glyph\":{\"type\":\"object\",\"name\":\"Scatter\",\"id\":\"p1089\",\"attributes\":{\"x\":{\"type\":\"field\",\"field\":\"y\"},\"y\":{\"type\":\"field\",\"field\":\"y_pred\"},\"size\":{\"type\":\"value\",\"value\":3},\"line_color\":{\"type\":\"value\",\"value\":\"#5E676F\"},\"fill_color\":{\"type\":\"value\",\"value\":\"#5E676F\"},\"hatch_color\":{\"type\":\"value\",\"value\":\"#5E676F\"}}},\"nonselection_glyph\":{\"type\":\"object\",\"name\":\"Scatter\",\"id\":\"p1090\",\"attributes\":{\"x\":{\"type\":\"field\",\"field\":\"y\"},\"y\":{\"type\":\"field\",\"field\":\"y_pred\"},\"size\":{\"type\":\"value\",\"value\":3},\"line_color\":{\"type\":\"value\",\"value\":\"#5E676F\"},\"line_alpha\":{\"type\":\"value\",\"value\":0.1},\"fill_color\":{\"type\":\"value\",\"value\":\"#5E676F\"},\"fill_alpha\":{\"type\":\"value\",\"value\":0.1},\"hatch_color\":{\"type\":\"value\",\"value\":\"#5E676F\"},\"hatch_alpha\":{\"type\":\"value\",\"value\":0.1}}},\"muted_glyph\":{\"type\":\"object\",\"name\":\"Scatter\",\"id\":\"p1091\",\"attributes\":{\"x\":{\"type\":\"field\",\"field\":\"y\"},\"y\":{\"type\":\"field\",\"field\":\"y_pred\"},\"size\":{\"type\":\"value\",\"value\":3},\"line_color\":{\"type\":\"value\",\"value\":\"#5E676F\"},\"line_alpha\":{\"type\":\"value\",\"value\":0.2},\"fill_color\":{\"type\":\"value\",\"value\":\"#5E676F\"},\"fill_alpha\":{\"type\":\"value\",\"value\":0.2},\"hatch_color\":{\"type\":\"value\",\"value\":\"#5E676F\"},\"hatch_alpha\":{\"type\":\"value\",\"value\":0.2}}}}}],\"toolbar\":{\"type\":\"object\",\"name\":\"Toolbar\",\"id\":\"p1059\",\"attributes\":{\"tools\":[{\"type\":\"object\",\"name\":\"PanTool\",\"id\":\"p1072\"},{\"type\":\"object\",\"name\":\"WheelZoomTool\",\"id\":\"p1073\",\"attributes\":{\"renderers\":\"auto\"}},{\"type\":\"object\",\"name\":\"BoxZoomTool\",\"id\":\"p1074\",\"attributes\":{\"overlay\":{\"type\":\"object\",\"name\":\"BoxAnnotation\",\"id\":\"p1075\",\"attributes\":{\"syncable\":false,\"level\":\"overlay\",\"visible\":false,\"left\":{\"type\":\"number\",\"value\":\"nan\"},\"right\":{\"type\":\"number\",\"value\":\"nan\"},\"top\":{\"type\":\"number\",\"value\":\"nan\"},\"bottom\":{\"type\":\"number\",\"value\":\"nan\"},\"left_units\":\"canvas\",\"right_units\":\"canvas\",\"top_units\":\"canvas\",\"bottom_units\":\"canvas\",\"line_color\":\"black\",\"line_alpha\":1.0,\"line_width\":2,\"line_dash\":[4,4],\"fill_color\":\"lightgrey\",\"fill_alpha\":0.5}}}},{\"type\":\"object\",\"name\":\"SaveTool\",\"id\":\"p1080\"},{\"type\":\"object\",\"name\":\"ResetTool\",\"id\":\"p1081\"},{\"type\":\"object\",\"name\":\"HelpTool\",\"id\":\"p1082\"},{\"type\":\"object\",\"name\":\"HoverTool\",\"id\":\"p1097\",\"attributes\":{\"renderers\":\"auto\",\"tooltips\":\"\\n            <div>\\n                <span style=\\\"color: #384049;\\\">@y, @y_pred<br></span>\\n            </div>\\n        \"}}]}},\"left\":[{\"type\":\"object\",\"name\":\"LinearAxis\",\"id\":\"p1067\",\"attributes\":{\"ticker\":{\"type\":\"object\",\"name\":\"BasicTicker\",\"id\":\"p1068\",\"attributes\":{\"mantissas\":[1,2,5]}},\"formatter\":{\"type\":\"object\",\"name\":\"BasicTickFormatter\",\"id\":\"p1069\"},\"axis_label\":\"Predicted RT\",\"axis_label_text_color\":\"#384049\",\"axis_label_text_font_style\":\"bold\",\"major_label_policy\":{\"type\":\"object\",\"name\":\"AllLabels\",\"id\":\"p1070\"},\"axis_line_color\":\"#384049\",\"major_tick_line_color\":\"#384049\",\"major_tick_in\":0,\"minor_tick_line_color\":\"#384049\",\"minor_tick_out\":3}}],\"below\":[{\"type\":\"object\",\"name\":\"LinearAxis\",\"id\":\"p1062\",\"attributes\":{\"ticker\":{\"type\":\"object\",\"name\":\"BasicTicker\",\"id\":\"p1063\",\"attributes\":{\"mantissas\":[1,2,5]}},\"formatter\":{\"type\":\"object\",\"name\":\"BasicTickFormatter\",\"id\":\"p1064\"},\"axis_label\":\"Library RT\",\"axis_label_text_color\":\"#384049\",\"axis_label_text_font_style\":\"bold\",\"major_label_policy\":{\"type\":\"object\",\"name\":\"AllLabels\",\"id\":\"p1065\"},\"axis_line_color\":\"#384049\",\"major_tick_line_color\":\"#384049\",\"major_tick_in\":0,\"minor_tick_line_color\":\"#384049\",\"minor_tick_out\":3}}],\"center\":[{\"type\":\"object\",\"name\":\"Grid\",\"id\":\"p1066\",\"attributes\":{\"axis\":{\"id\":\"p1062\"},\"grid_line_color\":null}},{\"type\":\"object\",\"name\":\"Grid\",\"id\":\"p1071\",\"attributes\":{\"dimension\":1,\"axis\":{\"id\":\"p1067\"},\"grid_line_color\":null}},{\"type\":\"object\",\"name\":\"Slope\",\"id\":\"p1095\",\"attributes\":{\"gradient\":1,\"y_intercept\":0,\"line_color\":\"#384049\",\"line_alpha\":0.5}},{\"type\":\"object\",\"name\":\"Slope\",\"id\":\"p1096\",\"attributes\":{\"gradient\":0.6664438361414208,\"y_intercept\":1.4758271490232235,\"line_color\":\"#D02937\"}}]}}]}};\n  const render_items = [{\"docid\":\"bfe629ee-7c1f-41f3-bf0c-81a6f29bc7a7\",\"roots\":{\"p1051\":\"e0b9e613-9d87-4d46-a789-521befaab610\"},\"root_ids\":[\"p1051\"]}];\n  void root.Bokeh.embed.embed_items_notebook(docs_json, render_items);\n  }\n  if (root.Bokeh !== undefined) {\n    embed_document(root);\n  } else {\n    let attempts = 0;\n    const timer = setInterval(function(root) {\n      if (root.Bokeh !== undefined) {\n        clearInterval(timer);\n        embed_document(root);\n      } else {\n        attempts++;\n        if (attempts > 100) {\n          clearInterval(timer);\n          console.log(\"Bokeh: ERROR: Unable to run BokehJS code because BokehJS library is missing\");\n        }\n      }\n    }, 10, root)\n  }\n})(window);",
      "application/vnd.bokehjs_exec.v0+json": ""
     },
     "metadata": {
      "application/vnd.bokehjs_exec.v0+json": {
       "id": "p1051"
      }
     },
     "output_type": "display_data"
    },
    {
     "name": "stderr",
     "output_type": "stream",
     "text": [
      "/home/npa/miniconda3/envs/pyretip/lib/python3.10/site-packages/sklearn/metrics/_regression.py:483: FutureWarning: 'squared' is deprecated in version 1.4 and will be removed in 1.6. To calculate the root mean squared error, use the function'root_mean_squared_error'.\n",
      "  warnings.warn(\n"
     ]
    },
    {
     "data": {
      "text/plain": [
       "{'root_mean_squared_error': 1.1339957518226094,\n",
       " 'mean_squared_error': 1.2859463651517251,\n",
       " 'mean_absolute_error': 0.7900996151470349,\n",
       " 'median_absolute_error': 0.5708032638888914,\n",
       " 'explained_variance_score': 0.7275847486669087,\n",
       " 'mean_absolute_percentage_error': 0.16500630507331934,\n",
       " 'absolute_median_relative_error': 0.11699558627946521,\n",
       " 'r2_score': 0.7180682434856707,\n",
       " 'pearson_correlation': 0.8565982243268776,\n",
       " '90_percent_confidence_interval': 1.6368787576324921,\n",
       " '95_percent_confidence_interval': 2.041848895782683}"
      ]
     },
     "execution_count": 13,
     "metadata": {},
     "output_type": "execute_result"
    }
   ],
   "source": [
    "trainer.score(dataset.get_validation_data(), target_column='RT', plot=True)"
   ]
  },
  {
   "cell_type": "markdown",
   "id": "b875cf66",
   "metadata": {},
   "source": [
    "The RMSE and other scores on the external validation set are significantly worse than on our training and test, suggesting that our trainining set isn't sufficiently representative of our chemical space."
   ]
  },
  {
   "cell_type": "markdown",
   "id": "ef5371aa",
   "metadata": {},
   "source": [
    "### RT Prediction"
   ]
  },
  {
   "cell_type": "markdown",
   "id": "3f7a0c49",
   "metadata": {},
   "source": [
    "The trained model can be used to predict retention times for a new dataset."
   ]
  },
  {
   "cell_type": "code",
   "execution_count": 14,
   "id": "f89ffd3d",
   "metadata": {
    "scrolled": true
   },
   "outputs": [
    {
     "data": {
      "text/plain": [
       "array([6.63435306, 6.43456714, 6.4460737 , 6.53621813, 6.12535897,\n",
       "       6.26298808, 6.86922377, 6.48335988, 6.53804899, 6.50418226,\n",
       "       6.22454254, 6.43623338, 6.26819819, 6.24956268, 6.28801901,\n",
       "       6.3317421 , 6.13100698, 5.75864954, 6.46075887, 6.47641262,\n",
       "       6.32894204, 6.45029411, 8.65948712, 6.4865925 , 6.5190012 ])"
      ]
     },
     "execution_count": 14,
     "metadata": {},
     "output_type": "execute_result"
    }
   ],
   "source": [
    "y_pred = trainer.predict(dataset.get_validation_data())\n",
    "y_pred[:25]"
   ]
  },
  {
   "cell_type": "markdown",
   "id": "158945fd",
   "metadata": {},
   "source": [
    "This is great, but a list of numbers isn't very useful.  Instead, we can annotate our dataset:"
   ]
  },
  {
   "cell_type": "code",
   "execution_count": 15,
   "id": "05c445b0",
   "metadata": {},
   "outputs": [],
   "source": [
    "annotated = trainer.annotate(dataset.get_validation_data(include_metadata=True), prediction_column='RTP')"
   ]
  },
  {
   "cell_type": "code",
   "execution_count": 16,
   "id": "dea4ad58",
   "metadata": {},
   "outputs": [
    {
     "data": {
      "text/html": [
       "<div>\n",
       "<style scoped>\n",
       "    .dataframe tbody tr th:only-of-type {\n",
       "        vertical-align: middle;\n",
       "    }\n",
       "\n",
       "    .dataframe tbody tr th {\n",
       "        vertical-align: top;\n",
       "    }\n",
       "\n",
       "    .dataframe thead th {\n",
       "        text-align: right;\n",
       "    }\n",
       "</style>\n",
       "<table border=\"1\" class=\"dataframe\">\n",
       "  <thead>\n",
       "    <tr style=\"text-align: right;\">\n",
       "      <th></th>\n",
       "      <th>Name</th>\n",
       "      <th>InChIKey</th>\n",
       "      <th>SMILES</th>\n",
       "      <th>RTP</th>\n",
       "      <th>RT</th>\n",
       "      <th>ABC</th>\n",
       "      <th>ABCGG</th>\n",
       "      <th>nAcid</th>\n",
       "      <th>nBase</th>\n",
       "      <th>nAromAtom</th>\n",
       "      <th>...</th>\n",
       "      <th>SRW09</th>\n",
       "      <th>SRW10</th>\n",
       "      <th>TSRW10</th>\n",
       "      <th>MW</th>\n",
       "      <th>AMW</th>\n",
       "      <th>WPath</th>\n",
       "      <th>WPol</th>\n",
       "      <th>Zagreb1</th>\n",
       "      <th>Zagreb2</th>\n",
       "      <th>mZagreb2</th>\n",
       "    </tr>\n",
       "  </thead>\n",
       "  <tbody>\n",
       "    <tr>\n",
       "      <th>0</th>\n",
       "      <td>Soyasapogenol E base + O-Hex-HexA</td>\n",
       "      <td>YDNHBSRZSMNZPB-NJAHCQCINA-N</td>\n",
       "      <td>O=C(O)C7OC(OC2CCC3(C)(C4CC=C1C5CC(C)(C)CC(=O)C...</td>\n",
       "      <td>6.634353</td>\n",
       "      <td>7.84</td>\n",
       "      <td>44.836157</td>\n",
       "      <td>32.982369</td>\n",
       "      <td>1</td>\n",
       "      <td>0</td>\n",
       "      <td>0</td>\n",
       "      <td>...</td>\n",
       "      <td>0.0</td>\n",
       "      <td>11.553443</td>\n",
       "      <td>96.348334</td>\n",
       "      <td>794.445257</td>\n",
       "      <td>6.511846</td>\n",
       "      <td>12554</td>\n",
       "      <td>131</td>\n",
       "      <td>330.0</td>\n",
       "      <td>420.0</td>\n",
       "      <td>11.631944</td>\n",
       "    </tr>\n",
       "    <tr>\n",
       "      <th>1</th>\n",
       "      <td>Soyasapogenol E base + O-HexA-Hex-dHex</td>\n",
       "      <td>CROUPKILZUPLQA-UHFFFAOYNA-N</td>\n",
       "      <td>O=C(O)C8OC(OC2CCC3(C)(C4CC=C1C5CC(C)(C)CC(=O)C...</td>\n",
       "      <td>6.434567</td>\n",
       "      <td>7.62</td>\n",
       "      <td>52.780741</td>\n",
       "      <td>38.464480</td>\n",
       "      <td>1</td>\n",
       "      <td>0</td>\n",
       "      <td>0</td>\n",
       "      <td>...</td>\n",
       "      <td>0.0</td>\n",
       "      <td>11.673657</td>\n",
       "      <td>107.062212</td>\n",
       "      <td>940.503166</td>\n",
       "      <td>6.623262</td>\n",
       "      <td>19659</td>\n",
       "      <td>152</td>\n",
       "      <td>386.0</td>\n",
       "      <td>489.0</td>\n",
       "      <td>13.743056</td>\n",
       "    </tr>\n",
       "    <tr>\n",
       "      <th>2</th>\n",
       "      <td>Soyasapogenol E base + O-HexA-Hex-Hex</td>\n",
       "      <td>JTXVTHCLTOUSSL-UHFFFAOYNA-N</td>\n",
       "      <td>O=C(O)C8OC(OC2CCC3(C)(C4CC=C1C5CC(C)(C)CC(=O)C...</td>\n",
       "      <td>6.446074</td>\n",
       "      <td>7.49</td>\n",
       "      <td>53.378458</td>\n",
       "      <td>38.971182</td>\n",
       "      <td>1</td>\n",
       "      <td>0</td>\n",
       "      <td>0</td>\n",
       "      <td>...</td>\n",
       "      <td>0.0</td>\n",
       "      <td>11.680125</td>\n",
       "      <td>108.106572</td>\n",
       "      <td>956.498080</td>\n",
       "      <td>6.688798</td>\n",
       "      <td>20502</td>\n",
       "      <td>154</td>\n",
       "      <td>390.0</td>\n",
       "      <td>494.0</td>\n",
       "      <td>14.076389</td>\n",
       "    </tr>\n",
       "    <tr>\n",
       "      <th>3</th>\n",
       "      <td>Soyasapogenol B base + O-HexA-Pen-dHex, O-C6H7...</td>\n",
       "      <td>VWKBHQGCNGULAZ-UHFFFAOYNA-N</td>\n",
       "      <td>O=C(O)C9OC(OC3CCC4(C)(C5CC=C2C6CC(C)(C)CC(OC1O...</td>\n",
       "      <td>6.536218</td>\n",
       "      <td>7.79</td>\n",
       "      <td>58.615935</td>\n",
       "      <td>41.117105</td>\n",
       "      <td>1</td>\n",
       "      <td>0</td>\n",
       "      <td>0</td>\n",
       "      <td>...</td>\n",
       "      <td>0.0</td>\n",
       "      <td>11.738011</td>\n",
       "      <td>114.489110</td>\n",
       "      <td>1038.539945</td>\n",
       "      <td>6.700258</td>\n",
       "      <td>27052</td>\n",
       "      <td>164</td>\n",
       "      <td>426.0</td>\n",
       "      <td>536.0</td>\n",
       "      <td>15.104167</td>\n",
       "    </tr>\n",
       "    <tr>\n",
       "      <th>4</th>\n",
       "      <td>Soyasapogenol B base + O-HexA-Hex-Pen, O-dHex</td>\n",
       "      <td>REIWEXDMDVAAEI-UHFFFAOYNA-N</td>\n",
       "      <td>CC1OC(OC2CC(C)(C)CC3C4=CCC5C6(C)CCC(OC7OC(C(O)...</td>\n",
       "      <td>6.125359</td>\n",
       "      <td>5.56</td>\n",
       "      <td>59.949268</td>\n",
       "      <td>42.489658</td>\n",
       "      <td>1</td>\n",
       "      <td>0</td>\n",
       "      <td>0</td>\n",
       "      <td>...</td>\n",
       "      <td>0.0</td>\n",
       "      <td>11.764827</td>\n",
       "      <td>116.612958</td>\n",
       "      <td>1074.561074</td>\n",
       "      <td>6.674292</td>\n",
       "      <td>28816</td>\n",
       "      <td>170</td>\n",
       "      <td>436.0</td>\n",
       "      <td>550.0</td>\n",
       "      <td>15.659722</td>\n",
       "    </tr>\n",
       "  </tbody>\n",
       "</table>\n",
       "<p>5 rows × 822 columns</p>\n",
       "</div>"
      ],
      "text/plain": [
       "                                                Name  \\\n",
       "0                  Soyasapogenol E base + O-Hex-HexA   \n",
       "1             Soyasapogenol E base + O-HexA-Hex-dHex   \n",
       "2              Soyasapogenol E base + O-HexA-Hex-Hex   \n",
       "3  Soyasapogenol B base + O-HexA-Pen-dHex, O-C6H7...   \n",
       "4      Soyasapogenol B base + O-HexA-Hex-Pen, O-dHex   \n",
       "\n",
       "                      InChIKey  \\\n",
       "0  YDNHBSRZSMNZPB-NJAHCQCINA-N   \n",
       "1  CROUPKILZUPLQA-UHFFFAOYNA-N   \n",
       "2  JTXVTHCLTOUSSL-UHFFFAOYNA-N   \n",
       "3  VWKBHQGCNGULAZ-UHFFFAOYNA-N   \n",
       "4  REIWEXDMDVAAEI-UHFFFAOYNA-N   \n",
       "\n",
       "                                              SMILES       RTP    RT  \\\n",
       "0  O=C(O)C7OC(OC2CCC3(C)(C4CC=C1C5CC(C)(C)CC(=O)C...  6.634353  7.84   \n",
       "1  O=C(O)C8OC(OC2CCC3(C)(C4CC=C1C5CC(C)(C)CC(=O)C...  6.434567  7.62   \n",
       "2  O=C(O)C8OC(OC2CCC3(C)(C4CC=C1C5CC(C)(C)CC(=O)C...  6.446074  7.49   \n",
       "3  O=C(O)C9OC(OC3CCC4(C)(C5CC=C2C6CC(C)(C)CC(OC1O...  6.536218  7.79   \n",
       "4  CC1OC(OC2CC(C)(C)CC3C4=CCC5C6(C)CCC(OC7OC(C(O)...  6.125359  5.56   \n",
       "\n",
       "         ABC      ABCGG  nAcid  nBase  nAromAtom  ...  SRW09      SRW10  \\\n",
       "0  44.836157  32.982369      1      0          0  ...    0.0  11.553443   \n",
       "1  52.780741  38.464480      1      0          0  ...    0.0  11.673657   \n",
       "2  53.378458  38.971182      1      0          0  ...    0.0  11.680125   \n",
       "3  58.615935  41.117105      1      0          0  ...    0.0  11.738011   \n",
       "4  59.949268  42.489658      1      0          0  ...    0.0  11.764827   \n",
       "\n",
       "       TSRW10           MW       AMW  WPath  WPol  Zagreb1  Zagreb2   mZagreb2  \n",
       "0   96.348334   794.445257  6.511846  12554   131    330.0    420.0  11.631944  \n",
       "1  107.062212   940.503166  6.623262  19659   152    386.0    489.0  13.743056  \n",
       "2  108.106572   956.498080  6.688798  20502   154    390.0    494.0  14.076389  \n",
       "3  114.489110  1038.539945  6.700258  27052   164    426.0    536.0  15.104167  \n",
       "4  116.612958  1074.561074  6.674292  28816   170    436.0    550.0  15.659722  \n",
       "\n",
       "[5 rows x 822 columns]"
      ]
     },
     "execution_count": 16,
     "metadata": {},
     "output_type": "execute_result"
    }
   ],
   "source": [
    "annotated.head()"
   ]
  },
  {
   "cell_type": "markdown",
   "id": "10d6a07a",
   "metadata": {},
   "source": [
    "Now the dataset includes a new column `RTP` containing the predicted retention time. The `RTP` values of molecules that could not be loaded or descriptors could not be calculated will be empty or null."
   ]
  },
  {
   "cell_type": "markdown",
   "id": "18d22ea1",
   "metadata": {},
   "source": [
    "### Feature importance"
   ]
  },
  {
   "cell_type": "markdown",
   "id": "676d14bc",
   "metadata": {},
   "source": [
    "The feature importance of the model can be visualized using the `plot_feature_importance` function by providing the model trained as input. It is possible to save the plot indicating the `plot_filename`."
   ]
  },
  {
   "cell_type": "code",
   "execution_count": 22,
   "id": "ceccb830",
   "metadata": {},
   "outputs": [
    {
     "data": {
      "text/html": [
       "    <style>\n",
       "        .bk-notebook-logo {\n",
       "            display: block;\n",
       "            width: 20px;\n",
       "            height: 20px;\n",
       "            background-image: url(data:image/png;base64,iVBORw0KGgoAAAANSUhEUgAAABQAAAAUCAYAAACNiR0NAAAABHNCSVQICAgIfAhkiAAAAAlwSFlzAAALEgAACxIB0t1+/AAAABx0RVh0U29mdHdhcmUAQWRvYmUgRmlyZXdvcmtzIENTNui8sowAAAOkSURBVDiNjZRtaJVlGMd/1/08zzln5zjP1LWcU9N0NkN8m2CYjpgQYQXqSs0I84OLIC0hkEKoPtiH3gmKoiJDU7QpLgoLjLIQCpEsNJ1vqUOdO7ppbuec5+V+rj4ctwzd8IIbbi6u+8f1539dt3A78eXC7QizUF7gyV1fD1Yqg4JWz84yffhm0qkFqBogB9rM8tZdtwVsPUhWhGcFJngGeWrPzHm5oaMmkfEg1usvLFyc8jLRqDOMru7AyC8saQr7GG7f5fvDeH7Ej8CM66nIF+8yngt6HWaKh7k49Soy9nXurCi1o3qUbS3zWfrYeQDTB/Qj6kX6Ybhw4B+bOYoLKCC9H3Nu/leUTZ1JdRWkkn2ldcCamzrcf47KKXdAJllSlxAOkRgyHsGC/zRday5Qld9DyoM4/q/rUoy/CXh3jzOu3bHUVZeU+DEn8FInkPBFlu3+nW3Nw0mk6vCDiWg8CeJaxEwuHS3+z5RgY+YBR6V1Z1nxSOfoaPa4LASWxxdNp+VWTk7+4vzaou8v8PN+xo+KY2xsw6une2frhw05CTYOmQvsEhjhWjn0bmXPjpE1+kplmmkP3suftwTubK9Vq22qKmrBhpY4jvd5afdRA3wGjFAgcnTK2s4hY0/GPNIb0nErGMCRxWOOX64Z8RAC4oCXdklmEvcL8o0BfkNK4lUg9HTl+oPlQxdNo3Mg4Nv175e/1LDGzZen30MEjRUtmXSfiTVu1kK8W4txyV6BMKlbgk3lMwYCiusNy9fVfvvwMxv8Ynl6vxoByANLTWplvuj/nF9m2+PDtt1eiHPBr1oIfhCChQMBw6Aw0UulqTKZdfVvfG7VcfIqLG9bcldL/+pdWTLxLUy8Qq38heUIjh4XlzZxzQm19lLFlr8vdQ97rjZVOLf8nclzckbcD4wxXMidpX30sFd37Fv/GtwwhzhxGVAprjbg0gCAEeIgwCZyTV2Z1REEW8O4py0wsjeloKoMr6iCY6dP92H6Vw/oTyICIthibxjm/DfN9lVz8IqtqKYLUXfoKVMVQVVJOElGjrnnUt9T9wbgp8AyYKaGlqingHZU/uG2NTZSVqwHQTWkx9hxjkpWDaCg6Ckj5qebgBVbT3V3NNXMSiWSDdGV3hrtzla7J+duwPOToIg42ChPQOQjspnSlp1V+Gjdged7+8UN5CRAV7a5EdFNwCjEaBR27b3W890TE7g24NAP/mMDXRWrGoFPQI9ls/MWO2dWFAar/xcOIImbbpA3zgAAAABJRU5ErkJggg==);\n",
       "        }\n",
       "    </style>\n",
       "    <div>\n",
       "        <a href=\"https://bokeh.org\" target=\"_blank\" class=\"bk-notebook-logo\"></a>\n",
       "        <span id=\"b1bcf67e-f0eb-4c18-940b-631c6b00d488\">Loading BokehJS ...</span>\n",
       "    </div>\n"
      ]
     },
     "metadata": {},
     "output_type": "display_data"
    },
    {
     "data": {
      "application/javascript": "'use strict';\n(function(root) {\n  function now() {\n    return new Date();\n  }\n\n  const force = true;\n\n  if (typeof root._bokeh_onload_callbacks === \"undefined\" || force === true) {\n    root._bokeh_onload_callbacks = [];\n    root._bokeh_is_loading = undefined;\n  }\n\nconst JS_MIME_TYPE = 'application/javascript';\n  const HTML_MIME_TYPE = 'text/html';\n  const EXEC_MIME_TYPE = 'application/vnd.bokehjs_exec.v0+json';\n  const CLASS_NAME = 'output_bokeh rendered_html';\n\n  /**\n   * Render data to the DOM node\n   */\n  function render(props, node) {\n    const script = document.createElement(\"script\");\n    node.appendChild(script);\n  }\n\n  /**\n   * Handle when an output is cleared or removed\n   */\n  function handleClearOutput(event, handle) {\n    function drop(id) {\n      const view = Bokeh.index.get_by_id(id)\n      if (view != null) {\n        view.model.document.clear()\n        Bokeh.index.delete(view)\n      }\n    }\n\n    const cell = handle.cell;\n\n    const id = cell.output_area._bokeh_element_id;\n    const server_id = cell.output_area._bokeh_server_id;\n\n    // Clean up Bokeh references\n    if (id != null) {\n      drop(id)\n    }\n\n    if (server_id !== undefined) {\n      // Clean up Bokeh references\n      const cmd_clean = \"from bokeh.io.state import curstate; print(curstate().uuid_to_server['\" + server_id + \"'].get_sessions()[0].document.roots[0]._id)\";\n      cell.notebook.kernel.execute(cmd_clean, {\n        iopub: {\n          output: function(msg) {\n            const id = msg.content.text.trim()\n            drop(id)\n          }\n        }\n      });\n      // Destroy server and session\n      const cmd_destroy = \"import bokeh.io.notebook as ion; ion.destroy_server('\" + server_id + \"')\";\n      cell.notebook.kernel.execute(cmd_destroy);\n    }\n  }\n\n  /**\n   * Handle when a new output is added\n   */\n  function handleAddOutput(event, handle) {\n    const output_area = handle.output_area;\n    const output = handle.output;\n\n    // limit handleAddOutput to display_data with EXEC_MIME_TYPE content only\n    if ((output.output_type != \"display_data\") || (!Object.prototype.hasOwnProperty.call(output.data, EXEC_MIME_TYPE))) {\n      return\n    }\n\n    const toinsert = output_area.element.find(\".\" + CLASS_NAME.split(' ')[0]);\n\n    if (output.metadata[EXEC_MIME_TYPE][\"id\"] !== undefined) {\n      toinsert[toinsert.length - 1].firstChild.textContent = output.data[JS_MIME_TYPE];\n      // store reference to embed id on output_area\n      output_area._bokeh_element_id = output.metadata[EXEC_MIME_TYPE][\"id\"];\n    }\n    if (output.metadata[EXEC_MIME_TYPE][\"server_id\"] !== undefined) {\n      const bk_div = document.createElement(\"div\");\n      bk_div.innerHTML = output.data[HTML_MIME_TYPE];\n      const script_attrs = bk_div.children[0].attributes;\n      for (let i = 0; i < script_attrs.length; i++) {\n        toinsert[toinsert.length - 1].firstChild.setAttribute(script_attrs[i].name, script_attrs[i].value);\n        toinsert[toinsert.length - 1].firstChild.textContent = bk_div.children[0].textContent\n      }\n      // store reference to server id on output_area\n      output_area._bokeh_server_id = output.metadata[EXEC_MIME_TYPE][\"server_id\"];\n    }\n  }\n\n  function register_renderer(events, OutputArea) {\n\n    function append_mime(data, metadata, element) {\n      // create a DOM node to render to\n      const toinsert = this.create_output_subarea(\n        metadata,\n        CLASS_NAME,\n        EXEC_MIME_TYPE\n      );\n      this.keyboard_manager.register_events(toinsert);\n      // Render to node\n      const props = {data: data, metadata: metadata[EXEC_MIME_TYPE]};\n      render(props, toinsert[toinsert.length - 1]);\n      element.append(toinsert);\n      return toinsert\n    }\n\n    /* Handle when an output is cleared or removed */\n    events.on('clear_output.CodeCell', handleClearOutput);\n    events.on('delete.Cell', handleClearOutput);\n\n    /* Handle when a new output is added */\n    events.on('output_added.OutputArea', handleAddOutput);\n\n    /**\n     * Register the mime type and append_mime function with output_area\n     */\n    OutputArea.prototype.register_mime_type(EXEC_MIME_TYPE, append_mime, {\n      /* Is output safe? */\n      safe: true,\n      /* Index of renderer in `output_area.display_order` */\n      index: 0\n    });\n  }\n\n  // register the mime type if in Jupyter Notebook environment and previously unregistered\n  if (root.Jupyter !== undefined) {\n    const events = require('base/js/events');\n    const OutputArea = require('notebook/js/outputarea').OutputArea;\n\n    if (OutputArea.prototype.mime_types().indexOf(EXEC_MIME_TYPE) == -1) {\n      register_renderer(events, OutputArea);\n    }\n  }\n  if (typeof (root._bokeh_timeout) === \"undefined\" || force === true) {\n    root._bokeh_timeout = Date.now() + 5000;\n    root._bokeh_failed_load = false;\n  }\n\n  const NB_LOAD_WARNING = {'data': {'text/html':\n     \"<div style='background-color: #fdd'>\\n\"+\n     \"<p>\\n\"+\n     \"BokehJS does not appear to have successfully loaded. If loading BokehJS from CDN, this \\n\"+\n     \"may be due to a slow or bad network connection. Possible fixes:\\n\"+\n     \"</p>\\n\"+\n     \"<ul>\\n\"+\n     \"<li>re-rerun `output_notebook()` to attempt to load from CDN again, or</li>\\n\"+\n     \"<li>use INLINE resources instead, as so:</li>\\n\"+\n     \"</ul>\\n\"+\n     \"<code>\\n\"+\n     \"from bokeh.resources import INLINE\\n\"+\n     \"output_notebook(resources=INLINE)\\n\"+\n     \"</code>\\n\"+\n     \"</div>\"}};\n\n  function display_loaded(error = null) {\n    const el = document.getElementById(\"b1bcf67e-f0eb-4c18-940b-631c6b00d488\");\n    if (el != null) {\n      const html = (() => {\n        if (typeof root.Bokeh === \"undefined\") {\n          if (error == null) {\n            return \"BokehJS is loading ...\";\n          } else {\n            return \"BokehJS failed to load.\";\n          }\n        } else {\n          const prefix = `BokehJS ${root.Bokeh.version}`;\n          if (error == null) {\n            return `${prefix} successfully loaded.`;\n          } else {\n            return `${prefix} <b>encountered errors</b> while loading and may not function as expected.`;\n          }\n        }\n      })();\n      el.innerHTML = html;\n\n      if (error != null) {\n        const wrapper = document.createElement(\"div\");\n        wrapper.style.overflow = \"auto\";\n        wrapper.style.height = \"5em\";\n        wrapper.style.resize = \"vertical\";\n        const content = document.createElement(\"div\");\n        content.style.fontFamily = \"monospace\";\n        content.style.whiteSpace = \"pre-wrap\";\n        content.style.backgroundColor = \"rgb(255, 221, 221)\";\n        content.textContent = error.stack ?? error.toString();\n        wrapper.append(content);\n        el.append(wrapper);\n      }\n    } else if (Date.now() < root._bokeh_timeout) {\n      setTimeout(() => display_loaded(error), 100);\n    }\n  }\n\n  function run_callbacks() {\n    try {\n      root._bokeh_onload_callbacks.forEach(function(callback) {\n        if (callback != null)\n          callback();\n      });\n    } finally {\n      delete root._bokeh_onload_callbacks\n    }\n    console.debug(\"Bokeh: all callbacks have finished\");\n  }\n\n  function load_libs(css_urls, js_urls, callback) {\n    if (css_urls == null) css_urls = [];\n    if (js_urls == null) js_urls = [];\n\n    root._bokeh_onload_callbacks.push(callback);\n    if (root._bokeh_is_loading > 0) {\n      console.debug(\"Bokeh: BokehJS is being loaded, scheduling callback at\", now());\n      return null;\n    }\n    if (js_urls == null || js_urls.length === 0) {\n      run_callbacks();\n      return null;\n    }\n    console.debug(\"Bokeh: BokehJS not loaded, scheduling load and callback at\", now());\n    root._bokeh_is_loading = css_urls.length + js_urls.length;\n\n    function on_load() {\n      root._bokeh_is_loading--;\n      if (root._bokeh_is_loading === 0) {\n        console.debug(\"Bokeh: all BokehJS libraries/stylesheets loaded\");\n        run_callbacks()\n      }\n    }\n\n    function on_error(url) {\n      console.error(\"failed to load \" + url);\n    }\n\n    for (let i = 0; i < css_urls.length; i++) {\n      const url = css_urls[i];\n      const element = document.createElement(\"link\");\n      element.onload = on_load;\n      element.onerror = on_error.bind(null, url);\n      element.rel = \"stylesheet\";\n      element.type = \"text/css\";\n      element.href = url;\n      console.debug(\"Bokeh: injecting link tag for BokehJS stylesheet: \", url);\n      document.body.appendChild(element);\n    }\n\n    for (let i = 0; i < js_urls.length; i++) {\n      const url = js_urls[i];\n      const element = document.createElement('script');\n      element.onload = on_load;\n      element.onerror = on_error.bind(null, url);\n      element.async = false;\n      element.src = url;\n      console.debug(\"Bokeh: injecting script tag for BokehJS library: \", url);\n      document.head.appendChild(element);\n    }\n  };\n\n  function inject_raw_css(css) {\n    const element = document.createElement(\"style\");\n    element.appendChild(document.createTextNode(css));\n    document.body.appendChild(element);\n  }\n\n  const js_urls = [\"https://cdn.bokeh.org/bokeh/release/bokeh-3.4.1.min.js\", \"https://cdn.bokeh.org/bokeh/release/bokeh-gl-3.4.1.min.js\", \"https://cdn.bokeh.org/bokeh/release/bokeh-widgets-3.4.1.min.js\", \"https://cdn.bokeh.org/bokeh/release/bokeh-tables-3.4.1.min.js\", \"https://cdn.bokeh.org/bokeh/release/bokeh-mathjax-3.4.1.min.js\"];\n  const css_urls = [];\n\n  const inline_js = [    function(Bokeh) {\n      Bokeh.set_log_level(\"info\");\n    },\nfunction(Bokeh) {\n    }\n  ];\n\n  function run_inline_js() {\n    if (root.Bokeh !== undefined || force === true) {\n      try {\n            for (let i = 0; i < inline_js.length; i++) {\n      inline_js[i].call(root, root.Bokeh);\n    }\n\n      } catch (error) {display_loaded(error);throw error;\n      }if (force === true) {\n        display_loaded();\n      }} else if (Date.now() < root._bokeh_timeout) {\n      setTimeout(run_inline_js, 100);\n    } else if (!root._bokeh_failed_load) {\n      console.log(\"Bokeh: BokehJS failed to load within specified timeout.\");\n      root._bokeh_failed_load = true;\n    } else if (force !== true) {\n      const cell = $(document.getElementById(\"b1bcf67e-f0eb-4c18-940b-631c6b00d488\")).parents('.cell').data().cell;\n      cell.output_area.append_execute_result(NB_LOAD_WARNING)\n    }\n  }\n\n  if (root._bokeh_is_loading === 0) {\n    console.debug(\"Bokeh: BokehJS loaded, going straight to plotting\");\n    run_inline_js();\n  } else {\n    load_libs(css_urls, js_urls, function() {\n      console.debug(\"Bokeh: BokehJS plotting callback run at\", now());\n      run_inline_js();\n    });\n  }\n}(window));",
      "application/vnd.bokehjs_load.v0+json": ""
     },
     "metadata": {},
     "output_type": "display_data"
    },
    {
     "data": {
      "text/html": [
       "\n",
       "  <div id=\"af28697b-1d4e-4050-8eea-13d8b1109d6b\" data-root-id=\"p1153\" style=\"display: contents;\"></div>\n"
      ]
     },
     "metadata": {},
     "output_type": "display_data"
    },
    {
     "data": {
      "application/javascript": "(function(root) {\n  function embed_document(root) {\n  const docs_json = {\"e19f02e8-fd68-4153-ba5f-cc77f9a098c3\":{\"version\":\"3.4.1\",\"title\":\"Bokeh Application\",\"roots\":[{\"type\":\"object\",\"name\":\"Figure\",\"id\":\"p1153\",\"attributes\":{\"x_range\":{\"type\":\"object\",\"name\":\"DataRange1d\",\"id\":\"p1155\",\"attributes\":{\"start\":0}},\"y_range\":{\"type\":\"object\",\"name\":\"FactorRange\",\"id\":\"p1163\",\"attributes\":{\"factors\":[\"EState_VSA3\",\"GATS1dv\",\"MIC2\",\"ATSC1dv\",\"SdO\",\"Xpc-6dv\",\"nFHRing\",\"ATSC2are\",\"piPC4\",\"AATSC0i\",\"IC0\",\"VSA_EState2\",\"ATSC4are\",\"SlogP_VSA5\",\"PEOE_VSA8\",\"SMR_VSA3\",\"nBase\",\"PEOE_VSA6\",\"AATS1i\",\"SLogP\"]}},\"x_scale\":{\"type\":\"object\",\"name\":\"LinearScale\",\"id\":\"p1164\"},\"y_scale\":{\"type\":\"object\",\"name\":\"CategoricalScale\",\"id\":\"p1165\"},\"title\":{\"type\":\"object\",\"name\":\"Title\",\"id\":\"p1156\",\"attributes\":{\"text\":\"Feature importance (top 20)\",\"text_color\":\"#384049\",\"text_font_size\":\"15px\",\"align\":\"center\"}},\"renderers\":[{\"type\":\"object\",\"name\":\"GlyphRenderer\",\"id\":\"p1193\",\"attributes\":{\"data_source\":{\"type\":\"object\",\"name\":\"ColumnDataSource\",\"id\":\"p1150\",\"attributes\":{\"selected\":{\"type\":\"object\",\"name\":\"Selection\",\"id\":\"p1151\",\"attributes\":{\"indices\":[],\"line_indices\":[]}},\"selection_policy\":{\"type\":\"object\",\"name\":\"UnionRenderers\",\"id\":\"p1152\"},\"data\":{\"type\":\"map\",\"entries\":[[\"index\",{\"type\":\"ndarray\",\"array\":{\"type\":\"bytes\",\"data\":\"EwAAABIAAAARAAAAEAAAAA8AAAAOAAAADQAAAAwAAAALAAAACgAAAAkAAAAIAAAABwAAAAYAAAAFAAAABAAAAAMAAAACAAAAAQAAAAAAAAA=\"},\"shape\":[20],\"dtype\":\"int32\",\"order\":\"little\"}],[\"feature\",{\"type\":\"ndarray\",\"array\":[\"EState_VSA3\",\"GATS1dv\",\"MIC2\",\"ATSC1dv\",\"SdO\",\"Xpc-6dv\",\"nFHRing\",\"ATSC2are\",\"piPC4\",\"AATSC0i\",\"IC0\",\"VSA_EState2\",\"ATSC4are\",\"SlogP_VSA5\",\"PEOE_VSA8\",\"SMR_VSA3\",\"nBase\",\"PEOE_VSA6\",\"AATS1i\",\"SLogP\"],\"shape\":[20],\"dtype\":\"object\",\"order\":\"little\"}],[\"importance\",{\"type\":\"ndarray\",\"array\":{\"type\":\"bytes\",\"data\":\"9bOnUa3Xcz+fmlK8HbJ1PwUB/vd1zHY/luxF2go1dz+t9HJwVZ93P4ZHxMGLXXk/75YFZYylej/NJsWOlsp9P2xmuEBx4X0/eTKUEy64gD/uDqwCCGuDP8GDnDtPVIQ/ZVev4i95hj8OcksdCLOTP/DU3kbRBZU/NphidVN6lT/MlAPvCxmYP8jsUdeV6Jg/dXEj/YyRyD+JycdEPA7SPw==\"},\"shape\":[20],\"dtype\":\"float64\",\"order\":\"little\"}]]}}},\"view\":{\"type\":\"object\",\"name\":\"CDSView\",\"id\":\"p1194\",\"attributes\":{\"filter\":{\"type\":\"object\",\"name\":\"AllIndices\",\"id\":\"p1195\"}}},\"glyph\":{\"type\":\"object\",\"name\":\"HBar\",\"id\":\"p1190\",\"attributes\":{\"y\":{\"type\":\"field\",\"field\":\"feature\"},\"height\":{\"type\":\"value\",\"value\":0.8},\"right\":{\"type\":\"field\",\"field\":\"importance\"},\"line_color\":{\"type\":\"value\",\"value\":\"#D02937\"},\"fill_color\":{\"type\":\"value\",\"value\":\"#D02937\"}}},\"nonselection_glyph\":{\"type\":\"object\",\"name\":\"HBar\",\"id\":\"p1191\",\"attributes\":{\"y\":{\"type\":\"field\",\"field\":\"feature\"},\"height\":{\"type\":\"value\",\"value\":0.8},\"right\":{\"type\":\"field\",\"field\":\"importance\"},\"line_color\":{\"type\":\"value\",\"value\":\"#D02937\"},\"line_alpha\":{\"type\":\"value\",\"value\":0.1},\"fill_color\":{\"type\":\"value\",\"value\":\"#D02937\"},\"fill_alpha\":{\"type\":\"value\",\"value\":0.1},\"hatch_alpha\":{\"type\":\"value\",\"value\":0.1}}},\"muted_glyph\":{\"type\":\"object\",\"name\":\"HBar\",\"id\":\"p1192\",\"attributes\":{\"y\":{\"type\":\"field\",\"field\":\"feature\"},\"height\":{\"type\":\"value\",\"value\":0.8},\"right\":{\"type\":\"field\",\"field\":\"importance\"},\"line_color\":{\"type\":\"value\",\"value\":\"#D02937\"},\"line_alpha\":{\"type\":\"value\",\"value\":0.2},\"fill_color\":{\"type\":\"value\",\"value\":\"#D02937\"},\"fill_alpha\":{\"type\":\"value\",\"value\":0.2},\"hatch_alpha\":{\"type\":\"value\",\"value\":0.2}}}}}],\"toolbar\":{\"type\":\"object\",\"name\":\"Toolbar\",\"id\":\"p1162\",\"attributes\":{\"tools\":[{\"type\":\"object\",\"name\":\"PanTool\",\"id\":\"p1176\"},{\"type\":\"object\",\"name\":\"WheelZoomTool\",\"id\":\"p1177\",\"attributes\":{\"renderers\":\"auto\"}},{\"type\":\"object\",\"name\":\"BoxZoomTool\",\"id\":\"p1178\",\"attributes\":{\"overlay\":{\"type\":\"object\",\"name\":\"BoxAnnotation\",\"id\":\"p1179\",\"attributes\":{\"syncable\":false,\"level\":\"overlay\",\"visible\":false,\"left\":{\"type\":\"number\",\"value\":\"nan\"},\"right\":{\"type\":\"number\",\"value\":\"nan\"},\"top\":{\"type\":\"number\",\"value\":\"nan\"},\"bottom\":{\"type\":\"number\",\"value\":\"nan\"},\"left_units\":\"canvas\",\"right_units\":\"canvas\",\"top_units\":\"canvas\",\"bottom_units\":\"canvas\",\"line_color\":\"black\",\"line_alpha\":1.0,\"line_width\":2,\"line_dash\":[4,4],\"fill_color\":\"lightgrey\",\"fill_alpha\":0.5}}}},{\"type\":\"object\",\"name\":\"SaveTool\",\"id\":\"p1184\"},{\"type\":\"object\",\"name\":\"ResetTool\",\"id\":\"p1185\"},{\"type\":\"object\",\"name\":\"HelpTool\",\"id\":\"p1186\"},{\"type\":\"object\",\"name\":\"HoverTool\",\"id\":\"p1196\",\"attributes\":{\"renderers\":\"auto\",\"tooltips\":\"\\n        <div>\\n            <span style=\\\"font-weight: bold; color: #384049;\\\">@feature:</span>\\n            <span style=\\\"color: #384049;\\\">@importance</span>\\n        </div>\\n    \"}}]}},\"left\":[{\"type\":\"object\",\"name\":\"CategoricalAxis\",\"id\":\"p1171\",\"attributes\":{\"ticker\":{\"type\":\"object\",\"name\":\"CategoricalTicker\",\"id\":\"p1172\"},\"formatter\":{\"type\":\"object\",\"name\":\"CategoricalTickFormatter\",\"id\":\"p1173\"},\"axis_label_text_color\":\"#384049\",\"axis_label_text_font_style\":\"bold\",\"major_label_policy\":{\"type\":\"object\",\"name\":\"AllLabels\",\"id\":\"p1174\"},\"axis_line_color\":\"#384049\",\"major_tick_line_color\":\"#384049\",\"major_tick_in\":0,\"minor_tick_line_color\":\"#384049\",\"minor_tick_out\":3}}],\"below\":[{\"type\":\"object\",\"name\":\"LinearAxis\",\"id\":\"p1166\",\"attributes\":{\"ticker\":{\"type\":\"object\",\"name\":\"BasicTicker\",\"id\":\"p1167\",\"attributes\":{\"mantissas\":[1,2,5]}},\"formatter\":{\"type\":\"object\",\"name\":\"BasicTickFormatter\",\"id\":\"p1168\"},\"axis_label\":\"Importance\",\"axis_label_text_color\":\"#384049\",\"axis_label_text_font_style\":\"bold\",\"major_label_policy\":{\"type\":\"object\",\"name\":\"AllLabels\",\"id\":\"p1169\"},\"axis_line_color\":\"#384049\",\"major_tick_line_color\":\"#384049\",\"major_tick_in\":0,\"minor_tick_line_color\":\"#384049\",\"minor_tick_out\":3}}],\"center\":[{\"type\":\"object\",\"name\":\"Grid\",\"id\":\"p1170\",\"attributes\":{\"axis\":{\"id\":\"p1166\"},\"grid_line_color\":null}},{\"type\":\"object\",\"name\":\"Grid\",\"id\":\"p1175\",\"attributes\":{\"dimension\":1,\"axis\":{\"id\":\"p1171\"},\"grid_line_color\":null}}]}}]}};\n  const render_items = [{\"docid\":\"e19f02e8-fd68-4153-ba5f-cc77f9a098c3\",\"roots\":{\"p1153\":\"af28697b-1d4e-4050-8eea-13d8b1109d6b\"},\"root_ids\":[\"p1153\"]}];\n  void root.Bokeh.embed.embed_items_notebook(docs_json, render_items);\n  }\n  if (root.Bokeh !== undefined) {\n    embed_document(root);\n  } else {\n    let attempts = 0;\n    const timer = setInterval(function(root) {\n      if (root.Bokeh !== undefined) {\n        clearInterval(timer);\n        embed_document(root);\n      } else {\n        attempts++;\n        if (attempts > 100) {\n          clearInterval(timer);\n          console.log(\"Bokeh: ERROR: Unable to run BokehJS code because BokehJS library is missing\");\n        }\n      }\n    }, 10, root)\n  }\n})(window);",
      "application/vnd.bokehjs_exec.v0+json": ""
     },
     "metadata": {
      "application/vnd.bokehjs_exec.v0+json": {
       "id": "p1153"
      }
     },
     "output_type": "display_data"
    }
   ],
   "source": [
    "retip.visualization.plot_feature_importance(trainer)"
   ]
  },
  {
   "cell_type": "markdown",
   "id": "7f8e11a9",
   "metadata": {},
   "source": [
    "It is also possible to get all feature importance values as a dataframe using the `get_feature_importance` function."
   ]
  },
  {
   "cell_type": "code",
   "execution_count": 18,
   "id": "bed01745",
   "metadata": {},
   "outputs": [],
   "source": [
    "# trainer.get_feature_importance().head()"
   ]
  },
  {
   "cell_type": "markdown",
   "id": "7a4d16b1",
   "metadata": {},
   "source": [
    "### Saving/Loading Models"
   ]
  },
  {
   "cell_type": "markdown",
   "id": "cc334651",
   "metadata": {},
   "source": [
    "The model can be saved to avoid needing to retrain in the future. It will save time!"
   ]
  },
  {
   "cell_type": "code",
   "execution_count": 19,
   "id": "a23250fb",
   "metadata": {},
   "outputs": [
    {
     "name": "stdout",
     "output_type": "stream",
     "text": [
      "Exported model to Plasma_positve_randomforest-model.joblib\n"
     ]
    }
   ],
   "source": [
    "trainer.save_model('Plasma_positve_randomforest-model.joblib')"
   ]
  },
  {
   "cell_type": "markdown",
   "id": "24b2af48",
   "metadata": {},
   "source": [
    "This exported model can then be reloaded and used to score datasets and predict new retention times.  However, unless a dataset is first passed to the trainer, it cannot be retrained."
   ]
  },
  {
   "cell_type": "code",
   "execution_count": 20,
   "id": "9c454b5c",
   "metadata": {},
   "outputs": [
    {
     "name": "stdout",
     "output_type": "stream",
     "text": [
      "Loaded Plasma_positve_randomforest-model.joblib\n"
     ]
    }
   ],
   "source": [
    "trainer = retip.RandomForestTrainer(dataset)\n",
    "trainer.load_model('Plasma_positve_randomforest-model.joblib')"
   ]
  }
 ],
 "metadata": {
  "kernelspec": {
   "display_name": "Python 3 (ipykernel)",
   "language": "python",
   "name": "python3"
  },
  "language_info": {
   "codemirror_mode": {
    "name": "ipython",
    "version": 3
   },
   "file_extension": ".py",
   "mimetype": "text/x-python",
   "name": "python",
   "nbconvert_exporter": "python",
   "pygments_lexer": "ipython3",
   "version": "3.10.14"
  }
 },
 "nbformat": 4,
 "nbformat_minor": 5
}
