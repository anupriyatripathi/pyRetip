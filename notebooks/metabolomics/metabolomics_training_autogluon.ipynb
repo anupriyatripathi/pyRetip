{
 "cells": [
  {
   "cell_type": "markdown",
   "id": "caring-delight",
   "metadata": {},
   "source": [
    "![Retip](../../images/retip_logo.png)\n",
    "# Retip: Retention Time Prediction for Metabolomics and Lipidomics"
   ]
  },
  {
   "cell_type": "markdown",
   "id": "mounted-republican",
   "metadata": {},
   "source": [
    "### Training a Model with AutoGluon\n",
    "\n",
    "[AutoGluon](https://auto.gluon.ai) is an AutoML library designed to automate the full machine learning pipeline, including feature  preprocessing, training multiple model types, and constructing ensembles of models to improve overall accuracy.\n",
    "\n",
    "As AutoGluon performs so many tasks, the final model accuracy usually improves the longer it has to train.  When no time limit is specified, the training should take between 10 and 30 minutes.\n",
    "\n",
    "We begin by importing the retip library, loading our datasets, and calculating descriptors as before."
   ]
  },
  {
   "cell_type": "code",
   "execution_count": null,
   "id": "grand-watts",
   "metadata": {},
   "outputs": [],
   "source": [
    "try:\n",
    "    import retip\n",
    "except:\n",
    "    # add the parent directory to the path to load the Retip library locally in case it isn't installed\n",
    "    import os, sys\n",
    "    sys.path.insert(1, os.path.join(sys.path[0], '../..'))\n",
    "    \n",
    "    import retip"
   ]
  },
  {
   "cell_type": "code",
   "execution_count": null,
   "id": "ahead-windsor",
   "metadata": {},
   "outputs": [],
   "source": [
    "dataset = retip.Dataset(target_column='RT').load_retip_dataset(\n",
    "    training='Plasma_positive.xlsx', training_sheet_name='lib_2',\n",
    "    validation='Plasma_positive.xlsx', validation_sheet_name='ext')"
   ]
  },
  {
   "cell_type": "code",
   "execution_count": null,
   "id": "smaller-james",
   "metadata": {},
   "outputs": [],
   "source": [
    "dataset.calculate_descriptors()\n",
    "dataset.preprocess_features('metabolomics')\n",
    "dataset.split_dataset(test_split=0.2, seed=101)"
   ]
  },
  {
   "cell_type": "markdown",
   "id": "bright-roberts",
   "metadata": {},
   "source": [
    "### Training RT Prediction Model\n",
    "\n",
    "Similarly to XGBoost, we create a model trainer.  The main difference is that we no longer need a cross-validation parameter (AutoGluon takes care of this), and instead we need to specify the training time in minutes.  Here, we select `training_duration=30` to train for 30 minutes."
   ]
  },
  {
   "cell_type": "code",
   "execution_count": null,
   "id": "incident-casting",
   "metadata": {
    "scrolled": true
   },
   "outputs": [],
   "source": [
    "trainer = retip.AutoGluonTrainer(dataset, training_duration=30)\n",
    "trainer.train()"
   ]
  },
  {
   "cell_type": "markdown",
   "id": "younger-burning",
   "metadata": {},
   "source": [
    "You can score this model using the internal testing data, or alternatively pass in a different `Dataset` object with precomputed descriptors."
   ]
  },
  {
   "cell_type": "code",
   "execution_count": null,
   "id": "approved-protein",
   "metadata": {},
   "outputs": [],
   "source": [
    "trainer.score()"
   ]
  },
  {
   "cell_type": "markdown",
   "id": "joint-bruce",
   "metadata": {},
   "source": [
    "### External Validation"
   ]
  },
  {
   "cell_type": "code",
   "execution_count": null,
   "id": "adjusted-delicious",
   "metadata": {},
   "outputs": [],
   "source": [
    "val_data = retip.Dataset('Plasma_positive.xlsx', sheet_name='ext')"
   ]
  },
  {
   "cell_type": "code",
   "execution_count": null,
   "id": "plain-storage",
   "metadata": {},
   "outputs": [],
   "source": [
    "trainer.score(val_data)"
   ]
  },
  {
   "cell_type": "markdown",
   "id": "canadian-senator",
   "metadata": {},
   "source": [
    "While we still observe the same issue where our training data is not sufficiently representative of our chemical space, the accuracy of the AutoGluon model is notably better than XGBoost, even after only 30 minutes of training."
   ]
  },
  {
   "cell_type": "markdown",
   "id": "dental-canberra",
   "metadata": {},
   "source": [
    "### Saving/Loading Models\n",
    "\n",
    "AutoGluon automatically saves its models into a directory called `AutogluonModels`, where each model is saved into a subdirectory named according to when the model started training.  You can use the same saving and loading methods to move these save directories and reload them."
   ]
  },
  {
   "cell_type": "code",
   "execution_count": null,
   "id": "molecular-dublin",
   "metadata": {},
   "outputs": [],
   "source": [
    "trainer.save_model('Plasma_positve_autogluon-model')"
   ]
  },
  {
   "cell_type": "code",
   "execution_count": null,
   "id": "major-occupation",
   "metadata": {},
   "outputs": [],
   "source": [
    "trainer = retip.AutoGluonTrainer()\n",
    "trainer.load_model('AutogluonModels/MODEL_NAME')"
   ]
  },
  {
   "cell_type": "code",
   "execution_count": null,
   "id": "advance-pledge",
   "metadata": {},
   "outputs": [],
   "source": [
    "trainer.score(val_data, plot=True)"
   ]
  },
  {
   "cell_type": "markdown",
   "id": "suited-explosion",
   "metadata": {},
   "source": [
    "If you use AutoGluon a lot, remember to clear out old models from the `AutogluonModels` directory!"
   ]
  }
 ],
 "metadata": {
  "kernelspec": {
   "display_name": "Python 3 (ipykernel)",
   "language": "python",
   "name": "python3"
  },
  "language_info": {
   "codemirror_mode": {
    "name": "ipython",
    "version": 3
   },
   "file_extension": ".py",
   "mimetype": "text/x-python",
   "name": "python",
   "nbconvert_exporter": "python",
   "pygments_lexer": "ipython3",
   "version": "3.10.12"
  }
 },
 "nbformat": 4,
 "nbformat_minor": 5
}
