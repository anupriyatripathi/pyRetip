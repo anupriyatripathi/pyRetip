{
 "cells": [
  {
   "cell_type": "markdown",
   "id": "caring-delight",
   "metadata": {},
   "source": [
    "![Retip](../../images/retip_logo.png)\n",
    "# Retip: Retention Time Prediction for Metabolomics and Lipidomics"
   ]
  },
  {
   "cell_type": "markdown",
   "id": "3ebe3361",
   "metadata": {},
   "source": [
    "Retip is a python tool for predicting retention times (RTs) of small molecules for high pressure liquid chromatography (HPLC) mass spectrometry. Retention time calculation can be useful in identifying unknowns and removing false positive annotations. The machine learning algorithms included in the tool are: **XGBoost**, **AutoGluon**, **AutoML** from **H2O** and **Random Forest**. This tutorial explains how to train a model with **AutoGluon**."
   ]
  },
  {
   "cell_type": "markdown",
   "id": "mounted-republican",
   "metadata": {},
   "source": [
    "## Training a Model with AutoGluon"
   ]
  },
  {
   "cell_type": "markdown",
   "id": "d073a064",
   "metadata": {},
   "source": [
    "[AutoGluon](https://auto.gluon.ai) is an AutoML library designed to automate the full machine learning pipeline, including feature  preprocessing, training multiple model types, and constructing ensembles of models to improve overall accuracy.\n",
    "\n",
    "As AutoGluon performs so many tasks, the final model accuracy usually improves the longer it has to train.  When no time limit is specified, the training should take between 10 and 30 minutes."
   ]
  },
  {
   "cell_type": "markdown",
   "id": "ffb5b0ac",
   "metadata": {},
   "source": [
    "### Loading Data"
   ]
  },
  {
   "cell_type": "markdown",
   "id": "1ecf6333",
   "metadata": {},
   "source": [
    "Begin by importing the `pyretip` library, which provides access to the training, prediction and visualization functions."
   ]
  },
  {
   "cell_type": "code",
   "execution_count": 1,
   "id": "grand-watts",
   "metadata": {},
   "outputs": [],
   "source": [
    "%reload_ext autoreload\n",
    "%autoreload 2\n",
    "try:\n",
    "    import retip\n",
    "except:\n",
    "    # add the parent directory to the path to load the Retip library locally in case it isn't installed\n",
    "    import os, sys\n",
    "    sys.path.insert(1, os.path.join(sys.path[0], '/home/npa/Documentos/pyRetip'))\n",
    "    \n",
    "    import retip"
   ]
  },
  {
   "cell_type": "markdown",
   "id": "a1f1a48d",
   "metadata": {},
   "source": [
    "The input data should be a compound retention time table in CSV or MS Excel format, containing the compound name, retention time and chemical identifier. Retip currently supports SMILES and PubChem CID as chemical identifiers.\n",
    "\n",
    "Retip will use this input file to build the model and predict retention times for other biochemical databases or an input query list of compounds. It is suggested that the file has at least 300 compounds to build a good retention time prediction model.\n",
    "\n",
    "Use the `retip.Dataset` class to load the data and create a new dataset."
   ]
  },
  {
   "cell_type": "code",
   "execution_count": 2,
   "id": "ahead-windsor",
   "metadata": {},
   "outputs": [],
   "source": [
    "dataset = retip.Dataset(target_column='RT').load_retip_dataset(\n",
    "    training='Plasma_positive.xlsx', training_sheet_name='lib_2',\n",
    "    validation='Plasma_positive.xlsx', validation_sheet_name='ext')"
   ]
  },
  {
   "cell_type": "code",
   "execution_count": 3,
   "id": "3bf0cb08",
   "metadata": {},
   "outputs": [
    {
     "name": "stdout",
     "output_type": "stream",
     "text": [
      "Training\n",
      "             Name                     InChIKey  \\\n",
      "0       Withanone  FAZIYUIDUNHZRG-UHFFFAOYNA-N   \n",
      "1  Corosolic acid  HFGSQOYIOKBQOW-UHFFFAOYNA-N   \n",
      "\n",
      "                                              SMILES    RT  \n",
      "0  CC(C1CC(C)=C(C)C(=O)O1)C1(O)CCC2C3C4OC4C4(O)CC...  6.82  \n",
      "1  CC1CCC2(CCC3(C)C(=CCC4C5(C)CC(O)C(O)C(C)(C)C5C...  9.89  \n",
      "\n",
      "Validation\n",
      "                                     Name                     InChIKey  \\\n",
      "0       Soyasapogenol E base + O-Hex-HexA  YDNHBSRZSMNZPB-NJAHCQCINA-N   \n",
      "1  Soyasapogenol E base + O-HexA-Hex-dHex  CROUPKILZUPLQA-UHFFFAOYNA-N   \n",
      "\n",
      "                                              SMILES    RT  \n",
      "0  O=C(O)C7OC(OC2CCC3(C)(C4CC=C1C5CC(C)(C)CC(=O)C...  7.84  \n",
      "1  O=C(O)C8OC(OC2CCC3(C)(C4CC=C1C5CC(C)(C)CC(=O)C...  7.62  \n",
      "\n"
     ]
    }
   ],
   "source": [
    "dataset.head(2)"
   ]
  },
  {
   "cell_type": "markdown",
   "id": "1f7e1709",
   "metadata": {},
   "source": [
    "Next, the precalculated molecular descriptors can be computed with the [Mordred Molecular Descriptor Calculator](https://github.com/mordred-descriptor/mordred) by calling the `calculate_descriptors` function. Note that molecules that cannot be parsed will be retained the dataset, but cannot be used for model training or validation."
   ]
  },
  {
   "cell_type": "code",
   "execution_count": 4,
   "id": "smaller-james",
   "metadata": {},
   "outputs": [
    {
     "name": "stdout",
     "output_type": "stream",
     "text": [
      "Calculating descriptors for training dataset\n"
     ]
    },
    {
     "name": "stderr",
     "output_type": "stream",
     "text": [
      "100%|██████████| 494/494 [01:33<00:00,  5.30it/s]\n",
      "/home/npa/Documentos/pyRetip/retip/dataset.py:198: FutureWarning: Downcasting behavior in `replace` is deprecated and will be removed in a future version. To retain the old behavior, explicitly call `result.infer_objects(copy=False)`. To opt-in to the future behavior, set `pd.set_option('future.no_silent_downcasting', True)`\n",
      "  descs = descs.replace({False: 0, True: 1})\n"
     ]
    },
    {
     "name": "stdout",
     "output_type": "stream",
     "text": [
      "Calculating descriptors for validation dataset\n"
     ]
    },
    {
     "name": "stderr",
     "output_type": "stream",
     "text": [
      "100%|██████████| 358/358 [01:22<00:00,  4.32it/s]\n",
      "/home/npa/Documentos/pyRetip/retip/dataset.py:198: FutureWarning: Downcasting behavior in `replace` is deprecated and will be removed in a future version. To retain the old behavior, explicitly call `result.infer_objects(copy=False)`. To opt-in to the future behavior, set `pd.set_option('future.no_silent_downcasting', True)`\n",
      "  descs = descs.replace({False: 0, True: 1})\n"
     ]
    }
   ],
   "source": [
    "dataset.calculate_descriptors()"
   ]
  },
  {
   "cell_type": "markdown",
   "id": "81b9994a",
   "metadata": {},
   "source": [
    "The `describe` function shows the shape of the datasets, indicating the number of rows and columns in each dataframe."
   ]
  },
  {
   "cell_type": "code",
   "execution_count": 5,
   "id": "4402d92c",
   "metadata": {},
   "outputs": [
    {
     "name": "stdout",
     "output_type": "stream",
     "text": [
      "Training (494, 1617)\n",
      "Validation (358, 1617)\n"
     ]
    }
   ],
   "source": [
    "dataset.describe()"
   ]
  },
  {
   "cell_type": "markdown",
   "id": "7b941b70",
   "metadata": {},
   "source": [
    "The `preprocess_features` function performs feature reduction by removing features with missing values and to restrict feature sets to descriptors which calculate non-null values for large sets of molecules. It is important to perform this step before training."
   ]
  },
  {
   "cell_type": "code",
   "execution_count": 6,
   "id": "e4eccd58",
   "metadata": {},
   "outputs": [
    {
     "name": "stdout",
     "output_type": "stream",
     "text": [
      "Reduced feature set from 1613 to 817\n"
     ]
    }
   ],
   "source": [
    "dataset.preprocess_features('metabolomics')"
   ]
  },
  {
   "cell_type": "markdown",
   "id": "e75ede09",
   "metadata": {},
   "source": [
    "Finally, it is possible to split the data into training and testing sets if it has not been loaded in separate files before. The `split_dataset` function makes that possible.\n",
    "\n",
    "- The `test_size` parameter defines what percentage of the dataset should be used for testing of the model's accuracy (this example uses 20%).\n",
    "- The `seed` parameter sets a specific training/test split for the database, enabling reproducable model training.\n",
    "- The `validation_split` parameter constructs an additional dataset for validation if desired."
   ]
  },
  {
   "cell_type": "code",
   "execution_count": 7,
   "id": "385bc8e9",
   "metadata": {},
   "outputs": [],
   "source": [
    "dataset.split_dataset(test_split=0.2, seed=101)"
   ]
  },
  {
   "cell_type": "code",
   "execution_count": 8,
   "id": "2ff55eb2",
   "metadata": {},
   "outputs": [
    {
     "name": "stdout",
     "output_type": "stream",
     "text": [
      "Training (395, 821)\n",
      "Validation (358, 821)\n",
      "Testing (99, 821)\n"
     ]
    }
   ],
   "source": [
    "dataset.describe()"
   ]
  },
  {
   "cell_type": "markdown",
   "id": "f9933f84",
   "metadata": {},
   "source": [
    "#### Save the new dataset"
   ]
  },
  {
   "cell_type": "markdown",
   "id": "bb057d38",
   "metadata": {},
   "source": [
    "Given that molecular descriptor calculation is a time-comsuming process, it is possible to save the current state of the dataset. Next time this retention time library is needed, simply use this export when loading this dataset instead. Note that there is no need to include a file extension, as Retip will automatically append the dataset type to the filename provided."
   ]
  },
  {
   "cell_type": "code",
   "execution_count": 9,
   "id": "a4d3dd44",
   "metadata": {},
   "outputs": [
    {
     "name": "stdout",
     "output_type": "stream",
     "text": [
      "Saved training dataset to Plasma_positive_retip_processed_training.csv\n",
      "Saved validation dataset to Plasma_positive_retip_processed_validation.csv\n",
      "Saved testing dataset to Plasma_positive_retip_processed_testing.csv\n"
     ]
    }
   ],
   "source": [
    "dataset.save_retip_dataset('Plasma_positive_retip_processed')"
   ]
  },
  {
   "cell_type": "markdown",
   "id": "7126f89b",
   "metadata": {},
   "source": [
    "This dataset can be loaded by running the `load_retip_dataset` function."
   ]
  },
  {
   "cell_type": "code",
   "execution_count": 2,
   "id": "c145a35f",
   "metadata": {},
   "outputs": [],
   "source": [
    "# dataset = retip.Dataset(target_column='RT').load_retip_dataset(\n",
    "#     'Plasma_positive_retip_processed_training.csv',\n",
    "#     'Plasma_positive_retip_processed_testing.csv',\n",
    "#     'Plasma_positive_retip_processed_validation.csv')"
   ]
  },
  {
   "cell_type": "markdown",
   "id": "bright-roberts",
   "metadata": {},
   "source": [
    "### Training RT Prediction Model"
   ]
  },
  {
   "cell_type": "markdown",
   "id": "baa755b3",
   "metadata": {},
   "source": [
    "Here, the RT prediction model will be trained. First, initialize the `AutoGluonTrainer` with the dataset with computed descriptors. Set the different parameters:\n",
    "- The `training_duration` parameter indicates the maximum training time in minutes. This value defaults to `None`.\n",
    "- The `preset` paramenter indicates the balance between the training speed and the prediction quality. The options are `medium_quality`, `high_quality` and `best_quality`. This value defaults to `high_quality`.\n",
    "\n",
    "The cross-validation parameter does not need to be specified becaure AutoGluon takes care of this."
   ]
  },
  {
   "cell_type": "code",
   "execution_count": 8,
   "id": "incident-casting",
   "metadata": {
    "scrolled": true
   },
   "outputs": [
    {
     "name": "stderr",
     "output_type": "stream",
     "text": [
      "No path specified. Models will be saved in: \"AutogluonModels/ag-20240530_143714\"\n",
      "Presets specified: ['high_quality']\n",
      "Setting dynamic_stacking from 'auto' to True. Reason: Enable dynamic_stacking when use_bag_holdout is disabled. (use_bag_holdout=False)\n",
      "Stack configuration (auto_stack=True): num_stack_levels=1, num_bag_folds=8, num_bag_sets=1\n",
      "Note: `save_bag_folds=False`! This will greatly reduce peak disk usage during fit (by ~8x), but runs the risk of an out-of-memory error during model refit if memory is small relative to the data size.\n",
      "\tYou can avoid this risk by setting `save_bag_folds=True`.\n",
      "Dynamic stacking is enabled (dynamic_stacking=True). AutoGluon will try to determine whether the input data is affected by stacked overfitting and enable or disable stacking as a consequence.\n",
      "Detecting stacked overfitting by sub-fitting AutoGluon on the input data. That is, copies of AutoGluon will be sub-fit on subset(s) of the data. Then, the holdout validation data is used to detect stacked overfitting.\n",
      "Sub-fit(s) time limit is: 180 seconds.\n",
      "Starting holdout-based sub-fit for dynamic stacking. Context path is: AutogluonModels/ag-20240530_143714/ds_sub_fit/sub_fit_ho.\n",
      "Running the sub-fit in a ray process to avoid memory leakage.\n",
      "Spend 53 seconds for the sub-fit(s) during dynamic stacking.\n",
      "Time left for full fit of AutoGluon: 127 seconds.\n",
      "Starting full fit now with num_stack_levels 1.\n",
      "Beginning AutoGluon training ... Time limit = 127s\n",
      "AutoGluon will save models to \"AutogluonModels/ag-20240530_143714\"\n",
      "=================== System Info ===================\n",
      "AutoGluon Version:  1.1.0\n",
      "Python Version:     3.10.14\n",
      "Operating System:   Linux\n",
      "Platform Machine:   x86_64\n",
      "Platform Version:   #35~22.04.1-Ubuntu SMP PREEMPT_DYNAMIC Tue May  7 09:00:52 UTC 2\n",
      "CPU Count:          16\n",
      "Memory Avail:       49.10 GB / 62.71 GB (78.3%)\n",
      "Disk Space Avail:   1521.63 GB / 1831.76 GB (83.1%)\n",
      "===================================================\n",
      "Train Data Rows:    395\n",
      "Train Data Columns: 817\n",
      "Label Column:       RT\n",
      "Problem Type:       regression\n",
      "Preprocessing data ...\n",
      "Using Feature Generators to preprocess the data ...\n",
      "Fitting AutoMLPipelineFeatureGenerator...\n",
      "\tAvailable Memory:                    50274.84 MB\n",
      "\tTrain Data (Original)  Memory Usage: 2.46 MB (0.0% of available memory)\n",
      "\tInferring data type of each feature based on column values. Set feature_metadata_in to manually specify special dtypes of the features.\n",
      "\tStage 1 Generators:\n",
      "\t\tFitting AsTypeFeatureGenerator...\n",
      "\t\t\tNote: Converting 58 features to boolean dtype as they only contain 2 unique values.\n",
      "\tStage 2 Generators:\n",
      "\t\tFitting FillNaFeatureGenerator...\n",
      "\tStage 3 Generators:\n",
      "\t\tFitting IdentityFeatureGenerator...\n",
      "\tStage 4 Generators:\n",
      "\t\tFitting DropUniqueFeatureGenerator...\n",
      "\tStage 5 Generators:\n",
      "\t\tFitting DropDuplicatesFeatureGenerator...\n",
      "\tUseless Original Features (Count: 162): ['nB', 'nF', 'nCl', 'nBr', 'nI', 'nX', 'C2SP1', 'NsLi', 'NssBe', 'NssssBe', 'NssBH', 'NsssB', 'NssssB', 'NtCH', 'NsNH3', 'NssNH2', 'NsssNH', 'NsF', 'NsSiH3', 'NssSiH2', 'NsssSiH', 'NssssSi', 'NsPH2', 'NssPH', 'NsssP', 'NsssssP', 'NaaS', 'NsCl', 'NsGeH3', 'NssGeH2', 'NsssGeH', 'NssssGe', 'NsAsH2', 'NssAsH', 'NsssAs', 'NsssdAs', 'NsssssAs', 'NsSeH', 'NdSe', 'NssSe', 'NaaSe', 'NdssSe', 'NddssSe', 'NsBr', 'NsSnH3', 'NssSnH2', 'NsssSnH', 'NssssSn', 'NsI', 'NsPbH3', 'NssPbH2', 'NsssPbH', 'NssssPb', 'SsLi', 'SssBe', 'SssssBe', 'SssBH', 'SsssB', 'SssssB', 'StCH', 'SsNH3', 'SssNH2', 'SsssNH', 'SsF', 'SsSiH3', 'SssSiH2', 'SsssSiH', 'SssssSi', 'SsPH2', 'SssPH', 'SsssP', 'SsssssP', 'SaaS', 'SsCl', 'SsGeH3', 'SssGeH2', 'SsssGeH', 'SssssGe', 'SsAsH2', 'SssAsH', 'SsssAs', 'SsssdAs', 'SsssssAs', 'SsSeH', 'SdSe', 'SssSe', 'SaaSe', 'SdssSe', 'SddssSe', 'SsBr', 'SsSnH3', 'SssSnH2', 'SsssSnH', 'SssssSn', 'SsI', 'SsPbH3', 'SssPbH2', 'SsssPbH', 'SssssPb', 'SMR_VSA8', 'SlogP_VSA7', 'SlogP_VSA9', 'n9Ring', 'n11Ring', 'n4HRing', 'n8HRing', 'n9HRing', 'n11HRing', 'n3aRing', 'n4aRing', 'n7aRing', 'n8aRing', 'n9aRing', 'n10aRing', 'n11aRing', 'n12aRing', 'nG12aRing', 'n3aHRing', 'n4aHRing', 'n7aHRing', 'n8aHRing', 'n9aHRing', 'n10aHRing', 'n11aHRing', 'n12aHRing', 'nG12aHRing', 'n9ARing', 'n11ARing', 'n4AHRing', 'n8AHRing', 'n9AHRing', 'n11AHRing', 'n4FRing', 'n5FRing', 'n6FRing', 'n7FRing', 'n4FHRing', 'n5FHRing', 'n6FHRing', 'n7FHRing', 'n4FaRing', 'n5FaRing', 'n6FaRing', 'n7FaRing', 'n8FaRing', 'n11FaRing', 'n12FaRing', 'n4FaHRing', 'n5FaHRing', 'n6FaHRing', 'n7FaHRing', 'n8FaHRing', 'n11FaHRing', 'n12FaHRing', 'n4FARing', 'n5FARing', 'n6FARing', 'n7FARing', 'n4FAHRing', 'n5FAHRing', 'n6FAHRing', 'n7FAHRing']\n",
      "\t\tThese features carry no predictive signal and should be manually investigated.\n",
      "\t\tThis is typically a feature which has the same value for all rows.\n",
      "\t\tThese features do not need to be present at inference time.\n",
      "\tUnused Original Features (Count: 45): ['nBondsA', 'C1SP1', 'NtsC', 'NtN', 'NdsssP', 'NdS', 'StsC', 'SdNH', 'StN', 'n3HRing', 'n10HRing', 'n12HRing', 'nG12HRing', 'n5aHRing', 'n3ARing', 'n4ARing', 'n7ARing', 'n8ARing', 'n10ARing', 'n12ARing', 'nG12ARing', 'n3AHRing', 'n7AHRing', 'n10AHRing', 'n12AHRing', 'nG12AHRing', 'n8FHRing', 'n9FHRing', 'n10FHRing', 'n11FHRing', 'n12FHRing', 'nFaHRing', 'n9FaHRing', 'n10FaHRing', 'nG12FaHRing', 'n8FARing', 'n11FARing', 'n12FARing', 'n8FAHRing', 'n9FAHRing', 'n10FAHRing', 'n11FAHRing', 'n12FAHRing', 'MWC01', 'SRW03']\n",
      "\t\tThese features were not used to generate any of the output features. Add a feature generator compatible with these features to utilize them.\n",
      "\t\tFeatures can also be unused if they carry very little information, such as being categorical but having almost entirely unique values or being duplicates of other features.\n",
      "\t\tThese features do not need to be present at inference time.\n",
      "\t\t('float', []) :  5 | ['StsC', 'SdNH', 'StN', 'MWC01', 'SRW03']\n",
      "\t\t('int', [])   : 40 | ['nBondsA', 'C1SP1', 'NtsC', 'NtN', 'NdsssP', ...]\n",
      "\tTypes of features in original data (raw dtype, special dtypes):\n",
      "\t\t('float', []) : 487 | ['ABC', 'ABCGG', 'ATS0dv', 'ATS1dv', 'ATS2dv', ...]\n",
      "\t\t('int', [])   : 123 | ['nAcid', 'nBase', 'nAromAtom', 'nAromBond', 'nAtom', ...]\n",
      "\tTypes of features in processed data (raw dtype, special dtypes):\n",
      "\t\t('float', [])     : 487 | ['ABC', 'ABCGG', 'ATS0dv', 'ATS1dv', 'ATS2dv', ...]\n",
      "\t\t('int', [])       :  98 | ['nAcid', 'nBase', 'nAromAtom', 'nAromBond', 'nAtom', ...]\n",
      "\t\t('int', ['bool']) :  25 | ['nP', 'nBondsT', 'NddC', 'NdNH', 'NdsN', ...]\n",
      "\t0.7s = Fit runtime\n",
      "\t610 features in original data used to generate 610 features in processed data.\n",
      "\tTrain Data (Processed) Memory Usage: 1.77 MB (0.0% of available memory)\n",
      "Data preprocessing and feature engineering runtime = 0.74s ...\n",
      "AutoGluon will gauge predictive performance using evaluation metric: 'root_mean_squared_error'\n",
      "\tThis metric's sign has been flipped to adhere to being higher_is_better. The metric score can be multiplied by -1 to get the metric value.\n",
      "\tTo change this, specify the eval_metric parameter of Predictor()\n",
      "Large model count detected (112 configs) ... Only displaying the first 3 models of each family. To see all, set `verbosity=3`.\n",
      "User-specified model hyperparameters to be fit:\n",
      "{\n",
      "\t'NN_TORCH': [{}, {'activation': 'elu', 'dropout_prob': 0.10077639529843717, 'hidden_size': 108, 'learning_rate': 0.002735937344002146, 'num_layers': 4, 'use_batchnorm': True, 'weight_decay': 1.356433327634438e-12, 'ag_args': {'name_suffix': '_r79', 'priority': -2}}, {'activation': 'elu', 'dropout_prob': 0.11897478034205347, 'hidden_size': 213, 'learning_rate': 0.0010474382260641949, 'num_layers': 4, 'use_batchnorm': False, 'weight_decay': 5.594471067786272e-10, 'ag_args': {'name_suffix': '_r22', 'priority': -7}}],\n",
      "\t'GBM': [{'extra_trees': True, 'ag_args': {'name_suffix': 'XT'}}, {}, 'GBMLarge'],\n",
      "\t'CAT': [{}, {'depth': 6, 'grow_policy': 'SymmetricTree', 'l2_leaf_reg': 2.1542798306067823, 'learning_rate': 0.06864209415792857, 'max_ctr_complexity': 4, 'one_hot_max_size': 10, 'ag_args': {'name_suffix': '_r177', 'priority': -1}}, {'depth': 8, 'grow_policy': 'Depthwise', 'l2_leaf_reg': 2.7997999596449104, 'learning_rate': 0.031375015734637225, 'max_ctr_complexity': 2, 'one_hot_max_size': 3, 'ag_args': {'name_suffix': '_r9', 'priority': -5}}],\n",
      "\t'XGB': [{}, {'colsample_bytree': 0.6917311125174739, 'enable_categorical': False, 'learning_rate': 0.018063876087523967, 'max_depth': 10, 'min_child_weight': 0.6028633586934382, 'ag_args': {'name_suffix': '_r33', 'priority': -8}}, {'colsample_bytree': 0.6628423832084077, 'enable_categorical': False, 'learning_rate': 0.08775715546881824, 'max_depth': 5, 'min_child_weight': 0.6294123374222513, 'ag_args': {'name_suffix': '_r89', 'priority': -16}}],\n",
      "\t'FASTAI': [{}, {'bs': 256, 'emb_drop': 0.5411770367537934, 'epochs': 43, 'layers': [800, 400], 'lr': 0.01519848858318159, 'ps': 0.23782946566604385, 'ag_args': {'name_suffix': '_r191', 'priority': -4}}, {'bs': 2048, 'emb_drop': 0.05070411322605811, 'epochs': 29, 'layers': [200, 100], 'lr': 0.08974235041576624, 'ps': 0.10393466140748028, 'ag_args': {'name_suffix': '_r102', 'priority': -11}}],\n",
      "\t'RF': [{'criterion': 'gini', 'ag_args': {'name_suffix': 'Gini', 'problem_types': ['binary', 'multiclass']}}, {'criterion': 'entropy', 'ag_args': {'name_suffix': 'Entr', 'problem_types': ['binary', 'multiclass']}}, {'criterion': 'squared_error', 'ag_args': {'name_suffix': 'MSE', 'problem_types': ['regression', 'quantile']}}],\n",
      "\t'XT': [{'criterion': 'gini', 'ag_args': {'name_suffix': 'Gini', 'problem_types': ['binary', 'multiclass']}}, {'criterion': 'entropy', 'ag_args': {'name_suffix': 'Entr', 'problem_types': ['binary', 'multiclass']}}, {'criterion': 'squared_error', 'ag_args': {'name_suffix': 'MSE', 'problem_types': ['regression', 'quantile']}}],\n",
      "\t'KNN': [{'weights': 'uniform', 'ag_args': {'name_suffix': 'Unif'}}, {'weights': 'distance', 'ag_args': {'name_suffix': 'Dist'}}],\n",
      "}\n",
      "AutoGluon will fit 2 stack levels (L1 to L2) ...\n",
      "Fitting 108 L1 models ...\n",
      "Fitting model: KNeighborsUnif_BAG_L1 ... Training model for up to 84.15s of the 126.25s of remaining time.\n",
      "\t-1.3649\t = Validation score   (-root_mean_squared_error)\n",
      "\t0.02s\t = Training   runtime\n",
      "\t0.12s\t = Validation runtime\n",
      "Fitting model: KNeighborsDist_BAG_L1 ... Training model for up to 83.97s of the 126.07s of remaining time.\n",
      "\t-1.2785\t = Validation score   (-root_mean_squared_error)\n",
      "\t0.02s\t = Training   runtime\n",
      "\t0.01s\t = Validation runtime\n",
      "Fitting model: LightGBMXT_BAG_L1 ... Training model for up to 83.9s of the 126.0s of remaining time.\n",
      "\tFitting 8 child models (S1F1 - S1F8) | Fitting with ParallelLocalFoldFittingStrategy (8 workers, per: cpus=2, gpus=0, memory=0.24%)\n",
      "\t-0.86\t = Validation score   (-root_mean_squared_error)\n",
      "\t8.83s\t = Training   runtime\n",
      "\t0.04s\t = Validation runtime\n",
      "Fitting model: LightGBM_BAG_L1 ... Training model for up to 74.06s of the 116.16s of remaining time.\n",
      "\tFitting 8 child models (S1F1 - S1F8) | Fitting with ParallelLocalFoldFittingStrategy (8 workers, per: cpus=2, gpus=0, memory=0.24%)\n",
      "\t-0.8918\t = Validation score   (-root_mean_squared_error)\n",
      "\t24.29s\t = Training   runtime\n",
      "\t0.06s\t = Validation runtime\n",
      "Fitting model: RandomForestMSE_BAG_L1 ... Training model for up to 48.75s of the 90.85s of remaining time.\n",
      "\t-0.8834\t = Validation score   (-root_mean_squared_error)\n",
      "\t1.33s\t = Training   runtime\n",
      "\t0.06s\t = Validation runtime\n",
      "Fitting model: CatBoost_BAG_L1 ... Training model for up to 47.3s of the 89.4s of remaining time.\n",
      "\tFitting 8 child models (S1F1 - S1F8) | Fitting with ParallelLocalFoldFittingStrategy (8 workers, per: cpus=2, gpus=0, memory=0.47%)\n",
      "\t-0.8897\t = Validation score   (-root_mean_squared_error)\n",
      "\t37.98s\t = Training   runtime\n",
      "\t0.16s\t = Validation runtime\n",
      "Fitting model: ExtraTreesMSE_BAG_L1 ... Training model for up to 8.32s of the 50.42s of remaining time.\n",
      "\t-0.8357\t = Validation score   (-root_mean_squared_error)\n",
      "\t0.63s\t = Training   runtime\n",
      "\t0.07s\t = Validation runtime\n",
      "Fitting model: NeuralNetFastAI_BAG_L1 ... Training model for up to 7.55s of the 49.65s of remaining time.\n",
      "\tFitting 8 child models (S1F1 - S1F8) | Fitting with ParallelLocalFoldFittingStrategy (8 workers, per: cpus=2, gpus=0, memory=0.04%)\n",
      "\t-0.8644\t = Validation score   (-root_mean_squared_error)\n",
      "\t2.79s\t = Training   runtime\n",
      "\t0.06s\t = Validation runtime\n",
      "Fitting model: XGBoost_BAG_L1 ... Training model for up to 3.69s of the 45.79s of remaining time.\n",
      "\tFitting 8 child models (S1F1 - S1F8) | Fitting with ParallelLocalFoldFittingStrategy (8 workers, per: cpus=2, gpus=0, memory=0.51%)\n",
      "\t-0.9968\t = Validation score   (-root_mean_squared_error)\n",
      "\t3.24s\t = Training   runtime\n",
      "\t0.05s\t = Validation runtime\n",
      "Fitting model: WeightedEnsemble_L2 ... Training model for up to 126.26s of the 41.04s of remaining time.\n",
      "\tEnsemble Weights: {'ExtraTreesMSE_BAG_L1': 0.455, 'NeuralNetFastAI_BAG_L1': 0.409, 'LightGBMXT_BAG_L1': 0.091, 'RandomForestMSE_BAG_L1': 0.045}\n",
      "\t-0.7862\t = Validation score   (-root_mean_squared_error)\n",
      "\t0.01s\t = Training   runtime\n",
      "\t0.0s\t = Validation runtime\n",
      "Fitting 106 L2 models ...\n",
      "Fitting model: LightGBMXT_BAG_L2 ... Training model for up to 41.02s of the 40.98s of remaining time.\n",
      "\tFitting 8 child models (S1F1 - S1F8) | Fitting with ParallelLocalFoldFittingStrategy (8 workers, per: cpus=2, gpus=0, memory=0.25%)\n",
      "\t-0.7732\t = Validation score   (-root_mean_squared_error)\n",
      "\t4.29s\t = Training   runtime\n",
      "\t0.03s\t = Validation runtime\n",
      "Fitting model: LightGBM_BAG_L2 ... Training model for up to 35.63s of the 35.6s of remaining time.\n",
      "\tFitting 8 child models (S1F1 - S1F8) | Fitting with ParallelLocalFoldFittingStrategy (8 workers, per: cpus=2, gpus=0, memory=0.25%)\n",
      "\t-0.8144\t = Validation score   (-root_mean_squared_error)\n",
      "\t4.28s\t = Training   runtime\n",
      "\t0.03s\t = Validation runtime\n",
      "Fitting model: RandomForestMSE_BAG_L2 ... Training model for up to 30.3s of the 30.26s of remaining time.\n",
      "\t-0.7959\t = Validation score   (-root_mean_squared_error)\n",
      "\t1.4s\t = Training   runtime\n",
      "\t0.07s\t = Validation runtime\n",
      "Fitting model: CatBoost_BAG_L2 ... Training model for up to 28.77s of the 28.73s of remaining time.\n",
      "\tFitting 8 child models (S1F1 - S1F8) | Fitting with ParallelLocalFoldFittingStrategy (8 workers, per: cpus=2, gpus=0, memory=0.48%)\n",
      "\t-0.7834\t = Validation score   (-root_mean_squared_error)\n",
      "\t23.07s\t = Training   runtime\n",
      "\t0.17s\t = Validation runtime\n",
      "Fitting model: ExtraTreesMSE_BAG_L2 ... Training model for up to 4.68s of the 4.65s of remaining time.\n",
      "\t-0.7853\t = Validation score   (-root_mean_squared_error)\n",
      "\t0.65s\t = Training   runtime\n",
      "\t0.06s\t = Validation runtime\n",
      "Fitting model: NeuralNetFastAI_BAG_L2 ... Training model for up to 3.9s of the 3.86s of remaining time.\n",
      "\tFitting 8 child models (S1F1 - S1F8) | Fitting with ParallelLocalFoldFittingStrategy (8 workers, per: cpus=2, gpus=0, memory=0.04%)\n",
      "\t-0.8429\t = Validation score   (-root_mean_squared_error)\n",
      "\t2.6s\t = Training   runtime\n",
      "\t0.06s\t = Validation runtime\n",
      "Fitting model: WeightedEnsemble_L3 ... Training model for up to 126.26s of the -0.63s of remaining time.\n",
      "\tEnsemble Weights: {'LightGBMXT_BAG_L2': 0.444, 'NeuralNetFastAI_BAG_L2': 0.278, 'ExtraTreesMSE_BAG_L1': 0.167, 'LightGBMXT_BAG_L1': 0.056, 'NeuralNetFastAI_BAG_L1': 0.056}\n",
      "\t-0.7489\t = Validation score   (-root_mean_squared_error)\n",
      "\t0.01s\t = Training   runtime\n",
      "\t0.0s\t = Validation runtime\n",
      "AutoGluon training complete, total runtime = 127.66s ... Best model: \"WeightedEnsemble_L3\"\n",
      "Automatically performing refit_full as a post-fit operation (due to `.fit(..., refit_full=True)`\n",
      "Refitting models via `predictor.refit_full` using all of the data (combined train and validation)...\n",
      "\tModels trained in this way will have the suffix \"_FULL\" and have NaN validation score.\n",
      "\tThis process is not bound by time_limit, but should take less time than the original `predictor.fit` call.\n",
      "\tTo learn more, refer to the `.refit_full` method docstring which explains how \"_FULL\" models differ from normal models.\n",
      "Fitting model: KNeighborsUnif_BAG_L1_FULL | Skipping fit via cloning parent ...\n",
      "\t0.02s\t = Training   runtime\n",
      "\t0.12s\t = Validation runtime\n",
      "Fitting model: KNeighborsDist_BAG_L1_FULL | Skipping fit via cloning parent ...\n",
      "\t0.02s\t = Training   runtime\n",
      "\t0.01s\t = Validation runtime\n",
      "Fitting 1 L1 models ...\n",
      "Fitting model: LightGBMXT_BAG_L1_FULL ...\n",
      "\t0.79s\t = Training   runtime\n",
      "Fitting 1 L1 models ...\n",
      "Fitting model: LightGBM_BAG_L1_FULL ...\n",
      "\t2.6s\t = Training   runtime\n",
      "Fitting model: RandomForestMSE_BAG_L1_FULL | Skipping fit via cloning parent ...\n",
      "\t1.33s\t = Training   runtime\n",
      "\t0.06s\t = Validation runtime\n",
      "Fitting 1 L1 models ...\n",
      "Fitting model: CatBoost_BAG_L1_FULL ...\n",
      "\t4.12s\t = Training   runtime\n",
      "Fitting model: ExtraTreesMSE_BAG_L1_FULL | Skipping fit via cloning parent ...\n",
      "\t0.63s\t = Training   runtime\n",
      "\t0.07s\t = Validation runtime\n",
      "Fitting 1 L1 models ...\n",
      "Fitting model: NeuralNetFastAI_BAG_L1_FULL ...\n",
      "\tStopping at the best epoch learned earlier - 26.\n",
      "\t0.37s\t = Training   runtime\n",
      "Fitting 1 L1 models ...\n",
      "Fitting model: XGBoost_BAG_L1_FULL ...\n",
      "\t0.58s\t = Training   runtime\n",
      "Fitting model: WeightedEnsemble_L2_FULL | Skipping fit via cloning parent ...\n",
      "\tEnsemble Weights: {'ExtraTreesMSE_BAG_L1': 0.455, 'NeuralNetFastAI_BAG_L1': 0.409, 'LightGBMXT_BAG_L1': 0.091, 'RandomForestMSE_BAG_L1': 0.045}\n",
      "\t0.01s\t = Training   runtime\n",
      "Fitting 1 L2 models ...\n",
      "Fitting model: LightGBMXT_BAG_L2_FULL ...\n",
      "\t0.55s\t = Training   runtime\n",
      "Fitting 1 L2 models ...\n",
      "Fitting model: LightGBM_BAG_L2_FULL ...\n",
      "\t0.41s\t = Training   runtime\n",
      "Fitting model: RandomForestMSE_BAG_L2_FULL | Skipping fit via cloning parent ...\n",
      "\t1.4s\t = Training   runtime\n",
      "\t0.07s\t = Validation runtime\n",
      "Fitting 1 L2 models ...\n",
      "Fitting model: CatBoost_BAG_L2_FULL ...\n",
      "\t2.42s\t = Training   runtime\n",
      "Fitting model: ExtraTreesMSE_BAG_L2_FULL | Skipping fit via cloning parent ...\n",
      "\t0.65s\t = Training   runtime\n",
      "\t0.06s\t = Validation runtime\n",
      "Fitting 1 L2 models ...\n",
      "Fitting model: NeuralNetFastAI_BAG_L2_FULL ...\n",
      "\tStopping at the best epoch learned earlier - 25.\n",
      "\t0.33s\t = Training   runtime\n",
      "Fitting model: WeightedEnsemble_L3_FULL | Skipping fit via cloning parent ...\n",
      "\tEnsemble Weights: {'LightGBMXT_BAG_L2': 0.444, 'NeuralNetFastAI_BAG_L2': 0.278, 'ExtraTreesMSE_BAG_L1': 0.167, 'LightGBMXT_BAG_L1': 0.056, 'NeuralNetFastAI_BAG_L1': 0.056}\n",
      "\t0.01s\t = Training   runtime\n",
      "Updated best model to \"WeightedEnsemble_L3_FULL\" (Previously \"WeightedEnsemble_L3\"). AutoGluon will default to using \"WeightedEnsemble_L3_FULL\" for predict() and predict_proba().\n",
      "Refit complete, total runtime = 13.8s ... Best model: \"WeightedEnsemble_L3_FULL\"\n",
      "TabularPredictor saved. To load, use: predictor = TabularPredictor.load(\"AutogluonModels/ag-20240530_143714\")\n"
     ]
    },
    {
     "name": "stdout",
     "output_type": "stream",
     "text": [
      "Training completed in 0:03:14.499944 with best RMSE 0.749\n"
     ]
    }
   ],
   "source": [
    "trainer = retip.AutoGluonTrainer(dataset, training_duration=3)\n",
    "trainer.train()"
   ]
  },
  {
   "cell_type": "markdown",
   "id": "d3f997a9",
   "metadata": {},
   "source": [
    "### Testing the RT Prediction Model"
   ]
  },
  {
   "cell_type": "markdown",
   "id": "younger-burning",
   "metadata": {},
   "source": [
    "The model can be scored using the internal testing data of the `Dataset` object, or alternatively pass a dataframe with precomputed descriptors. In that case, the `target_column` needs to be specified. Set the `plot` parameter to `True` to visualize how well the model works. Moreover, it is possible to save the plot indicating the `plot_filename`.You can score this model using the internal testing data, or alternatively pass in a different `Dataset` object with precomputed descriptors."
   ]
  },
  {
   "cell_type": "markdown",
   "id": "1d828e22",
   "metadata": {},
   "source": [
    "#### Internal testing data"
   ]
  },
  {
   "cell_type": "code",
   "execution_count": 15,
   "id": "approved-protein",
   "metadata": {},
   "outputs": [
    {
     "data": {
      "text/html": [
       "    <style>\n",
       "        .bk-notebook-logo {\n",
       "            display: block;\n",
       "            width: 20px;\n",
       "            height: 20px;\n",
       "            background-image: url(data:image/png;base64,iVBORw0KGgoAAAANSUhEUgAAABQAAAAUCAYAAACNiR0NAAAABHNCSVQICAgIfAhkiAAAAAlwSFlzAAALEgAACxIB0t1+/AAAABx0RVh0U29mdHdhcmUAQWRvYmUgRmlyZXdvcmtzIENTNui8sowAAAOkSURBVDiNjZRtaJVlGMd/1/08zzln5zjP1LWcU9N0NkN8m2CYjpgQYQXqSs0I84OLIC0hkEKoPtiH3gmKoiJDU7QpLgoLjLIQCpEsNJ1vqUOdO7ppbuec5+V+rj4ctwzd8IIbbi6u+8f1539dt3A78eXC7QizUF7gyV1fD1Yqg4JWz84yffhm0qkFqBogB9rM8tZdtwVsPUhWhGcFJngGeWrPzHm5oaMmkfEg1usvLFyc8jLRqDOMru7AyC8saQr7GG7f5fvDeH7Ej8CM66nIF+8yngt6HWaKh7k49Soy9nXurCi1o3qUbS3zWfrYeQDTB/Qj6kX6Ybhw4B+bOYoLKCC9H3Nu/leUTZ1JdRWkkn2ldcCamzrcf47KKXdAJllSlxAOkRgyHsGC/zRday5Qld9DyoM4/q/rUoy/CXh3jzOu3bHUVZeU+DEn8FInkPBFlu3+nW3Nw0mk6vCDiWg8CeJaxEwuHS3+z5RgY+YBR6V1Z1nxSOfoaPa4LASWxxdNp+VWTk7+4vzaou8v8PN+xo+KY2xsw6une2frhw05CTYOmQvsEhjhWjn0bmXPjpE1+kplmmkP3suftwTubK9Vq22qKmrBhpY4jvd5afdRA3wGjFAgcnTK2s4hY0/GPNIb0nErGMCRxWOOX64Z8RAC4oCXdklmEvcL8o0BfkNK4lUg9HTl+oPlQxdNo3Mg4Nv175e/1LDGzZen30MEjRUtmXSfiTVu1kK8W4txyV6BMKlbgk3lMwYCiusNy9fVfvvwMxv8Ynl6vxoByANLTWplvuj/nF9m2+PDtt1eiHPBr1oIfhCChQMBw6Aw0UulqTKZdfVvfG7VcfIqLG9bcldL/+pdWTLxLUy8Qq38heUIjh4XlzZxzQm19lLFlr8vdQ97rjZVOLf8nclzckbcD4wxXMidpX30sFd37Fv/GtwwhzhxGVAprjbg0gCAEeIgwCZyTV2Z1REEW8O4py0wsjeloKoMr6iCY6dP92H6Vw/oTyICIthibxjm/DfN9lVz8IqtqKYLUXfoKVMVQVVJOElGjrnnUt9T9wbgp8AyYKaGlqingHZU/uG2NTZSVqwHQTWkx9hxjkpWDaCg6Ckj5qebgBVbT3V3NNXMSiWSDdGV3hrtzla7J+duwPOToIg42ChPQOQjspnSlp1V+Gjdged7+8UN5CRAV7a5EdFNwCjEaBR27b3W890TE7g24NAP/mMDXRWrGoFPQI9ls/MWO2dWFAar/xcOIImbbpA3zgAAAABJRU5ErkJggg==);\n",
       "        }\n",
       "    </style>\n",
       "    <div>\n",
       "        <a href=\"https://bokeh.org\" target=\"_blank\" class=\"bk-notebook-logo\"></a>\n",
       "        <span id=\"ae11327d-66a9-4f24-84af-29ed8c3158b5\">Loading BokehJS ...</span>\n",
       "    </div>\n"
      ]
     },
     "metadata": {},
     "output_type": "display_data"
    },
    {
     "data": {
      "application/javascript": "'use strict';\n(function(root) {\n  function now() {\n    return new Date();\n  }\n\n  const force = true;\n\n  if (typeof root._bokeh_onload_callbacks === \"undefined\" || force === true) {\n    root._bokeh_onload_callbacks = [];\n    root._bokeh_is_loading = undefined;\n  }\n\nconst JS_MIME_TYPE = 'application/javascript';\n  const HTML_MIME_TYPE = 'text/html';\n  const EXEC_MIME_TYPE = 'application/vnd.bokehjs_exec.v0+json';\n  const CLASS_NAME = 'output_bokeh rendered_html';\n\n  /**\n   * Render data to the DOM node\n   */\n  function render(props, node) {\n    const script = document.createElement(\"script\");\n    node.appendChild(script);\n  }\n\n  /**\n   * Handle when an output is cleared or removed\n   */\n  function handleClearOutput(event, handle) {\n    function drop(id) {\n      const view = Bokeh.index.get_by_id(id)\n      if (view != null) {\n        view.model.document.clear()\n        Bokeh.index.delete(view)\n      }\n    }\n\n    const cell = handle.cell;\n\n    const id = cell.output_area._bokeh_element_id;\n    const server_id = cell.output_area._bokeh_server_id;\n\n    // Clean up Bokeh references\n    if (id != null) {\n      drop(id)\n    }\n\n    if (server_id !== undefined) {\n      // Clean up Bokeh references\n      const cmd_clean = \"from bokeh.io.state import curstate; print(curstate().uuid_to_server['\" + server_id + \"'].get_sessions()[0].document.roots[0]._id)\";\n      cell.notebook.kernel.execute(cmd_clean, {\n        iopub: {\n          output: function(msg) {\n            const id = msg.content.text.trim()\n            drop(id)\n          }\n        }\n      });\n      // Destroy server and session\n      const cmd_destroy = \"import bokeh.io.notebook as ion; ion.destroy_server('\" + server_id + \"')\";\n      cell.notebook.kernel.execute(cmd_destroy);\n    }\n  }\n\n  /**\n   * Handle when a new output is added\n   */\n  function handleAddOutput(event, handle) {\n    const output_area = handle.output_area;\n    const output = handle.output;\n\n    // limit handleAddOutput to display_data with EXEC_MIME_TYPE content only\n    if ((output.output_type != \"display_data\") || (!Object.prototype.hasOwnProperty.call(output.data, EXEC_MIME_TYPE))) {\n      return\n    }\n\n    const toinsert = output_area.element.find(\".\" + CLASS_NAME.split(' ')[0]);\n\n    if (output.metadata[EXEC_MIME_TYPE][\"id\"] !== undefined) {\n      toinsert[toinsert.length - 1].firstChild.textContent = output.data[JS_MIME_TYPE];\n      // store reference to embed id on output_area\n      output_area._bokeh_element_id = output.metadata[EXEC_MIME_TYPE][\"id\"];\n    }\n    if (output.metadata[EXEC_MIME_TYPE][\"server_id\"] !== undefined) {\n      const bk_div = document.createElement(\"div\");\n      bk_div.innerHTML = output.data[HTML_MIME_TYPE];\n      const script_attrs = bk_div.children[0].attributes;\n      for (let i = 0; i < script_attrs.length; i++) {\n        toinsert[toinsert.length - 1].firstChild.setAttribute(script_attrs[i].name, script_attrs[i].value);\n        toinsert[toinsert.length - 1].firstChild.textContent = bk_div.children[0].textContent\n      }\n      // store reference to server id on output_area\n      output_area._bokeh_server_id = output.metadata[EXEC_MIME_TYPE][\"server_id\"];\n    }\n  }\n\n  function register_renderer(events, OutputArea) {\n\n    function append_mime(data, metadata, element) {\n      // create a DOM node to render to\n      const toinsert = this.create_output_subarea(\n        metadata,\n        CLASS_NAME,\n        EXEC_MIME_TYPE\n      );\n      this.keyboard_manager.register_events(toinsert);\n      // Render to node\n      const props = {data: data, metadata: metadata[EXEC_MIME_TYPE]};\n      render(props, toinsert[toinsert.length - 1]);\n      element.append(toinsert);\n      return toinsert\n    }\n\n    /* Handle when an output is cleared or removed */\n    events.on('clear_output.CodeCell', handleClearOutput);\n    events.on('delete.Cell', handleClearOutput);\n\n    /* Handle when a new output is added */\n    events.on('output_added.OutputArea', handleAddOutput);\n\n    /**\n     * Register the mime type and append_mime function with output_area\n     */\n    OutputArea.prototype.register_mime_type(EXEC_MIME_TYPE, append_mime, {\n      /* Is output safe? */\n      safe: true,\n      /* Index of renderer in `output_area.display_order` */\n      index: 0\n    });\n  }\n\n  // register the mime type if in Jupyter Notebook environment and previously unregistered\n  if (root.Jupyter !== undefined) {\n    const events = require('base/js/events');\n    const OutputArea = require('notebook/js/outputarea').OutputArea;\n\n    if (OutputArea.prototype.mime_types().indexOf(EXEC_MIME_TYPE) == -1) {\n      register_renderer(events, OutputArea);\n    }\n  }\n  if (typeof (root._bokeh_timeout) === \"undefined\" || force === true) {\n    root._bokeh_timeout = Date.now() + 5000;\n    root._bokeh_failed_load = false;\n  }\n\n  const NB_LOAD_WARNING = {'data': {'text/html':\n     \"<div style='background-color: #fdd'>\\n\"+\n     \"<p>\\n\"+\n     \"BokehJS does not appear to have successfully loaded. If loading BokehJS from CDN, this \\n\"+\n     \"may be due to a slow or bad network connection. Possible fixes:\\n\"+\n     \"</p>\\n\"+\n     \"<ul>\\n\"+\n     \"<li>re-rerun `output_notebook()` to attempt to load from CDN again, or</li>\\n\"+\n     \"<li>use INLINE resources instead, as so:</li>\\n\"+\n     \"</ul>\\n\"+\n     \"<code>\\n\"+\n     \"from bokeh.resources import INLINE\\n\"+\n     \"output_notebook(resources=INLINE)\\n\"+\n     \"</code>\\n\"+\n     \"</div>\"}};\n\n  function display_loaded(error = null) {\n    const el = document.getElementById(\"ae11327d-66a9-4f24-84af-29ed8c3158b5\");\n    if (el != null) {\n      const html = (() => {\n        if (typeof root.Bokeh === \"undefined\") {\n          if (error == null) {\n            return \"BokehJS is loading ...\";\n          } else {\n            return \"BokehJS failed to load.\";\n          }\n        } else {\n          const prefix = `BokehJS ${root.Bokeh.version}`;\n          if (error == null) {\n            return `${prefix} successfully loaded.`;\n          } else {\n            return `${prefix} <b>encountered errors</b> while loading and may not function as expected.`;\n          }\n        }\n      })();\n      el.innerHTML = html;\n\n      if (error != null) {\n        const wrapper = document.createElement(\"div\");\n        wrapper.style.overflow = \"auto\";\n        wrapper.style.height = \"5em\";\n        wrapper.style.resize = \"vertical\";\n        const content = document.createElement(\"div\");\n        content.style.fontFamily = \"monospace\";\n        content.style.whiteSpace = \"pre-wrap\";\n        content.style.backgroundColor = \"rgb(255, 221, 221)\";\n        content.textContent = error.stack ?? error.toString();\n        wrapper.append(content);\n        el.append(wrapper);\n      }\n    } else if (Date.now() < root._bokeh_timeout) {\n      setTimeout(() => display_loaded(error), 100);\n    }\n  }\n\n  function run_callbacks() {\n    try {\n      root._bokeh_onload_callbacks.forEach(function(callback) {\n        if (callback != null)\n          callback();\n      });\n    } finally {\n      delete root._bokeh_onload_callbacks\n    }\n    console.debug(\"Bokeh: all callbacks have finished\");\n  }\n\n  function load_libs(css_urls, js_urls, callback) {\n    if (css_urls == null) css_urls = [];\n    if (js_urls == null) js_urls = [];\n\n    root._bokeh_onload_callbacks.push(callback);\n    if (root._bokeh_is_loading > 0) {\n      console.debug(\"Bokeh: BokehJS is being loaded, scheduling callback at\", now());\n      return null;\n    }\n    if (js_urls == null || js_urls.length === 0) {\n      run_callbacks();\n      return null;\n    }\n    console.debug(\"Bokeh: BokehJS not loaded, scheduling load and callback at\", now());\n    root._bokeh_is_loading = css_urls.length + js_urls.length;\n\n    function on_load() {\n      root._bokeh_is_loading--;\n      if (root._bokeh_is_loading === 0) {\n        console.debug(\"Bokeh: all BokehJS libraries/stylesheets loaded\");\n        run_callbacks()\n      }\n    }\n\n    function on_error(url) {\n      console.error(\"failed to load \" + url);\n    }\n\n    for (let i = 0; i < css_urls.length; i++) {\n      const url = css_urls[i];\n      const element = document.createElement(\"link\");\n      element.onload = on_load;\n      element.onerror = on_error.bind(null, url);\n      element.rel = \"stylesheet\";\n      element.type = \"text/css\";\n      element.href = url;\n      console.debug(\"Bokeh: injecting link tag for BokehJS stylesheet: \", url);\n      document.body.appendChild(element);\n    }\n\n    for (let i = 0; i < js_urls.length; i++) {\n      const url = js_urls[i];\n      const element = document.createElement('script');\n      element.onload = on_load;\n      element.onerror = on_error.bind(null, url);\n      element.async = false;\n      element.src = url;\n      console.debug(\"Bokeh: injecting script tag for BokehJS library: \", url);\n      document.head.appendChild(element);\n    }\n  };\n\n  function inject_raw_css(css) {\n    const element = document.createElement(\"style\");\n    element.appendChild(document.createTextNode(css));\n    document.body.appendChild(element);\n  }\n\n  const js_urls = [\"https://cdn.bokeh.org/bokeh/release/bokeh-3.4.1.min.js\", \"https://cdn.bokeh.org/bokeh/release/bokeh-gl-3.4.1.min.js\", \"https://cdn.bokeh.org/bokeh/release/bokeh-widgets-3.4.1.min.js\", \"https://cdn.bokeh.org/bokeh/release/bokeh-tables-3.4.1.min.js\", \"https://cdn.bokeh.org/bokeh/release/bokeh-mathjax-3.4.1.min.js\"];\n  const css_urls = [];\n\n  const inline_js = [    function(Bokeh) {\n      Bokeh.set_log_level(\"info\");\n    },\nfunction(Bokeh) {\n    }\n  ];\n\n  function run_inline_js() {\n    if (root.Bokeh !== undefined || force === true) {\n      try {\n            for (let i = 0; i < inline_js.length; i++) {\n      inline_js[i].call(root, root.Bokeh);\n    }\n\n      } catch (error) {display_loaded(error);throw error;\n      }if (force === true) {\n        display_loaded();\n      }} else if (Date.now() < root._bokeh_timeout) {\n      setTimeout(run_inline_js, 100);\n    } else if (!root._bokeh_failed_load) {\n      console.log(\"Bokeh: BokehJS failed to load within specified timeout.\");\n      root._bokeh_failed_load = true;\n    } else if (force !== true) {\n      const cell = $(document.getElementById(\"ae11327d-66a9-4f24-84af-29ed8c3158b5\")).parents('.cell').data().cell;\n      cell.output_area.append_execute_result(NB_LOAD_WARNING)\n    }\n  }\n\n  if (root._bokeh_is_loading === 0) {\n    console.debug(\"Bokeh: BokehJS loaded, going straight to plotting\");\n    run_inline_js();\n  } else {\n    load_libs(css_urls, js_urls, function() {\n      console.debug(\"Bokeh: BokehJS plotting callback run at\", now());\n      run_inline_js();\n    });\n  }\n}(window));",
      "application/vnd.bokehjs_load.v0+json": ""
     },
     "metadata": {},
     "output_type": "display_data"
    },
    {
     "data": {
      "text/html": [
       "\n",
       "  <div id=\"b32c91ea-a5ff-4368-84f4-1bff639c991d\" data-root-id=\"p1001\" style=\"display: contents;\"></div>\n"
      ]
     },
     "metadata": {},
     "output_type": "display_data"
    },
    {
     "data": {
      "application/javascript": "(function(root) {\n  function embed_document(root) {\n  const docs_json = {\"d70960d8-5e3c-4230-b021-1bf0ca521772\":{\"version\":\"3.4.1\",\"title\":\"Bokeh Application\",\"roots\":[{\"type\":\"object\",\"name\":\"Figure\",\"id\":\"p1001\",\"attributes\":{\"x_range\":{\"type\":\"object\",\"name\":\"DataRange1d\",\"id\":\"p1002\"},\"y_range\":{\"type\":\"object\",\"name\":\"DataRange1d\",\"id\":\"p1003\"},\"x_scale\":{\"type\":\"object\",\"name\":\"LinearScale\",\"id\":\"p1010\"},\"y_scale\":{\"type\":\"object\",\"name\":\"LinearScale\",\"id\":\"p1011\"},\"title\":{\"type\":\"object\",\"name\":\"Title\",\"id\":\"p1008\"},\"renderers\":[{\"type\":\"object\",\"name\":\"GlyphRenderer\",\"id\":\"p1039\",\"attributes\":{\"data_source\":{\"type\":\"object\",\"name\":\"ColumnDataSource\",\"id\":\"p1033\",\"attributes\":{\"selected\":{\"type\":\"object\",\"name\":\"Selection\",\"id\":\"p1034\",\"attributes\":{\"indices\":[],\"line_indices\":[]}},\"selection_policy\":{\"type\":\"object\",\"name\":\"UnionRenderers\",\"id\":\"p1035\"},\"data\":{\"type\":\"map\",\"entries\":[[\"x\",{\"type\":\"ndarray\",\"array\":{\"type\":\"bytes\",\"data\":\"CtejcD0KFEApXI/C9SgXQIXrUbgehQdACtejcD0KEEDsUbgehesJQM3MzMzMzApAKVyPwvUoJECPwvUoXI8IQOxRuB6F6/0/SOF6FK5HC0B7FK5H4XoMQArXo3A9CglAH4XrUbgeB0CamZmZmZkQQJqZmZmZmQ1AXI/C9ShcHkDhehSuR+EKQAAAAAAAgCBAUrgehetRIECuR+F6FK4RQGZmZmZmZgpAzczMzMzMHUDhehSuR+ECQIXrUbgehQtA9ihcj8L1CEAK16NwPQoiQIXrUbgehRVAZmZmZmZmBEAfhetRuB4QQM3MzMzMzPw/ZmZmZmZmIEDhehSuR+EMQHE9CtejcB1ApHA9Ctej/D9cj8L1KFwRQGZmZmZmZgRAmpmZmZmZFEBmZmZmZmYOQB+F61G4Hg9AmpmZmZmZGUBxPQrXo3ARQKRwPQrXowJAMzMzMzMzCUC4HoXrUbgGQMP1KFyPwhpAmpmZmZmZBUDD9Shcj8ILQArXo3A9iiNA9ihcj8L1EEDNzMzMzEwhQD0K16NwPQRAcT0K16NwCUBcj8L1KFwcQEjhehSuRwNA16NwPQrXE0DhehSuR+ERQMP1KFyPwhhAuB6F61G4AkBSuB6F61EKQHE9CtejcA1ACtejcD0KEUAK16NwPQoSQJqZmZmZmQlAAAAAAACAIUC4HoXrUbgTQM3MzMzMzB1A4XoUrkfhHUAUrkfhehQOQHE9CtejcBlAH4XrUbgeDUAAAAAAAAAUQNejcD0K1xBAKVyPwvUoEEDD9Shcj0IjQPYoXI/C9RFAZmZmZmZmEkDXo3A9CtcTQHE9CtejcAdAw/UoXI/CC0CamZmZmZkNQEjhehSuRwlAKVyPwvUoGEAK16NwPQoLQM3MzMzMzBRAXI/C9ShcC0BI4XoUrkf9P3E9CtejcBVAUrgehetR/D+uR+F6FK4JQB+F61G4HhRArkfhehSuFUCkcD0K16MAQEjhehSuRx9AmpmZmZmZE0AK16NwPQoVQHE9CtejcBZAXI/C9SjcIUBSuB6F61EMQArXo3A9CgNA\"},\"shape\":[99],\"dtype\":\"float64\",\"order\":\"little\"}],[\"y\",{\"type\":\"ndarray\",\"array\":{\"type\":\"bytes\",\"data\":\"nmOqQLHwv0Cd7UBA8dWGQJx4aUA7sGVAcnAVQUaoL0BSFQFA/dx4QFA4z0AAzD9A4+83QNHdhkC6R3RA1JrAQAUCXUDh7cZAtPqkQF/PgkDuF1ZAZoryQLNQDUDGKTtALDROQFIREkF0K8JAn9ITQKKRgECEBvs/qrTiQLY3gkAR9sRAAhwqQMlCikCF3TdA3VnBQOnSUECN+odAXbnLQBcZk0AEWgFAqvpoQEKbIUC3keBACS0VQIrfZ0COCRFBUS+DQDibHEGeUgZAoqFSQGgR2UAYJgZAOXanQFEQj0AFBbtAtodTQKMoMEBlxmlAIiaHQDGYkEAKAT5A8uQCQULQtEDhu/BAnMvaQMkyfEAGBM1A67R0QPz/vkAOlZBAtnaAQMsW7kDAAZRA90lEQGLoq0D26T1ANpOLQMhig0Aq32BA5LnLQHoedUBBQ5NA1B5eQGJMC0Cmzo1AidYDQJEmdkCnt6lA29CdQKqw8D/WEcxAHuOUQAe0jkDNhLRAJSLmQIndXEC68/U/\"},\"shape\":[99],\"dtype\":\"float32\",\"order\":\"little\"}]]}}},\"view\":{\"type\":\"object\",\"name\":\"CDSView\",\"id\":\"p1040\",\"attributes\":{\"filter\":{\"type\":\"object\",\"name\":\"AllIndices\",\"id\":\"p1041\"}}},\"glyph\":{\"type\":\"object\",\"name\":\"Scatter\",\"id\":\"p1036\",\"attributes\":{\"x\":{\"type\":\"field\",\"field\":\"x\"},\"y\":{\"type\":\"field\",\"field\":\"y\"},\"size\":{\"type\":\"value\",\"value\":3},\"line_color\":{\"type\":\"value\",\"value\":\"#1f77b4\"},\"fill_color\":{\"type\":\"value\",\"value\":\"#1f77b4\"}}},\"nonselection_glyph\":{\"type\":\"object\",\"name\":\"Scatter\",\"id\":\"p1037\",\"attributes\":{\"x\":{\"type\":\"field\",\"field\":\"x\"},\"y\":{\"type\":\"field\",\"field\":\"y\"},\"size\":{\"type\":\"value\",\"value\":3},\"line_color\":{\"type\":\"value\",\"value\":\"#1f77b4\"},\"line_alpha\":{\"type\":\"value\",\"value\":0.1},\"fill_color\":{\"type\":\"value\",\"value\":\"#1f77b4\"},\"fill_alpha\":{\"type\":\"value\",\"value\":0.1},\"hatch_alpha\":{\"type\":\"value\",\"value\":0.1}}},\"muted_glyph\":{\"type\":\"object\",\"name\":\"Scatter\",\"id\":\"p1038\",\"attributes\":{\"x\":{\"type\":\"field\",\"field\":\"x\"},\"y\":{\"type\":\"field\",\"field\":\"y\"},\"size\":{\"type\":\"value\",\"value\":3},\"line_color\":{\"type\":\"value\",\"value\":\"#1f77b4\"},\"line_alpha\":{\"type\":\"value\",\"value\":0.2},\"fill_color\":{\"type\":\"value\",\"value\":\"#1f77b4\"},\"fill_alpha\":{\"type\":\"value\",\"value\":0.2},\"hatch_alpha\":{\"type\":\"value\",\"value\":0.2}}}}}],\"toolbar\":{\"type\":\"object\",\"name\":\"Toolbar\",\"id\":\"p1009\",\"attributes\":{\"tools\":[{\"type\":\"object\",\"name\":\"PanTool\",\"id\":\"p1022\"},{\"type\":\"object\",\"name\":\"WheelZoomTool\",\"id\":\"p1023\",\"attributes\":{\"renderers\":\"auto\"}},{\"type\":\"object\",\"name\":\"BoxZoomTool\",\"id\":\"p1024\",\"attributes\":{\"overlay\":{\"type\":\"object\",\"name\":\"BoxAnnotation\",\"id\":\"p1025\",\"attributes\":{\"syncable\":false,\"level\":\"overlay\",\"visible\":false,\"left\":{\"type\":\"number\",\"value\":\"nan\"},\"right\":{\"type\":\"number\",\"value\":\"nan\"},\"top\":{\"type\":\"number\",\"value\":\"nan\"},\"bottom\":{\"type\":\"number\",\"value\":\"nan\"},\"left_units\":\"canvas\",\"right_units\":\"canvas\",\"top_units\":\"canvas\",\"bottom_units\":\"canvas\",\"line_color\":\"black\",\"line_alpha\":1.0,\"line_width\":2,\"line_dash\":[4,4],\"fill_color\":\"lightgrey\",\"fill_alpha\":0.5}}}},{\"type\":\"object\",\"name\":\"SaveTool\",\"id\":\"p1030\"},{\"type\":\"object\",\"name\":\"ResetTool\",\"id\":\"p1031\"},{\"type\":\"object\",\"name\":\"HelpTool\",\"id\":\"p1032\"}]}},\"left\":[{\"type\":\"object\",\"name\":\"LinearAxis\",\"id\":\"p1017\",\"attributes\":{\"ticker\":{\"type\":\"object\",\"name\":\"BasicTicker\",\"id\":\"p1018\",\"attributes\":{\"mantissas\":[1,2,5]}},\"formatter\":{\"type\":\"object\",\"name\":\"BasicTickFormatter\",\"id\":\"p1019\"},\"axis_label\":\"Predicted RT\",\"major_label_policy\":{\"type\":\"object\",\"name\":\"AllLabels\",\"id\":\"p1020\"}}}],\"below\":[{\"type\":\"object\",\"name\":\"LinearAxis\",\"id\":\"p1012\",\"attributes\":{\"ticker\":{\"type\":\"object\",\"name\":\"BasicTicker\",\"id\":\"p1013\",\"attributes\":{\"mantissas\":[1,2,5]}},\"formatter\":{\"type\":\"object\",\"name\":\"BasicTickFormatter\",\"id\":\"p1014\"},\"axis_label\":\"Library RT\",\"major_label_policy\":{\"type\":\"object\",\"name\":\"AllLabels\",\"id\":\"p1015\"}}}],\"center\":[{\"type\":\"object\",\"name\":\"Grid\",\"id\":\"p1016\",\"attributes\":{\"axis\":{\"id\":\"p1012\"}}},{\"type\":\"object\",\"name\":\"Grid\",\"id\":\"p1021\",\"attributes\":{\"dimension\":1,\"axis\":{\"id\":\"p1017\"}}},{\"type\":\"object\",\"name\":\"Slope\",\"id\":\"p1042\",\"attributes\":{\"gradient\":1,\"y_intercept\":0,\"line_alpha\":0.5}},{\"type\":\"object\",\"name\":\"Slope\",\"id\":\"p1043\",\"attributes\":{\"gradient\":0.8328583763210317,\"y_intercept\":0.6906426241048172,\"line_color\":\"blue\"}}]}}]}};\n  const render_items = [{\"docid\":\"d70960d8-5e3c-4230-b021-1bf0ca521772\",\"roots\":{\"p1001\":\"b32c91ea-a5ff-4368-84f4-1bff639c991d\"},\"root_ids\":[\"p1001\"]}];\n  void root.Bokeh.embed.embed_items_notebook(docs_json, render_items);\n  }\n  if (root.Bokeh !== undefined) {\n    embed_document(root);\n  } else {\n    let attempts = 0;\n    const timer = setInterval(function(root) {\n      if (root.Bokeh !== undefined) {\n        clearInterval(timer);\n        embed_document(root);\n      } else {\n        attempts++;\n        if (attempts > 100) {\n          clearInterval(timer);\n          console.log(\"Bokeh: ERROR: Unable to run BokehJS code because BokehJS library is missing\");\n        }\n      }\n    }, 10, root)\n  }\n})(window);",
      "application/vnd.bokehjs_exec.v0+json": ""
     },
     "metadata": {
      "application/vnd.bokehjs_exec.v0+json": {
       "id": "p1001"
      }
     },
     "output_type": "display_data"
    },
    {
     "name": "stderr",
     "output_type": "stream",
     "text": [
      "/home/npa/miniconda3/envs/pyretip/lib/python3.10/site-packages/sklearn/metrics/_regression.py:483: FutureWarning: 'squared' is deprecated in version 1.4 and will be removed in 1.6. To calculate the root mean squared error, use the function'root_mean_squared_error'.\n",
      "  warnings.warn(\n"
     ]
    },
    {
     "data": {
      "text/plain": [
       "{'root_mean_squared_error': 0.746632430017492,\n",
       " 'mean_squared_error': 0.5574599855538251,\n",
       " 'mean_absolute_error': 0.4870879038415774,\n",
       " 'median_absolute_error': 0.31489881515502915,\n",
       " 'explained_variance_score': 0.8681125221161674,\n",
       " 'mean_absolute_percentage_error': 0.10790122000228491,\n",
       " 'absolute_median_relative_error': 0.07857020781001936,\n",
       " 'r2_score': 0.8666391197155288,\n",
       " 'pearson_correlation': 0.9325613958745743,\n",
       " '90_percent_confidence_interval': 1.0300265107753241,\n",
       " '95_percent_confidence_interval': 1.2997770158705104}"
      ]
     },
     "execution_count": 15,
     "metadata": {},
     "output_type": "execute_result"
    }
   ],
   "source": [
    "trainer.score(plot=True)"
   ]
  },
  {
   "cell_type": "markdown",
   "id": "joint-bruce",
   "metadata": {},
   "source": [
    "#### External Validation"
   ]
  },
  {
   "cell_type": "markdown",
   "id": "4c756aeb",
   "metadata": {},
   "source": [
    "The model can be tested using the external dataset that we loaded initially. The target column must be specified."
   ]
  },
  {
   "cell_type": "code",
   "execution_count": 16,
   "id": "plain-storage",
   "metadata": {},
   "outputs": [
    {
     "data": {
      "text/html": [
       "    <style>\n",
       "        .bk-notebook-logo {\n",
       "            display: block;\n",
       "            width: 20px;\n",
       "            height: 20px;\n",
       "            background-image: url(data:image/png;base64,iVBORw0KGgoAAAANSUhEUgAAABQAAAAUCAYAAACNiR0NAAAABHNCSVQICAgIfAhkiAAAAAlwSFlzAAALEgAACxIB0t1+/AAAABx0RVh0U29mdHdhcmUAQWRvYmUgRmlyZXdvcmtzIENTNui8sowAAAOkSURBVDiNjZRtaJVlGMd/1/08zzln5zjP1LWcU9N0NkN8m2CYjpgQYQXqSs0I84OLIC0hkEKoPtiH3gmKoiJDU7QpLgoLjLIQCpEsNJ1vqUOdO7ppbuec5+V+rj4ctwzd8IIbbi6u+8f1539dt3A78eXC7QizUF7gyV1fD1Yqg4JWz84yffhm0qkFqBogB9rM8tZdtwVsPUhWhGcFJngGeWrPzHm5oaMmkfEg1usvLFyc8jLRqDOMru7AyC8saQr7GG7f5fvDeH7Ej8CM66nIF+8yngt6HWaKh7k49Soy9nXurCi1o3qUbS3zWfrYeQDTB/Qj6kX6Ybhw4B+bOYoLKCC9H3Nu/leUTZ1JdRWkkn2ldcCamzrcf47KKXdAJllSlxAOkRgyHsGC/zRday5Qld9DyoM4/q/rUoy/CXh3jzOu3bHUVZeU+DEn8FInkPBFlu3+nW3Nw0mk6vCDiWg8CeJaxEwuHS3+z5RgY+YBR6V1Z1nxSOfoaPa4LASWxxdNp+VWTk7+4vzaou8v8PN+xo+KY2xsw6une2frhw05CTYOmQvsEhjhWjn0bmXPjpE1+kplmmkP3suftwTubK9Vq22qKmrBhpY4jvd5afdRA3wGjFAgcnTK2s4hY0/GPNIb0nErGMCRxWOOX64Z8RAC4oCXdklmEvcL8o0BfkNK4lUg9HTl+oPlQxdNo3Mg4Nv175e/1LDGzZen30MEjRUtmXSfiTVu1kK8W4txyV6BMKlbgk3lMwYCiusNy9fVfvvwMxv8Ynl6vxoByANLTWplvuj/nF9m2+PDtt1eiHPBr1oIfhCChQMBw6Aw0UulqTKZdfVvfG7VcfIqLG9bcldL/+pdWTLxLUy8Qq38heUIjh4XlzZxzQm19lLFlr8vdQ97rjZVOLf8nclzckbcD4wxXMidpX30sFd37Fv/GtwwhzhxGVAprjbg0gCAEeIgwCZyTV2Z1REEW8O4py0wsjeloKoMr6iCY6dP92H6Vw/oTyICIthibxjm/DfN9lVz8IqtqKYLUXfoKVMVQVVJOElGjrnnUt9T9wbgp8AyYKaGlqingHZU/uG2NTZSVqwHQTWkx9hxjkpWDaCg6Ckj5qebgBVbT3V3NNXMSiWSDdGV3hrtzla7J+duwPOToIg42ChPQOQjspnSlp1V+Gjdged7+8UN5CRAV7a5EdFNwCjEaBR27b3W890TE7g24NAP/mMDXRWrGoFPQI9ls/MWO2dWFAar/xcOIImbbpA3zgAAAABJRU5ErkJggg==);\n",
       "        }\n",
       "    </style>\n",
       "    <div>\n",
       "        <a href=\"https://bokeh.org\" target=\"_blank\" class=\"bk-notebook-logo\"></a>\n",
       "        <span id=\"cb2fab02-5c49-4a6b-8973-19c2939569fb\">Loading BokehJS ...</span>\n",
       "    </div>\n"
      ]
     },
     "metadata": {},
     "output_type": "display_data"
    },
    {
     "data": {
      "application/javascript": "'use strict';\n(function(root) {\n  function now() {\n    return new Date();\n  }\n\n  const force = true;\n\n  if (typeof root._bokeh_onload_callbacks === \"undefined\" || force === true) {\n    root._bokeh_onload_callbacks = [];\n    root._bokeh_is_loading = undefined;\n  }\n\nconst JS_MIME_TYPE = 'application/javascript';\n  const HTML_MIME_TYPE = 'text/html';\n  const EXEC_MIME_TYPE = 'application/vnd.bokehjs_exec.v0+json';\n  const CLASS_NAME = 'output_bokeh rendered_html';\n\n  /**\n   * Render data to the DOM node\n   */\n  function render(props, node) {\n    const script = document.createElement(\"script\");\n    node.appendChild(script);\n  }\n\n  /**\n   * Handle when an output is cleared or removed\n   */\n  function handleClearOutput(event, handle) {\n    function drop(id) {\n      const view = Bokeh.index.get_by_id(id)\n      if (view != null) {\n        view.model.document.clear()\n        Bokeh.index.delete(view)\n      }\n    }\n\n    const cell = handle.cell;\n\n    const id = cell.output_area._bokeh_element_id;\n    const server_id = cell.output_area._bokeh_server_id;\n\n    // Clean up Bokeh references\n    if (id != null) {\n      drop(id)\n    }\n\n    if (server_id !== undefined) {\n      // Clean up Bokeh references\n      const cmd_clean = \"from bokeh.io.state import curstate; print(curstate().uuid_to_server['\" + server_id + \"'].get_sessions()[0].document.roots[0]._id)\";\n      cell.notebook.kernel.execute(cmd_clean, {\n        iopub: {\n          output: function(msg) {\n            const id = msg.content.text.trim()\n            drop(id)\n          }\n        }\n      });\n      // Destroy server and session\n      const cmd_destroy = \"import bokeh.io.notebook as ion; ion.destroy_server('\" + server_id + \"')\";\n      cell.notebook.kernel.execute(cmd_destroy);\n    }\n  }\n\n  /**\n   * Handle when a new output is added\n   */\n  function handleAddOutput(event, handle) {\n    const output_area = handle.output_area;\n    const output = handle.output;\n\n    // limit handleAddOutput to display_data with EXEC_MIME_TYPE content only\n    if ((output.output_type != \"display_data\") || (!Object.prototype.hasOwnProperty.call(output.data, EXEC_MIME_TYPE))) {\n      return\n    }\n\n    const toinsert = output_area.element.find(\".\" + CLASS_NAME.split(' ')[0]);\n\n    if (output.metadata[EXEC_MIME_TYPE][\"id\"] !== undefined) {\n      toinsert[toinsert.length - 1].firstChild.textContent = output.data[JS_MIME_TYPE];\n      // store reference to embed id on output_area\n      output_area._bokeh_element_id = output.metadata[EXEC_MIME_TYPE][\"id\"];\n    }\n    if (output.metadata[EXEC_MIME_TYPE][\"server_id\"] !== undefined) {\n      const bk_div = document.createElement(\"div\");\n      bk_div.innerHTML = output.data[HTML_MIME_TYPE];\n      const script_attrs = bk_div.children[0].attributes;\n      for (let i = 0; i < script_attrs.length; i++) {\n        toinsert[toinsert.length - 1].firstChild.setAttribute(script_attrs[i].name, script_attrs[i].value);\n        toinsert[toinsert.length - 1].firstChild.textContent = bk_div.children[0].textContent\n      }\n      // store reference to server id on output_area\n      output_area._bokeh_server_id = output.metadata[EXEC_MIME_TYPE][\"server_id\"];\n    }\n  }\n\n  function register_renderer(events, OutputArea) {\n\n    function append_mime(data, metadata, element) {\n      // create a DOM node to render to\n      const toinsert = this.create_output_subarea(\n        metadata,\n        CLASS_NAME,\n        EXEC_MIME_TYPE\n      );\n      this.keyboard_manager.register_events(toinsert);\n      // Render to node\n      const props = {data: data, metadata: metadata[EXEC_MIME_TYPE]};\n      render(props, toinsert[toinsert.length - 1]);\n      element.append(toinsert);\n      return toinsert\n    }\n\n    /* Handle when an output is cleared or removed */\n    events.on('clear_output.CodeCell', handleClearOutput);\n    events.on('delete.Cell', handleClearOutput);\n\n    /* Handle when a new output is added */\n    events.on('output_added.OutputArea', handleAddOutput);\n\n    /**\n     * Register the mime type and append_mime function with output_area\n     */\n    OutputArea.prototype.register_mime_type(EXEC_MIME_TYPE, append_mime, {\n      /* Is output safe? */\n      safe: true,\n      /* Index of renderer in `output_area.display_order` */\n      index: 0\n    });\n  }\n\n  // register the mime type if in Jupyter Notebook environment and previously unregistered\n  if (root.Jupyter !== undefined) {\n    const events = require('base/js/events');\n    const OutputArea = require('notebook/js/outputarea').OutputArea;\n\n    if (OutputArea.prototype.mime_types().indexOf(EXEC_MIME_TYPE) == -1) {\n      register_renderer(events, OutputArea);\n    }\n  }\n  if (typeof (root._bokeh_timeout) === \"undefined\" || force === true) {\n    root._bokeh_timeout = Date.now() + 5000;\n    root._bokeh_failed_load = false;\n  }\n\n  const NB_LOAD_WARNING = {'data': {'text/html':\n     \"<div style='background-color: #fdd'>\\n\"+\n     \"<p>\\n\"+\n     \"BokehJS does not appear to have successfully loaded. If loading BokehJS from CDN, this \\n\"+\n     \"may be due to a slow or bad network connection. Possible fixes:\\n\"+\n     \"</p>\\n\"+\n     \"<ul>\\n\"+\n     \"<li>re-rerun `output_notebook()` to attempt to load from CDN again, or</li>\\n\"+\n     \"<li>use INLINE resources instead, as so:</li>\\n\"+\n     \"</ul>\\n\"+\n     \"<code>\\n\"+\n     \"from bokeh.resources import INLINE\\n\"+\n     \"output_notebook(resources=INLINE)\\n\"+\n     \"</code>\\n\"+\n     \"</div>\"}};\n\n  function display_loaded(error = null) {\n    const el = document.getElementById(\"cb2fab02-5c49-4a6b-8973-19c2939569fb\");\n    if (el != null) {\n      const html = (() => {\n        if (typeof root.Bokeh === \"undefined\") {\n          if (error == null) {\n            return \"BokehJS is loading ...\";\n          } else {\n            return \"BokehJS failed to load.\";\n          }\n        } else {\n          const prefix = `BokehJS ${root.Bokeh.version}`;\n          if (error == null) {\n            return `${prefix} successfully loaded.`;\n          } else {\n            return `${prefix} <b>encountered errors</b> while loading and may not function as expected.`;\n          }\n        }\n      })();\n      el.innerHTML = html;\n\n      if (error != null) {\n        const wrapper = document.createElement(\"div\");\n        wrapper.style.overflow = \"auto\";\n        wrapper.style.height = \"5em\";\n        wrapper.style.resize = \"vertical\";\n        const content = document.createElement(\"div\");\n        content.style.fontFamily = \"monospace\";\n        content.style.whiteSpace = \"pre-wrap\";\n        content.style.backgroundColor = \"rgb(255, 221, 221)\";\n        content.textContent = error.stack ?? error.toString();\n        wrapper.append(content);\n        el.append(wrapper);\n      }\n    } else if (Date.now() < root._bokeh_timeout) {\n      setTimeout(() => display_loaded(error), 100);\n    }\n  }\n\n  function run_callbacks() {\n    try {\n      root._bokeh_onload_callbacks.forEach(function(callback) {\n        if (callback != null)\n          callback();\n      });\n    } finally {\n      delete root._bokeh_onload_callbacks\n    }\n    console.debug(\"Bokeh: all callbacks have finished\");\n  }\n\n  function load_libs(css_urls, js_urls, callback) {\n    if (css_urls == null) css_urls = [];\n    if (js_urls == null) js_urls = [];\n\n    root._bokeh_onload_callbacks.push(callback);\n    if (root._bokeh_is_loading > 0) {\n      console.debug(\"Bokeh: BokehJS is being loaded, scheduling callback at\", now());\n      return null;\n    }\n    if (js_urls == null || js_urls.length === 0) {\n      run_callbacks();\n      return null;\n    }\n    console.debug(\"Bokeh: BokehJS not loaded, scheduling load and callback at\", now());\n    root._bokeh_is_loading = css_urls.length + js_urls.length;\n\n    function on_load() {\n      root._bokeh_is_loading--;\n      if (root._bokeh_is_loading === 0) {\n        console.debug(\"Bokeh: all BokehJS libraries/stylesheets loaded\");\n        run_callbacks()\n      }\n    }\n\n    function on_error(url) {\n      console.error(\"failed to load \" + url);\n    }\n\n    for (let i = 0; i < css_urls.length; i++) {\n      const url = css_urls[i];\n      const element = document.createElement(\"link\");\n      element.onload = on_load;\n      element.onerror = on_error.bind(null, url);\n      element.rel = \"stylesheet\";\n      element.type = \"text/css\";\n      element.href = url;\n      console.debug(\"Bokeh: injecting link tag for BokehJS stylesheet: \", url);\n      document.body.appendChild(element);\n    }\n\n    for (let i = 0; i < js_urls.length; i++) {\n      const url = js_urls[i];\n      const element = document.createElement('script');\n      element.onload = on_load;\n      element.onerror = on_error.bind(null, url);\n      element.async = false;\n      element.src = url;\n      console.debug(\"Bokeh: injecting script tag for BokehJS library: \", url);\n      document.head.appendChild(element);\n    }\n  };\n\n  function inject_raw_css(css) {\n    const element = document.createElement(\"style\");\n    element.appendChild(document.createTextNode(css));\n    document.body.appendChild(element);\n  }\n\n  const js_urls = [\"https://cdn.bokeh.org/bokeh/release/bokeh-3.4.1.min.js\", \"https://cdn.bokeh.org/bokeh/release/bokeh-gl-3.4.1.min.js\", \"https://cdn.bokeh.org/bokeh/release/bokeh-widgets-3.4.1.min.js\", \"https://cdn.bokeh.org/bokeh/release/bokeh-tables-3.4.1.min.js\", \"https://cdn.bokeh.org/bokeh/release/bokeh-mathjax-3.4.1.min.js\"];\n  const css_urls = [];\n\n  const inline_js = [    function(Bokeh) {\n      Bokeh.set_log_level(\"info\");\n    },\nfunction(Bokeh) {\n    }\n  ];\n\n  function run_inline_js() {\n    if (root.Bokeh !== undefined || force === true) {\n      try {\n            for (let i = 0; i < inline_js.length; i++) {\n      inline_js[i].call(root, root.Bokeh);\n    }\n\n      } catch (error) {display_loaded(error);throw error;\n      }if (force === true) {\n        display_loaded();\n      }} else if (Date.now() < root._bokeh_timeout) {\n      setTimeout(run_inline_js, 100);\n    } else if (!root._bokeh_failed_load) {\n      console.log(\"Bokeh: BokehJS failed to load within specified timeout.\");\n      root._bokeh_failed_load = true;\n    } else if (force !== true) {\n      const cell = $(document.getElementById(\"cb2fab02-5c49-4a6b-8973-19c2939569fb\")).parents('.cell').data().cell;\n      cell.output_area.append_execute_result(NB_LOAD_WARNING)\n    }\n  }\n\n  if (root._bokeh_is_loading === 0) {\n    console.debug(\"Bokeh: BokehJS loaded, going straight to plotting\");\n    run_inline_js();\n  } else {\n    load_libs(css_urls, js_urls, function() {\n      console.debug(\"Bokeh: BokehJS plotting callback run at\", now());\n      run_inline_js();\n    });\n  }\n}(window));",
      "application/vnd.bokehjs_load.v0+json": ""
     },
     "metadata": {},
     "output_type": "display_data"
    },
    {
     "data": {
      "text/html": [
       "\n",
       "  <div id=\"d327e7ea-2cc7-46a3-8825-0a9e6382f1d7\" data-root-id=\"p1046\" style=\"display: contents;\"></div>\n"
      ]
     },
     "metadata": {},
     "output_type": "display_data"
    },
    {
     "data": {
      "application/javascript": "(function(root) {\n  function embed_document(root) {\n  const docs_json = {\"cf6aabb2-e94e-4519-bd54-1684bbf7a448\":{\"version\":\"3.4.1\",\"title\":\"Bokeh Application\",\"roots\":[{\"type\":\"object\",\"name\":\"Figure\",\"id\":\"p1046\",\"attributes\":{\"x_range\":{\"type\":\"object\",\"name\":\"DataRange1d\",\"id\":\"p1047\"},\"y_range\":{\"type\":\"object\",\"name\":\"DataRange1d\",\"id\":\"p1048\"},\"x_scale\":{\"type\":\"object\",\"name\":\"LinearScale\",\"id\":\"p1055\"},\"y_scale\":{\"type\":\"object\",\"name\":\"LinearScale\",\"id\":\"p1056\"},\"title\":{\"type\":\"object\",\"name\":\"Title\",\"id\":\"p1053\"},\"renderers\":[{\"type\":\"object\",\"name\":\"GlyphRenderer\",\"id\":\"p1084\",\"attributes\":{\"data_source\":{\"type\":\"object\",\"name\":\"ColumnDataSource\",\"id\":\"p1078\",\"attributes\":{\"selected\":{\"type\":\"object\",\"name\":\"Selection\",\"id\":\"p1079\",\"attributes\":{\"indices\":[],\"line_indices\":[]}},\"selection_policy\":{\"type\":\"object\",\"name\":\"UnionRenderers\",\"id\":\"p1080\"},\"data\":{\"type\":\"map\",\"entries\":[[\"x\",{\"type\":\"ndarray\",\"array\":{\"type\":\"bytes\",\"data\":\"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\"},\"shape\":[358],\"dtype\":\"float64\",\"order\":\"little\"}],[\"y\",{\"type\":\"ndarray\",\"array\":{\"type\":\"bytes\",\"data\":\"zmfeQB8G1EDK0tFAR6fUQCSCyUD1qdJAuWLnQAlV2kAGKNhANeDfQFKi0UBwC+JADX/NQCk2zUBHHtlAM9nVQLUTyUCM+tZAhtLVQFzK3EACiMZAEPfYQCOND0GoGtxAVDLcQHzU0UDBuOBArgzPQK1j70DdwtpAPPtnQAODF0BHNbtA36i8QPDeukCFI7VAonatQHXVqUC457xANrS8QDa0vECGKbxAlMGZQAYYlEC8YqNAwK+pQFQboEDZ/5ZA2ZuoQNmbqECqzqFA1VebQKZcvEAvZZVAxByrQJoMpkD2E6dA8n6yQGHat0ASyLJAoW21QDDKukDvya9AwwSqQF0UnUAvqKRAGhOpQDM9hkDngSxAtAuxQJZgdUCXi8RASH7LQMEZ2kBBi+ZAfvbtQFJQm0B6fc9ASLsNQYXZCUGF2QlBdpQBQfOGCEHzhghB84YIQbYa/kA6fexAK0H4QITICEE6fexATeX0QAhj+kAIY/pAVB0DQZhqCEECKAVBdKnrQHSp60BKm+1AaIUJQUggAUECggJBAoICQWiFCUGobABBmXcCQVNNBEFD1gJBIlsAQcpWGkASkgBAe3kUQGl0K0DluE5AUc8JQUnIgEDTcxZB6O13QFU3OUCHYQVAYAVgQMpoD0B6KUVAyc8IQNm5DEDeqA9ALRwXQD6vBkDohAFAfu8SQGDcG0C+ngpAO4jzPxrSCUAa0glAqm8cQCKnFkB+K6dABlzCQAZcwkDSpZ1AbOOsQMHbGUHv5RtBIBYeQfmvHEH5rxxBpXQcQW6WHUFulh1BQEUfQUBFH0EWCQZBt64HQdQiqEDUIqhA21bkP8xMDkB9bghA73qcQO96nEAkJ69A7/WZQDJ8i0BwOqJA7/WZQAkHrUCbvqtAt5HgQJu+q0AyfItAMnyLQO/1mUCbvqtAESyaQIXUlkAHLvBABy7wQJYFjEAdlqlAlPPNQJA4z0A8P7JAPsjCQDTHU0BvjzpAZy5gQBDVPUC5TVBA2TyrQNk1hUDbPG1AzpJLQN4SgECtdXFA56VuQJT7YkDP+VxAHaiGQAOMiUCMdqJAwXq1QMF6tUCQQaRAXbmBQIhNkUCQu2lAK4GAQPiwmkAXv5BAxc5yQMVsnECIbpxAgeWkQANlvUADZb1Aj4KKQKUtiUAVgJJA8FmgQAvroEATPJ5AiG6cQPNam0DSBKRAIlaJQDEckkBIVZFAcFmEQPzE40AY6t9A3SzLQAkHrUBR+6hAR2ykQDu8dEDUNlxA1QqHQOxDekAbSHtAaNiDQGpYlEBVyI1APiiUQA4MmUAjfphANLRaQKxUW0DpOG1A2GZqQItvVEC8GnNAbxqHQCsdtkA2ZZlAgcniQFpGgUB+/WBA31KFQEsVd0Ao9ppACJKZQCVOjEALSpRAaEinQGzcWEBs3FhAPuhCQD7oQkCU/VpA+jVnQL6trUAI6q1ABjikQHk9qEDK565Aju6qQN8PrEB6ybRA71qrQDwwjUDCcR9AGCYGQIXdN0CoVCdAfNIMQPjqHkD46h5AAnRhQMWT1T9t/wNAsv2WQOFprkCV8WRA6i5LQL6BMkC+gTJACMefQEFKnUBBSp1AoLqUQED4r0C03OZAgJVxQFSBBUE+e15AlsRwQN1ohkA+k49A5COVQM/th0A3xpBA3wqRQEyvfEA+botAOhtzQNGaxkA73LVAMqexQM2dO0B1kmJA24s5QNuLOUBLSTlAqImMQJx4aUABtcdAxR7IQIVl0EDGQ9pACxjhQNG0XkDRtF5A+JcbQPg2MkBJJlNA99QtQJz3sEAAdixATDurQEw7q0BMO6tA+DGOQBVQSUCKZvo/YVInQHhLgkDCultANxjYP9xd7j/MyhhADPW2QD4EEUHRxb5A0cW+QIq2zECUCPtAAMcjQA==\"},\"shape\":[358],\"dtype\":\"float32\",\"order\":\"little\"}]]}}},\"view\":{\"type\":\"object\",\"name\":\"CDSView\",\"id\":\"p1085\",\"attributes\":{\"filter\":{\"type\":\"object\",\"name\":\"AllIndices\",\"id\":\"p1086\"}}},\"glyph\":{\"type\":\"object\",\"name\":\"Scatter\",\"id\":\"p1081\",\"attributes\":{\"x\":{\"type\":\"field\",\"field\":\"x\"},\"y\":{\"type\":\"field\",\"field\":\"y\"},\"size\":{\"type\":\"value\",\"value\":3},\"line_color\":{\"type\":\"value\",\"value\":\"#1f77b4\"},\"fill_color\":{\"type\":\"value\",\"value\":\"#1f77b4\"}}},\"nonselection_glyph\":{\"type\":\"object\",\"name\":\"Scatter\",\"id\":\"p1082\",\"attributes\":{\"x\":{\"type\":\"field\",\"field\":\"x\"},\"y\":{\"type\":\"field\",\"field\":\"y\"},\"size\":{\"type\":\"value\",\"value\":3},\"line_color\":{\"type\":\"value\",\"value\":\"#1f77b4\"},\"line_alpha\":{\"type\":\"value\",\"value\":0.1},\"fill_color\":{\"type\":\"value\",\"value\":\"#1f77b4\"},\"fill_alpha\":{\"type\":\"value\",\"value\":0.1},\"hatch_alpha\":{\"type\":\"value\",\"value\":0.1}}},\"muted_glyph\":{\"type\":\"object\",\"name\":\"Scatter\",\"id\":\"p1083\",\"attributes\":{\"x\":{\"type\":\"field\",\"field\":\"x\"},\"y\":{\"type\":\"field\",\"field\":\"y\"},\"size\":{\"type\":\"value\",\"value\":3},\"line_color\":{\"type\":\"value\",\"value\":\"#1f77b4\"},\"line_alpha\":{\"type\":\"value\",\"value\":0.2},\"fill_color\":{\"type\":\"value\",\"value\":\"#1f77b4\"},\"fill_alpha\":{\"type\":\"value\",\"value\":0.2},\"hatch_alpha\":{\"type\":\"value\",\"value\":0.2}}}}}],\"toolbar\":{\"type\":\"object\",\"name\":\"Toolbar\",\"id\":\"p1054\",\"attributes\":{\"tools\":[{\"type\":\"object\",\"name\":\"PanTool\",\"id\":\"p1067\"},{\"type\":\"object\",\"name\":\"WheelZoomTool\",\"id\":\"p1068\",\"attributes\":{\"renderers\":\"auto\"}},{\"type\":\"object\",\"name\":\"BoxZoomTool\",\"id\":\"p1069\",\"attributes\":{\"overlay\":{\"type\":\"object\",\"name\":\"BoxAnnotation\",\"id\":\"p1070\",\"attributes\":{\"syncable\":false,\"level\":\"overlay\",\"visible\":false,\"left\":{\"type\":\"number\",\"value\":\"nan\"},\"right\":{\"type\":\"number\",\"value\":\"nan\"},\"top\":{\"type\":\"number\",\"value\":\"nan\"},\"bottom\":{\"type\":\"number\",\"value\":\"nan\"},\"left_units\":\"canvas\",\"right_units\":\"canvas\",\"top_units\":\"canvas\",\"bottom_units\":\"canvas\",\"line_color\":\"black\",\"line_alpha\":1.0,\"line_width\":2,\"line_dash\":[4,4],\"fill_color\":\"lightgrey\",\"fill_alpha\":0.5}}}},{\"type\":\"object\",\"name\":\"SaveTool\",\"id\":\"p1075\"},{\"type\":\"object\",\"name\":\"ResetTool\",\"id\":\"p1076\"},{\"type\":\"object\",\"name\":\"HelpTool\",\"id\":\"p1077\"}]}},\"left\":[{\"type\":\"object\",\"name\":\"LinearAxis\",\"id\":\"p1062\",\"attributes\":{\"ticker\":{\"type\":\"object\",\"name\":\"BasicTicker\",\"id\":\"p1063\",\"attributes\":{\"mantissas\":[1,2,5]}},\"formatter\":{\"type\":\"object\",\"name\":\"BasicTickFormatter\",\"id\":\"p1064\"},\"axis_label\":\"Predicted RT\",\"major_label_policy\":{\"type\":\"object\",\"name\":\"AllLabels\",\"id\":\"p1065\"}}}],\"below\":[{\"type\":\"object\",\"name\":\"LinearAxis\",\"id\":\"p1057\",\"attributes\":{\"ticker\":{\"type\":\"object\",\"name\":\"BasicTicker\",\"id\":\"p1058\",\"attributes\":{\"mantissas\":[1,2,5]}},\"formatter\":{\"type\":\"object\",\"name\":\"BasicTickFormatter\",\"id\":\"p1059\"},\"axis_label\":\"Library RT\",\"major_label_policy\":{\"type\":\"object\",\"name\":\"AllLabels\",\"id\":\"p1060\"}}}],\"center\":[{\"type\":\"object\",\"name\":\"Grid\",\"id\":\"p1061\",\"attributes\":{\"axis\":{\"id\":\"p1057\"}}},{\"type\":\"object\",\"name\":\"Grid\",\"id\":\"p1066\",\"attributes\":{\"dimension\":1,\"axis\":{\"id\":\"p1062\"}}},{\"type\":\"object\",\"name\":\"Slope\",\"id\":\"p1087\",\"attributes\":{\"gradient\":1,\"y_intercept\":0,\"line_alpha\":0.5}},{\"type\":\"object\",\"name\":\"Slope\",\"id\":\"p1088\",\"attributes\":{\"gradient\":0.814707047241877,\"y_intercept\":1.0480213218227292,\"line_color\":\"blue\"}}]}}]}};\n  const render_items = [{\"docid\":\"cf6aabb2-e94e-4519-bd54-1684bbf7a448\",\"roots\":{\"p1046\":\"d327e7ea-2cc7-46a3-8825-0a9e6382f1d7\"},\"root_ids\":[\"p1046\"]}];\n  void root.Bokeh.embed.embed_items_notebook(docs_json, render_items);\n  }\n  if (root.Bokeh !== undefined) {\n    embed_document(root);\n  } else {\n    let attempts = 0;\n    const timer = setInterval(function(root) {\n      if (root.Bokeh !== undefined) {\n        clearInterval(timer);\n        embed_document(root);\n      } else {\n        attempts++;\n        if (attempts > 100) {\n          clearInterval(timer);\n          console.log(\"Bokeh: ERROR: Unable to run BokehJS code because BokehJS library is missing\");\n        }\n      }\n    }, 10, root)\n  }\n})(window);",
      "application/vnd.bokehjs_exec.v0+json": ""
     },
     "metadata": {
      "application/vnd.bokehjs_exec.v0+json": {
       "id": "p1046"
      }
     },
     "output_type": "display_data"
    },
    {
     "name": "stderr",
     "output_type": "stream",
     "text": [
      "/home/npa/miniconda3/envs/pyretip/lib/python3.10/site-packages/sklearn/metrics/_regression.py:483: FutureWarning: 'squared' is deprecated in version 1.4 and will be removed in 1.6. To calculate the root mean squared error, use the function'root_mean_squared_error'.\n",
      "  warnings.warn(\n"
     ]
    },
    {
     "data": {
      "text/plain": [
       "{'root_mean_squared_error': 0.9197020046111225,\n",
       " 'mean_squared_error': 0.8458517772857173,\n",
       " 'mean_absolute_error': 0.6596918262716112,\n",
       " 'median_absolute_error': 0.4973020458221433,\n",
       " 'explained_variance_score': 0.8173272958301936,\n",
       " 'mean_absolute_percentage_error': 0.14872719150575137,\n",
       " 'absolute_median_relative_error': 0.10611512910693996,\n",
       " 'r2_score': 0.8145548805273906,\n",
       " 'pearson_correlation': 0.9040662311055035,\n",
       " '90_percent_confidence_interval': 1.057349597085559,\n",
       " '95_percent_confidence_interval': 1.3889721971646514}"
      ]
     },
     "execution_count": 16,
     "metadata": {},
     "output_type": "execute_result"
    }
   ],
   "source": [
    "trainer.score(dataset.get_validation_data(), target_column=\"RT\", plot=True)"
   ]
  },
  {
   "cell_type": "markdown",
   "id": "canadian-senator",
   "metadata": {},
   "source": [
    "While we still observe the same issue where our training data is not sufficiently representative of our chemical space, the accuracy of the AutoGluon model is notably better than XGBoost, even after only 30 minutes of training."
   ]
  },
  {
   "cell_type": "markdown",
   "id": "739bde42",
   "metadata": {},
   "source": [
    "### RT Prediction"
   ]
  },
  {
   "cell_type": "markdown",
   "id": "657adad8",
   "metadata": {},
   "source": [
    "The trained model can be used to predict retention times for a new dataset."
   ]
  },
  {
   "cell_type": "code",
   "execution_count": 13,
   "id": "4f2e0d1e",
   "metadata": {},
   "outputs": [
    {
     "data": {
      "text/plain": [
       "0     6.950171\n",
       "1     6.627048\n",
       "2     6.557055\n",
       "3     6.645472\n",
       "4     6.296976\n",
       "5     6.583277\n",
       "6     7.230801\n",
       "7     6.826734\n",
       "8     6.754679\n",
       "9     6.996120\n",
       "10    6.551068\n",
       "11    7.065253\n",
       "12    6.421793\n",
       "13    6.412821\n",
       "14    6.784946\n",
       "15    6.682776\n",
       "16    6.283014\n",
       "17    6.718084\n",
       "18    6.683395\n",
       "19    6.899658\n",
       "20    6.203787\n",
       "21    6.781049\n",
       "22    8.971633\n",
       "23    6.878408\n",
       "24    6.881134\n",
       "Name: RT, dtype: float32"
      ]
     },
     "execution_count": 13,
     "metadata": {},
     "output_type": "execute_result"
    }
   ],
   "source": [
    "y_pred = trainer.predict(dataset.get_validation_data())\n",
    "y_pred[:25]"
   ]
  },
  {
   "cell_type": "markdown",
   "id": "43a0102f",
   "metadata": {},
   "source": [
    "These predicted values can be annotated to the dataset."
   ]
  },
  {
   "cell_type": "code",
   "execution_count": 18,
   "id": "664280ff",
   "metadata": {},
   "outputs": [],
   "source": [
    "annotated = trainer.annotate(dataset.get_validation_data(include_metadata=True), prediction_column='RTP')"
   ]
  },
  {
   "cell_type": "code",
   "execution_count": 19,
   "id": "7267b368",
   "metadata": {},
   "outputs": [
    {
     "data": {
      "text/html": [
       "<div>\n",
       "<style scoped>\n",
       "    .dataframe tbody tr th:only-of-type {\n",
       "        vertical-align: middle;\n",
       "    }\n",
       "\n",
       "    .dataframe tbody tr th {\n",
       "        vertical-align: top;\n",
       "    }\n",
       "\n",
       "    .dataframe thead th {\n",
       "        text-align: right;\n",
       "    }\n",
       "</style>\n",
       "<table border=\"1\" class=\"dataframe\">\n",
       "  <thead>\n",
       "    <tr style=\"text-align: right;\">\n",
       "      <th></th>\n",
       "      <th>Name</th>\n",
       "      <th>InChIKey</th>\n",
       "      <th>SMILES</th>\n",
       "      <th>RTP</th>\n",
       "      <th>RT</th>\n",
       "      <th>ABC</th>\n",
       "      <th>ABCGG</th>\n",
       "      <th>nAcid</th>\n",
       "      <th>nBase</th>\n",
       "      <th>nAromAtom</th>\n",
       "      <th>...</th>\n",
       "      <th>SRW09</th>\n",
       "      <th>SRW10</th>\n",
       "      <th>TSRW10</th>\n",
       "      <th>MW</th>\n",
       "      <th>AMW</th>\n",
       "      <th>WPath</th>\n",
       "      <th>WPol</th>\n",
       "      <th>Zagreb1</th>\n",
       "      <th>Zagreb2</th>\n",
       "      <th>mZagreb2</th>\n",
       "    </tr>\n",
       "  </thead>\n",
       "  <tbody>\n",
       "    <tr>\n",
       "      <th>0</th>\n",
       "      <td>Soyasapogenol E base + O-Hex-HexA</td>\n",
       "      <td>YDNHBSRZSMNZPB-NJAHCQCINA-N</td>\n",
       "      <td>O=C(O)C7OC(OC2CCC3(C)(C4CC=C1C5CC(C)(C)CC(=O)C5(C)(CCC1(C)C4(C)(CCC3(C2(C)(CO))))))C(OC6OC(CO)C(O)C(O)C6(O))C(O)C7(O)</td>\n",
       "      <td>6.950171</td>\n",
       "      <td>7.84</td>\n",
       "      <td>44.836157</td>\n",
       "      <td>32.982369</td>\n",
       "      <td>1</td>\n",
       "      <td>0</td>\n",
       "      <td>0</td>\n",
       "      <td>...</td>\n",
       "      <td>0.0</td>\n",
       "      <td>11.553443</td>\n",
       "      <td>96.348334</td>\n",
       "      <td>794.445257</td>\n",
       "      <td>6.511846</td>\n",
       "      <td>12554</td>\n",
       "      <td>131</td>\n",
       "      <td>330.0</td>\n",
       "      <td>420.0</td>\n",
       "      <td>11.631944</td>\n",
       "    </tr>\n",
       "    <tr>\n",
       "      <th>1</th>\n",
       "      <td>Soyasapogenol E base + O-HexA-Hex-dHex</td>\n",
       "      <td>CROUPKILZUPLQA-UHFFFAOYNA-N</td>\n",
       "      <td>O=C(O)C8OC(OC2CCC3(C)(C4CC=C1C5CC(C)(C)CC(=O)C5(C)(CCC1(C)C4(C)(CCC3(C2(C)(CO))))))C(OC7OC(CO)C(O)C(O)C7(OC6OC(C)C(O)C(O)C6(O)))C(O)C8(O)</td>\n",
       "      <td>6.625747</td>\n",
       "      <td>7.62</td>\n",
       "      <td>52.780741</td>\n",
       "      <td>38.464480</td>\n",
       "      <td>1</td>\n",
       "      <td>0</td>\n",
       "      <td>0</td>\n",
       "      <td>...</td>\n",
       "      <td>0.0</td>\n",
       "      <td>11.673657</td>\n",
       "      <td>107.062212</td>\n",
       "      <td>940.503166</td>\n",
       "      <td>6.623262</td>\n",
       "      <td>19659</td>\n",
       "      <td>152</td>\n",
       "      <td>386.0</td>\n",
       "      <td>489.0</td>\n",
       "      <td>13.743056</td>\n",
       "    </tr>\n",
       "    <tr>\n",
       "      <th>2</th>\n",
       "      <td>Soyasapogenol E base + O-HexA-Hex-Hex</td>\n",
       "      <td>JTXVTHCLTOUSSL-UHFFFAOYNA-N</td>\n",
       "      <td>O=C(O)C8OC(OC2CCC3(C)(C4CC=C1C5CC(C)(C)CC(=O)C5(C)(CCC1(C)C4(C)(CCC3(C2(C)(CO))))))C(OC7OC(CO)C(O)C(O)C7(OC6OC(CO)C(O)C(O)C6(O)))C(O)C8(O)</td>\n",
       "      <td>6.556981</td>\n",
       "      <td>7.49</td>\n",
       "      <td>53.378458</td>\n",
       "      <td>38.971182</td>\n",
       "      <td>1</td>\n",
       "      <td>0</td>\n",
       "      <td>0</td>\n",
       "      <td>...</td>\n",
       "      <td>0.0</td>\n",
       "      <td>11.680125</td>\n",
       "      <td>108.106572</td>\n",
       "      <td>956.498080</td>\n",
       "      <td>6.688798</td>\n",
       "      <td>20502</td>\n",
       "      <td>154</td>\n",
       "      <td>390.0</td>\n",
       "      <td>494.0</td>\n",
       "      <td>14.076389</td>\n",
       "    </tr>\n",
       "    <tr>\n",
       "      <th>3</th>\n",
       "      <td>Soyasapogenol B base + O-HexA-Pen-dHex, O-C6H7O3(DDMP)</td>\n",
       "      <td>VWKBHQGCNGULAZ-UHFFFAOYNA-N</td>\n",
       "      <td>O=C(O)C9OC(OC3CCC4(C)(C5CC=C2C6CC(C)(C)CC(OC1OC(=C(O)C(=O)C1)C)C6(C)(CCC2(C)C5(C)(CCC4(C3(C)(CO))))))C(OC8OCC(O)C(O)C8(OC7OC(C)C(O)C(O)C7(O)))C(O)C9(O)</td>\n",
       "      <td>6.645420</td>\n",
       "      <td>7.79</td>\n",
       "      <td>58.615935</td>\n",
       "      <td>41.117105</td>\n",
       "      <td>1</td>\n",
       "      <td>0</td>\n",
       "      <td>0</td>\n",
       "      <td>...</td>\n",
       "      <td>0.0</td>\n",
       "      <td>11.738011</td>\n",
       "      <td>114.489110</td>\n",
       "      <td>1038.539945</td>\n",
       "      <td>6.700258</td>\n",
       "      <td>27052</td>\n",
       "      <td>164</td>\n",
       "      <td>426.0</td>\n",
       "      <td>536.0</td>\n",
       "      <td>15.104167</td>\n",
       "    </tr>\n",
       "    <tr>\n",
       "      <th>4</th>\n",
       "      <td>Soyasapogenol B base + O-HexA-Hex-Pen, O-dHex</td>\n",
       "      <td>REIWEXDMDVAAEI-UHFFFAOYNA-N</td>\n",
       "      <td>CC1OC(OC2CC(C)(C)CC3C4=CCC5C6(C)CCC(OC7OC(C(O)C(O)C7OC7OC(CO)C(O)C(O)C7OC7OCC(O)C(O)C7O)C(O)=O)C(C)(CO)C6CCC5(C)C4(C)CCC23C)C(O)C(O)C1O</td>\n",
       "      <td>6.297136</td>\n",
       "      <td>5.56</td>\n",
       "      <td>59.949268</td>\n",
       "      <td>42.489658</td>\n",
       "      <td>1</td>\n",
       "      <td>0</td>\n",
       "      <td>0</td>\n",
       "      <td>...</td>\n",
       "      <td>0.0</td>\n",
       "      <td>11.764827</td>\n",
       "      <td>116.612958</td>\n",
       "      <td>1074.561074</td>\n",
       "      <td>6.674292</td>\n",
       "      <td>28816</td>\n",
       "      <td>170</td>\n",
       "      <td>436.0</td>\n",
       "      <td>550.0</td>\n",
       "      <td>15.659722</td>\n",
       "    </tr>\n",
       "  </tbody>\n",
       "</table>\n",
       "<p>5 rows × 822 columns</p>\n",
       "</div>"
      ],
      "text/plain": [
       "                                                     Name  \\\n",
       "0                       Soyasapogenol E base + O-Hex-HexA   \n",
       "1                  Soyasapogenol E base + O-HexA-Hex-dHex   \n",
       "2                   Soyasapogenol E base + O-HexA-Hex-Hex   \n",
       "3  Soyasapogenol B base + O-HexA-Pen-dHex, O-C6H7O3(DDMP)   \n",
       "4           Soyasapogenol B base + O-HexA-Hex-Pen, O-dHex   \n",
       "\n",
       "                      InChIKey  \\\n",
       "0  YDNHBSRZSMNZPB-NJAHCQCINA-N   \n",
       "1  CROUPKILZUPLQA-UHFFFAOYNA-N   \n",
       "2  JTXVTHCLTOUSSL-UHFFFAOYNA-N   \n",
       "3  VWKBHQGCNGULAZ-UHFFFAOYNA-N   \n",
       "4  REIWEXDMDVAAEI-UHFFFAOYNA-N   \n",
       "\n",
       "                                                                                                                                                    SMILES  \\\n",
       "0                                    O=C(O)C7OC(OC2CCC3(C)(C4CC=C1C5CC(C)(C)CC(=O)C5(C)(CCC1(C)C4(C)(CCC3(C2(C)(CO))))))C(OC6OC(CO)C(O)C(O)C6(O))C(O)C7(O)   \n",
       "1                O=C(O)C8OC(OC2CCC3(C)(C4CC=C1C5CC(C)(C)CC(=O)C5(C)(CCC1(C)C4(C)(CCC3(C2(C)(CO))))))C(OC7OC(CO)C(O)C(O)C7(OC6OC(C)C(O)C(O)C6(O)))C(O)C8(O)   \n",
       "2               O=C(O)C8OC(OC2CCC3(C)(C4CC=C1C5CC(C)(C)CC(=O)C5(C)(CCC1(C)C4(C)(CCC3(C2(C)(CO))))))C(OC7OC(CO)C(O)C(O)C7(OC6OC(CO)C(O)C(O)C6(O)))C(O)C8(O)   \n",
       "3  O=C(O)C9OC(OC3CCC4(C)(C5CC=C2C6CC(C)(C)CC(OC1OC(=C(O)C(=O)C1)C)C6(C)(CCC2(C)C5(C)(CCC4(C3(C)(CO))))))C(OC8OCC(O)C(O)C8(OC7OC(C)C(O)C(O)C7(O)))C(O)C9(O)   \n",
       "4                  CC1OC(OC2CC(C)(C)CC3C4=CCC5C6(C)CCC(OC7OC(C(O)C(O)C7OC7OC(CO)C(O)C(O)C7OC7OCC(O)C(O)C7O)C(O)=O)C(C)(CO)C6CCC5(C)C4(C)CCC23C)C(O)C(O)C1O   \n",
       "\n",
       "        RTP    RT        ABC      ABCGG  nAcid  nBase  nAromAtom  ...  SRW09  \\\n",
       "0  6.950171  7.84  44.836157  32.982369      1      0          0  ...    0.0   \n",
       "1  6.625747  7.62  52.780741  38.464480      1      0          0  ...    0.0   \n",
       "2  6.556981  7.49  53.378458  38.971182      1      0          0  ...    0.0   \n",
       "3  6.645420  7.79  58.615935  41.117105      1      0          0  ...    0.0   \n",
       "4  6.297136  5.56  59.949268  42.489658      1      0          0  ...    0.0   \n",
       "\n",
       "       SRW10      TSRW10           MW       AMW  WPath  WPol  Zagreb1  \\\n",
       "0  11.553443   96.348334   794.445257  6.511846  12554   131    330.0   \n",
       "1  11.673657  107.062212   940.503166  6.623262  19659   152    386.0   \n",
       "2  11.680125  108.106572   956.498080  6.688798  20502   154    390.0   \n",
       "3  11.738011  114.489110  1038.539945  6.700258  27052   164    426.0   \n",
       "4  11.764827  116.612958  1074.561074  6.674292  28816   170    436.0   \n",
       "\n",
       "   Zagreb2   mZagreb2  \n",
       "0    420.0  11.631944  \n",
       "1    489.0  13.743056  \n",
       "2    494.0  14.076389  \n",
       "3    536.0  15.104167  \n",
       "4    550.0  15.659722  \n",
       "\n",
       "[5 rows x 822 columns]"
      ]
     },
     "execution_count": 19,
     "metadata": {},
     "output_type": "execute_result"
    }
   ],
   "source": [
    "annotated.head()"
   ]
  },
  {
   "cell_type": "markdown",
   "id": "98094a49",
   "metadata": {},
   "source": [
    "Now the dataset includes a new column `RTP` containing the predicted retention time. The `RTP` values of molecules that could not be loaded or descriptors could not be calculated will be empty or null."
   ]
  },
  {
   "cell_type": "markdown",
   "id": "2fcc8467",
   "metadata": {},
   "source": [
    "### Saving/Loading Models"
   ]
  },
  {
   "cell_type": "markdown",
   "id": "dental-canberra",
   "metadata": {},
   "source": [
    "AutoGluon automatically saves its models into a directory called `AutogluonModels`, where each model is saved into a subdirectory named according to when the model started training.  You can use the same saving and loading methods to move these save directories and reload them."
   ]
  },
  {
   "cell_type": "code",
   "execution_count": 9,
   "id": "molecular-dublin",
   "metadata": {},
   "outputs": [
    {
     "name": "stdout",
     "output_type": "stream",
     "text": [
      "Moved AutoGluon model to Plasma_positve_autogluon-model\n"
     ]
    }
   ],
   "source": [
    "trainer.save_model('Plasma_positve_autogluon-model')"
   ]
  },
  {
   "cell_type": "markdown",
   "id": "45912106",
   "metadata": {},
   "source": [
    "This exported model can then be reloaded and used to score datasets and predict new retention times. However, unless a dataset is first passed to the trainer, it cannot be retrained. "
   ]
  },
  {
   "cell_type": "code",
   "execution_count": 11,
   "id": "major-occupation",
   "metadata": {},
   "outputs": [
    {
     "name": "stdout",
     "output_type": "stream",
     "text": [
      "Loaded Plasma_positve_autogluon-model\n"
     ]
    }
   ],
   "source": [
    "trainer = retip.AutoGluonTrainer()\n",
    "trainer.load_model('Plasma_positve_autogluon-model')"
   ]
  },
  {
   "cell_type": "markdown",
   "id": "suited-explosion",
   "metadata": {},
   "source": [
    "If you use AutoGluon a lot, remember to clear out old models from the `AutogluonModels` directory!"
   ]
  }
 ],
 "metadata": {
  "kernelspec": {
   "display_name": "Python 3 (ipykernel)",
   "language": "python",
   "name": "python3"
  },
  "language_info": {
   "codemirror_mode": {
    "name": "ipython",
    "version": 3
   },
   "file_extension": ".py",
   "mimetype": "text/x-python",
   "name": "python",
   "nbconvert_exporter": "python",
   "pygments_lexer": "ipython3",
   "version": "3.10.14"
  }
 },
 "nbformat": 4,
 "nbformat_minor": 5
}
