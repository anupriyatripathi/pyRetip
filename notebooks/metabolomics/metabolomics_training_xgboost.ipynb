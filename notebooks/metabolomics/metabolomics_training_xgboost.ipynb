{
 "cells": [
  {
   "cell_type": "markdown",
   "id": "68f8f6a2",
   "metadata": {},
   "source": [
    "![Retip](../../images/retip_logo.png)\n",
    "# Retip: Retention Time Prediction for Metabolomics and Lipidomics"
   ]
  },
  {
   "cell_type": "markdown",
   "id": "bec6ca41",
   "metadata": {},
   "source": [
    "### Retention Time Prediction Overview\n",
    "\n",
    "Retip is a tool for predicting retention times (RTs) of small molecules for high pressure liquid chromatography (HPLC) mass spectrometry."
   ]
  },
  {
   "cell_type": "markdown",
   "id": "284120ed",
   "metadata": {},
   "source": [
    "### Loading Data\n",
    "\n",
    "We begin by importing the retip library, which gives us access to the training, prediction and visualization functions."
   ]
  },
  {
   "cell_type": "code",
   "execution_count": null,
   "id": "90eabd64",
   "metadata": {},
   "outputs": [],
   "source": [
    "try:\n",
    "    import retip\n",
    "except:\n",
    "    # add the parent directory to the path to load the Retip library locally in case it isn't installed\n",
    "    import os, sys\n",
    "    sys.path.insert(1, os.path.join(sys.path[0], '../..'))\n",
    "    \n",
    "    import retip"
   ]
  },
  {
   "cell_type": "markdown",
   "id": "8ff54e76",
   "metadata": {},
   "source": [
    "Now we can import our retention time dataset.  The user needs to prepare a compound retention time table in CSV or MS Excel format containing the compound name, retention time and chemical identifier.  Retip currently supports SMILES and PubChem CID as chemical identifiers.\n",
    "\n",
    "Retip will use this input file to build a the model and will predict retention times for other biochemical databases or an input query list of compounds. It is suggested that the file has at least 300 compounds to build a good retention time prediction model.\n",
    "\n",
    "Use the `retip.Dataset` class to create a new dataset.\n",
    "\n",
    "* The `test_size` parameter defines what percentage of your dataset should be used for testing/validation of the model (this example uses 20%)\n",
    "* The `seed` parameter sets a specific training/test split for the database, enabling reproducable model training"
   ]
  },
  {
   "cell_type": "code",
   "execution_count": null,
   "id": "687e5b39",
   "metadata": {},
   "outputs": [],
   "source": [
    "dataset = retip.Dataset(target_column='RT').load_retip_dataset(\n",
    "    training='Plasma_positive.xlsx', training_sheet_name='lib_2',\n",
    "    validation='Plasma_positive.xlsx', validation_sheet_name='ext')"
   ]
  },
  {
   "cell_type": "code",
   "execution_count": null,
   "id": "e420bef7",
   "metadata": {},
   "outputs": [],
   "source": [
    "dataset.head(2)"
   ]
  },
  {
   "cell_type": "markdown",
   "id": "a9a226b7",
   "metadata": {},
   "source": [
    "Above you can see the first few rows of our starting dataset.  It contains the three requirements described before: name, retention time and chemical identifier (SMILES)."
   ]
  },
  {
   "cell_type": "markdown",
   "id": "25dd188c-213a-484f-8bda-a11240366a96",
   "metadata": {},
   "source": [
    "Next, if your dataset does not already contain precalculated molecular descriptors, you can compute them with the [Mordred Molecular Descriptor Calculator](https://github.com/mordred-descriptor/mordred) by calling a simple function.  Note that molecules that cannot be parsed will be retained the dataset, but cannot be used for model training or validation."
   ]
  },
  {
   "cell_type": "code",
   "execution_count": null,
   "id": "b45f41d2",
   "metadata": {},
   "outputs": [],
   "source": [
    "dataset.calculate_descriptors()"
   ]
  },
  {
   "cell_type": "markdown",
   "id": "500b1065-3e90-42a2-95e7-98ff9b363889",
   "metadata": {},
   "source": [
    "We can view a summary data sets using the `describe` function, with the number indicating the number of rows and columns in each data frame:"
   ]
  },
  {
   "cell_type": "code",
   "execution_count": null,
   "id": "0a12678e-ed48-47e5-a64c-0738e965cb0a",
   "metadata": {},
   "outputs": [],
   "source": [
    "dataset.describe()"
   ]
  },
  {
   "cell_type": "markdown",
   "id": "66528ecc",
   "metadata": {},
   "source": [
    "It is important to perform feature reduction before training. Retip provides a basic tool to remove features with missing values and to restrict feature sets to descriptors which calculate non-null values for large sets of molecules."
   ]
  },
  {
   "cell_type": "code",
   "execution_count": null,
   "id": "7cfe980c",
   "metadata": {},
   "outputs": [],
   "source": [
    "dataset.preprocess_features('metabolomics')"
   ]
  },
  {
   "cell_type": "markdown",
   "id": "03be66fb",
   "metadata": {},
   "source": [
    "Finally, it is possible to load separate files for training, testing and validation sets, but here we loaded only a single file which we then need to split using the `split_dataset` function.\n",
    "* `test_split` defines what percentage of your dataset should be used for testing of the model's accuracy (this example uses 20%)\n",
    "* `validation_split` constructs an additional dataset for validation if desired\n",
    "* `seed` sets a specific training/test split for the database, enabling reproducable model training"
   ]
  },
  {
   "cell_type": "code",
   "execution_count": null,
   "id": "e75a86f0-4b8e-43de-9b89-9e2d50a8c41f",
   "metadata": {},
   "outputs": [],
   "source": [
    "dataset.split_dataset(test_split=0.2, seed=101)"
   ]
  },
  {
   "cell_type": "markdown",
   "id": "b9428662-3e81-4cac-8f34-7aed8c4d5767",
   "metadata": {},
   "source": [
    "If we look at the dataset summary again, we can see that the data sets have updated."
   ]
  },
  {
   "cell_type": "code",
   "execution_count": null,
   "id": "1b8e926f-cae6-4b96-9b30-a2cedd0bdb08",
   "metadata": {},
   "outputs": [],
   "source": [
    "dataset.describe()"
   ]
  },
  {
   "cell_type": "markdown",
   "id": "7170a855",
   "metadata": {},
   "source": [
    "Since molecular descriptor calculation is a time-comsuming process, you can save the current state of your dataset. Next time you want to use retention time library, just use this export when loading your dataset instead.  Note that we do not need to include a file extension since Retip will postpend the dataset type to the filename we provide."
   ]
  },
  {
   "cell_type": "code",
   "execution_count": null,
   "id": "f1c84751",
   "metadata": {},
   "outputs": [],
   "source": [
    "dataset.save_retip_dataset('Plasma_positive_retip_processed')"
   ]
  },
  {
   "cell_type": "markdown",
   "id": "d8478dd2-cc97-4f8d-9c77-bf868e954abb",
   "metadata": {},
   "source": [
    "These files can be loaded by running\n",
    "```\n",
    "dataset.load_retip_dataset('Plasma_positive_retip_processed_training.csv',\n",
    "                           'Plasma_positive_retip_processed_testing.csv',\n",
    "                           'Plasma_positive_retip_processed_validation.csv')\n",
    "```"
   ]
  },
  {
   "cell_type": "markdown",
   "id": "c9799203",
   "metadata": {},
   "source": [
    "### Training RT Prediction Model\n",
    "\n",
    "Here you can select your trainer to build your RT prediction model.  For this example we use XGBoost, but you can use `AutoGluonTrainer`.  To initialize your trainer, pass in your dataset with computed descriptors along with any of the optional parameters:\n",
    "\n",
    "* `cv` indicates the number of cross-validation splits (we recommend `cv=10` for a 10-fold cross validation)\n",
    "* `n_cpu` is the number of CPU cores to use for training (if not specified, it will use all available cores)\n",
    "\n",
    "Depending on your system, this can take ~20 minutes as the trainer performs a grid search over a large parameter space."
   ]
  },
  {
   "cell_type": "code",
   "execution_count": null,
   "id": "aecb0f8b",
   "metadata": {},
   "outputs": [],
   "source": [
    "trainer = retip.XGBoostTrainer(dataset, cv=5)\n",
    "trainer.train()"
   ]
  },
  {
   "cell_type": "markdown",
   "id": "9130dd0a",
   "metadata": {},
   "source": [
    "You can score this model using the internal testing data, or alternatively pass in a different `Dataset` object with precomputed descriptors.  The plot parameter is optional but allows you to visualize how well the model works."
   ]
  },
  {
   "cell_type": "code",
   "execution_count": null,
   "id": "bc3e336e",
   "metadata": {},
   "outputs": [],
   "source": [
    "trainer.score(plot=True)"
   ]
  },
  {
   "cell_type": "markdown",
   "id": "930f38b1",
   "metadata": {},
   "source": [
    "### External Validation\n",
    "\n",
    "You can also test the model using an external dataset that we loaded initially. Since we are providing a dataset to use, we must also specify the target column."
   ]
  },
  {
   "cell_type": "code",
   "execution_count": null,
   "id": "a275ad82",
   "metadata": {},
   "outputs": [],
   "source": [
    "trainer.score(dataset.get_validation_data(), target_column='RT', plot=True)"
   ]
  },
  {
   "cell_type": "markdown",
   "id": "b875cf66",
   "metadata": {},
   "source": [
    "The RMSE and other scores on the external validation set are significantly worse than on our training and test, suggesting that our trainining set isn't sufficiently representative of our chemical space."
   ]
  },
  {
   "cell_type": "markdown",
   "id": "ef5371aa",
   "metadata": {},
   "source": [
    "### RT Prediction\n",
    "\n",
    "You can now use the trained model to predict retention times for a new dataset.  "
   ]
  },
  {
   "cell_type": "code",
   "execution_count": null,
   "id": "f89ffd3d",
   "metadata": {
    "scrolled": true
   },
   "outputs": [],
   "source": [
    "y_pred = trainer.predict(dataset.get_validation_data())\n",
    "y_pred[:25]"
   ]
  },
  {
   "cell_type": "markdown",
   "id": "158945fd",
   "metadata": {},
   "source": [
    "This is great, but a list of numbers isn't very useful.  Instead, we can annotate our dataset:"
   ]
  },
  {
   "cell_type": "code",
   "execution_count": null,
   "id": "05c445b0",
   "metadata": {},
   "outputs": [],
   "source": [
    "annotated = trainer.annotate(dataset.get_validation_data(include_metadata=True), prediction_column='RTP')"
   ]
  },
  {
   "cell_type": "code",
   "execution_count": null,
   "id": "dea4ad58",
   "metadata": {},
   "outputs": [],
   "source": [
    "annotated.head()"
   ]
  },
  {
   "cell_type": "markdown",
   "id": "10d6a07a",
   "metadata": {},
   "source": [
    "Now our dataset has a new column `RTP` column with the predicted retention time! In case there are some molecules that could not be loaded or for which descriptors could not be calculated, you will see a empty/null value in the RTP column."
   ]
  },
  {
   "cell_type": "markdown",
   "id": "7a4d16b1",
   "metadata": {},
   "source": [
    "### Saving/Loading Models\n",
    "\n",
    "Once you produce a model you're happy with, you can save it to avoid needing to retrain in the future."
   ]
  },
  {
   "cell_type": "code",
   "execution_count": null,
   "id": "a23250fb",
   "metadata": {},
   "outputs": [],
   "source": [
    "trainer.save_model('Plasma_positve_xgboost-model.sav')"
   ]
  },
  {
   "cell_type": "markdown",
   "id": "24b2af48",
   "metadata": {},
   "source": [
    "This exported model can then be reloaded and used to score datasets and predict new retention times.  However, unless a dataset is first passed to the trainer, it cannot be retained. "
   ]
  },
  {
   "cell_type": "code",
   "execution_count": null,
   "id": "9c454b5c",
   "metadata": {},
   "outputs": [],
   "source": [
    "trainer = retip.XGBoostTrainer()\n",
    "trainer.load_model('Plasma_positve_xgboost-model.sav')"
   ]
  },
  {
   "cell_type": "code",
   "execution_count": null,
   "id": "fc41071c",
   "metadata": {},
   "outputs": [],
   "source": [
    "trainer.score(val_data)"
   ]
  }
 ],
 "metadata": {
  "kernelspec": {
   "display_name": "Python 3 (ipykernel)",
   "language": "python",
   "name": "python3"
  },
  "language_info": {
   "codemirror_mode": {
    "name": "ipython",
    "version": 3
   },
   "file_extension": ".py",
   "mimetype": "text/x-python",
   "name": "python",
   "nbconvert_exporter": "python",
   "pygments_lexer": "ipython3",
   "version": "3.10.12"
  }
 },
 "nbformat": 4,
 "nbformat_minor": 5
}
