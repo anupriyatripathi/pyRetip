{
 "cells": [
  {
   "cell_type": "markdown",
   "id": "68f8f6a2",
   "metadata": {},
   "source": [
    "![Retip](../../images/retip_logo.png)\n",
    "# Retip: Retention Time Prediction for Metabolomics and Lipidomics"
   ]
  },
  {
   "cell_type": "markdown",
   "id": "bec6ca41",
   "metadata": {},
   "source": [
    "Retip is a python tool for predicting retention times (RTs) of small molecules for high pressure liquid chromatography (HPLC) mass spectrometry. Retention time calculation can be useful in identifying unknowns and removing false positive annotations. The machine learning algorithms included in the tool are: **XGBoost**, **AutoGluon**, **AutoML** from **H2O** and **Random Forest**. This tutorial explains how to train a model with **XGBoost**."
   ]
  },
  {
   "cell_type": "markdown",
   "id": "0eca5949",
   "metadata": {},
   "source": [
    "## Training a Model with XGBoost"
   ]
  },
  {
   "cell_type": "markdown",
   "id": "be76b617",
   "metadata": {},
   "source": [
    "[XGBoost](https://xgboost.readthedocs.io/en/stable/) is an optimized distributed gradient boosting library designed to be highly efficient, flexible and portable. It implements machine learning algorithms under the Gradient Boosting framework. XGBoost provides a parallel tree boosting (also known as GBDT, GBM) that solve many data science problems in a fast and accurate way."
   ]
  },
  {
   "cell_type": "markdown",
   "id": "284120ed",
   "metadata": {},
   "source": [
    "### Loading Data"
   ]
  },
  {
   "cell_type": "markdown",
   "id": "d69a03cf",
   "metadata": {},
   "source": [
    "Begin by importing the `retip` library, which provides access to the training, prediction and visualization functions."
   ]
  },
  {
   "cell_type": "code",
   "execution_count": 29,
   "id": "90eabd64",
   "metadata": {},
   "outputs": [],
   "source": [
    "%reload_ext autoreload\n",
    "%autoreload 2\n",
    "try:\n",
    "    import retip\n",
    "except:\n",
    "    # add the parent directory to the path to load the Retip library locally in case it isn't installed\n",
    "    import os, sys\n",
    "    directory = os.getcwd().split(\"pyRetip\")[0] + 'pyRetip'\n",
    "    sys.path.insert(1, directory)\n",
    "    \n",
    "    import retip"
   ]
  },
  {
   "cell_type": "markdown",
   "id": "8ff54e76",
   "metadata": {},
   "source": [
    "The input data should be a compound retention time table in CSV or MS Excel format, containing the compound name, retention time and chemical identifier. Retip currently supports SMILES and PubChem CID as chemical identifiers.\n",
    "\n",
    "Retip will use this input file to build the model and predict retention times for other biochemical databases or an input query list of compounds. It is suggested that the file has at least 300 compounds to build a good retention time prediction model.\n",
    "\n",
    "Use the `retip.Dataset` class to load the data and create a new dataset."
   ]
  },
  {
   "cell_type": "code",
   "execution_count": 30,
   "id": "687e5b39",
   "metadata": {},
   "outputs": [],
   "source": [
    "dataset = retip.Dataset(target_column='RT').load_retip_dataset(\n",
    "    training='Plasma_positive.xlsx', training_sheet_name='lib_2',\n",
    "    validation='Plasma_positive.xlsx', validation_sheet_name='ext')"
   ]
  },
  {
   "cell_type": "code",
   "execution_count": 31,
   "id": "e420bef7",
   "metadata": {},
   "outputs": [
    {
     "name": "stdout",
     "output_type": "stream",
     "text": [
      "Training\n",
      "             Name                     InChIKey  \\\n",
      "0       Withanone  FAZIYUIDUNHZRG-UHFFFAOYNA-N   \n",
      "1  Corosolic acid  HFGSQOYIOKBQOW-UHFFFAOYNA-N   \n",
      "\n",
      "                                              SMILES    RT  \n",
      "0  CC(C1CC(C)=C(C)C(=O)O1)C1(O)CCC2C3C4OC4C4(O)CC...  6.82  \n",
      "1  CC1CCC2(CCC3(C)C(=CCC4C5(C)CC(O)C(O)C(C)(C)C5C...  9.89  \n",
      "\n",
      "Validation\n",
      "                                     Name                     InChIKey  \\\n",
      "0       Soyasapogenol E base + O-Hex-HexA  YDNHBSRZSMNZPB-NJAHCQCINA-N   \n",
      "1  Soyasapogenol E base + O-HexA-Hex-dHex  CROUPKILZUPLQA-UHFFFAOYNA-N   \n",
      "\n",
      "                                              SMILES    RT  \n",
      "0  O=C(O)C7OC(OC2CCC3(C)(C4CC=C1C5CC(C)(C)CC(=O)C...  7.84  \n",
      "1  O=C(O)C8OC(OC2CCC3(C)(C4CC=C1C5CC(C)(C)CC(=O)C...  7.62  \n",
      "\n"
     ]
    }
   ],
   "source": [
    "dataset.head(2)"
   ]
  },
  {
   "cell_type": "markdown",
   "id": "25dd188c-213a-484f-8bda-a11240366a96",
   "metadata": {},
   "source": [
    "Next, the precalculated molecular descriptors can be computed with the [Mordred Molecular Descriptor Calculator](https://github.com/mordred-descriptor/mordred) by calling the `calculate_descriptors` function. Note that molecules that cannot be parsed will be retained the dataset, but cannot be used for model training or validation."
   ]
  },
  {
   "cell_type": "code",
   "execution_count": 32,
   "id": "b45f41d2",
   "metadata": {},
   "outputs": [
    {
     "name": "stdout",
     "output_type": "stream",
     "text": [
      "Calculating descriptors for training dataset\n"
     ]
    },
    {
     "name": "stderr",
     "output_type": "stream",
     "text": [
      "100%|██████████| 494/494 [02:37<00:00,  3.14it/s]\n",
      "/home/neuspouamengual/Documentos/oloBion/pyRetip/retip/dataset.py:198: FutureWarning: Downcasting behavior in `replace` is deprecated and will be removed in a future version. To retain the old behavior, explicitly call `result.infer_objects(copy=False)`. To opt-in to the future behavior, set `pd.set_option('future.no_silent_downcasting', True)`\n",
      "  descs = descs.replace({False: 0, True: 1})\n"
     ]
    },
    {
     "name": "stdout",
     "output_type": "stream",
     "text": [
      "Calculating descriptors for validation dataset\n"
     ]
    },
    {
     "name": "stderr",
     "output_type": "stream",
     "text": [
      "100%|██████████| 358/358 [02:11<00:00,  2.72it/s]\n",
      "/home/neuspouamengual/Documentos/oloBion/pyRetip/retip/dataset.py:198: FutureWarning: Downcasting behavior in `replace` is deprecated and will be removed in a future version. To retain the old behavior, explicitly call `result.infer_objects(copy=False)`. To opt-in to the future behavior, set `pd.set_option('future.no_silent_downcasting', True)`\n",
      "  descs = descs.replace({False: 0, True: 1})\n"
     ]
    }
   ],
   "source": [
    "dataset.calculate_descriptors()"
   ]
  },
  {
   "cell_type": "markdown",
   "id": "500b1065-3e90-42a2-95e7-98ff9b363889",
   "metadata": {},
   "source": [
    "The `describe` function shows the shape of the datasets, indicating the number of rows and columns in each dataframe."
   ]
  },
  {
   "cell_type": "code",
   "execution_count": 33,
   "id": "0a12678e-ed48-47e5-a64c-0738e965cb0a",
   "metadata": {},
   "outputs": [
    {
     "name": "stdout",
     "output_type": "stream",
     "text": [
      "Training (494, 1617)\n",
      "Validation (358, 1617)\n"
     ]
    }
   ],
   "source": [
    "dataset.describe()"
   ]
  },
  {
   "cell_type": "markdown",
   "id": "66528ecc",
   "metadata": {},
   "source": [
    "The `preprocess_features` function performs feature reduction by removing features with missing values and to restrict feature sets to descriptors which calculate non-null values for large sets of molecules. It is important to perform this step before training."
   ]
  },
  {
   "cell_type": "code",
   "execution_count": 34,
   "id": "7cfe980c",
   "metadata": {},
   "outputs": [
    {
     "name": "stdout",
     "output_type": "stream",
     "text": [
      "Reduced feature set from 1613 to 817\n"
     ]
    }
   ],
   "source": [
    "dataset.preprocess_features('metabolomics')"
   ]
  },
  {
   "cell_type": "markdown",
   "id": "03be66fb",
   "metadata": {},
   "source": [
    "Finally, it is possible to split the data into training and testing sets if it has not been loaded in separate files before. The `split_dataset` function makes that possible.\n",
    "\n",
    "- The `test_size` parameter defines what percentage of the dataset should be used for testing of the model's accuracy (this example uses 20%).\n",
    "- The `seed` parameter sets a specific training/test split for the database, enabling reproducable model training.\n",
    "- The `validation_split` parameter constructs an additional dataset for validation if desired."
   ]
  },
  {
   "cell_type": "code",
   "execution_count": 35,
   "id": "e75a86f0-4b8e-43de-9b89-9e2d50a8c41f",
   "metadata": {},
   "outputs": [],
   "source": [
    "dataset.split_dataset(test_split=0.2, seed=101)"
   ]
  },
  {
   "cell_type": "code",
   "execution_count": 36,
   "id": "1b8e926f-cae6-4b96-9b30-a2cedd0bdb08",
   "metadata": {},
   "outputs": [
    {
     "name": "stdout",
     "output_type": "stream",
     "text": [
      "Training (395, 821)\n",
      "Validation (358, 821)\n",
      "Testing (99, 821)\n"
     ]
    }
   ],
   "source": [
    "dataset.describe()"
   ]
  },
  {
   "cell_type": "markdown",
   "id": "2d562e06",
   "metadata": {},
   "source": [
    "#### Save the new dataset"
   ]
  },
  {
   "cell_type": "markdown",
   "id": "7170a855",
   "metadata": {},
   "source": [
    "Given that molecular descriptor calculation is a time-comsuming process, it is possible to save the current state of the dataset. Next time this retention time library is needed, simply use this export when loading this dataset instead. Note that there is no need to include a file extension, as Retip will automatically append the dataset type to the filename provided."
   ]
  },
  {
   "cell_type": "code",
   "execution_count": 37,
   "id": "f1c84751",
   "metadata": {},
   "outputs": [
    {
     "name": "stdout",
     "output_type": "stream",
     "text": [
      "Saved training dataset to Plasma_positive_retip_processed_training.csv\n",
      "Saved validation dataset to Plasma_positive_retip_processed_validation.csv\n",
      "Saved testing dataset to Plasma_positive_retip_processed_testing.csv\n"
     ]
    }
   ],
   "source": [
    "dataset.save_retip_dataset('Plasma_positive_retip_processed')"
   ]
  },
  {
   "cell_type": "markdown",
   "id": "d8478dd2-cc97-4f8d-9c77-bf868e954abb",
   "metadata": {},
   "source": [
    "This dataset can be loaded by running the `load_retip_dataset` function."
   ]
  },
  {
   "cell_type": "code",
   "execution_count": 38,
   "id": "dc270785",
   "metadata": {},
   "outputs": [],
   "source": [
    "# dataset = retip.Dataset(target_column='RT').load_retip_dataset(\n",
    "#     'Plasma_positive_retip_processed_training.csv',\n",
    "#     'Plasma_positive_retip_processed_testing.csv',\n",
    "#     'Plasma_positive_retip_processed_validation.csv')"
   ]
  },
  {
   "cell_type": "markdown",
   "id": "c9799203",
   "metadata": {},
   "source": [
    "### Training RT Prediction Model"
   ]
  },
  {
   "cell_type": "markdown",
   "id": "db8f5aee",
   "metadata": {},
   "source": [
    "Here, the RT prediction model will be trained. First, initialize the `XGBoostTrainer` with the dataset with computed descriptors. Set the different parameters:\n",
    "\n",
    "- The `cv` parameter indicates the number of cross-validation splits. This value defaults to `10` for a 10-fold cross validation.\n",
    "- The `n_cpu` parameter is the number of CPU cores to use for training (if not specified, it will use all available cores). This value defaults to `None`.\n",
    "\n",
    "Depending on your system, this can take ~20 minutes as the trainer performs a grid search over a large parameter space."
   ]
  },
  {
   "cell_type": "code",
   "execution_count": 39,
   "id": "aecb0f8b",
   "metadata": {},
   "outputs": [
    {
     "name": "stdout",
     "output_type": "stream",
     "text": [
      "Fitting 5 folds for each of 56 candidates, totalling 280 fits\n",
      "Training completed in 0:39:24.861271 with best RMSE 0.807\n"
     ]
    }
   ],
   "source": [
    "trainer = retip.XGBoostTrainer(dataset, cv=5)\n",
    "trainer.train()"
   ]
  },
  {
   "cell_type": "markdown",
   "id": "2baa5db4",
   "metadata": {},
   "source": [
    "### Testing the RT Prediction Model"
   ]
  },
  {
   "cell_type": "markdown",
   "id": "9130dd0a",
   "metadata": {},
   "source": [
    "The model can be scored using the internal testing data of the `Dataset` object, or alternatively pass a dataframe with precomputed descriptors. In that case, the `target_column` needs to be specified, and the `Name` column has to be included to display that information in the plot (optional). Set the `plot` parameter to `True` to visualize how well the model works. Moreover, it is possible to save the plot indicating the `plot_filename`."
   ]
  },
  {
   "cell_type": "markdown",
   "id": "4c7707ea",
   "metadata": {},
   "source": [
    "#### Internal testing data"
   ]
  },
  {
   "cell_type": "code",
   "execution_count": 40,
   "id": "bc3e336e",
   "metadata": {},
   "outputs": [
    {
     "data": {
      "text/html": [
       "    <style>\n",
       "        .bk-notebook-logo {\n",
       "            display: block;\n",
       "            width: 20px;\n",
       "            height: 20px;\n",
       "            background-image: url(data:image/png;base64,iVBORw0KGgoAAAANSUhEUgAAABQAAAAUCAYAAACNiR0NAAAABHNCSVQICAgIfAhkiAAAAAlwSFlzAAALEgAACxIB0t1+/AAAABx0RVh0U29mdHdhcmUAQWRvYmUgRmlyZXdvcmtzIENTNui8sowAAAOkSURBVDiNjZRtaJVlGMd/1/08zzln5zjP1LWcU9N0NkN8m2CYjpgQYQXqSs0I84OLIC0hkEKoPtiH3gmKoiJDU7QpLgoLjLIQCpEsNJ1vqUOdO7ppbuec5+V+rj4ctwzd8IIbbi6u+8f1539dt3A78eXC7QizUF7gyV1fD1Yqg4JWz84yffhm0qkFqBogB9rM8tZdtwVsPUhWhGcFJngGeWrPzHm5oaMmkfEg1usvLFyc8jLRqDOMru7AyC8saQr7GG7f5fvDeH7Ej8CM66nIF+8yngt6HWaKh7k49Soy9nXurCi1o3qUbS3zWfrYeQDTB/Qj6kX6Ybhw4B+bOYoLKCC9H3Nu/leUTZ1JdRWkkn2ldcCamzrcf47KKXdAJllSlxAOkRgyHsGC/zRday5Qld9DyoM4/q/rUoy/CXh3jzOu3bHUVZeU+DEn8FInkPBFlu3+nW3Nw0mk6vCDiWg8CeJaxEwuHS3+z5RgY+YBR6V1Z1nxSOfoaPa4LASWxxdNp+VWTk7+4vzaou8v8PN+xo+KY2xsw6une2frhw05CTYOmQvsEhjhWjn0bmXPjpE1+kplmmkP3suftwTubK9Vq22qKmrBhpY4jvd5afdRA3wGjFAgcnTK2s4hY0/GPNIb0nErGMCRxWOOX64Z8RAC4oCXdklmEvcL8o0BfkNK4lUg9HTl+oPlQxdNo3Mg4Nv175e/1LDGzZen30MEjRUtmXSfiTVu1kK8W4txyV6BMKlbgk3lMwYCiusNy9fVfvvwMxv8Ynl6vxoByANLTWplvuj/nF9m2+PDtt1eiHPBr1oIfhCChQMBw6Aw0UulqTKZdfVvfG7VcfIqLG9bcldL/+pdWTLxLUy8Qq38heUIjh4XlzZxzQm19lLFlr8vdQ97rjZVOLf8nclzckbcD4wxXMidpX30sFd37Fv/GtwwhzhxGVAprjbg0gCAEeIgwCZyTV2Z1REEW8O4py0wsjeloKoMr6iCY6dP92H6Vw/oTyICIthibxjm/DfN9lVz8IqtqKYLUXfoKVMVQVVJOElGjrnnUt9T9wbgp8AyYKaGlqingHZU/uG2NTZSVqwHQTWkx9hxjkpWDaCg6Ckj5qebgBVbT3V3NNXMSiWSDdGV3hrtzla7J+duwPOToIg42ChPQOQjspnSlp1V+Gjdged7+8UN5CRAV7a5EdFNwCjEaBR27b3W890TE7g24NAP/mMDXRWrGoFPQI9ls/MWO2dWFAar/xcOIImbbpA3zgAAAABJRU5ErkJggg==);\n",
       "        }\n",
       "    </style>\n",
       "    <div>\n",
       "        <a href=\"https://bokeh.org\" target=\"_blank\" class=\"bk-notebook-logo\"></a>\n",
       "        <span id=\"f170a25f-4008-4c80-a9f1-f074467d5202\">Loading BokehJS ...</span>\n",
       "    </div>\n"
      ]
     },
     "metadata": {},
     "output_type": "display_data"
    },
    {
     "data": {
      "application/javascript": "'use strict';\n(function(root) {\n  function now() {\n    return new Date();\n  }\n\n  const force = true;\n\n  if (typeof root._bokeh_onload_callbacks === \"undefined\" || force === true) {\n    root._bokeh_onload_callbacks = [];\n    root._bokeh_is_loading = undefined;\n  }\n\nconst JS_MIME_TYPE = 'application/javascript';\n  const HTML_MIME_TYPE = 'text/html';\n  const EXEC_MIME_TYPE = 'application/vnd.bokehjs_exec.v0+json';\n  const CLASS_NAME = 'output_bokeh rendered_html';\n\n  /**\n   * Render data to the DOM node\n   */\n  function render(props, node) {\n    const script = document.createElement(\"script\");\n    node.appendChild(script);\n  }\n\n  /**\n   * Handle when an output is cleared or removed\n   */\n  function handleClearOutput(event, handle) {\n    function drop(id) {\n      const view = Bokeh.index.get_by_id(id)\n      if (view != null) {\n        view.model.document.clear()\n        Bokeh.index.delete(view)\n      }\n    }\n\n    const cell = handle.cell;\n\n    const id = cell.output_area._bokeh_element_id;\n    const server_id = cell.output_area._bokeh_server_id;\n\n    // Clean up Bokeh references\n    if (id != null) {\n      drop(id)\n    }\n\n    if (server_id !== undefined) {\n      // Clean up Bokeh references\n      const cmd_clean = \"from bokeh.io.state import curstate; print(curstate().uuid_to_server['\" + server_id + \"'].get_sessions()[0].document.roots[0]._id)\";\n      cell.notebook.kernel.execute(cmd_clean, {\n        iopub: {\n          output: function(msg) {\n            const id = msg.content.text.trim()\n            drop(id)\n          }\n        }\n      });\n      // Destroy server and session\n      const cmd_destroy = \"import bokeh.io.notebook as ion; ion.destroy_server('\" + server_id + \"')\";\n      cell.notebook.kernel.execute(cmd_destroy);\n    }\n  }\n\n  /**\n   * Handle when a new output is added\n   */\n  function handleAddOutput(event, handle) {\n    const output_area = handle.output_area;\n    const output = handle.output;\n\n    // limit handleAddOutput to display_data with EXEC_MIME_TYPE content only\n    if ((output.output_type != \"display_data\") || (!Object.prototype.hasOwnProperty.call(output.data, EXEC_MIME_TYPE))) {\n      return\n    }\n\n    const toinsert = output_area.element.find(\".\" + CLASS_NAME.split(' ')[0]);\n\n    if (output.metadata[EXEC_MIME_TYPE][\"id\"] !== undefined) {\n      toinsert[toinsert.length - 1].firstChild.textContent = output.data[JS_MIME_TYPE];\n      // store reference to embed id on output_area\n      output_area._bokeh_element_id = output.metadata[EXEC_MIME_TYPE][\"id\"];\n    }\n    if (output.metadata[EXEC_MIME_TYPE][\"server_id\"] !== undefined) {\n      const bk_div = document.createElement(\"div\");\n      bk_div.innerHTML = output.data[HTML_MIME_TYPE];\n      const script_attrs = bk_div.children[0].attributes;\n      for (let i = 0; i < script_attrs.length; i++) {\n        toinsert[toinsert.length - 1].firstChild.setAttribute(script_attrs[i].name, script_attrs[i].value);\n        toinsert[toinsert.length - 1].firstChild.textContent = bk_div.children[0].textContent\n      }\n      // store reference to server id on output_area\n      output_area._bokeh_server_id = output.metadata[EXEC_MIME_TYPE][\"server_id\"];\n    }\n  }\n\n  function register_renderer(events, OutputArea) {\n\n    function append_mime(data, metadata, element) {\n      // create a DOM node to render to\n      const toinsert = this.create_output_subarea(\n        metadata,\n        CLASS_NAME,\n        EXEC_MIME_TYPE\n      );\n      this.keyboard_manager.register_events(toinsert);\n      // Render to node\n      const props = {data: data, metadata: metadata[EXEC_MIME_TYPE]};\n      render(props, toinsert[toinsert.length - 1]);\n      element.append(toinsert);\n      return toinsert\n    }\n\n    /* Handle when an output is cleared or removed */\n    events.on('clear_output.CodeCell', handleClearOutput);\n    events.on('delete.Cell', handleClearOutput);\n\n    /* Handle when a new output is added */\n    events.on('output_added.OutputArea', handleAddOutput);\n\n    /**\n     * Register the mime type and append_mime function with output_area\n     */\n    OutputArea.prototype.register_mime_type(EXEC_MIME_TYPE, append_mime, {\n      /* Is output safe? */\n      safe: true,\n      /* Index of renderer in `output_area.display_order` */\n      index: 0\n    });\n  }\n\n  // register the mime type if in Jupyter Notebook environment and previously unregistered\n  if (root.Jupyter !== undefined) {\n    const events = require('base/js/events');\n    const OutputArea = require('notebook/js/outputarea').OutputArea;\n\n    if (OutputArea.prototype.mime_types().indexOf(EXEC_MIME_TYPE) == -1) {\n      register_renderer(events, OutputArea);\n    }\n  }\n  if (typeof (root._bokeh_timeout) === \"undefined\" || force === true) {\n    root._bokeh_timeout = Date.now() + 5000;\n    root._bokeh_failed_load = false;\n  }\n\n  const NB_LOAD_WARNING = {'data': {'text/html':\n     \"<div style='background-color: #fdd'>\\n\"+\n     \"<p>\\n\"+\n     \"BokehJS does not appear to have successfully loaded. If loading BokehJS from CDN, this \\n\"+\n     \"may be due to a slow or bad network connection. Possible fixes:\\n\"+\n     \"</p>\\n\"+\n     \"<ul>\\n\"+\n     \"<li>re-rerun `output_notebook()` to attempt to load from CDN again, or</li>\\n\"+\n     \"<li>use INLINE resources instead, as so:</li>\\n\"+\n     \"</ul>\\n\"+\n     \"<code>\\n\"+\n     \"from bokeh.resources import INLINE\\n\"+\n     \"output_notebook(resources=INLINE)\\n\"+\n     \"</code>\\n\"+\n     \"</div>\"}};\n\n  function display_loaded(error = null) {\n    const el = document.getElementById(\"f170a25f-4008-4c80-a9f1-f074467d5202\");\n    if (el != null) {\n      const html = (() => {\n        if (typeof root.Bokeh === \"undefined\") {\n          if (error == null) {\n            return \"BokehJS is loading ...\";\n          } else {\n            return \"BokehJS failed to load.\";\n          }\n        } else {\n          const prefix = `BokehJS ${root.Bokeh.version}`;\n          if (error == null) {\n            return `${prefix} successfully loaded.`;\n          } else {\n            return `${prefix} <b>encountered errors</b> while loading and may not function as expected.`;\n          }\n        }\n      })();\n      el.innerHTML = html;\n\n      if (error != null) {\n        const wrapper = document.createElement(\"div\");\n        wrapper.style.overflow = \"auto\";\n        wrapper.style.height = \"5em\";\n        wrapper.style.resize = \"vertical\";\n        const content = document.createElement(\"div\");\n        content.style.fontFamily = \"monospace\";\n        content.style.whiteSpace = \"pre-wrap\";\n        content.style.backgroundColor = \"rgb(255, 221, 221)\";\n        content.textContent = error.stack ?? error.toString();\n        wrapper.append(content);\n        el.append(wrapper);\n      }\n    } else if (Date.now() < root._bokeh_timeout) {\n      setTimeout(() => display_loaded(error), 100);\n    }\n  }\n\n  function run_callbacks() {\n    try {\n      root._bokeh_onload_callbacks.forEach(function(callback) {\n        if (callback != null)\n          callback();\n      });\n    } finally {\n      delete root._bokeh_onload_callbacks\n    }\n    console.debug(\"Bokeh: all callbacks have finished\");\n  }\n\n  function load_libs(css_urls, js_urls, callback) {\n    if (css_urls == null) css_urls = [];\n    if (js_urls == null) js_urls = [];\n\n    root._bokeh_onload_callbacks.push(callback);\n    if (root._bokeh_is_loading > 0) {\n      console.debug(\"Bokeh: BokehJS is being loaded, scheduling callback at\", now());\n      return null;\n    }\n    if (js_urls == null || js_urls.length === 0) {\n      run_callbacks();\n      return null;\n    }\n    console.debug(\"Bokeh: BokehJS not loaded, scheduling load and callback at\", now());\n    root._bokeh_is_loading = css_urls.length + js_urls.length;\n\n    function on_load() {\n      root._bokeh_is_loading--;\n      if (root._bokeh_is_loading === 0) {\n        console.debug(\"Bokeh: all BokehJS libraries/stylesheets loaded\");\n        run_callbacks()\n      }\n    }\n\n    function on_error(url) {\n      console.error(\"failed to load \" + url);\n    }\n\n    for (let i = 0; i < css_urls.length; i++) {\n      const url = css_urls[i];\n      const element = document.createElement(\"link\");\n      element.onload = on_load;\n      element.onerror = on_error.bind(null, url);\n      element.rel = \"stylesheet\";\n      element.type = \"text/css\";\n      element.href = url;\n      console.debug(\"Bokeh: injecting link tag for BokehJS stylesheet: \", url);\n      document.body.appendChild(element);\n    }\n\n    for (let i = 0; i < js_urls.length; i++) {\n      const url = js_urls[i];\n      const element = document.createElement('script');\n      element.onload = on_load;\n      element.onerror = on_error.bind(null, url);\n      element.async = false;\n      element.src = url;\n      console.debug(\"Bokeh: injecting script tag for BokehJS library: \", url);\n      document.head.appendChild(element);\n    }\n  };\n\n  function inject_raw_css(css) {\n    const element = document.createElement(\"style\");\n    element.appendChild(document.createTextNode(css));\n    document.body.appendChild(element);\n  }\n\n  const js_urls = [\"https://cdn.bokeh.org/bokeh/release/bokeh-3.4.1.min.js\", \"https://cdn.bokeh.org/bokeh/release/bokeh-gl-3.4.1.min.js\", \"https://cdn.bokeh.org/bokeh/release/bokeh-widgets-3.4.1.min.js\", \"https://cdn.bokeh.org/bokeh/release/bokeh-tables-3.4.1.min.js\", \"https://cdn.bokeh.org/bokeh/release/bokeh-mathjax-3.4.1.min.js\"];\n  const css_urls = [];\n\n  const inline_js = [    function(Bokeh) {\n      Bokeh.set_log_level(\"info\");\n    },\nfunction(Bokeh) {\n    }\n  ];\n\n  function run_inline_js() {\n    if (root.Bokeh !== undefined || force === true) {\n      try {\n            for (let i = 0; i < inline_js.length; i++) {\n      inline_js[i].call(root, root.Bokeh);\n    }\n\n      } catch (error) {display_loaded(error);throw error;\n      }if (force === true) {\n        display_loaded();\n      }} else if (Date.now() < root._bokeh_timeout) {\n      setTimeout(run_inline_js, 100);\n    } else if (!root._bokeh_failed_load) {\n      console.log(\"Bokeh: BokehJS failed to load within specified timeout.\");\n      root._bokeh_failed_load = true;\n    } else if (force !== true) {\n      const cell = $(document.getElementById(\"f170a25f-4008-4c80-a9f1-f074467d5202\")).parents('.cell').data().cell;\n      cell.output_area.append_execute_result(NB_LOAD_WARNING)\n    }\n  }\n\n  if (root._bokeh_is_loading === 0) {\n    console.debug(\"Bokeh: BokehJS loaded, going straight to plotting\");\n    run_inline_js();\n  } else {\n    load_libs(css_urls, js_urls, function() {\n      console.debug(\"Bokeh: BokehJS plotting callback run at\", now());\n      run_inline_js();\n    });\n  }\n}(window));",
      "application/vnd.bokehjs_load.v0+json": ""
     },
     "metadata": {},
     "output_type": "display_data"
    },
    {
     "data": {
      "text/html": [
       "\n",
       "  <div id=\"f19a00a2-6a88-4f35-8b2b-5bc75f0d560b\" data-root-id=\"p1223\" style=\"display: contents;\"></div>\n"
      ]
     },
     "metadata": {},
     "output_type": "display_data"
    },
    {
     "data": {
      "application/javascript": "(function(root) {\n  function embed_document(root) {\n  const docs_json = {\"1362910d-dc94-46cb-b525-ef823b4377f8\":{\"version\":\"3.4.1\",\"title\":\"Bokeh Application\",\"roots\":[{\"type\":\"object\",\"name\":\"Figure\",\"id\":\"p1223\",\"attributes\":{\"x_range\":{\"type\":\"object\",\"name\":\"DataRange1d\",\"id\":\"p1224\"},\"y_range\":{\"type\":\"object\",\"name\":\"DataRange1d\",\"id\":\"p1225\"},\"x_scale\":{\"type\":\"object\",\"name\":\"LinearScale\",\"id\":\"p1232\"},\"y_scale\":{\"type\":\"object\",\"name\":\"LinearScale\",\"id\":\"p1233\"},\"title\":{\"type\":\"object\",\"name\":\"Title\",\"id\":\"p1230\"},\"renderers\":[{\"type\":\"object\",\"name\":\"GlyphRenderer\",\"id\":\"p1261\",\"attributes\":{\"data_source\":{\"type\":\"object\",\"name\":\"ColumnDataSource\",\"id\":\"p1255\",\"attributes\":{\"selected\":{\"type\":\"object\",\"name\":\"Selection\",\"id\":\"p1256\",\"attributes\":{\"indices\":[],\"line_indices\":[]}},\"selection_policy\":{\"type\":\"object\",\"name\":\"UnionRenderers\",\"id\":\"p1257\"},\"data\":{\"type\":\"map\",\"entries\":[[\"x\",{\"type\":\"ndarray\",\"array\":{\"type\":\"bytes\",\"data\":\"CtejcD0KFEApXI/C9SgXQIXrUbgehQdACtejcD0KEEDsUbgehesJQM3MzMzMzApAKVyPwvUoJECPwvUoXI8IQOxRuB6F6/0/SOF6FK5HC0B7FK5H4XoMQArXo3A9CglAH4XrUbgeB0CamZmZmZkQQJqZmZmZmQ1AXI/C9ShcHkDhehSuR+EKQAAAAAAAgCBAUrgehetRIECuR+F6FK4RQGZmZmZmZgpAzczMzMzMHUDhehSuR+ECQIXrUbgehQtA9ihcj8L1CEAK16NwPQoiQIXrUbgehRVAZmZmZmZmBEAfhetRuB4QQM3MzMzMzPw/ZmZmZmZmIEDhehSuR+EMQHE9CtejcB1ApHA9Ctej/D9cj8L1KFwRQGZmZmZmZgRAmpmZmZmZFEBmZmZmZmYOQB+F61G4Hg9AmpmZmZmZGUBxPQrXo3ARQKRwPQrXowJAMzMzMzMzCUC4HoXrUbgGQMP1KFyPwhpAmpmZmZmZBUDD9Shcj8ILQArXo3A9iiNA9ihcj8L1EEDNzMzMzEwhQD0K16NwPQRAcT0K16NwCUBcj8L1KFwcQEjhehSuRwNA16NwPQrXE0DhehSuR+ERQMP1KFyPwhhAuB6F61G4AkBSuB6F61EKQHE9CtejcA1ACtejcD0KEUAK16NwPQoSQJqZmZmZmQlAAAAAAACAIUC4HoXrUbgTQM3MzMzMzB1A4XoUrkfhHUAUrkfhehQOQHE9CtejcBlAH4XrUbgeDUAAAAAAAAAUQNejcD0K1xBAKVyPwvUoEEDD9Shcj0IjQPYoXI/C9RFAZmZmZmZmEkDXo3A9CtcTQHE9CtejcAdAw/UoXI/CC0CamZmZmZkNQEjhehSuRwlAKVyPwvUoGEAK16NwPQoLQM3MzMzMzBRAXI/C9ShcC0BI4XoUrkf9P3E9CtejcBVAUrgehetR/D+uR+F6FK4JQB+F61G4HhRArkfhehSuFUCkcD0K16MAQEjhehSuRx9AmpmZmZmZE0AK16NwPQoVQHE9CtejcBZAXI/C9SjcIUBSuB6F61EMQArXo3A9CgNA\"},\"shape\":[99],\"dtype\":\"float64\",\"order\":\"little\"}],[\"y\",{\"type\":\"ndarray\",\"array\":{\"type\":\"bytes\",\"data\":\"HBumQHVCxUCrIUdA7yWTQMQ8eUCXRXJAEeAYQXc3WUDluwhAQEyIQCp+00AI9EVAos5NQJCWhkB683BAreHMQMrzWEBvQslA2O2+QPGEikAsmWRAT+vgQNS0IUBIgkdAvrRVQMSeAEFWI8FA7QgvQBOchEBHxQJA2hbbQKSqj0DQaNdA2YkfQFp0kUA3KDVAp5vOQL2JXkDI+ntAF9DFQHm8ikBnDyBAMyZ/QGHaHUAzM95AbN0ZQJmhe0BvdBBBe5KLQIelE0HIxShAcYSBQD5j0UCyahNAsqKrQHhVikBL6b5AD6ISQF+BR0C3R2dAoxuiQOFPlkBab0FARmPdQCuLrEBb4tFAnpLWQGYXfUBHLb1AzVxoQN69vEDE9pFAr7aDQLM28UAgdpBA+M9MQKa4u0CN3W9A7xirQH3Sg0Cmt15ANem6QBGug0DOe5NAI8ZIQLjFBECLpZZA6D0DQNSRiEC7fbxAQXudQAVJA0ChtLFAT5CgQIeEn0DKga5ApAveQAWeTkAD7ARA\"},\"shape\":[99],\"dtype\":\"float32\",\"order\":\"little\"}]]}}},\"view\":{\"type\":\"object\",\"name\":\"CDSView\",\"id\":\"p1262\",\"attributes\":{\"filter\":{\"type\":\"object\",\"name\":\"AllIndices\",\"id\":\"p1263\"}}},\"glyph\":{\"type\":\"object\",\"name\":\"Scatter\",\"id\":\"p1258\",\"attributes\":{\"x\":{\"type\":\"field\",\"field\":\"x\"},\"y\":{\"type\":\"field\",\"field\":\"y\"},\"size\":{\"type\":\"value\",\"value\":3},\"line_color\":{\"type\":\"value\",\"value\":\"#1f77b4\"},\"fill_color\":{\"type\":\"value\",\"value\":\"#1f77b4\"}}},\"nonselection_glyph\":{\"type\":\"object\",\"name\":\"Scatter\",\"id\":\"p1259\",\"attributes\":{\"x\":{\"type\":\"field\",\"field\":\"x\"},\"y\":{\"type\":\"field\",\"field\":\"y\"},\"size\":{\"type\":\"value\",\"value\":3},\"line_color\":{\"type\":\"value\",\"value\":\"#1f77b4\"},\"line_alpha\":{\"type\":\"value\",\"value\":0.1},\"fill_color\":{\"type\":\"value\",\"value\":\"#1f77b4\"},\"fill_alpha\":{\"type\":\"value\",\"value\":0.1},\"hatch_alpha\":{\"type\":\"value\",\"value\":0.1}}},\"muted_glyph\":{\"type\":\"object\",\"name\":\"Scatter\",\"id\":\"p1260\",\"attributes\":{\"x\":{\"type\":\"field\",\"field\":\"x\"},\"y\":{\"type\":\"field\",\"field\":\"y\"},\"size\":{\"type\":\"value\",\"value\":3},\"line_color\":{\"type\":\"value\",\"value\":\"#1f77b4\"},\"line_alpha\":{\"type\":\"value\",\"value\":0.2},\"fill_color\":{\"type\":\"value\",\"value\":\"#1f77b4\"},\"fill_alpha\":{\"type\":\"value\",\"value\":0.2},\"hatch_alpha\":{\"type\":\"value\",\"value\":0.2}}}}}],\"toolbar\":{\"type\":\"object\",\"name\":\"Toolbar\",\"id\":\"p1231\",\"attributes\":{\"tools\":[{\"type\":\"object\",\"name\":\"PanTool\",\"id\":\"p1244\"},{\"type\":\"object\",\"name\":\"WheelZoomTool\",\"id\":\"p1245\",\"attributes\":{\"renderers\":\"auto\"}},{\"type\":\"object\",\"name\":\"BoxZoomTool\",\"id\":\"p1246\",\"attributes\":{\"overlay\":{\"type\":\"object\",\"name\":\"BoxAnnotation\",\"id\":\"p1247\",\"attributes\":{\"syncable\":false,\"level\":\"overlay\",\"visible\":false,\"left\":{\"type\":\"number\",\"value\":\"nan\"},\"right\":{\"type\":\"number\",\"value\":\"nan\"},\"top\":{\"type\":\"number\",\"value\":\"nan\"},\"bottom\":{\"type\":\"number\",\"value\":\"nan\"},\"left_units\":\"canvas\",\"right_units\":\"canvas\",\"top_units\":\"canvas\",\"bottom_units\":\"canvas\",\"line_color\":\"black\",\"line_alpha\":1.0,\"line_width\":2,\"line_dash\":[4,4],\"fill_color\":\"lightgrey\",\"fill_alpha\":0.5}}}},{\"type\":\"object\",\"name\":\"SaveTool\",\"id\":\"p1252\"},{\"type\":\"object\",\"name\":\"ResetTool\",\"id\":\"p1253\"},{\"type\":\"object\",\"name\":\"HelpTool\",\"id\":\"p1254\"}]}},\"left\":[{\"type\":\"object\",\"name\":\"LinearAxis\",\"id\":\"p1239\",\"attributes\":{\"ticker\":{\"type\":\"object\",\"name\":\"BasicTicker\",\"id\":\"p1240\",\"attributes\":{\"mantissas\":[1,2,5]}},\"formatter\":{\"type\":\"object\",\"name\":\"BasicTickFormatter\",\"id\":\"p1241\"},\"axis_label\":\"Predicted RT\",\"major_label_policy\":{\"type\":\"object\",\"name\":\"AllLabels\",\"id\":\"p1242\"}}}],\"below\":[{\"type\":\"object\",\"name\":\"LinearAxis\",\"id\":\"p1234\",\"attributes\":{\"ticker\":{\"type\":\"object\",\"name\":\"BasicTicker\",\"id\":\"p1235\",\"attributes\":{\"mantissas\":[1,2,5]}},\"formatter\":{\"type\":\"object\",\"name\":\"BasicTickFormatter\",\"id\":\"p1236\"},\"axis_label\":\"Library RT\",\"major_label_policy\":{\"type\":\"object\",\"name\":\"AllLabels\",\"id\":\"p1237\"}}}],\"center\":[{\"type\":\"object\",\"name\":\"Grid\",\"id\":\"p1238\",\"attributes\":{\"axis\":{\"id\":\"p1234\"}}},{\"type\":\"object\",\"name\":\"Grid\",\"id\":\"p1243\",\"attributes\":{\"dimension\":1,\"axis\":{\"id\":\"p1239\"}}},{\"type\":\"object\",\"name\":\"Slope\",\"id\":\"p1264\",\"attributes\":{\"gradient\":1,\"y_intercept\":0,\"line_alpha\":0.5}},{\"type\":\"object\",\"name\":\"Slope\",\"id\":\"p1265\",\"attributes\":{\"gradient\":0.7657654698189038,\"y_intercept\":1.0669699978393654,\"line_color\":\"blue\"}}]}}]}};\n  const render_items = [{\"docid\":\"1362910d-dc94-46cb-b525-ef823b4377f8\",\"roots\":{\"p1223\":\"f19a00a2-6a88-4f35-8b2b-5bc75f0d560b\"},\"root_ids\":[\"p1223\"]}];\n  void root.Bokeh.embed.embed_items_notebook(docs_json, render_items);\n  }\n  if (root.Bokeh !== undefined) {\n    embed_document(root);\n  } else {\n    let attempts = 0;\n    const timer = setInterval(function(root) {\n      if (root.Bokeh !== undefined) {\n        clearInterval(timer);\n        embed_document(root);\n      } else {\n        attempts++;\n        if (attempts > 100) {\n          clearInterval(timer);\n          console.log(\"Bokeh: ERROR: Unable to run BokehJS code because BokehJS library is missing\");\n        }\n      }\n    }, 10, root)\n  }\n})(window);",
      "application/vnd.bokehjs_exec.v0+json": ""
     },
     "metadata": {
      "application/vnd.bokehjs_exec.v0+json": {
       "id": "p1223"
      }
     },
     "output_type": "display_data"
    },
    {
     "name": "stderr",
     "output_type": "stream",
     "text": [
      "/home/neuspouamengual/Descargas/anaconda3/envs/pyretip/lib/python3.10/site-packages/sklearn/metrics/_regression.py:483: FutureWarning: 'squared' is deprecated in version 1.4 and will be removed in 1.6. To calculate the root mean squared error, use the function'root_mean_squared_error'.\n",
      "  warnings.warn(\n"
     ]
    },
    {
     "data": {
      "text/plain": [
       "{'root_mean_squared_error': 0.8056908723143863,\n",
       " 'mean_squared_error': 0.6491377817307167,\n",
       " 'mean_absolute_error': 0.5580493237273861,\n",
       " 'median_absolute_error': 0.32401030540466325,\n",
       " 'explained_variance_score': 0.8447354424724103,\n",
       " 'mean_absolute_percentage_error': 0.1215023663804595,\n",
       " 'absolute_median_relative_error': 0.08802408283039675,\n",
       " 'r2_score': 0.8447070852780362,\n",
       " 'pearson_correlation': 0.9240214639961479,\n",
       " '90_percent_confidence_interval': 1.0433275235611625,\n",
       " '95_percent_confidence_interval': 1.3360099520963242}"
      ]
     },
     "execution_count": 40,
     "metadata": {},
     "output_type": "execute_result"
    }
   ],
   "source": [
    "trainer.score(plot=True)"
   ]
  },
  {
   "cell_type": "markdown",
   "id": "930f38b1",
   "metadata": {},
   "source": [
    "#### External Validation"
   ]
  },
  {
   "cell_type": "markdown",
   "id": "b0451f01",
   "metadata": {},
   "source": [
    "The model can be tested using the external dataset that we loaded initially. The target column must be specified."
   ]
  },
  {
   "cell_type": "code",
   "execution_count": 41,
   "id": "a275ad82",
   "metadata": {},
   "outputs": [
    {
     "data": {
      "text/html": [
       "    <style>\n",
       "        .bk-notebook-logo {\n",
       "            display: block;\n",
       "            width: 20px;\n",
       "            height: 20px;\n",
       "            background-image: url(data:image/png;base64,iVBORw0KGgoAAAANSUhEUgAAABQAAAAUCAYAAACNiR0NAAAABHNCSVQICAgIfAhkiAAAAAlwSFlzAAALEgAACxIB0t1+/AAAABx0RVh0U29mdHdhcmUAQWRvYmUgRmlyZXdvcmtzIENTNui8sowAAAOkSURBVDiNjZRtaJVlGMd/1/08zzln5zjP1LWcU9N0NkN8m2CYjpgQYQXqSs0I84OLIC0hkEKoPtiH3gmKoiJDU7QpLgoLjLIQCpEsNJ1vqUOdO7ppbuec5+V+rj4ctwzd8IIbbi6u+8f1539dt3A78eXC7QizUF7gyV1fD1Yqg4JWz84yffhm0qkFqBogB9rM8tZdtwVsPUhWhGcFJngGeWrPzHm5oaMmkfEg1usvLFyc8jLRqDOMru7AyC8saQr7GG7f5fvDeH7Ej8CM66nIF+8yngt6HWaKh7k49Soy9nXurCi1o3qUbS3zWfrYeQDTB/Qj6kX6Ybhw4B+bOYoLKCC9H3Nu/leUTZ1JdRWkkn2ldcCamzrcf47KKXdAJllSlxAOkRgyHsGC/zRday5Qld9DyoM4/q/rUoy/CXh3jzOu3bHUVZeU+DEn8FInkPBFlu3+nW3Nw0mk6vCDiWg8CeJaxEwuHS3+z5RgY+YBR6V1Z1nxSOfoaPa4LASWxxdNp+VWTk7+4vzaou8v8PN+xo+KY2xsw6une2frhw05CTYOmQvsEhjhWjn0bmXPjpE1+kplmmkP3suftwTubK9Vq22qKmrBhpY4jvd5afdRA3wGjFAgcnTK2s4hY0/GPNIb0nErGMCRxWOOX64Z8RAC4oCXdklmEvcL8o0BfkNK4lUg9HTl+oPlQxdNo3Mg4Nv175e/1LDGzZen30MEjRUtmXSfiTVu1kK8W4txyV6BMKlbgk3lMwYCiusNy9fVfvvwMxv8Ynl6vxoByANLTWplvuj/nF9m2+PDtt1eiHPBr1oIfhCChQMBw6Aw0UulqTKZdfVvfG7VcfIqLG9bcldL/+pdWTLxLUy8Qq38heUIjh4XlzZxzQm19lLFlr8vdQ97rjZVOLf8nclzckbcD4wxXMidpX30sFd37Fv/GtwwhzhxGVAprjbg0gCAEeIgwCZyTV2Z1REEW8O4py0wsjeloKoMr6iCY6dP92H6Vw/oTyICIthibxjm/DfN9lVz8IqtqKYLUXfoKVMVQVVJOElGjrnnUt9T9wbgp8AyYKaGlqingHZU/uG2NTZSVqwHQTWkx9hxjkpWDaCg6Ckj5qebgBVbT3V3NNXMSiWSDdGV3hrtzla7J+duwPOToIg42ChPQOQjspnSlp1V+Gjdged7+8UN5CRAV7a5EdFNwCjEaBR27b3W890TE7g24NAP/mMDXRWrGoFPQI9ls/MWO2dWFAar/xcOIImbbpA3zgAAAABJRU5ErkJggg==);\n",
       "        }\n",
       "    </style>\n",
       "    <div>\n",
       "        <a href=\"https://bokeh.org\" target=\"_blank\" class=\"bk-notebook-logo\"></a>\n",
       "        <span id=\"fb81627b-8370-40ae-8759-7f5c8be3219e\">Loading BokehJS ...</span>\n",
       "    </div>\n"
      ]
     },
     "metadata": {},
     "output_type": "display_data"
    },
    {
     "data": {
      "application/javascript": "'use strict';\n(function(root) {\n  function now() {\n    return new Date();\n  }\n\n  const force = true;\n\n  if (typeof root._bokeh_onload_callbacks === \"undefined\" || force === true) {\n    root._bokeh_onload_callbacks = [];\n    root._bokeh_is_loading = undefined;\n  }\n\nconst JS_MIME_TYPE = 'application/javascript';\n  const HTML_MIME_TYPE = 'text/html';\n  const EXEC_MIME_TYPE = 'application/vnd.bokehjs_exec.v0+json';\n  const CLASS_NAME = 'output_bokeh rendered_html';\n\n  /**\n   * Render data to the DOM node\n   */\n  function render(props, node) {\n    const script = document.createElement(\"script\");\n    node.appendChild(script);\n  }\n\n  /**\n   * Handle when an output is cleared or removed\n   */\n  function handleClearOutput(event, handle) {\n    function drop(id) {\n      const view = Bokeh.index.get_by_id(id)\n      if (view != null) {\n        view.model.document.clear()\n        Bokeh.index.delete(view)\n      }\n    }\n\n    const cell = handle.cell;\n\n    const id = cell.output_area._bokeh_element_id;\n    const server_id = cell.output_area._bokeh_server_id;\n\n    // Clean up Bokeh references\n    if (id != null) {\n      drop(id)\n    }\n\n    if (server_id !== undefined) {\n      // Clean up Bokeh references\n      const cmd_clean = \"from bokeh.io.state import curstate; print(curstate().uuid_to_server['\" + server_id + \"'].get_sessions()[0].document.roots[0]._id)\";\n      cell.notebook.kernel.execute(cmd_clean, {\n        iopub: {\n          output: function(msg) {\n            const id = msg.content.text.trim()\n            drop(id)\n          }\n        }\n      });\n      // Destroy server and session\n      const cmd_destroy = \"import bokeh.io.notebook as ion; ion.destroy_server('\" + server_id + \"')\";\n      cell.notebook.kernel.execute(cmd_destroy);\n    }\n  }\n\n  /**\n   * Handle when a new output is added\n   */\n  function handleAddOutput(event, handle) {\n    const output_area = handle.output_area;\n    const output = handle.output;\n\n    // limit handleAddOutput to display_data with EXEC_MIME_TYPE content only\n    if ((output.output_type != \"display_data\") || (!Object.prototype.hasOwnProperty.call(output.data, EXEC_MIME_TYPE))) {\n      return\n    }\n\n    const toinsert = output_area.element.find(\".\" + CLASS_NAME.split(' ')[0]);\n\n    if (output.metadata[EXEC_MIME_TYPE][\"id\"] !== undefined) {\n      toinsert[toinsert.length - 1].firstChild.textContent = output.data[JS_MIME_TYPE];\n      // store reference to embed id on output_area\n      output_area._bokeh_element_id = output.metadata[EXEC_MIME_TYPE][\"id\"];\n    }\n    if (output.metadata[EXEC_MIME_TYPE][\"server_id\"] !== undefined) {\n      const bk_div = document.createElement(\"div\");\n      bk_div.innerHTML = output.data[HTML_MIME_TYPE];\n      const script_attrs = bk_div.children[0].attributes;\n      for (let i = 0; i < script_attrs.length; i++) {\n        toinsert[toinsert.length - 1].firstChild.setAttribute(script_attrs[i].name, script_attrs[i].value);\n        toinsert[toinsert.length - 1].firstChild.textContent = bk_div.children[0].textContent\n      }\n      // store reference to server id on output_area\n      output_area._bokeh_server_id = output.metadata[EXEC_MIME_TYPE][\"server_id\"];\n    }\n  }\n\n  function register_renderer(events, OutputArea) {\n\n    function append_mime(data, metadata, element) {\n      // create a DOM node to render to\n      const toinsert = this.create_output_subarea(\n        metadata,\n        CLASS_NAME,\n        EXEC_MIME_TYPE\n      );\n      this.keyboard_manager.register_events(toinsert);\n      // Render to node\n      const props = {data: data, metadata: metadata[EXEC_MIME_TYPE]};\n      render(props, toinsert[toinsert.length - 1]);\n      element.append(toinsert);\n      return toinsert\n    }\n\n    /* Handle when an output is cleared or removed */\n    events.on('clear_output.CodeCell', handleClearOutput);\n    events.on('delete.Cell', handleClearOutput);\n\n    /* Handle when a new output is added */\n    events.on('output_added.OutputArea', handleAddOutput);\n\n    /**\n     * Register the mime type and append_mime function with output_area\n     */\n    OutputArea.prototype.register_mime_type(EXEC_MIME_TYPE, append_mime, {\n      /* Is output safe? */\n      safe: true,\n      /* Index of renderer in `output_area.display_order` */\n      index: 0\n    });\n  }\n\n  // register the mime type if in Jupyter Notebook environment and previously unregistered\n  if (root.Jupyter !== undefined) {\n    const events = require('base/js/events');\n    const OutputArea = require('notebook/js/outputarea').OutputArea;\n\n    if (OutputArea.prototype.mime_types().indexOf(EXEC_MIME_TYPE) == -1) {\n      register_renderer(events, OutputArea);\n    }\n  }\n  if (typeof (root._bokeh_timeout) === \"undefined\" || force === true) {\n    root._bokeh_timeout = Date.now() + 5000;\n    root._bokeh_failed_load = false;\n  }\n\n  const NB_LOAD_WARNING = {'data': {'text/html':\n     \"<div style='background-color: #fdd'>\\n\"+\n     \"<p>\\n\"+\n     \"BokehJS does not appear to have successfully loaded. If loading BokehJS from CDN, this \\n\"+\n     \"may be due to a slow or bad network connection. Possible fixes:\\n\"+\n     \"</p>\\n\"+\n     \"<ul>\\n\"+\n     \"<li>re-rerun `output_notebook()` to attempt to load from CDN again, or</li>\\n\"+\n     \"<li>use INLINE resources instead, as so:</li>\\n\"+\n     \"</ul>\\n\"+\n     \"<code>\\n\"+\n     \"from bokeh.resources import INLINE\\n\"+\n     \"output_notebook(resources=INLINE)\\n\"+\n     \"</code>\\n\"+\n     \"</div>\"}};\n\n  function display_loaded(error = null) {\n    const el = document.getElementById(\"fb81627b-8370-40ae-8759-7f5c8be3219e\");\n    if (el != null) {\n      const html = (() => {\n        if (typeof root.Bokeh === \"undefined\") {\n          if (error == null) {\n            return \"BokehJS is loading ...\";\n          } else {\n            return \"BokehJS failed to load.\";\n          }\n        } else {\n          const prefix = `BokehJS ${root.Bokeh.version}`;\n          if (error == null) {\n            return `${prefix} successfully loaded.`;\n          } else {\n            return `${prefix} <b>encountered errors</b> while loading and may not function as expected.`;\n          }\n        }\n      })();\n      el.innerHTML = html;\n\n      if (error != null) {\n        const wrapper = document.createElement(\"div\");\n        wrapper.style.overflow = \"auto\";\n        wrapper.style.height = \"5em\";\n        wrapper.style.resize = \"vertical\";\n        const content = document.createElement(\"div\");\n        content.style.fontFamily = \"monospace\";\n        content.style.whiteSpace = \"pre-wrap\";\n        content.style.backgroundColor = \"rgb(255, 221, 221)\";\n        content.textContent = error.stack ?? error.toString();\n        wrapper.append(content);\n        el.append(wrapper);\n      }\n    } else if (Date.now() < root._bokeh_timeout) {\n      setTimeout(() => display_loaded(error), 100);\n    }\n  }\n\n  function run_callbacks() {\n    try {\n      root._bokeh_onload_callbacks.forEach(function(callback) {\n        if (callback != null)\n          callback();\n      });\n    } finally {\n      delete root._bokeh_onload_callbacks\n    }\n    console.debug(\"Bokeh: all callbacks have finished\");\n  }\n\n  function load_libs(css_urls, js_urls, callback) {\n    if (css_urls == null) css_urls = [];\n    if (js_urls == null) js_urls = [];\n\n    root._bokeh_onload_callbacks.push(callback);\n    if (root._bokeh_is_loading > 0) {\n      console.debug(\"Bokeh: BokehJS is being loaded, scheduling callback at\", now());\n      return null;\n    }\n    if (js_urls == null || js_urls.length === 0) {\n      run_callbacks();\n      return null;\n    }\n    console.debug(\"Bokeh: BokehJS not loaded, scheduling load and callback at\", now());\n    root._bokeh_is_loading = css_urls.length + js_urls.length;\n\n    function on_load() {\n      root._bokeh_is_loading--;\n      if (root._bokeh_is_loading === 0) {\n        console.debug(\"Bokeh: all BokehJS libraries/stylesheets loaded\");\n        run_callbacks()\n      }\n    }\n\n    function on_error(url) {\n      console.error(\"failed to load \" + url);\n    }\n\n    for (let i = 0; i < css_urls.length; i++) {\n      const url = css_urls[i];\n      const element = document.createElement(\"link\");\n      element.onload = on_load;\n      element.onerror = on_error.bind(null, url);\n      element.rel = \"stylesheet\";\n      element.type = \"text/css\";\n      element.href = url;\n      console.debug(\"Bokeh: injecting link tag for BokehJS stylesheet: \", url);\n      document.body.appendChild(element);\n    }\n\n    for (let i = 0; i < js_urls.length; i++) {\n      const url = js_urls[i];\n      const element = document.createElement('script');\n      element.onload = on_load;\n      element.onerror = on_error.bind(null, url);\n      element.async = false;\n      element.src = url;\n      console.debug(\"Bokeh: injecting script tag for BokehJS library: \", url);\n      document.head.appendChild(element);\n    }\n  };\n\n  function inject_raw_css(css) {\n    const element = document.createElement(\"style\");\n    element.appendChild(document.createTextNode(css));\n    document.body.appendChild(element);\n  }\n\n  const js_urls = [\"https://cdn.bokeh.org/bokeh/release/bokeh-3.4.1.min.js\", \"https://cdn.bokeh.org/bokeh/release/bokeh-gl-3.4.1.min.js\", \"https://cdn.bokeh.org/bokeh/release/bokeh-widgets-3.4.1.min.js\", \"https://cdn.bokeh.org/bokeh/release/bokeh-tables-3.4.1.min.js\", \"https://cdn.bokeh.org/bokeh/release/bokeh-mathjax-3.4.1.min.js\"];\n  const css_urls = [];\n\n  const inline_js = [    function(Bokeh) {\n      Bokeh.set_log_level(\"info\");\n    },\nfunction(Bokeh) {\n    }\n  ];\n\n  function run_inline_js() {\n    if (root.Bokeh !== undefined || force === true) {\n      try {\n            for (let i = 0; i < inline_js.length; i++) {\n      inline_js[i].call(root, root.Bokeh);\n    }\n\n      } catch (error) {display_loaded(error);throw error;\n      }if (force === true) {\n        display_loaded();\n      }} else if (Date.now() < root._bokeh_timeout) {\n      setTimeout(run_inline_js, 100);\n    } else if (!root._bokeh_failed_load) {\n      console.log(\"Bokeh: BokehJS failed to load within specified timeout.\");\n      root._bokeh_failed_load = true;\n    } else if (force !== true) {\n      const cell = $(document.getElementById(\"fb81627b-8370-40ae-8759-7f5c8be3219e\")).parents('.cell').data().cell;\n      cell.output_area.append_execute_result(NB_LOAD_WARNING)\n    }\n  }\n\n  if (root._bokeh_is_loading === 0) {\n    console.debug(\"Bokeh: BokehJS loaded, going straight to plotting\");\n    run_inline_js();\n  } else {\n    load_libs(css_urls, js_urls, function() {\n      console.debug(\"Bokeh: BokehJS plotting callback run at\", now());\n      run_inline_js();\n    });\n  }\n}(window));",
      "application/vnd.bokehjs_load.v0+json": ""
     },
     "metadata": {},
     "output_type": "display_data"
    },
    {
     "data": {
      "text/html": [
       "\n",
       "  <div id=\"cd2c4d2f-183b-48ac-8c48-a9d44f13c90a\" data-root-id=\"p1268\" style=\"display: contents;\"></div>\n"
      ]
     },
     "metadata": {},
     "output_type": "display_data"
    },
    {
     "data": {
      "application/javascript": "(function(root) {\n  function embed_document(root) {\n  const docs_json = {\"72d85203-5271-47a5-9d07-6384f348638b\":{\"version\":\"3.4.1\",\"title\":\"Bokeh Application\",\"roots\":[{\"type\":\"object\",\"name\":\"Figure\",\"id\":\"p1268\",\"attributes\":{\"x_range\":{\"type\":\"object\",\"name\":\"DataRange1d\",\"id\":\"p1269\"},\"y_range\":{\"type\":\"object\",\"name\":\"DataRange1d\",\"id\":\"p1270\"},\"x_scale\":{\"type\":\"object\",\"name\":\"LinearScale\",\"id\":\"p1277\"},\"y_scale\":{\"type\":\"object\",\"name\":\"LinearScale\",\"id\":\"p1278\"},\"title\":{\"type\":\"object\",\"name\":\"Title\",\"id\":\"p1275\"},\"renderers\":[{\"type\":\"object\",\"name\":\"GlyphRenderer\",\"id\":\"p1306\",\"attributes\":{\"data_source\":{\"type\":\"object\",\"name\":\"ColumnDataSource\",\"id\":\"p1300\",\"attributes\":{\"selected\":{\"type\":\"object\",\"name\":\"Selection\",\"id\":\"p1301\",\"attributes\":{\"indices\":[],\"line_indices\":[]}},\"selection_policy\":{\"type\":\"object\",\"name\":\"UnionRenderers\",\"id\":\"p1302\"},\"data\":{\"type\":\"map\",\"entries\":[[\"x\",{\"type\":\"ndarray\",\"array\":{\"type\":\"bytes\",\"data\":\"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\"},\"shape\":[358],\"dtype\":\"float64\",\"order\":\"little\"}],[\"y\",{\"type\":\"ndarray\",\"array\":{\"type\":\"bytes\",\"data\":\"ngrUQG+tykDXiMZAtf/XQEv3zUBkStJAL7LZQObsz0AAMsZA7yLLQCVBy0Ckp9BA7CHJQCfyyUC849JAKGfPQJ+CxkCBX8lA0yXMQJ5ExUCQ+cxAfpDHQOSNCEE4CNVAd0jNQF4SzEAKF9lAhjDCQBlb3ECEPdpAepRiQNEsLEB3xa1AUnu0QAtfs0D/7K1AnsurQOEhpUChxptApHSZQKR0mUD1NJZAoEuiQJoap0B4iKFAGWSkQBVioUAnF6BAJNGiQCTRokBiZ6RAHKueQMSLuEADRqJA+p+iQIQXpEAtSaZAyoSzQMX/vECad7dA0N+tQH+ju0APNKJA8XCdQBMZokBZBqZA+3m6QMCXqUAQm05AFyGcQIgpakARFahAKFKvQACpu0Dg1c1AVmDhQB4OlUArfr1AZM35QHW28kB1tvJA0QHWQJky9kCZMvZAmTL2QBuH+EBdmedAYTnmQM/d+kBdmedAG8vlQLkH9UC5B/VAmC/xQPFSBkG+nO9AuhDdQLoQ3UD5COBA2aUAQRiO7kBOtPdATrT3QNmlAEFG7/VA/Br6QGGAAUF2bgBBjqHbQChTEUDqZxpA530QQPMIK0BAjlNAsfoDQQCGhECMFhNBPP1RQHY6Q0ACNQ5APORXQIrzWEC4/lZA0GwjQJwGqT9E1A1Acb0ZQIX8FUC22SRAf9oaQNStJkBQehlAMhgEQIWYC0CFmAtAxs4OQB9sB0Dip5dA1TK+QNUyvkAqAKdA1UOnQMSsBkEgSxBBOCUgQcWgCUHFoAlBpkQLQSBMEEEgTBBBtKUcQbSlHEHFd79AeK23QMRTqUDEU6lA15kIQGfnH0DPGSVANBGXQDQRl0Dj96JAOIKWQGb/iUDY3ZZAOIKWQJ8Up0Cu16NAMzPeQK7Xo0Bm/4lAZv+JQDiClkCu16NA38udQLaVn0Bv9s1Ab/bNQGWvXUAPN4tAAEioQCp+00DPIbVAQznGQL4ri0C/FnFAmLiWQD80fEBXNzdAZrWaQDr1fEC6iVxAAa05QO6DfUBJwmlAzxRVQB+rUEC5dFRABKWKQMnAi0DhvqFAD5u4QA+buEBS+5RAxOWJQB4yikA+2VxAYOmMQBHNkUBwRo9AMIKCQNykl0BBX5ZAsMWaQKQ7xECkO8RAEvOMQAcojUC6eZdA9RSlQIaFpkC145ZAQV+WQCS9k0CrWJlAjqGLQH2ykUAcxo1AVpKNQGUn4ECHpudA0+PZQJ8Up0Crw5VAZ96lQCIlckCVJlpA4RWAQOdlgkBs8INAnFaIQHIfkEB9r4ZAOomQQEP/l0BKe5dAU6FpQHPXaEA0t3VAs0t7QB2lT0C5AG9AcJaHQIfYvkDoFpJAnPjfQA1vgkBwjXJAJSCCQP0pgEC8NZhA4FiXQKn6iECCkpFAuE2RQDmKRkA5ikZATVtGQE1bRkDKSz1AUtplQAnZtUAJ2bVANoGnQKib1UDPLb5AgyO5QI68xkD0xaZAOTCcQH6kjkA9/ixAsmoTQDcoNUCw5S9AXNYhQMQyJUDEMiVA2KxkQMaQ3z8CwhhA97qTQBjFo0DryHdAwv5DQDGZI0AxmSNAUROpQKm5ykCpucpAnVTGQGq1skB2IrVAOWhcQEyo/EDVLkpAeomBQBI7iUDJcYlAlVOJQK9oiEAkW4ZAtuSUQGl8bkCNCoBADcZlQGfhzkD5/71AA5CrQIDpRkAf2ldAFMk1QBTJNUAh2S9A9RKQQMQ8eUARL9VAuOvUQNGq4ECfnehA47jrQH9hTUB/YU1ADM0hQMwsNUBs0UhAg4cvQIq+hUDl8zJASWK5QEliuUBJYrlA3umJQNr8QEATSQxA8sI+QDN5VkCk+VxA9DX3Pyv5AUCKoQ1AX5mJQNtU5kDf35lA39+ZQG3sokCXw8NAJElaQA==\"},\"shape\":[358],\"dtype\":\"float32\",\"order\":\"little\"}]]}}},\"view\":{\"type\":\"object\",\"name\":\"CDSView\",\"id\":\"p1307\",\"attributes\":{\"filter\":{\"type\":\"object\",\"name\":\"AllIndices\",\"id\":\"p1308\"}}},\"glyph\":{\"type\":\"object\",\"name\":\"Scatter\",\"id\":\"p1303\",\"attributes\":{\"x\":{\"type\":\"field\",\"field\":\"x\"},\"y\":{\"type\":\"field\",\"field\":\"y\"},\"size\":{\"type\":\"value\",\"value\":3},\"line_color\":{\"type\":\"value\",\"value\":\"#1f77b4\"},\"fill_color\":{\"type\":\"value\",\"value\":\"#1f77b4\"}}},\"nonselection_glyph\":{\"type\":\"object\",\"name\":\"Scatter\",\"id\":\"p1304\",\"attributes\":{\"x\":{\"type\":\"field\",\"field\":\"x\"},\"y\":{\"type\":\"field\",\"field\":\"y\"},\"size\":{\"type\":\"value\",\"value\":3},\"line_color\":{\"type\":\"value\",\"value\":\"#1f77b4\"},\"line_alpha\":{\"type\":\"value\",\"value\":0.1},\"fill_color\":{\"type\":\"value\",\"value\":\"#1f77b4\"},\"fill_alpha\":{\"type\":\"value\",\"value\":0.1},\"hatch_alpha\":{\"type\":\"value\",\"value\":0.1}}},\"muted_glyph\":{\"type\":\"object\",\"name\":\"Scatter\",\"id\":\"p1305\",\"attributes\":{\"x\":{\"type\":\"field\",\"field\":\"x\"},\"y\":{\"type\":\"field\",\"field\":\"y\"},\"size\":{\"type\":\"value\",\"value\":3},\"line_color\":{\"type\":\"value\",\"value\":\"#1f77b4\"},\"line_alpha\":{\"type\":\"value\",\"value\":0.2},\"fill_color\":{\"type\":\"value\",\"value\":\"#1f77b4\"},\"fill_alpha\":{\"type\":\"value\",\"value\":0.2},\"hatch_alpha\":{\"type\":\"value\",\"value\":0.2}}}}}],\"toolbar\":{\"type\":\"object\",\"name\":\"Toolbar\",\"id\":\"p1276\",\"attributes\":{\"tools\":[{\"type\":\"object\",\"name\":\"PanTool\",\"id\":\"p1289\"},{\"type\":\"object\",\"name\":\"WheelZoomTool\",\"id\":\"p1290\",\"attributes\":{\"renderers\":\"auto\"}},{\"type\":\"object\",\"name\":\"BoxZoomTool\",\"id\":\"p1291\",\"attributes\":{\"overlay\":{\"type\":\"object\",\"name\":\"BoxAnnotation\",\"id\":\"p1292\",\"attributes\":{\"syncable\":false,\"level\":\"overlay\",\"visible\":false,\"left\":{\"type\":\"number\",\"value\":\"nan\"},\"right\":{\"type\":\"number\",\"value\":\"nan\"},\"top\":{\"type\":\"number\",\"value\":\"nan\"},\"bottom\":{\"type\":\"number\",\"value\":\"nan\"},\"left_units\":\"canvas\",\"right_units\":\"canvas\",\"top_units\":\"canvas\",\"bottom_units\":\"canvas\",\"line_color\":\"black\",\"line_alpha\":1.0,\"line_width\":2,\"line_dash\":[4,4],\"fill_color\":\"lightgrey\",\"fill_alpha\":0.5}}}},{\"type\":\"object\",\"name\":\"SaveTool\",\"id\":\"p1297\"},{\"type\":\"object\",\"name\":\"ResetTool\",\"id\":\"p1298\"},{\"type\":\"object\",\"name\":\"HelpTool\",\"id\":\"p1299\"}]}},\"left\":[{\"type\":\"object\",\"name\":\"LinearAxis\",\"id\":\"p1284\",\"attributes\":{\"ticker\":{\"type\":\"object\",\"name\":\"BasicTicker\",\"id\":\"p1285\",\"attributes\":{\"mantissas\":[1,2,5]}},\"formatter\":{\"type\":\"object\",\"name\":\"BasicTickFormatter\",\"id\":\"p1286\"},\"axis_label\":\"Predicted RT\",\"major_label_policy\":{\"type\":\"object\",\"name\":\"AllLabels\",\"id\":\"p1287\"}}}],\"below\":[{\"type\":\"object\",\"name\":\"LinearAxis\",\"id\":\"p1279\",\"attributes\":{\"ticker\":{\"type\":\"object\",\"name\":\"BasicTicker\",\"id\":\"p1280\",\"attributes\":{\"mantissas\":[1,2,5]}},\"formatter\":{\"type\":\"object\",\"name\":\"BasicTickFormatter\",\"id\":\"p1281\"},\"axis_label\":\"Library RT\",\"major_label_policy\":{\"type\":\"object\",\"name\":\"AllLabels\",\"id\":\"p1282\"}}}],\"center\":[{\"type\":\"object\",\"name\":\"Grid\",\"id\":\"p1283\",\"attributes\":{\"axis\":{\"id\":\"p1279\"}}},{\"type\":\"object\",\"name\":\"Grid\",\"id\":\"p1288\",\"attributes\":{\"dimension\":1,\"axis\":{\"id\":\"p1284\"}}},{\"type\":\"object\",\"name\":\"Slope\",\"id\":\"p1309\",\"attributes\":{\"gradient\":1,\"y_intercept\":0,\"line_alpha\":0.5}},{\"type\":\"object\",\"name\":\"Slope\",\"id\":\"p1310\",\"attributes\":{\"gradient\":0.7166323614254698,\"y_intercept\":1.394618008649579,\"line_color\":\"blue\"}}]}}]}};\n  const render_items = [{\"docid\":\"72d85203-5271-47a5-9d07-6384f348638b\",\"roots\":{\"p1268\":\"cd2c4d2f-183b-48ac-8c48-a9d44f13c90a\"},\"root_ids\":[\"p1268\"]}];\n  void root.Bokeh.embed.embed_items_notebook(docs_json, render_items);\n  }\n  if (root.Bokeh !== undefined) {\n    embed_document(root);\n  } else {\n    let attempts = 0;\n    const timer = setInterval(function(root) {\n      if (root.Bokeh !== undefined) {\n        clearInterval(timer);\n        embed_document(root);\n      } else {\n        attempts++;\n        if (attempts > 100) {\n          clearInterval(timer);\n          console.log(\"Bokeh: ERROR: Unable to run BokehJS code because BokehJS library is missing\");\n        }\n      }\n    }, 10, root)\n  }\n})(window);",
      "application/vnd.bokehjs_exec.v0+json": ""
     },
     "metadata": {
      "application/vnd.bokehjs_exec.v0+json": {
       "id": "p1268"
      }
     },
     "output_type": "display_data"
    },
    {
     "name": "stderr",
     "output_type": "stream",
     "text": [
      "/home/neuspouamengual/Descargas/anaconda3/envs/pyretip/lib/python3.10/site-packages/sklearn/metrics/_regression.py:483: FutureWarning: 'squared' is deprecated in version 1.4 and will be removed in 1.6. To calculate the root mean squared error, use the function'root_mean_squared_error'.\n",
      "  warnings.warn(\n"
     ]
    },
    {
     "data": {
      "text/plain": [
       "{'root_mean_squared_error': 0.9915247924499364,\n",
       " 'mean_squared_error': 0.9831214140428894,\n",
       " 'mean_absolute_error': 0.7286197500388715,\n",
       " 'median_absolute_error': 0.5377935123443601,\n",
       " 'explained_variance_score': 0.7847461926667623,\n",
       " 'mean_absolute_percentage_error': 0.16106302898890099,\n",
       " 'absolute_median_relative_error': 0.11664873859428697,\n",
       " 'r2_score': 0.7844597919173245,\n",
       " 'pearson_correlation': 0.8898877350607929,\n",
       " '90_percent_confidence_interval': 1.305988841579282,\n",
       " '95_percent_confidence_interval': 1.6659724384832337}"
      ]
     },
     "execution_count": 41,
     "metadata": {},
     "output_type": "execute_result"
    }
   ],
   "source": [
    "trainer.score(dataset.get_validation_data(), target_column='RT', plot=True)"
   ]
  },
  {
   "cell_type": "markdown",
   "id": "b875cf66",
   "metadata": {},
   "source": [
    "The RMSE and other scores on the external validation set are significantly worse than on our training and test, suggesting that our trainining set isn't sufficiently representative of our chemical space."
   ]
  },
  {
   "cell_type": "markdown",
   "id": "ef5371aa",
   "metadata": {},
   "source": [
    "### RT Prediction"
   ]
  },
  {
   "cell_type": "markdown",
   "id": "3f7a0c49",
   "metadata": {},
   "source": [
    "The trained model can be used to predict retention times for a new dataset."
   ]
  },
  {
   "cell_type": "code",
   "execution_count": 42,
   "id": "f89ffd3d",
   "metadata": {
    "scrolled": true
   },
   "outputs": [
    {
     "data": {
      "text/plain": [
       "array([6.626296 , 6.333671 , 6.204204 , 6.749964 , 6.436437 , 6.571581 ,\n",
       "       6.803001 , 6.4976683, 6.1936035, 6.3480144, 6.351702 , 6.520464 ,\n",
       "       6.285391 , 6.3108096, 6.5902996, 6.4813423, 6.203445 , 6.292908 ,\n",
       "       6.379617 , 6.164626 , 6.405464 , 6.236388 , 8.534641 , 6.6572533,\n",
       "       6.415096 ], dtype=float32)"
      ]
     },
     "execution_count": 42,
     "metadata": {},
     "output_type": "execute_result"
    }
   ],
   "source": [
    "y_pred = trainer.predict(dataset.get_validation_data())\n",
    "y_pred[:25]"
   ]
  },
  {
   "cell_type": "markdown",
   "id": "158945fd",
   "metadata": {},
   "source": [
    "This is great, but a list of numbers isn't very useful.  Instead, we can annotate our dataset:"
   ]
  },
  {
   "cell_type": "code",
   "execution_count": 43,
   "id": "05c445b0",
   "metadata": {},
   "outputs": [],
   "source": [
    "annotated = trainer.annotate(dataset.get_validation_data(include_metadata=True), prediction_column='RTP')"
   ]
  },
  {
   "cell_type": "code",
   "execution_count": 44,
   "id": "dea4ad58",
   "metadata": {},
   "outputs": [
    {
     "data": {
      "text/html": [
       "<div>\n",
       "<style scoped>\n",
       "    .dataframe tbody tr th:only-of-type {\n",
       "        vertical-align: middle;\n",
       "    }\n",
       "\n",
       "    .dataframe tbody tr th {\n",
       "        vertical-align: top;\n",
       "    }\n",
       "\n",
       "    .dataframe thead th {\n",
       "        text-align: right;\n",
       "    }\n",
       "</style>\n",
       "<table border=\"1\" class=\"dataframe\">\n",
       "  <thead>\n",
       "    <tr style=\"text-align: right;\">\n",
       "      <th></th>\n",
       "      <th>Name</th>\n",
       "      <th>InChIKey</th>\n",
       "      <th>SMILES</th>\n",
       "      <th>RTP</th>\n",
       "      <th>RT</th>\n",
       "      <th>ABC</th>\n",
       "      <th>ABCGG</th>\n",
       "      <th>nAcid</th>\n",
       "      <th>nBase</th>\n",
       "      <th>nAromAtom</th>\n",
       "      <th>...</th>\n",
       "      <th>SRW09</th>\n",
       "      <th>SRW10</th>\n",
       "      <th>TSRW10</th>\n",
       "      <th>MW</th>\n",
       "      <th>AMW</th>\n",
       "      <th>WPath</th>\n",
       "      <th>WPol</th>\n",
       "      <th>Zagreb1</th>\n",
       "      <th>Zagreb2</th>\n",
       "      <th>mZagreb2</th>\n",
       "    </tr>\n",
       "  </thead>\n",
       "  <tbody>\n",
       "    <tr>\n",
       "      <th>0</th>\n",
       "      <td>Soyasapogenol E base + O-Hex-HexA</td>\n",
       "      <td>YDNHBSRZSMNZPB-NJAHCQCINA-N</td>\n",
       "      <td>O=C(O)C7OC(OC2CCC3(C)(C4CC=C1C5CC(C)(C)CC(=O)C...</td>\n",
       "      <td>6.626296</td>\n",
       "      <td>7.84</td>\n",
       "      <td>44.836157</td>\n",
       "      <td>32.982369</td>\n",
       "      <td>1</td>\n",
       "      <td>0</td>\n",
       "      <td>0</td>\n",
       "      <td>...</td>\n",
       "      <td>0.0</td>\n",
       "      <td>11.553443</td>\n",
       "      <td>96.348334</td>\n",
       "      <td>794.445257</td>\n",
       "      <td>6.511846</td>\n",
       "      <td>12554</td>\n",
       "      <td>131</td>\n",
       "      <td>330.0</td>\n",
       "      <td>420.0</td>\n",
       "      <td>11.631944</td>\n",
       "    </tr>\n",
       "    <tr>\n",
       "      <th>1</th>\n",
       "      <td>Soyasapogenol E base + O-HexA-Hex-dHex</td>\n",
       "      <td>CROUPKILZUPLQA-UHFFFAOYNA-N</td>\n",
       "      <td>O=C(O)C8OC(OC2CCC3(C)(C4CC=C1C5CC(C)(C)CC(=O)C...</td>\n",
       "      <td>6.333671</td>\n",
       "      <td>7.62</td>\n",
       "      <td>52.780741</td>\n",
       "      <td>38.464480</td>\n",
       "      <td>1</td>\n",
       "      <td>0</td>\n",
       "      <td>0</td>\n",
       "      <td>...</td>\n",
       "      <td>0.0</td>\n",
       "      <td>11.673657</td>\n",
       "      <td>107.062212</td>\n",
       "      <td>940.503166</td>\n",
       "      <td>6.623262</td>\n",
       "      <td>19659</td>\n",
       "      <td>152</td>\n",
       "      <td>386.0</td>\n",
       "      <td>489.0</td>\n",
       "      <td>13.743056</td>\n",
       "    </tr>\n",
       "    <tr>\n",
       "      <th>2</th>\n",
       "      <td>Soyasapogenol E base + O-HexA-Hex-Hex</td>\n",
       "      <td>JTXVTHCLTOUSSL-UHFFFAOYNA-N</td>\n",
       "      <td>O=C(O)C8OC(OC2CCC3(C)(C4CC=C1C5CC(C)(C)CC(=O)C...</td>\n",
       "      <td>6.204204</td>\n",
       "      <td>7.49</td>\n",
       "      <td>53.378458</td>\n",
       "      <td>38.971182</td>\n",
       "      <td>1</td>\n",
       "      <td>0</td>\n",
       "      <td>0</td>\n",
       "      <td>...</td>\n",
       "      <td>0.0</td>\n",
       "      <td>11.680125</td>\n",
       "      <td>108.106572</td>\n",
       "      <td>956.498080</td>\n",
       "      <td>6.688798</td>\n",
       "      <td>20502</td>\n",
       "      <td>154</td>\n",
       "      <td>390.0</td>\n",
       "      <td>494.0</td>\n",
       "      <td>14.076389</td>\n",
       "    </tr>\n",
       "    <tr>\n",
       "      <th>3</th>\n",
       "      <td>Soyasapogenol B base + O-HexA-Pen-dHex, O-C6H7...</td>\n",
       "      <td>VWKBHQGCNGULAZ-UHFFFAOYNA-N</td>\n",
       "      <td>O=C(O)C9OC(OC3CCC4(C)(C5CC=C2C6CC(C)(C)CC(OC1O...</td>\n",
       "      <td>6.749964</td>\n",
       "      <td>7.79</td>\n",
       "      <td>58.615935</td>\n",
       "      <td>41.117105</td>\n",
       "      <td>1</td>\n",
       "      <td>0</td>\n",
       "      <td>0</td>\n",
       "      <td>...</td>\n",
       "      <td>0.0</td>\n",
       "      <td>11.738011</td>\n",
       "      <td>114.489110</td>\n",
       "      <td>1038.539945</td>\n",
       "      <td>6.700258</td>\n",
       "      <td>27052</td>\n",
       "      <td>164</td>\n",
       "      <td>426.0</td>\n",
       "      <td>536.0</td>\n",
       "      <td>15.104167</td>\n",
       "    </tr>\n",
       "    <tr>\n",
       "      <th>4</th>\n",
       "      <td>Soyasapogenol B base + O-HexA-Hex-Pen, O-dHex</td>\n",
       "      <td>REIWEXDMDVAAEI-UHFFFAOYNA-N</td>\n",
       "      <td>CC1OC(OC2CC(C)(C)CC3C4=CCC5C6(C)CCC(OC7OC(C(O)...</td>\n",
       "      <td>6.436437</td>\n",
       "      <td>5.56</td>\n",
       "      <td>59.949268</td>\n",
       "      <td>42.489658</td>\n",
       "      <td>1</td>\n",
       "      <td>0</td>\n",
       "      <td>0</td>\n",
       "      <td>...</td>\n",
       "      <td>0.0</td>\n",
       "      <td>11.764827</td>\n",
       "      <td>116.612958</td>\n",
       "      <td>1074.561074</td>\n",
       "      <td>6.674292</td>\n",
       "      <td>28816</td>\n",
       "      <td>170</td>\n",
       "      <td>436.0</td>\n",
       "      <td>550.0</td>\n",
       "      <td>15.659722</td>\n",
       "    </tr>\n",
       "  </tbody>\n",
       "</table>\n",
       "<p>5 rows × 822 columns</p>\n",
       "</div>"
      ],
      "text/plain": [
       "                                                Name  \\\n",
       "0                  Soyasapogenol E base + O-Hex-HexA   \n",
       "1             Soyasapogenol E base + O-HexA-Hex-dHex   \n",
       "2              Soyasapogenol E base + O-HexA-Hex-Hex   \n",
       "3  Soyasapogenol B base + O-HexA-Pen-dHex, O-C6H7...   \n",
       "4      Soyasapogenol B base + O-HexA-Hex-Pen, O-dHex   \n",
       "\n",
       "                      InChIKey  \\\n",
       "0  YDNHBSRZSMNZPB-NJAHCQCINA-N   \n",
       "1  CROUPKILZUPLQA-UHFFFAOYNA-N   \n",
       "2  JTXVTHCLTOUSSL-UHFFFAOYNA-N   \n",
       "3  VWKBHQGCNGULAZ-UHFFFAOYNA-N   \n",
       "4  REIWEXDMDVAAEI-UHFFFAOYNA-N   \n",
       "\n",
       "                                              SMILES       RTP    RT  \\\n",
       "0  O=C(O)C7OC(OC2CCC3(C)(C4CC=C1C5CC(C)(C)CC(=O)C...  6.626296  7.84   \n",
       "1  O=C(O)C8OC(OC2CCC3(C)(C4CC=C1C5CC(C)(C)CC(=O)C...  6.333671  7.62   \n",
       "2  O=C(O)C8OC(OC2CCC3(C)(C4CC=C1C5CC(C)(C)CC(=O)C...  6.204204  7.49   \n",
       "3  O=C(O)C9OC(OC3CCC4(C)(C5CC=C2C6CC(C)(C)CC(OC1O...  6.749964  7.79   \n",
       "4  CC1OC(OC2CC(C)(C)CC3C4=CCC5C6(C)CCC(OC7OC(C(O)...  6.436437  5.56   \n",
       "\n",
       "         ABC      ABCGG  nAcid  nBase  nAromAtom  ...  SRW09      SRW10  \\\n",
       "0  44.836157  32.982369      1      0          0  ...    0.0  11.553443   \n",
       "1  52.780741  38.464480      1      0          0  ...    0.0  11.673657   \n",
       "2  53.378458  38.971182      1      0          0  ...    0.0  11.680125   \n",
       "3  58.615935  41.117105      1      0          0  ...    0.0  11.738011   \n",
       "4  59.949268  42.489658      1      0          0  ...    0.0  11.764827   \n",
       "\n",
       "       TSRW10           MW       AMW  WPath  WPol  Zagreb1  Zagreb2   mZagreb2  \n",
       "0   96.348334   794.445257  6.511846  12554   131    330.0    420.0  11.631944  \n",
       "1  107.062212   940.503166  6.623262  19659   152    386.0    489.0  13.743056  \n",
       "2  108.106572   956.498080  6.688798  20502   154    390.0    494.0  14.076389  \n",
       "3  114.489110  1038.539945  6.700258  27052   164    426.0    536.0  15.104167  \n",
       "4  116.612958  1074.561074  6.674292  28816   170    436.0    550.0  15.659722  \n",
       "\n",
       "[5 rows x 822 columns]"
      ]
     },
     "execution_count": 44,
     "metadata": {},
     "output_type": "execute_result"
    }
   ],
   "source": [
    "annotated.head()"
   ]
  },
  {
   "cell_type": "markdown",
   "id": "10d6a07a",
   "metadata": {},
   "source": [
    "Now the dataset includes a new column `RTP` containing the predicted retention time. The `RTP` values of molecules that could not be loaded or descriptors could not be calculated will be empty or null."
   ]
  },
  {
   "cell_type": "markdown",
   "id": "9109a72d",
   "metadata": {},
   "source": [
    "### Feature importance"
   ]
  },
  {
   "cell_type": "markdown",
   "id": "8c1bd9ce",
   "metadata": {},
   "source": [
    "The feature importance of the model can be visualized using the `plot_feature_importance` function by providing the model trained as input. It is possible to save the plot indicating the `plot_filename`."
   ]
  },
  {
   "cell_type": "code",
   "execution_count": 51,
   "id": "56efa91b",
   "metadata": {},
   "outputs": [
    {
     "data": {
      "text/html": [
       "    <style>\n",
       "        .bk-notebook-logo {\n",
       "            display: block;\n",
       "            width: 20px;\n",
       "            height: 20px;\n",
       "            background-image: url(data:image/png;base64,iVBORw0KGgoAAAANSUhEUgAAABQAAAAUCAYAAACNiR0NAAAABHNCSVQICAgIfAhkiAAAAAlwSFlzAAALEgAACxIB0t1+/AAAABx0RVh0U29mdHdhcmUAQWRvYmUgRmlyZXdvcmtzIENTNui8sowAAAOkSURBVDiNjZRtaJVlGMd/1/08zzln5zjP1LWcU9N0NkN8m2CYjpgQYQXqSs0I84OLIC0hkEKoPtiH3gmKoiJDU7QpLgoLjLIQCpEsNJ1vqUOdO7ppbuec5+V+rj4ctwzd8IIbbi6u+8f1539dt3A78eXC7QizUF7gyV1fD1Yqg4JWz84yffhm0qkFqBogB9rM8tZdtwVsPUhWhGcFJngGeWrPzHm5oaMmkfEg1usvLFyc8jLRqDOMru7AyC8saQr7GG7f5fvDeH7Ej8CM66nIF+8yngt6HWaKh7k49Soy9nXurCi1o3qUbS3zWfrYeQDTB/Qj6kX6Ybhw4B+bOYoLKCC9H3Nu/leUTZ1JdRWkkn2ldcCamzrcf47KKXdAJllSlxAOkRgyHsGC/zRday5Qld9DyoM4/q/rUoy/CXh3jzOu3bHUVZeU+DEn8FInkPBFlu3+nW3Nw0mk6vCDiWg8CeJaxEwuHS3+z5RgY+YBR6V1Z1nxSOfoaPa4LASWxxdNp+VWTk7+4vzaou8v8PN+xo+KY2xsw6une2frhw05CTYOmQvsEhjhWjn0bmXPjpE1+kplmmkP3suftwTubK9Vq22qKmrBhpY4jvd5afdRA3wGjFAgcnTK2s4hY0/GPNIb0nErGMCRxWOOX64Z8RAC4oCXdklmEvcL8o0BfkNK4lUg9HTl+oPlQxdNo3Mg4Nv175e/1LDGzZen30MEjRUtmXSfiTVu1kK8W4txyV6BMKlbgk3lMwYCiusNy9fVfvvwMxv8Ynl6vxoByANLTWplvuj/nF9m2+PDtt1eiHPBr1oIfhCChQMBw6Aw0UulqTKZdfVvfG7VcfIqLG9bcldL/+pdWTLxLUy8Qq38heUIjh4XlzZxzQm19lLFlr8vdQ97rjZVOLf8nclzckbcD4wxXMidpX30sFd37Fv/GtwwhzhxGVAprjbg0gCAEeIgwCZyTV2Z1REEW8O4py0wsjeloKoMr6iCY6dP92H6Vw/oTyICIthibxjm/DfN9lVz8IqtqKYLUXfoKVMVQVVJOElGjrnnUt9T9wbgp8AyYKaGlqingHZU/uG2NTZSVqwHQTWkx9hxjkpWDaCg6Ckj5qebgBVbT3V3NNXMSiWSDdGV3hrtzla7J+duwPOToIg42ChPQOQjspnSlp1V+Gjdged7+8UN5CRAV7a5EdFNwCjEaBR27b3W890TE7g24NAP/mMDXRWrGoFPQI9ls/MWO2dWFAar/xcOIImbbpA3zgAAAABJRU5ErkJggg==);\n",
       "        }\n",
       "    </style>\n",
       "    <div>\n",
       "        <a href=\"https://bokeh.org\" target=\"_blank\" class=\"bk-notebook-logo\"></a>\n",
       "        <span id=\"c2d517b4-e140-4d68-824b-17dc554be98b\">Loading BokehJS ...</span>\n",
       "    </div>\n"
      ]
     },
     "metadata": {},
     "output_type": "display_data"
    },
    {
     "data": {
      "application/javascript": "'use strict';\n(function(root) {\n  function now() {\n    return new Date();\n  }\n\n  const force = true;\n\n  if (typeof root._bokeh_onload_callbacks === \"undefined\" || force === true) {\n    root._bokeh_onload_callbacks = [];\n    root._bokeh_is_loading = undefined;\n  }\n\nconst JS_MIME_TYPE = 'application/javascript';\n  const HTML_MIME_TYPE = 'text/html';\n  const EXEC_MIME_TYPE = 'application/vnd.bokehjs_exec.v0+json';\n  const CLASS_NAME = 'output_bokeh rendered_html';\n\n  /**\n   * Render data to the DOM node\n   */\n  function render(props, node) {\n    const script = document.createElement(\"script\");\n    node.appendChild(script);\n  }\n\n  /**\n   * Handle when an output is cleared or removed\n   */\n  function handleClearOutput(event, handle) {\n    function drop(id) {\n      const view = Bokeh.index.get_by_id(id)\n      if (view != null) {\n        view.model.document.clear()\n        Bokeh.index.delete(view)\n      }\n    }\n\n    const cell = handle.cell;\n\n    const id = cell.output_area._bokeh_element_id;\n    const server_id = cell.output_area._bokeh_server_id;\n\n    // Clean up Bokeh references\n    if (id != null) {\n      drop(id)\n    }\n\n    if (server_id !== undefined) {\n      // Clean up Bokeh references\n      const cmd_clean = \"from bokeh.io.state import curstate; print(curstate().uuid_to_server['\" + server_id + \"'].get_sessions()[0].document.roots[0]._id)\";\n      cell.notebook.kernel.execute(cmd_clean, {\n        iopub: {\n          output: function(msg) {\n            const id = msg.content.text.trim()\n            drop(id)\n          }\n        }\n      });\n      // Destroy server and session\n      const cmd_destroy = \"import bokeh.io.notebook as ion; ion.destroy_server('\" + server_id + \"')\";\n      cell.notebook.kernel.execute(cmd_destroy);\n    }\n  }\n\n  /**\n   * Handle when a new output is added\n   */\n  function handleAddOutput(event, handle) {\n    const output_area = handle.output_area;\n    const output = handle.output;\n\n    // limit handleAddOutput to display_data with EXEC_MIME_TYPE content only\n    if ((output.output_type != \"display_data\") || (!Object.prototype.hasOwnProperty.call(output.data, EXEC_MIME_TYPE))) {\n      return\n    }\n\n    const toinsert = output_area.element.find(\".\" + CLASS_NAME.split(' ')[0]);\n\n    if (output.metadata[EXEC_MIME_TYPE][\"id\"] !== undefined) {\n      toinsert[toinsert.length - 1].firstChild.textContent = output.data[JS_MIME_TYPE];\n      // store reference to embed id on output_area\n      output_area._bokeh_element_id = output.metadata[EXEC_MIME_TYPE][\"id\"];\n    }\n    if (output.metadata[EXEC_MIME_TYPE][\"server_id\"] !== undefined) {\n      const bk_div = document.createElement(\"div\");\n      bk_div.innerHTML = output.data[HTML_MIME_TYPE];\n      const script_attrs = bk_div.children[0].attributes;\n      for (let i = 0; i < script_attrs.length; i++) {\n        toinsert[toinsert.length - 1].firstChild.setAttribute(script_attrs[i].name, script_attrs[i].value);\n        toinsert[toinsert.length - 1].firstChild.textContent = bk_div.children[0].textContent\n      }\n      // store reference to server id on output_area\n      output_area._bokeh_server_id = output.metadata[EXEC_MIME_TYPE][\"server_id\"];\n    }\n  }\n\n  function register_renderer(events, OutputArea) {\n\n    function append_mime(data, metadata, element) {\n      // create a DOM node to render to\n      const toinsert = this.create_output_subarea(\n        metadata,\n        CLASS_NAME,\n        EXEC_MIME_TYPE\n      );\n      this.keyboard_manager.register_events(toinsert);\n      // Render to node\n      const props = {data: data, metadata: metadata[EXEC_MIME_TYPE]};\n      render(props, toinsert[toinsert.length - 1]);\n      element.append(toinsert);\n      return toinsert\n    }\n\n    /* Handle when an output is cleared or removed */\n    events.on('clear_output.CodeCell', handleClearOutput);\n    events.on('delete.Cell', handleClearOutput);\n\n    /* Handle when a new output is added */\n    events.on('output_added.OutputArea', handleAddOutput);\n\n    /**\n     * Register the mime type and append_mime function with output_area\n     */\n    OutputArea.prototype.register_mime_type(EXEC_MIME_TYPE, append_mime, {\n      /* Is output safe? */\n      safe: true,\n      /* Index of renderer in `output_area.display_order` */\n      index: 0\n    });\n  }\n\n  // register the mime type if in Jupyter Notebook environment and previously unregistered\n  if (root.Jupyter !== undefined) {\n    const events = require('base/js/events');\n    const OutputArea = require('notebook/js/outputarea').OutputArea;\n\n    if (OutputArea.prototype.mime_types().indexOf(EXEC_MIME_TYPE) == -1) {\n      register_renderer(events, OutputArea);\n    }\n  }\n  if (typeof (root._bokeh_timeout) === \"undefined\" || force === true) {\n    root._bokeh_timeout = Date.now() + 5000;\n    root._bokeh_failed_load = false;\n  }\n\n  const NB_LOAD_WARNING = {'data': {'text/html':\n     \"<div style='background-color: #fdd'>\\n\"+\n     \"<p>\\n\"+\n     \"BokehJS does not appear to have successfully loaded. If loading BokehJS from CDN, this \\n\"+\n     \"may be due to a slow or bad network connection. Possible fixes:\\n\"+\n     \"</p>\\n\"+\n     \"<ul>\\n\"+\n     \"<li>re-rerun `output_notebook()` to attempt to load from CDN again, or</li>\\n\"+\n     \"<li>use INLINE resources instead, as so:</li>\\n\"+\n     \"</ul>\\n\"+\n     \"<code>\\n\"+\n     \"from bokeh.resources import INLINE\\n\"+\n     \"output_notebook(resources=INLINE)\\n\"+\n     \"</code>\\n\"+\n     \"</div>\"}};\n\n  function display_loaded(error = null) {\n    const el = document.getElementById(\"c2d517b4-e140-4d68-824b-17dc554be98b\");\n    if (el != null) {\n      const html = (() => {\n        if (typeof root.Bokeh === \"undefined\") {\n          if (error == null) {\n            return \"BokehJS is loading ...\";\n          } else {\n            return \"BokehJS failed to load.\";\n          }\n        } else {\n          const prefix = `BokehJS ${root.Bokeh.version}`;\n          if (error == null) {\n            return `${prefix} successfully loaded.`;\n          } else {\n            return `${prefix} <b>encountered errors</b> while loading and may not function as expected.`;\n          }\n        }\n      })();\n      el.innerHTML = html;\n\n      if (error != null) {\n        const wrapper = document.createElement(\"div\");\n        wrapper.style.overflow = \"auto\";\n        wrapper.style.height = \"5em\";\n        wrapper.style.resize = \"vertical\";\n        const content = document.createElement(\"div\");\n        content.style.fontFamily = \"monospace\";\n        content.style.whiteSpace = \"pre-wrap\";\n        content.style.backgroundColor = \"rgb(255, 221, 221)\";\n        content.textContent = error.stack ?? error.toString();\n        wrapper.append(content);\n        el.append(wrapper);\n      }\n    } else if (Date.now() < root._bokeh_timeout) {\n      setTimeout(() => display_loaded(error), 100);\n    }\n  }\n\n  function run_callbacks() {\n    try {\n      root._bokeh_onload_callbacks.forEach(function(callback) {\n        if (callback != null)\n          callback();\n      });\n    } finally {\n      delete root._bokeh_onload_callbacks\n    }\n    console.debug(\"Bokeh: all callbacks have finished\");\n  }\n\n  function load_libs(css_urls, js_urls, callback) {\n    if (css_urls == null) css_urls = [];\n    if (js_urls == null) js_urls = [];\n\n    root._bokeh_onload_callbacks.push(callback);\n    if (root._bokeh_is_loading > 0) {\n      console.debug(\"Bokeh: BokehJS is being loaded, scheduling callback at\", now());\n      return null;\n    }\n    if (js_urls == null || js_urls.length === 0) {\n      run_callbacks();\n      return null;\n    }\n    console.debug(\"Bokeh: BokehJS not loaded, scheduling load and callback at\", now());\n    root._bokeh_is_loading = css_urls.length + js_urls.length;\n\n    function on_load() {\n      root._bokeh_is_loading--;\n      if (root._bokeh_is_loading === 0) {\n        console.debug(\"Bokeh: all BokehJS libraries/stylesheets loaded\");\n        run_callbacks()\n      }\n    }\n\n    function on_error(url) {\n      console.error(\"failed to load \" + url);\n    }\n\n    for (let i = 0; i < css_urls.length; i++) {\n      const url = css_urls[i];\n      const element = document.createElement(\"link\");\n      element.onload = on_load;\n      element.onerror = on_error.bind(null, url);\n      element.rel = \"stylesheet\";\n      element.type = \"text/css\";\n      element.href = url;\n      console.debug(\"Bokeh: injecting link tag for BokehJS stylesheet: \", url);\n      document.body.appendChild(element);\n    }\n\n    for (let i = 0; i < js_urls.length; i++) {\n      const url = js_urls[i];\n      const element = document.createElement('script');\n      element.onload = on_load;\n      element.onerror = on_error.bind(null, url);\n      element.async = false;\n      element.src = url;\n      console.debug(\"Bokeh: injecting script tag for BokehJS library: \", url);\n      document.head.appendChild(element);\n    }\n  };\n\n  function inject_raw_css(css) {\n    const element = document.createElement(\"style\");\n    element.appendChild(document.createTextNode(css));\n    document.body.appendChild(element);\n  }\n\n  const js_urls = [\"https://cdn.bokeh.org/bokeh/release/bokeh-3.4.1.min.js\", \"https://cdn.bokeh.org/bokeh/release/bokeh-gl-3.4.1.min.js\", \"https://cdn.bokeh.org/bokeh/release/bokeh-widgets-3.4.1.min.js\", \"https://cdn.bokeh.org/bokeh/release/bokeh-tables-3.4.1.min.js\", \"https://cdn.bokeh.org/bokeh/release/bokeh-mathjax-3.4.1.min.js\"];\n  const css_urls = [];\n\n  const inline_js = [    function(Bokeh) {\n      Bokeh.set_log_level(\"info\");\n    },\nfunction(Bokeh) {\n    }\n  ];\n\n  function run_inline_js() {\n    if (root.Bokeh !== undefined || force === true) {\n      try {\n            for (let i = 0; i < inline_js.length; i++) {\n      inline_js[i].call(root, root.Bokeh);\n    }\n\n      } catch (error) {display_loaded(error);throw error;\n      }if (force === true) {\n        display_loaded();\n      }} else if (Date.now() < root._bokeh_timeout) {\n      setTimeout(run_inline_js, 100);\n    } else if (!root._bokeh_failed_load) {\n      console.log(\"Bokeh: BokehJS failed to load within specified timeout.\");\n      root._bokeh_failed_load = true;\n    } else if (force !== true) {\n      const cell = $(document.getElementById(\"c2d517b4-e140-4d68-824b-17dc554be98b\")).parents('.cell').data().cell;\n      cell.output_area.append_execute_result(NB_LOAD_WARNING)\n    }\n  }\n\n  if (root._bokeh_is_loading === 0) {\n    console.debug(\"Bokeh: BokehJS loaded, going straight to plotting\");\n    run_inline_js();\n  } else {\n    load_libs(css_urls, js_urls, function() {\n      console.debug(\"Bokeh: BokehJS plotting callback run at\", now());\n      run_inline_js();\n    });\n  }\n}(window));",
      "application/vnd.bokehjs_load.v0+json": ""
     },
     "metadata": {},
     "output_type": "display_data"
    },
    {
     "data": {
      "text/html": [
       "\n",
       "  <div id=\"bbd4f21b-59e9-48f4-bf66-741830cbfc74\" data-root-id=\"p1360\" style=\"display: contents;\"></div>\n"
      ]
     },
     "metadata": {},
     "output_type": "display_data"
    },
    {
     "data": {
      "application/javascript": "(function(root) {\n  function embed_document(root) {\n  const docs_json = {\"e469afc1-dde0-4a83-b3dc-6173cb635129\":{\"version\":\"3.4.1\",\"title\":\"Bokeh Application\",\"roots\":[{\"type\":\"object\",\"name\":\"Figure\",\"id\":\"p1360\",\"attributes\":{\"x_range\":{\"type\":\"object\",\"name\":\"DataRange1d\",\"id\":\"p1362\",\"attributes\":{\"start\":0}},\"y_range\":{\"type\":\"object\",\"name\":\"FactorRange\",\"id\":\"p1370\",\"attributes\":{\"factors\":[\"Xpc-6dv\",\"ATS5pe\",\"ATS1dv\",\"PEOE_VSA6\",\"AATS0i\",\"NssO\",\"MIC5\",\"AATS1i\",\"nHRing\",\"SMR_VSA3\",\"FilterItLogS\",\"SMR_VSA5\",\"piPC5\",\"SsssN\",\"VSA_EState9\",\"Xch-7dv\",\"SLogP\",\"SlogP_VSA5\",\"ATS4pe\",\"NsssN\"]}},\"x_scale\":{\"type\":\"object\",\"name\":\"LinearScale\",\"id\":\"p1371\"},\"y_scale\":{\"type\":\"object\",\"name\":\"CategoricalScale\",\"id\":\"p1372\"},\"title\":{\"type\":\"object\",\"name\":\"Title\",\"id\":\"p1363\",\"attributes\":{\"text\":\"Feature importance (top 20) \\n\",\"text_color\":\"#384049\",\"text_font_size\":\"15px\",\"align\":\"center\"}},\"renderers\":[{\"type\":\"object\",\"name\":\"GlyphRenderer\",\"id\":\"p1400\",\"attributes\":{\"data_source\":{\"type\":\"object\",\"name\":\"ColumnDataSource\",\"id\":\"p1357\",\"attributes\":{\"selected\":{\"type\":\"object\",\"name\":\"Selection\",\"id\":\"p1358\",\"attributes\":{\"indices\":[],\"line_indices\":[]}},\"selection_policy\":{\"type\":\"object\",\"name\":\"UnionRenderers\",\"id\":\"p1359\"},\"data\":{\"type\":\"map\",\"entries\":[[\"index\",{\"type\":\"ndarray\",\"array\":{\"type\":\"bytes\",\"data\":\"AAAAAAEAAAACAAAAAwAAAAQAAAAFAAAABgAAAAcAAAAIAAAACQAAAAoAAAALAAAADAAAAA0AAAAOAAAADwAAABAAAAARAAAAEgAAABMAAAA=\"},\"shape\":[20],\"dtype\":\"int32\",\"order\":\"little\"}],[\"feature\",{\"type\":\"ndarray\",\"array\":[\"Xpc-6dv\",\"ATS5pe\",\"ATS1dv\",\"PEOE_VSA6\",\"AATS0i\",\"NssO\",\"MIC5\",\"AATS1i\",\"nHRing\",\"SMR_VSA3\",\"FilterItLogS\",\"SMR_VSA5\",\"piPC5\",\"SsssN\",\"VSA_EState9\",\"Xch-7dv\",\"SLogP\",\"SlogP_VSA5\",\"ATS4pe\",\"NsssN\"],\"shape\":[20],\"dtype\":\"object\",\"order\":\"little\"}],[\"importance\",{\"type\":\"ndarray\",\"array\":{\"type\":\"bytes\",\"data\":\"5XkXPI/AFzzFhCA8x1sjPD8wMDxdNDM8bgo2PCp8PTzokUI8M9pEPHRKTTx9nE48AHJmPCD6djzYF4o8FpiRPCD8nTx4BqE8t0KtPA7YyTw=\"},\"shape\":[20],\"dtype\":\"float32\",\"order\":\"little\"}]]}}},\"view\":{\"type\":\"object\",\"name\":\"CDSView\",\"id\":\"p1401\",\"attributes\":{\"filter\":{\"type\":\"object\",\"name\":\"AllIndices\",\"id\":\"p1402\"}}},\"glyph\":{\"type\":\"object\",\"name\":\"HBar\",\"id\":\"p1397\",\"attributes\":{\"y\":{\"type\":\"field\",\"field\":\"feature\"},\"height\":{\"type\":\"value\",\"value\":0.8},\"right\":{\"type\":\"field\",\"field\":\"importance\"},\"line_color\":{\"type\":\"value\",\"value\":\"#D02937\"},\"fill_color\":{\"type\":\"value\",\"value\":\"#D02937\"}}},\"nonselection_glyph\":{\"type\":\"object\",\"name\":\"HBar\",\"id\":\"p1398\",\"attributes\":{\"y\":{\"type\":\"field\",\"field\":\"feature\"},\"height\":{\"type\":\"value\",\"value\":0.8},\"right\":{\"type\":\"field\",\"field\":\"importance\"},\"line_color\":{\"type\":\"value\",\"value\":\"#D02937\"},\"line_alpha\":{\"type\":\"value\",\"value\":0.1},\"fill_color\":{\"type\":\"value\",\"value\":\"#D02937\"},\"fill_alpha\":{\"type\":\"value\",\"value\":0.1},\"hatch_alpha\":{\"type\":\"value\",\"value\":0.1}}},\"muted_glyph\":{\"type\":\"object\",\"name\":\"HBar\",\"id\":\"p1399\",\"attributes\":{\"y\":{\"type\":\"field\",\"field\":\"feature\"},\"height\":{\"type\":\"value\",\"value\":0.8},\"right\":{\"type\":\"field\",\"field\":\"importance\"},\"line_color\":{\"type\":\"value\",\"value\":\"#D02937\"},\"line_alpha\":{\"type\":\"value\",\"value\":0.2},\"fill_color\":{\"type\":\"value\",\"value\":\"#D02937\"},\"fill_alpha\":{\"type\":\"value\",\"value\":0.2},\"hatch_alpha\":{\"type\":\"value\",\"value\":0.2}}}}}],\"toolbar\":{\"type\":\"object\",\"name\":\"Toolbar\",\"id\":\"p1369\",\"attributes\":{\"tools\":[{\"type\":\"object\",\"name\":\"PanTool\",\"id\":\"p1383\"},{\"type\":\"object\",\"name\":\"WheelZoomTool\",\"id\":\"p1384\",\"attributes\":{\"renderers\":\"auto\"}},{\"type\":\"object\",\"name\":\"BoxZoomTool\",\"id\":\"p1385\",\"attributes\":{\"overlay\":{\"type\":\"object\",\"name\":\"BoxAnnotation\",\"id\":\"p1386\",\"attributes\":{\"syncable\":false,\"level\":\"overlay\",\"visible\":false,\"left\":{\"type\":\"number\",\"value\":\"nan\"},\"right\":{\"type\":\"number\",\"value\":\"nan\"},\"top\":{\"type\":\"number\",\"value\":\"nan\"},\"bottom\":{\"type\":\"number\",\"value\":\"nan\"},\"left_units\":\"canvas\",\"right_units\":\"canvas\",\"top_units\":\"canvas\",\"bottom_units\":\"canvas\",\"line_color\":\"black\",\"line_alpha\":1.0,\"line_width\":2,\"line_dash\":[4,4],\"fill_color\":\"lightgrey\",\"fill_alpha\":0.5}}}},{\"type\":\"object\",\"name\":\"SaveTool\",\"id\":\"p1391\"},{\"type\":\"object\",\"name\":\"ResetTool\",\"id\":\"p1392\"},{\"type\":\"object\",\"name\":\"HelpTool\",\"id\":\"p1393\"},{\"type\":\"object\",\"name\":\"HoverTool\",\"id\":\"p1403\",\"attributes\":{\"renderers\":\"auto\",\"tooltips\":\"\\n        <div>\\n            <span style=\\\"font-weight: bold; color: #384049;\\\">@feature:</span>\\n            <span style=\\\"color: #384049;\\\">@importance</span>\\n        </div>\\n    \"}}]}},\"left\":[{\"type\":\"object\",\"name\":\"CategoricalAxis\",\"id\":\"p1378\",\"attributes\":{\"ticker\":{\"type\":\"object\",\"name\":\"CategoricalTicker\",\"id\":\"p1379\"},\"formatter\":{\"type\":\"object\",\"name\":\"CategoricalTickFormatter\",\"id\":\"p1380\"},\"axis_label_text_color\":\"#384049\",\"axis_label_text_font_style\":\"bold\",\"major_label_policy\":{\"type\":\"object\",\"name\":\"AllLabels\",\"id\":\"p1381\"},\"axis_line_color\":\"#384049\",\"major_tick_line_color\":\"#384049\",\"major_tick_in\":0,\"minor_tick_line_color\":\"#384049\",\"minor_tick_out\":3}}],\"below\":[{\"type\":\"object\",\"name\":\"LinearAxis\",\"id\":\"p1373\",\"attributes\":{\"ticker\":{\"type\":\"object\",\"name\":\"BasicTicker\",\"id\":\"p1374\",\"attributes\":{\"mantissas\":[1,2,5]}},\"formatter\":{\"type\":\"object\",\"name\":\"BasicTickFormatter\",\"id\":\"p1375\"},\"axis_label\":\"Importance\",\"axis_label_text_color\":\"#384049\",\"axis_label_text_font_style\":\"bold\",\"major_label_policy\":{\"type\":\"object\",\"name\":\"AllLabels\",\"id\":\"p1376\"},\"axis_line_color\":\"#384049\",\"major_tick_line_color\":\"#384049\",\"major_tick_in\":0,\"minor_tick_line_color\":\"#384049\",\"minor_tick_out\":3}}],\"center\":[{\"type\":\"object\",\"name\":\"Grid\",\"id\":\"p1377\",\"attributes\":{\"axis\":{\"id\":\"p1373\"},\"grid_line_color\":null}},{\"type\":\"object\",\"name\":\"Grid\",\"id\":\"p1382\",\"attributes\":{\"dimension\":1,\"axis\":{\"id\":\"p1378\"},\"grid_line_color\":null}}]}}]}};\n  const render_items = [{\"docid\":\"e469afc1-dde0-4a83-b3dc-6173cb635129\",\"roots\":{\"p1360\":\"bbd4f21b-59e9-48f4-bf66-741830cbfc74\"},\"root_ids\":[\"p1360\"]}];\n  void root.Bokeh.embed.embed_items_notebook(docs_json, render_items);\n  }\n  if (root.Bokeh !== undefined) {\n    embed_document(root);\n  } else {\n    let attempts = 0;\n    const timer = setInterval(function(root) {\n      if (root.Bokeh !== undefined) {\n        clearInterval(timer);\n        embed_document(root);\n      } else {\n        attempts++;\n        if (attempts > 100) {\n          clearInterval(timer);\n          console.log(\"Bokeh: ERROR: Unable to run BokehJS code because BokehJS library is missing\");\n        }\n      }\n    }, 10, root)\n  }\n})(window);",
      "application/vnd.bokehjs_exec.v0+json": ""
     },
     "metadata": {
      "application/vnd.bokehjs_exec.v0+json": {
       "id": "p1360"
      }
     },
     "output_type": "display_data"
    }
   ],
   "source": [
    "retip.visualization.plot_feature_importance(trainer)"
   ]
  },
  {
   "cell_type": "markdown",
   "id": "732520e2",
   "metadata": {},
   "source": [
    "It is also possible to get all feature importance values as a dataframe using the `feature_importance` function."
   ]
  },
  {
   "cell_type": "code",
   "execution_count": null,
   "id": "67872904",
   "metadata": {},
   "outputs": [],
   "source": [
    "# trainer.feature_importance()"
   ]
  },
  {
   "cell_type": "markdown",
   "id": "7a4d16b1",
   "metadata": {},
   "source": [
    "### Saving/Loading Models"
   ]
  },
  {
   "cell_type": "markdown",
   "id": "cc334651",
   "metadata": {},
   "source": [
    "The model can be saved to avoid needing to retrain in the future. It will save time!"
   ]
  },
  {
   "cell_type": "code",
   "execution_count": 45,
   "id": "a23250fb",
   "metadata": {},
   "outputs": [
    {
     "name": "stdout",
     "output_type": "stream",
     "text": [
      "Exported model to Plasma_positve_xgboost-model.sav\n"
     ]
    }
   ],
   "source": [
    "trainer.save_model('Plasma_positve_xgboost-model.sav')"
   ]
  },
  {
   "cell_type": "markdown",
   "id": "24b2af48",
   "metadata": {},
   "source": [
    "This exported model can then be reloaded and used to score datasets and predict new retention times.  However, unless a dataset is first passed to the trainer, it cannot be retrained."
   ]
  },
  {
   "cell_type": "code",
   "execution_count": 46,
   "id": "9c454b5c",
   "metadata": {},
   "outputs": [
    {
     "name": "stdout",
     "output_type": "stream",
     "text": [
      "Loaded Plasma_positve_xgboost-model.sav\n"
     ]
    }
   ],
   "source": [
    "trainer = retip.XGBoostTrainer(dataset, cv=5)\n",
    "trainer.load_model('Plasma_positve_xgboost-model.sav')"
   ]
  },
  {
   "cell_type": "code",
   "execution_count": 47,
   "id": "f2ca3b4a",
   "metadata": {},
   "outputs": [],
   "source": [
    "import pandas as pd\n",
    "importances = trainer.predictor.feature_importances_\n",
    "feature_names = trainer.model_columns\n",
    "forest_importances = pd.DataFrame({\"Features\": feature_names, \"Importance\": importances})\n",
    "forest_importances = forest_importances.sort_values(by=\"Importance\", ascending=False)\n",
    "forest_importances = forest_importances.iloc[0:20, :]\n",
    "forest_importances = forest_importances.sort_values(by=\"Importance\").reset_index()"
   ]
  },
  {
   "cell_type": "code",
   "execution_count": 48,
   "id": "c166618a",
   "metadata": {},
   "outputs": [
    {
     "data": {
      "text/html": [
       "\n",
       "  <div id=\"a051eca8-bfb0-403f-90e5-20baf8cbd640\" data-root-id=\"p1313\" style=\"display: contents;\"></div>\n"
      ]
     },
     "metadata": {},
     "output_type": "display_data"
    },
    {
     "data": {
      "application/javascript": "(function(root) {\n  function embed_document(root) {\n  const docs_json = {\"7f07301a-58ed-4906-b60b-f8e166f78c53\":{\"version\":\"3.4.1\",\"title\":\"Bokeh Application\",\"roots\":[{\"type\":\"object\",\"name\":\"Figure\",\"id\":\"p1313\",\"attributes\":{\"x_range\":{\"type\":\"object\",\"name\":\"DataRange1d\",\"id\":\"p1315\",\"attributes\":{\"start\":0}},\"y_range\":{\"type\":\"object\",\"name\":\"FactorRange\",\"id\":\"p1323\",\"attributes\":{\"factors\":[\"Xpc-6dv\",\"ATS5pe\",\"ATS1dv\",\"PEOE_VSA6\",\"AATS0i\",\"NssO\",\"MIC5\",\"AATS1i\",\"nHRing\",\"SMR_VSA3\",\"FilterItLogS\",\"SMR_VSA5\",\"piPC5\",\"SsssN\",\"VSA_EState9\",\"Xch-7dv\",\"SLogP\",\"SlogP_VSA5\",\"ATS4pe\",\"NsssN\"]}},\"x_scale\":{\"type\":\"object\",\"name\":\"LinearScale\",\"id\":\"p1324\"},\"y_scale\":{\"type\":\"object\",\"name\":\"CategoricalScale\",\"id\":\"p1325\"},\"title\":{\"type\":\"object\",\"name\":\"Title\",\"id\":\"p1316\",\"attributes\":{\"text\":\"Feature importance (top 20) \\n\",\"text_color\":\"#384049\",\"text_font_size\":\"15px\",\"align\":\"center\"}},\"renderers\":[{\"type\":\"object\",\"name\":\"GlyphRenderer\",\"id\":\"p1353\",\"attributes\":{\"data_source\":{\"type\":\"object\",\"name\":\"ColumnDataSource\",\"id\":\"p1347\",\"attributes\":{\"selected\":{\"type\":\"object\",\"name\":\"Selection\",\"id\":\"p1348\",\"attributes\":{\"indices\":[],\"line_indices\":[]}},\"selection_policy\":{\"type\":\"object\",\"name\":\"UnionRenderers\",\"id\":\"p1349\"},\"data\":{\"type\":\"map\",\"entries\":[[\"y\",{\"type\":\"ndarray\",\"array\":[\"Xpc-6dv\",\"ATS5pe\",\"ATS1dv\",\"PEOE_VSA6\",\"AATS0i\",\"NssO\",\"MIC5\",\"AATS1i\",\"nHRing\",\"SMR_VSA3\",\"FilterItLogS\",\"SMR_VSA5\",\"piPC5\",\"SsssN\",\"VSA_EState9\",\"Xch-7dv\",\"SLogP\",\"SlogP_VSA5\",\"ATS4pe\",\"NsssN\"],\"shape\":[20],\"dtype\":\"object\",\"order\":\"little\"}],[\"right\",{\"type\":\"ndarray\",\"array\":{\"type\":\"bytes\",\"data\":\"5XkXPI/AFzzFhCA8x1sjPD8wMDxdNDM8bgo2PCp8PTzokUI8M9pEPHRKTTx9nE48AHJmPCD6djzYF4o8FpiRPCD8nTx4BqE8t0KtPA7YyTw=\"},\"shape\":[20],\"dtype\":\"float32\",\"order\":\"little\"}]]}}},\"view\":{\"type\":\"object\",\"name\":\"CDSView\",\"id\":\"p1354\",\"attributes\":{\"filter\":{\"type\":\"object\",\"name\":\"AllIndices\",\"id\":\"p1355\"}}},\"glyph\":{\"type\":\"object\",\"name\":\"HBar\",\"id\":\"p1350\",\"attributes\":{\"y\":{\"type\":\"field\",\"field\":\"y\"},\"height\":{\"type\":\"value\",\"value\":0.8},\"right\":{\"type\":\"field\",\"field\":\"right\"},\"line_color\":{\"type\":\"value\",\"value\":\"#D02937\"},\"fill_color\":{\"type\":\"value\",\"value\":\"#D02937\"}}},\"nonselection_glyph\":{\"type\":\"object\",\"name\":\"HBar\",\"id\":\"p1351\",\"attributes\":{\"y\":{\"type\":\"field\",\"field\":\"y\"},\"height\":{\"type\":\"value\",\"value\":0.8},\"right\":{\"type\":\"field\",\"field\":\"right\"},\"line_color\":{\"type\":\"value\",\"value\":\"#D02937\"},\"line_alpha\":{\"type\":\"value\",\"value\":0.1},\"fill_color\":{\"type\":\"value\",\"value\":\"#D02937\"},\"fill_alpha\":{\"type\":\"value\",\"value\":0.1},\"hatch_alpha\":{\"type\":\"value\",\"value\":0.1}}},\"muted_glyph\":{\"type\":\"object\",\"name\":\"HBar\",\"id\":\"p1352\",\"attributes\":{\"y\":{\"type\":\"field\",\"field\":\"y\"},\"height\":{\"type\":\"value\",\"value\":0.8},\"right\":{\"type\":\"field\",\"field\":\"right\"},\"line_color\":{\"type\":\"value\",\"value\":\"#D02937\"},\"line_alpha\":{\"type\":\"value\",\"value\":0.2},\"fill_color\":{\"type\":\"value\",\"value\":\"#D02937\"},\"fill_alpha\":{\"type\":\"value\",\"value\":0.2},\"hatch_alpha\":{\"type\":\"value\",\"value\":0.2}}}}}],\"toolbar\":{\"type\":\"object\",\"name\":\"Toolbar\",\"id\":\"p1322\",\"attributes\":{\"tools\":[{\"type\":\"object\",\"name\":\"PanTool\",\"id\":\"p1336\"},{\"type\":\"object\",\"name\":\"WheelZoomTool\",\"id\":\"p1337\",\"attributes\":{\"renderers\":\"auto\"}},{\"type\":\"object\",\"name\":\"BoxZoomTool\",\"id\":\"p1338\",\"attributes\":{\"overlay\":{\"type\":\"object\",\"name\":\"BoxAnnotation\",\"id\":\"p1339\",\"attributes\":{\"syncable\":false,\"level\":\"overlay\",\"visible\":false,\"left\":{\"type\":\"number\",\"value\":\"nan\"},\"right\":{\"type\":\"number\",\"value\":\"nan\"},\"top\":{\"type\":\"number\",\"value\":\"nan\"},\"bottom\":{\"type\":\"number\",\"value\":\"nan\"},\"left_units\":\"canvas\",\"right_units\":\"canvas\",\"top_units\":\"canvas\",\"bottom_units\":\"canvas\",\"line_color\":\"black\",\"line_alpha\":1.0,\"line_width\":2,\"line_dash\":[4,4],\"fill_color\":\"lightgrey\",\"fill_alpha\":0.5}}}},{\"type\":\"object\",\"name\":\"SaveTool\",\"id\":\"p1344\"},{\"type\":\"object\",\"name\":\"ResetTool\",\"id\":\"p1345\"},{\"type\":\"object\",\"name\":\"HelpTool\",\"id\":\"p1346\"}]}},\"left\":[{\"type\":\"object\",\"name\":\"CategoricalAxis\",\"id\":\"p1331\",\"attributes\":{\"ticker\":{\"type\":\"object\",\"name\":\"CategoricalTicker\",\"id\":\"p1332\"},\"formatter\":{\"type\":\"object\",\"name\":\"CategoricalTickFormatter\",\"id\":\"p1333\"},\"major_label_policy\":{\"type\":\"object\",\"name\":\"AllLabels\",\"id\":\"p1334\"},\"major_label_text_color\":\"#384049\",\"axis_line_color\":\"#384049\",\"major_tick_line_color\":\"#384049\",\"major_tick_in\":0,\"minor_tick_line_color\":\"#384049\",\"minor_tick_out\":3}}],\"below\":[{\"type\":\"object\",\"name\":\"LinearAxis\",\"id\":\"p1326\",\"attributes\":{\"ticker\":{\"type\":\"object\",\"name\":\"BasicTicker\",\"id\":\"p1327\",\"attributes\":{\"mantissas\":[1,2,5]}},\"formatter\":{\"type\":\"object\",\"name\":\"BasicTickFormatter\",\"id\":\"p1328\"},\"axis_label\":\"Importance\",\"major_label_policy\":{\"type\":\"object\",\"name\":\"AllLabels\",\"id\":\"p1329\"},\"major_label_text_color\":\"#384049\",\"axis_line_color\":\"#384049\",\"major_tick_line_color\":\"#384049\",\"major_tick_in\":0,\"minor_tick_line_color\":\"#384049\",\"minor_tick_out\":3}}],\"center\":[{\"type\":\"object\",\"name\":\"Grid\",\"id\":\"p1330\",\"attributes\":{\"axis\":{\"id\":\"p1326\"},\"grid_line_color\":null}},{\"type\":\"object\",\"name\":\"Grid\",\"id\":\"p1335\",\"attributes\":{\"dimension\":1,\"axis\":{\"id\":\"p1331\"},\"grid_line_color\":null}}]}}]}};\n  const render_items = [{\"docid\":\"7f07301a-58ed-4906-b60b-f8e166f78c53\",\"roots\":{\"p1313\":\"a051eca8-bfb0-403f-90e5-20baf8cbd640\"},\"root_ids\":[\"p1313\"]}];\n  void root.Bokeh.embed.embed_items_notebook(docs_json, render_items);\n  }\n  if (root.Bokeh !== undefined) {\n    embed_document(root);\n  } else {\n    let attempts = 0;\n    const timer = setInterval(function(root) {\n      if (root.Bokeh !== undefined) {\n        clearInterval(timer);\n        embed_document(root);\n      } else {\n        attempts++;\n        if (attempts > 100) {\n          clearInterval(timer);\n          console.log(\"Bokeh: ERROR: Unable to run BokehJS code because BokehJS library is missing\");\n        }\n      }\n    }, 10, root)\n  }\n})(window);",
      "application/vnd.bokehjs_exec.v0+json": ""
     },
     "metadata": {
      "application/vnd.bokehjs_exec.v0+json": {
       "id": "p1313"
      }
     },
     "output_type": "display_data"
    }
   ],
   "source": [
    "from bokeh.plotting import figure, show\n",
    "\n",
    "fruits = forest_importances[\"Features\"].values\n",
    "counts = forest_importances[\"Importance\"].values\n",
    "\n",
    "p = figure(y_range=fruits, title=\"Feature importance (top 20) \\n\")\n",
    "\n",
    "p.hbar(y=fruits, right=counts, height=0.8, fill_color=\"#D02937\", line_color = '#D02937')\n",
    "\n",
    "p.xgrid.grid_line_color = None\n",
    "p.ygrid.grid_line_color = None\n",
    "p.xaxis.axis_label = 'Importance'\n",
    "p.axis.axis_line_color = \"#384049\"\n",
    "p.axis.major_label_text_color = \"#384049\"\n",
    "\n",
    "p.title.align = \"center\"\n",
    "p.title.text_color = \"#384049\"\n",
    "p.title.text_font_size = \"15px\"\n",
    "\n",
    "# change things on all axes\n",
    "p.axis.minor_tick_in = 0\n",
    "p.axis.minor_tick_out = 3\n",
    "p.axis.major_tick_in = 0\n",
    "p.axis.major_tick_out = 6\n",
    "p.axis.major_tick_line_color = \"#384049\"\n",
    "p.axis.minor_tick_line_color = \"#384049\"\n",
    "\n",
    "p.x_range.start = 0\n",
    "\n",
    "show(p)"
   ]
  }
 ],
 "metadata": {
  "kernelspec": {
   "display_name": "Python 3 (ipykernel)",
   "language": "python",
   "name": "python3"
  },
  "language_info": {
   "codemirror_mode": {
    "name": "ipython",
    "version": 3
   },
   "file_extension": ".py",
   "mimetype": "text/x-python",
   "name": "python",
   "nbconvert_exporter": "python",
   "pygments_lexer": "ipython3",
   "version": "3.10.14"
  }
 },
 "nbformat": 4,
 "nbformat_minor": 5
}
