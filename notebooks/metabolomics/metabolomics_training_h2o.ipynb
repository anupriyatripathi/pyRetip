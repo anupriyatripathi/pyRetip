{
 "cells": [
  {
   "cell_type": "markdown",
   "metadata": {},
   "source": [
    "![Retip](../../images/retip_logo.png)\n",
    "# Retip: Retention Time Prediction for Metabolomics and Lipidomics"
   ]
  },
  {
   "cell_type": "markdown",
   "metadata": {},
   "source": [
    "Retip is a python tool for predicting retention times (RTs) of small molecules for high pressure liquid chromatography (HPLC) mass spectrometry. Retention time calculation can be useful in identifying unknowns and removing false positive annotations. The machine learning algorithms included in the tool are: **XGBoost**, **AutoGluon**, **AutoML** from **H2O** and **Random Forest**. This tutorial explains how to train a model with **H2O AutoML**."
   ]
  },
  {
   "cell_type": "markdown",
   "metadata": {},
   "source": [
    "## Training a Model with H2O AutoML"
   ]
  },
  {
   "cell_type": "markdown",
   "metadata": {},
   "source": [
    "[H2O AutoML]((https://docs.h2o.ai/h2o/latest-stable/h2o-docs/automl.html)) is an automatic machine learning tool from [H2O](https://docs.h2o.ai/h2o/latest-stable/h2o-docs/index.html) designed to automate the machine learning workflow, which includes automatic training and tuning of many models within a user-specified time-limit."
   ]
  },
  {
   "cell_type": "markdown",
   "metadata": {},
   "source": [
    "### Loading Data"
   ]
  },
  {
   "cell_type": "markdown",
   "metadata": {},
   "source": [
    "Begin by importing the `retip` library, which provides access to the training, prediction and visualization functions."
   ]
  },
  {
   "cell_type": "code",
   "execution_count": 2,
   "metadata": {},
   "outputs": [],
   "source": [
    "%reload_ext autoreload\n",
    "%autoreload 2\n",
    "try:\n",
    "    import retip\n",
    "except:\n",
    "    # add the parent directory to the path to load the Retip library locally in case it isn't installed\n",
    "    import os, sys\n",
    "    sys.path.insert(1, os.path.join(sys.path[0], '/home/npa/Documentos/pyRetip'))\n",
    "    \n",
    "    import retip"
   ]
  },
  {
   "cell_type": "markdown",
   "metadata": {},
   "source": [
    "The input data should be a compound retention time table in CSV or MS Excel format, containing the compound name, retention time and chemical identifier. Retip currently supports SMILES and PubChem CID as chemical identifiers.\n",
    "\n",
    "Retip will use this input file to build the model and predict retention times for other biochemical databases or an input query list of compounds. It is suggested that the file has at least 300 compounds to build a good retention time prediction model.\n",
    "\n",
    "Use the `retip.Dataset` class to load the data and create a new dataset."
   ]
  },
  {
   "cell_type": "code",
   "execution_count": 2,
   "metadata": {},
   "outputs": [],
   "source": [
    "dataset = retip.Dataset(target_column='RT').load_retip_dataset(\n",
    "    training='/home/npa/Documentos/pyRetip/notebooks/metabolomics/Plasma_positive.xlsx', training_sheet_name='lib_2',\n",
    "    validation='/home/npa/Documentos/pyRetip/notebooks/metabolomics/Plasma_positive.xlsx', validation_sheet_name='ext')"
   ]
  },
  {
   "cell_type": "code",
   "execution_count": 3,
   "metadata": {},
   "outputs": [
    {
     "name": "stdout",
     "output_type": "stream",
     "text": [
      "Training\n",
      "             Name                     InChIKey  \\\n",
      "0       Withanone  FAZIYUIDUNHZRG-UHFFFAOYNA-N   \n",
      "1  Corosolic acid  HFGSQOYIOKBQOW-UHFFFAOYNA-N   \n",
      "\n",
      "                                              SMILES    RT  \n",
      "0  CC(C1CC(C)=C(C)C(=O)O1)C1(O)CCC2C3C4OC4C4(O)CC...  6.82  \n",
      "1  CC1CCC2(CCC3(C)C(=CCC4C5(C)CC(O)C(O)C(C)(C)C5C...  9.89  \n",
      "\n",
      "Validation\n",
      "                                     Name                     InChIKey  \\\n",
      "0       Soyasapogenol E base + O-Hex-HexA  YDNHBSRZSMNZPB-NJAHCQCINA-N   \n",
      "1  Soyasapogenol E base + O-HexA-Hex-dHex  CROUPKILZUPLQA-UHFFFAOYNA-N   \n",
      "\n",
      "                                              SMILES    RT  \n",
      "0  O=C(O)C7OC(OC2CCC3(C)(C4CC=C1C5CC(C)(C)CC(=O)C...  7.84  \n",
      "1  O=C(O)C8OC(OC2CCC3(C)(C4CC=C1C5CC(C)(C)CC(=O)C...  7.62  \n",
      "\n"
     ]
    }
   ],
   "source": [
    "dataset.head(2)"
   ]
  },
  {
   "cell_type": "markdown",
   "metadata": {},
   "source": [
    "Next, the precalculated molecular descriptors can be computed with the [Mordred Molecular Descriptor Calculator](https://github.com/mordred-descriptor/mordred) by calling the `calculate_descriptors` function. Note that molecules that cannot be parsed will be retained the dataset, but cannot be used for model training or validation."
   ]
  },
  {
   "cell_type": "code",
   "execution_count": 4,
   "metadata": {},
   "outputs": [
    {
     "name": "stdout",
     "output_type": "stream",
     "text": [
      "Calculating descriptors for training dataset\n"
     ]
    },
    {
     "name": "stderr",
     "output_type": "stream",
     "text": [
      "100%|██████████| 494/494 [02:15<00:00,  3.64it/s]\n",
      "/home/npa/Documentos/pyRetip/retip/dataset.py:198: FutureWarning: Downcasting behavior in `replace` is deprecated and will be removed in a future version. To retain the old behavior, explicitly call `result.infer_objects(copy=False)`. To opt-in to the future behavior, set `pd.set_option('future.no_silent_downcasting', True)`\n",
      "  descs = descs.replace({False: 0, True: 1})\n"
     ]
    },
    {
     "name": "stdout",
     "output_type": "stream",
     "text": [
      "Calculating descriptors for validation dataset\n"
     ]
    },
    {
     "name": "stderr",
     "output_type": "stream",
     "text": [
      "100%|██████████| 358/358 [03:05<00:00,  1.93it/s]\n",
      "/home/npa/Documentos/pyRetip/retip/dataset.py:198: FutureWarning: Downcasting behavior in `replace` is deprecated and will be removed in a future version. To retain the old behavior, explicitly call `result.infer_objects(copy=False)`. To opt-in to the future behavior, set `pd.set_option('future.no_silent_downcasting', True)`\n",
      "  descs = descs.replace({False: 0, True: 1})\n"
     ]
    }
   ],
   "source": [
    "dataset.calculate_descriptors()"
   ]
  },
  {
   "cell_type": "markdown",
   "metadata": {},
   "source": [
    "The `describe` function shows the shape of the datasets, indicating the number of rows and columns in each dataframe."
   ]
  },
  {
   "cell_type": "code",
   "execution_count": 5,
   "metadata": {},
   "outputs": [
    {
     "name": "stdout",
     "output_type": "stream",
     "text": [
      "Training (494, 1617)\n",
      "Validation (358, 1617)\n"
     ]
    }
   ],
   "source": [
    "dataset.describe()"
   ]
  },
  {
   "cell_type": "markdown",
   "metadata": {},
   "source": [
    "The `preprocess_features` function performs feature reduction by removing features with missing values and to restrict feature sets to descriptors which calculate non-null values for large sets of molecules. It is important to perform this step before training."
   ]
  },
  {
   "cell_type": "code",
   "execution_count": 6,
   "metadata": {},
   "outputs": [
    {
     "name": "stdout",
     "output_type": "stream",
     "text": [
      "Reduced feature set from 1613 to 817\n"
     ]
    }
   ],
   "source": [
    "dataset.preprocess_features('metabolomics')"
   ]
  },
  {
   "cell_type": "markdown",
   "metadata": {},
   "source": [
    "Finally, it is possible to split the data into training and testing sets if it has not been loaded in separate files before. The `split_dataset` function makes that possible.\n",
    "\n",
    "- The `test_size` parameter defines what percentage of the dataset should be used for testing of the model's accuracy (this example uses 20%).\n",
    "- The `seed` parameter sets a specific training/test split for the database, enabling reproducable model training.\n",
    "- The `validation_split` parameter constructs an additional dataset for validation if desired."
   ]
  },
  {
   "cell_type": "code",
   "execution_count": 7,
   "metadata": {},
   "outputs": [],
   "source": [
    "dataset.split_dataset(test_split=0.2, seed=101)"
   ]
  },
  {
   "cell_type": "code",
   "execution_count": 8,
   "metadata": {},
   "outputs": [
    {
     "name": "stdout",
     "output_type": "stream",
     "text": [
      "Training (395, 821)\n",
      "Validation (358, 821)\n",
      "Testing (99, 821)\n"
     ]
    }
   ],
   "source": [
    "dataset.describe()"
   ]
  },
  {
   "cell_type": "markdown",
   "metadata": {},
   "source": [
    "#### Save the new dataset"
   ]
  },
  {
   "cell_type": "markdown",
   "metadata": {},
   "source": [
    "Given that molecular descriptor calculation is a time-comsuming process, it is possible to save the current state of the dataset. Next time this retention time library is needed, simply use this export when loading this dataset instead. Note that there is no need to include a file extension, as Retip will automatically append the dataset type to the filename provided."
   ]
  },
  {
   "cell_type": "code",
   "execution_count": 9,
   "metadata": {},
   "outputs": [
    {
     "name": "stdout",
     "output_type": "stream",
     "text": [
      "Saved training dataset to Plasma_positive_retip_processed_training.csv\n",
      "Saved validation dataset to Plasma_positive_retip_processed_validation.csv\n",
      "Saved testing dataset to Plasma_positive_retip_processed_testing.csv\n"
     ]
    }
   ],
   "source": [
    "dataset.save_retip_dataset('Plasma_positive_retip_processed')"
   ]
  },
  {
   "cell_type": "markdown",
   "metadata": {},
   "source": [
    "This dataset can be loaded by running the `load_retip_dataset` function."
   ]
  },
  {
   "cell_type": "code",
   "execution_count": 5,
   "metadata": {},
   "outputs": [],
   "source": [
    "# dataset = retip.Dataset(target_column='RT').load_retip_dataset(\n",
    "#     'Plasma_positive_retip_processed_training.csv',\n",
    "#     'Plasma_positive_retip_processed_testing.csv',\n",
    "#     'Plasma_positive_retip_processed_validation.csv')"
   ]
  },
  {
   "cell_type": "markdown",
   "metadata": {},
   "source": [
    "### Training the RT Prediction Model"
   ]
  },
  {
   "cell_type": "markdown",
   "metadata": {},
   "source": [
    "Here, the RT prediction model will be trained. First, initialize the `H2OautoMLTrainer` with the dataset with computed descriptors. Set the different parameters:\n",
    "- The `nfolds` parameter indicates the number of folds for k-fold cross-validation of the model in the AutoML (`>=2`). Specify `-1` to let AutoML choose if k-fold cross-validation or blending mode should be used. Use `0` to disable cross-validation, this will also disable Stacked Ensembles. This value defaults to `-1`.\n",
    "- The `training_duration` parameter indicates the maximum training time in minutes. This value defaults to `None`.\n",
    "- The `max_models` paramenter indicates the maximum number of models to build in an AutoML run, excluding the Stacked Ensemble models. This value defaults to `20`.\n",
    "\n",
    "If both parameters (`training_time` and `max_models`) are set, the model will be trained until one of two options is reached."
   ]
  },
  {
   "cell_type": "code",
   "execution_count": 13,
   "metadata": {},
   "outputs": [
    {
     "name": "stdout",
     "output_type": "stream",
     "text": [
      "Checking whether there is an H2O instance running at http://localhost:54321. connected.\n"
     ]
    },
    {
     "data": {
      "text/html": [
       "\n",
       "<style>\n",
       "\n",
       "#h2o-table-2.h2o-container {\n",
       "  overflow-x: auto;\n",
       "}\n",
       "#h2o-table-2 .h2o-table {\n",
       "  /* width: 100%; */\n",
       "  margin-top: 1em;\n",
       "  margin-bottom: 1em;\n",
       "}\n",
       "#h2o-table-2 .h2o-table caption {\n",
       "  white-space: nowrap;\n",
       "  caption-side: top;\n",
       "  text-align: left;\n",
       "  /* margin-left: 1em; */\n",
       "  margin: 0;\n",
       "  font-size: larger;\n",
       "}\n",
       "#h2o-table-2 .h2o-table thead {\n",
       "  white-space: nowrap; \n",
       "  position: sticky;\n",
       "  top: 0;\n",
       "  box-shadow: 0 -1px inset;\n",
       "}\n",
       "#h2o-table-2 .h2o-table tbody {\n",
       "  overflow: auto;\n",
       "}\n",
       "#h2o-table-2 .h2o-table th,\n",
       "#h2o-table-2 .h2o-table td {\n",
       "  text-align: right;\n",
       "  /* border: 1px solid; */\n",
       "}\n",
       "#h2o-table-2 .h2o-table tr:nth-child(even) {\n",
       "  /* background: #F5F5F5 */\n",
       "}\n",
       "\n",
       "</style>      \n",
       "<div id=\"h2o-table-2\" class=\"h2o-container\">\n",
       "  <table class=\"h2o-table\">\n",
       "    <caption></caption>\n",
       "    <thead></thead>\n",
       "    <tbody><tr><td>H2O_cluster_uptime:</td>\n",
       "<td>4 mins 55 secs</td></tr>\n",
       "<tr><td>H2O_cluster_timezone:</td>\n",
       "<td>Europe/Madrid</td></tr>\n",
       "<tr><td>H2O_data_parsing_timezone:</td>\n",
       "<td>UTC</td></tr>\n",
       "<tr><td>H2O_cluster_version:</td>\n",
       "<td>3.46.0.2</td></tr>\n",
       "<tr><td>H2O_cluster_version_age:</td>\n",
       "<td>17 days</td></tr>\n",
       "<tr><td>H2O_cluster_name:</td>\n",
       "<td>H2O_from_python_npa_weiopi</td></tr>\n",
       "<tr><td>H2O_cluster_total_nodes:</td>\n",
       "<td>1</td></tr>\n",
       "<tr><td>H2O_cluster_free_memory:</td>\n",
       "<td>15.67 Gb</td></tr>\n",
       "<tr><td>H2O_cluster_total_cores:</td>\n",
       "<td>16</td></tr>\n",
       "<tr><td>H2O_cluster_allowed_cores:</td>\n",
       "<td>16</td></tr>\n",
       "<tr><td>H2O_cluster_status:</td>\n",
       "<td>locked, healthy</td></tr>\n",
       "<tr><td>H2O_connection_url:</td>\n",
       "<td>http://localhost:54321</td></tr>\n",
       "<tr><td>H2O_connection_proxy:</td>\n",
       "<td>{\"http\": null, \"https\": null}</td></tr>\n",
       "<tr><td>H2O_internal_security:</td>\n",
       "<td>False</td></tr>\n",
       "<tr><td>Python_version:</td>\n",
       "<td>3.10.14 final</td></tr></tbody>\n",
       "  </table>\n",
       "</div>\n"
      ],
      "text/plain": [
       "--------------------------  -----------------------------\n",
       "H2O_cluster_uptime:         4 mins 55 secs\n",
       "H2O_cluster_timezone:       Europe/Madrid\n",
       "H2O_data_parsing_timezone:  UTC\n",
       "H2O_cluster_version:        3.46.0.2\n",
       "H2O_cluster_version_age:    17 days\n",
       "H2O_cluster_name:           H2O_from_python_npa_weiopi\n",
       "H2O_cluster_total_nodes:    1\n",
       "H2O_cluster_free_memory:    15.67 Gb\n",
       "H2O_cluster_total_cores:    16\n",
       "H2O_cluster_allowed_cores:  16\n",
       "H2O_cluster_status:         locked, healthy\n",
       "H2O_connection_url:         http://localhost:54321\n",
       "H2O_connection_proxy:       {\"http\": null, \"https\": null}\n",
       "H2O_internal_security:      False\n",
       "Python_version:             3.10.14 final\n",
       "--------------------------  -----------------------------"
      ]
     },
     "metadata": {},
     "output_type": "display_data"
    },
    {
     "name": "stdout",
     "output_type": "stream",
     "text": [
      "Parse progress: |████████████████████████████████████████████████████████████████| (done) 100%\n",
      "AutoML progress: |\n",
      "16:28:29.142: _train param, Dropping bad and constant columns: [NsF, NaaS, NsI, NsssGeH, NsCl, NssSnH2, C2SP1, SssSiH2, n7aRing, n11aRing, n4FHRing, n7FHRing, n12FaRing, n4HRing, n6FRing, NssssBe, n8aRing, SsssAs, n11AHRing, n12aRing, n8aHRing, SsssSnH, n4FARing, SssssB, SssssSn, SssssSi, NsssssP, NssPH, SaaS, n8AHRing, n9aRing, SsAsH2, SsCl, NsBr, n5FRing, n7FARing, NsNH3, SsSnH3, SsLi, n11Ring, SsssGeH, SssSnH2, nG12aRing, n5FARing, n4aRing, NssssPb, n9AHRing, NssGeH2, SssAsH, NssssB, SssBe, SsSeH, n11aHRing, n5FAHRing, n4FAHRing, SssssBe, NsssB, n7FaRing, NsGeH3, nBr, NssssGe, SssSe, SddssSe, n7FRing, NsLi, NsssP, n10aHRing, n6FaHRing, n6FARing, NssNH2, n4AHRing, n6FaRing, NssBH, nCl, NsPbH3, NssPbH2, n6FHRing, NdssSe, n4FRing, n7aHRing, NsssdAs, SsPH2, SsssssP, n10aRing, SsSiH3, NsssSiH, StCH, SssGeH2, SdSe, SssssPb, n9aHRing, n9ARing, NssBe, NsSeH, n8FaHRing, nB, n7FaHRing, n12FaHRing, n11FaHRing, nF, NaaSe, SdssSe, nI, NsSnH3, NssSe, NddssSe, n9HRing, SsssssAs, n9Ring, SsssB, n5FHRing, nX, SMR_VSA8, SlogP_VSA7, n5FaHRing, NsAsH2, SlogP_VSA9, n5FaRing, NsssAs, SssPbH2, NsPH2, SsssNH, SsssP, SsssdAs, n12aHRing, n8FaRing, n11FaRing, NsssPbH, SssssGe, SssBH, n3aRing, SsF, n11HRing, n4FaRing, SsI, SssNH2, NssSiH2, n7FAHRing, NsSiH3, n8HRing, n6FAHRing, SsBr, SaaSe, NsssNH, SsssSiH, n3aHRing, SsPbH3, NssssSn, NsssSnH, NsssssAs, NssssSi, n11ARing, NssAsH, n4FaHRing, NdSe, SssPH, NtCH, nG12aHRing, SsGeH3, n4aHRing, SsssPbH, SsNH3]\n",
      "\n",
      "█\n",
      "16:28:31.633: _train param, Dropping bad and constant columns: [NsF, NaaS, NsI, NsssGeH, NsCl, NssSnH2, C2SP1, SssSiH2, n7aRing, n11aRing, n4FHRing, n7FHRing, n12FaRing, n4HRing, n6FRing, NssssBe, n8aRing, SsssAs, n11AHRing, n12aRing, n8aHRing, SsssSnH, n4FARing, SssssB, SssssSn, SssssSi, NsssssP, NssPH, SaaS, n8AHRing, n9aRing, SsAsH2, SsCl, NsBr, n5FRing, n7FARing, NsNH3, SsSnH3, SsLi, n11Ring, SsssGeH, SssSnH2, nG12aRing, n5FARing, n4aRing, NssssPb, n9AHRing, NssGeH2, SssAsH, NssssB, SssBe, SsSeH, n11aHRing, n5FAHRing, n4FAHRing, SssssBe, NsssB, n7FaRing, NsGeH3, nBr, NssssGe, SssSe, SddssSe, n7FRing, NsLi, NsssP, n10aHRing, n6FaHRing, n6FARing, NssNH2, n4AHRing, n6FaRing, NssBH, nCl, NsPbH3, NssPbH2, n6FHRing, NdssSe, n4FRing, n7aHRing, NsssdAs, SsPH2, SsssssP, n10aRing, SsSiH3, NsssSiH, StCH, SssGeH2, SdSe, SssssPb, n9aHRing, n9ARing, NssBe, NsSeH, n8FaHRing, nB, n7FaHRing, n12FaHRing, n11FaHRing, nF, NaaSe, SdssSe, nI, NsSnH3, NssSe, NddssSe, n9HRing, SsssssAs, n9Ring, SsssB, n5FHRing, nX, SMR_VSA8, SlogP_VSA7, n5FaHRing, NsAsH2, SlogP_VSA9, n5FaRing, NsssAs, SssPbH2, NsPH2, SsssNH, SsssP, SsssdAs, n12aHRing, n8FaRing, n11FaRing, NsssPbH, SssssGe, SssBH, n3aRing, SsF, n11HRing, n4FaRing, SsI, SssNH2, NssSiH2, n7FAHRing, NsSiH3, n8HRing, n6FAHRing, SsBr, SaaSe, NsssNH, SsssSiH, n3aHRing, SsPbH3, NssssSn, NsssSnH, NsssssAs, NssssSi, n11ARing, NssAsH, n4FaHRing, NdSe, SssPH, NtCH, nG12aHRing, SsGeH3, n4aHRing, SsssPbH, SsNH3]\n",
      "\n",
      "██\n",
      "16:28:33.427: _train param, Dropping bad and constant columns: [NsF, NaaS, NsI, NsssGeH, NsCl, NssSnH2, C2SP1, SssSiH2, n7aRing, n11aRing, n4FHRing, n7FHRing, n12FaRing, n4HRing, n6FRing, NssssBe, n8aRing, SsssAs, n11AHRing, n12aRing, n8aHRing, SsssSnH, n4FARing, SssssB, SssssSn, SssssSi, NsssssP, NssPH, SaaS, n8AHRing, n9aRing, SsAsH2, SsCl, NsBr, n5FRing, n7FARing, NsNH3, SsSnH3, SsLi, n11Ring, SsssGeH, SssSnH2, nG12aRing, n5FARing, n4aRing, NssssPb, n9AHRing, NssGeH2, SssAsH, NssssB, SssBe, SsSeH, n11aHRing, n5FAHRing, n4FAHRing, SssssBe, NsssB, n7FaRing, NsGeH3, nBr, NssssGe, SssSe, SddssSe, n7FRing, NsLi, NsssP, n10aHRing, n6FaHRing, n6FARing, NssNH2, n4AHRing, n6FaRing, NssBH, nCl, NsPbH3, NssPbH2, n6FHRing, NdssSe, n4FRing, n7aHRing, NsssdAs, SsPH2, SsssssP, n10aRing, SsSiH3, NsssSiH, StCH, SssGeH2, SdSe, SssssPb, n9aHRing, n9ARing, NssBe, NsSeH, n8FaHRing, nB, n7FaHRing, n12FaHRing, n11FaHRing, nF, NaaSe, SdssSe, nI, NsSnH3, NssSe, NddssSe, n9HRing, SsssssAs, n9Ring, SsssB, n5FHRing, nX, SMR_VSA8, SlogP_VSA7, n5FaHRing, NsAsH2, SlogP_VSA9, n5FaRing, NsssAs, SssPbH2, NsPH2, SsssNH, SsssP, SsssdAs, n12aHRing, n8FaRing, n11FaRing, NsssPbH, SssssGe, SssBH, n3aRing, SsF, n11HRing, n4FaRing, SsI, SssNH2, NssSiH2, n7FAHRing, NsSiH3, n8HRing, n6FAHRing, SsBr, SaaSe, NsssNH, SsssSiH, n3aHRing, SsPbH3, NssssSn, NsssSnH, NsssssAs, NssssSi, n11ARing, NssAsH, n4FaHRing, NdSe, SssPH, NtCH, nG12aHRing, SsGeH3, n4aHRing, SsssPbH, SsNH3]\n",
      "\n",
      "████████████████████████████████████████████████████████████| (done) 100%\n",
      "\n",
      "16:28:37.775: _train param, Dropping unused columns: [NsF, NaaS, NsI, NsssGeH, NsCl, NssSnH2, C2SP1, SssSiH2, n7aRing, n11aRing, n4FHRing, n7FHRing, n12FaRing, n4HRing, n6FRing, NssssBe, n8aRing, SsssAs, n11AHRing, n12aRing, n8aHRing, SsssSnH, n4FARing, SssssB, SssssSn, SssssSi, NsssssP, NssPH, SaaS, n8AHRing, n9aRing, SsAsH2, SsCl, NsBr, n5FRing, n7FARing, NsNH3, SsSnH3, SsLi, n11Ring, SsssGeH, SssSnH2, nG12aRing, n5FARing, n4aRing, NssssPb, n9AHRing, NssGeH2, SssAsH, NssssB, SssBe, SsSeH, n11aHRing, n5FAHRing, n4FAHRing, SssssBe, NsssB, n7FaRing, NsGeH3, nBr, NssssGe, SssSe, SddssSe, n7FRing, NsLi, NsssP, n10aHRing, n6FaHRing, n6FARing, NssNH2, n4AHRing, n6FaRing, NssBH, nCl, NsPbH3, NssPbH2, n6FHRing, NdssSe, n4FRing, n7aHRing, NsssdAs, SsPH2, SsssssP, n10aRing, SsSiH3, NsssSiH, StCH, SssGeH2, SdSe, SssssPb, n9aHRing, n9ARing, NssBe, NsSeH, n8FaHRing, nB, n7FaHRing, n12FaHRing, n11FaHRing, nF, NaaSe, SdssSe, nI, NsSnH3, NssSe, NddssSe, n9HRing, SsssssAs, n9Ring, SsssB, n5FHRing, nX, SMR_VSA8, SlogP_VSA7, n5FaHRing, NsAsH2, SlogP_VSA9, n5FaRing, NsssAs, SssPbH2, NsPH2, SsssNH, SsssP, SsssdAs, n12aHRing, n8FaRing, n11FaRing, NsssPbH, SssssGe, SssBH, n3aRing, SsF, n11HRing, n4FaRing, SsI, SssNH2, NssSiH2, n7FAHRing, NsSiH3, n8HRing, n6FAHRing, SsBr, SaaSe, NsssNH, SsssSiH, n3aHRing, SsPbH3, NssssSn, NsssSnH, NsssssAs, NssssSi, n11ARing, NssAsH, n4FaHRing, NdSe, SssPH, NtCH, nG12aHRing, SsGeH3, n4aHRing, SsssPbH, SsNH3]\n",
      "\n",
      "Training completed in 0:00:10.519084 with best RMSE 0.378\n"
     ]
    }
   ],
   "source": [
    "trainer = retip.H2OautoMLTrainer(dataset, training_duration=None, max_models=20)\n",
    "trainer.train()"
   ]
  },
  {
   "cell_type": "markdown",
   "metadata": {},
   "source": [
    "The models used to build the `H2OautoMLTrainer` object can be inspected with `trainer.leaderboard`. To view the best model, use `trainer.leader`, or alternatively, use the `trainer.get_model(num_model=0)` function. Furthermore, this function enables the examination of the other models included in the object by specifying the model number based on the order of the `trainer.leaderboard` output."
   ]
  },
  {
   "cell_type": "code",
   "execution_count": 13,
   "metadata": {},
   "outputs": [],
   "source": [
    "# trainer.leaderboard\n",
    "# trainer.leader\n",
    "# trainer.get_model(3)"
   ]
  },
  {
   "cell_type": "markdown",
   "metadata": {},
   "source": [
    "### Testing the RT Prediction Model"
   ]
  },
  {
   "cell_type": "markdown",
   "metadata": {},
   "source": [
    "The model can be scored using the internal testing data of the `Dataset` object, or alternatively pass a dataframe with precomputed descriptors. In that case, the `target_column` needs to be specified. Set the `plot` parameter to `True` to visualize how well the model works. Moreover, it is possible to save the plot indicating the `plot_filename`."
   ]
  },
  {
   "cell_type": "markdown",
   "metadata": {},
   "source": [
    "#### Internal testing data"
   ]
  },
  {
   "cell_type": "code",
   "execution_count": 14,
   "metadata": {},
   "outputs": [
    {
     "name": "stdout",
     "output_type": "stream",
     "text": [
      "Parse progress: |████████████████████████████████████████████████████████████████| (done) 100%\n",
      "stackedensemble prediction progress: |███████████████████████████████████████████| (done) 100%\n",
      "Export File progress: |██████████████████████████████████████████████████████████| (done) 100%\n"
     ]
    },
    {
     "data": {
      "text/html": [
       "    <style>\n",
       "        .bk-notebook-logo {\n",
       "            display: block;\n",
       "            width: 20px;\n",
       "            height: 20px;\n",
       "            background-image: url(data:image/png;base64,iVBORw0KGgoAAAANSUhEUgAAABQAAAAUCAYAAACNiR0NAAAABHNCSVQICAgIfAhkiAAAAAlwSFlzAAALEgAACxIB0t1+/AAAABx0RVh0U29mdHdhcmUAQWRvYmUgRmlyZXdvcmtzIENTNui8sowAAAOkSURBVDiNjZRtaJVlGMd/1/08zzln5zjP1LWcU9N0NkN8m2CYjpgQYQXqSs0I84OLIC0hkEKoPtiH3gmKoiJDU7QpLgoLjLIQCpEsNJ1vqUOdO7ppbuec5+V+rj4ctwzd8IIbbi6u+8f1539dt3A78eXC7QizUF7gyV1fD1Yqg4JWz84yffhm0qkFqBogB9rM8tZdtwVsPUhWhGcFJngGeWrPzHm5oaMmkfEg1usvLFyc8jLRqDOMru7AyC8saQr7GG7f5fvDeH7Ej8CM66nIF+8yngt6HWaKh7k49Soy9nXurCi1o3qUbS3zWfrYeQDTB/Qj6kX6Ybhw4B+bOYoLKCC9H3Nu/leUTZ1JdRWkkn2ldcCamzrcf47KKXdAJllSlxAOkRgyHsGC/zRday5Qld9DyoM4/q/rUoy/CXh3jzOu3bHUVZeU+DEn8FInkPBFlu3+nW3Nw0mk6vCDiWg8CeJaxEwuHS3+z5RgY+YBR6V1Z1nxSOfoaPa4LASWxxdNp+VWTk7+4vzaou8v8PN+xo+KY2xsw6une2frhw05CTYOmQvsEhjhWjn0bmXPjpE1+kplmmkP3suftwTubK9Vq22qKmrBhpY4jvd5afdRA3wGjFAgcnTK2s4hY0/GPNIb0nErGMCRxWOOX64Z8RAC4oCXdklmEvcL8o0BfkNK4lUg9HTl+oPlQxdNo3Mg4Nv175e/1LDGzZen30MEjRUtmXSfiTVu1kK8W4txyV6BMKlbgk3lMwYCiusNy9fVfvvwMxv8Ynl6vxoByANLTWplvuj/nF9m2+PDtt1eiHPBr1oIfhCChQMBw6Aw0UulqTKZdfVvfG7VcfIqLG9bcldL/+pdWTLxLUy8Qq38heUIjh4XlzZxzQm19lLFlr8vdQ97rjZVOLf8nclzckbcD4wxXMidpX30sFd37Fv/GtwwhzhxGVAprjbg0gCAEeIgwCZyTV2Z1REEW8O4py0wsjeloKoMr6iCY6dP92H6Vw/oTyICIthibxjm/DfN9lVz8IqtqKYLUXfoKVMVQVVJOElGjrnnUt9T9wbgp8AyYKaGlqingHZU/uG2NTZSVqwHQTWkx9hxjkpWDaCg6Ckj5qebgBVbT3V3NNXMSiWSDdGV3hrtzla7J+duwPOToIg42ChPQOQjspnSlp1V+Gjdged7+8UN5CRAV7a5EdFNwCjEaBR27b3W890TE7g24NAP/mMDXRWrGoFPQI9ls/MWO2dWFAar/xcOIImbbpA3zgAAAABJRU5ErkJggg==);\n",
       "        }\n",
       "    </style>\n",
       "    <div>\n",
       "        <a href=\"https://bokeh.org\" target=\"_blank\" class=\"bk-notebook-logo\"></a>\n",
       "        <span id=\"be72b7af-76e1-4edc-ab90-c4c7e8002b30\">Loading BokehJS ...</span>\n",
       "    </div>\n"
      ]
     },
     "metadata": {},
     "output_type": "display_data"
    },
    {
     "data": {
      "application/javascript": "'use strict';\n(function(root) {\n  function now() {\n    return new Date();\n  }\n\n  const force = true;\n\n  if (typeof root._bokeh_onload_callbacks === \"undefined\" || force === true) {\n    root._bokeh_onload_callbacks = [];\n    root._bokeh_is_loading = undefined;\n  }\n\nconst JS_MIME_TYPE = 'application/javascript';\n  const HTML_MIME_TYPE = 'text/html';\n  const EXEC_MIME_TYPE = 'application/vnd.bokehjs_exec.v0+json';\n  const CLASS_NAME = 'output_bokeh rendered_html';\n\n  /**\n   * Render data to the DOM node\n   */\n  function render(props, node) {\n    const script = document.createElement(\"script\");\n    node.appendChild(script);\n  }\n\n  /**\n   * Handle when an output is cleared or removed\n   */\n  function handleClearOutput(event, handle) {\n    function drop(id) {\n      const view = Bokeh.index.get_by_id(id)\n      if (view != null) {\n        view.model.document.clear()\n        Bokeh.index.delete(view)\n      }\n    }\n\n    const cell = handle.cell;\n\n    const id = cell.output_area._bokeh_element_id;\n    const server_id = cell.output_area._bokeh_server_id;\n\n    // Clean up Bokeh references\n    if (id != null) {\n      drop(id)\n    }\n\n    if (server_id !== undefined) {\n      // Clean up Bokeh references\n      const cmd_clean = \"from bokeh.io.state import curstate; print(curstate().uuid_to_server['\" + server_id + \"'].get_sessions()[0].document.roots[0]._id)\";\n      cell.notebook.kernel.execute(cmd_clean, {\n        iopub: {\n          output: function(msg) {\n            const id = msg.content.text.trim()\n            drop(id)\n          }\n        }\n      });\n      // Destroy server and session\n      const cmd_destroy = \"import bokeh.io.notebook as ion; ion.destroy_server('\" + server_id + \"')\";\n      cell.notebook.kernel.execute(cmd_destroy);\n    }\n  }\n\n  /**\n   * Handle when a new output is added\n   */\n  function handleAddOutput(event, handle) {\n    const output_area = handle.output_area;\n    const output = handle.output;\n\n    // limit handleAddOutput to display_data with EXEC_MIME_TYPE content only\n    if ((output.output_type != \"display_data\") || (!Object.prototype.hasOwnProperty.call(output.data, EXEC_MIME_TYPE))) {\n      return\n    }\n\n    const toinsert = output_area.element.find(\".\" + CLASS_NAME.split(' ')[0]);\n\n    if (output.metadata[EXEC_MIME_TYPE][\"id\"] !== undefined) {\n      toinsert[toinsert.length - 1].firstChild.textContent = output.data[JS_MIME_TYPE];\n      // store reference to embed id on output_area\n      output_area._bokeh_element_id = output.metadata[EXEC_MIME_TYPE][\"id\"];\n    }\n    if (output.metadata[EXEC_MIME_TYPE][\"server_id\"] !== undefined) {\n      const bk_div = document.createElement(\"div\");\n      bk_div.innerHTML = output.data[HTML_MIME_TYPE];\n      const script_attrs = bk_div.children[0].attributes;\n      for (let i = 0; i < script_attrs.length; i++) {\n        toinsert[toinsert.length - 1].firstChild.setAttribute(script_attrs[i].name, script_attrs[i].value);\n        toinsert[toinsert.length - 1].firstChild.textContent = bk_div.children[0].textContent\n      }\n      // store reference to server id on output_area\n      output_area._bokeh_server_id = output.metadata[EXEC_MIME_TYPE][\"server_id\"];\n    }\n  }\n\n  function register_renderer(events, OutputArea) {\n\n    function append_mime(data, metadata, element) {\n      // create a DOM node to render to\n      const toinsert = this.create_output_subarea(\n        metadata,\n        CLASS_NAME,\n        EXEC_MIME_TYPE\n      );\n      this.keyboard_manager.register_events(toinsert);\n      // Render to node\n      const props = {data: data, metadata: metadata[EXEC_MIME_TYPE]};\n      render(props, toinsert[toinsert.length - 1]);\n      element.append(toinsert);\n      return toinsert\n    }\n\n    /* Handle when an output is cleared or removed */\n    events.on('clear_output.CodeCell', handleClearOutput);\n    events.on('delete.Cell', handleClearOutput);\n\n    /* Handle when a new output is added */\n    events.on('output_added.OutputArea', handleAddOutput);\n\n    /**\n     * Register the mime type and append_mime function with output_area\n     */\n    OutputArea.prototype.register_mime_type(EXEC_MIME_TYPE, append_mime, {\n      /* Is output safe? */\n      safe: true,\n      /* Index of renderer in `output_area.display_order` */\n      index: 0\n    });\n  }\n\n  // register the mime type if in Jupyter Notebook environment and previously unregistered\n  if (root.Jupyter !== undefined) {\n    const events = require('base/js/events');\n    const OutputArea = require('notebook/js/outputarea').OutputArea;\n\n    if (OutputArea.prototype.mime_types().indexOf(EXEC_MIME_TYPE) == -1) {\n      register_renderer(events, OutputArea);\n    }\n  }\n  if (typeof (root._bokeh_timeout) === \"undefined\" || force === true) {\n    root._bokeh_timeout = Date.now() + 5000;\n    root._bokeh_failed_load = false;\n  }\n\n  const NB_LOAD_WARNING = {'data': {'text/html':\n     \"<div style='background-color: #fdd'>\\n\"+\n     \"<p>\\n\"+\n     \"BokehJS does not appear to have successfully loaded. If loading BokehJS from CDN, this \\n\"+\n     \"may be due to a slow or bad network connection. Possible fixes:\\n\"+\n     \"</p>\\n\"+\n     \"<ul>\\n\"+\n     \"<li>re-rerun `output_notebook()` to attempt to load from CDN again, or</li>\\n\"+\n     \"<li>use INLINE resources instead, as so:</li>\\n\"+\n     \"</ul>\\n\"+\n     \"<code>\\n\"+\n     \"from bokeh.resources import INLINE\\n\"+\n     \"output_notebook(resources=INLINE)\\n\"+\n     \"</code>\\n\"+\n     \"</div>\"}};\n\n  function display_loaded(error = null) {\n    const el = document.getElementById(\"be72b7af-76e1-4edc-ab90-c4c7e8002b30\");\n    if (el != null) {\n      const html = (() => {\n        if (typeof root.Bokeh === \"undefined\") {\n          if (error == null) {\n            return \"BokehJS is loading ...\";\n          } else {\n            return \"BokehJS failed to load.\";\n          }\n        } else {\n          const prefix = `BokehJS ${root.Bokeh.version}`;\n          if (error == null) {\n            return `${prefix} successfully loaded.`;\n          } else {\n            return `${prefix} <b>encountered errors</b> while loading and may not function as expected.`;\n          }\n        }\n      })();\n      el.innerHTML = html;\n\n      if (error != null) {\n        const wrapper = document.createElement(\"div\");\n        wrapper.style.overflow = \"auto\";\n        wrapper.style.height = \"5em\";\n        wrapper.style.resize = \"vertical\";\n        const content = document.createElement(\"div\");\n        content.style.fontFamily = \"monospace\";\n        content.style.whiteSpace = \"pre-wrap\";\n        content.style.backgroundColor = \"rgb(255, 221, 221)\";\n        content.textContent = error.stack ?? error.toString();\n        wrapper.append(content);\n        el.append(wrapper);\n      }\n    } else if (Date.now() < root._bokeh_timeout) {\n      setTimeout(() => display_loaded(error), 100);\n    }\n  }\n\n  function run_callbacks() {\n    try {\n      root._bokeh_onload_callbacks.forEach(function(callback) {\n        if (callback != null)\n          callback();\n      });\n    } finally {\n      delete root._bokeh_onload_callbacks\n    }\n    console.debug(\"Bokeh: all callbacks have finished\");\n  }\n\n  function load_libs(css_urls, js_urls, callback) {\n    if (css_urls == null) css_urls = [];\n    if (js_urls == null) js_urls = [];\n\n    root._bokeh_onload_callbacks.push(callback);\n    if (root._bokeh_is_loading > 0) {\n      console.debug(\"Bokeh: BokehJS is being loaded, scheduling callback at\", now());\n      return null;\n    }\n    if (js_urls == null || js_urls.length === 0) {\n      run_callbacks();\n      return null;\n    }\n    console.debug(\"Bokeh: BokehJS not loaded, scheduling load and callback at\", now());\n    root._bokeh_is_loading = css_urls.length + js_urls.length;\n\n    function on_load() {\n      root._bokeh_is_loading--;\n      if (root._bokeh_is_loading === 0) {\n        console.debug(\"Bokeh: all BokehJS libraries/stylesheets loaded\");\n        run_callbacks()\n      }\n    }\n\n    function on_error(url) {\n      console.error(\"failed to load \" + url);\n    }\n\n    for (let i = 0; i < css_urls.length; i++) {\n      const url = css_urls[i];\n      const element = document.createElement(\"link\");\n      element.onload = on_load;\n      element.onerror = on_error.bind(null, url);\n      element.rel = \"stylesheet\";\n      element.type = \"text/css\";\n      element.href = url;\n      console.debug(\"Bokeh: injecting link tag for BokehJS stylesheet: \", url);\n      document.body.appendChild(element);\n    }\n\n    for (let i = 0; i < js_urls.length; i++) {\n      const url = js_urls[i];\n      const element = document.createElement('script');\n      element.onload = on_load;\n      element.onerror = on_error.bind(null, url);\n      element.async = false;\n      element.src = url;\n      console.debug(\"Bokeh: injecting script tag for BokehJS library: \", url);\n      document.head.appendChild(element);\n    }\n  };\n\n  function inject_raw_css(css) {\n    const element = document.createElement(\"style\");\n    element.appendChild(document.createTextNode(css));\n    document.body.appendChild(element);\n  }\n\n  const js_urls = [\"https://cdn.bokeh.org/bokeh/release/bokeh-3.4.1.min.js\", \"https://cdn.bokeh.org/bokeh/release/bokeh-gl-3.4.1.min.js\", \"https://cdn.bokeh.org/bokeh/release/bokeh-widgets-3.4.1.min.js\", \"https://cdn.bokeh.org/bokeh/release/bokeh-tables-3.4.1.min.js\", \"https://cdn.bokeh.org/bokeh/release/bokeh-mathjax-3.4.1.min.js\"];\n  const css_urls = [];\n\n  const inline_js = [    function(Bokeh) {\n      Bokeh.set_log_level(\"info\");\n    },\nfunction(Bokeh) {\n    }\n  ];\n\n  function run_inline_js() {\n    if (root.Bokeh !== undefined || force === true) {\n      try {\n            for (let i = 0; i < inline_js.length; i++) {\n      inline_js[i].call(root, root.Bokeh);\n    }\n\n      } catch (error) {display_loaded(error);throw error;\n      }if (force === true) {\n        display_loaded();\n      }} else if (Date.now() < root._bokeh_timeout) {\n      setTimeout(run_inline_js, 100);\n    } else if (!root._bokeh_failed_load) {\n      console.log(\"Bokeh: BokehJS failed to load within specified timeout.\");\n      root._bokeh_failed_load = true;\n    } else if (force !== true) {\n      const cell = $(document.getElementById(\"be72b7af-76e1-4edc-ab90-c4c7e8002b30\")).parents('.cell').data().cell;\n      cell.output_area.append_execute_result(NB_LOAD_WARNING)\n    }\n  }\n\n  if (root._bokeh_is_loading === 0) {\n    console.debug(\"Bokeh: BokehJS loaded, going straight to plotting\");\n    run_inline_js();\n  } else {\n    load_libs(css_urls, js_urls, function() {\n      console.debug(\"Bokeh: BokehJS plotting callback run at\", now());\n      run_inline_js();\n    });\n  }\n}(window));",
      "application/vnd.bokehjs_load.v0+json": ""
     },
     "metadata": {},
     "output_type": "display_data"
    },
    {
     "data": {
      "text/html": [
       "\n",
       "  <div id=\"bc249799-2457-421f-a38b-00a4c7bf4033\" data-root-id=\"p1001\" style=\"display: contents;\"></div>\n"
      ]
     },
     "metadata": {},
     "output_type": "display_data"
    },
    {
     "data": {
      "application/javascript": "(function(root) {\n  function embed_document(root) {\n  const docs_json = {\"877aa3ce-0ba6-4464-b245-e7775f89eade\":{\"version\":\"3.4.1\",\"title\":\"Bokeh Application\",\"roots\":[{\"type\":\"object\",\"name\":\"Figure\",\"id\":\"p1001\",\"attributes\":{\"x_range\":{\"type\":\"object\",\"name\":\"DataRange1d\",\"id\":\"p1002\"},\"y_range\":{\"type\":\"object\",\"name\":\"DataRange1d\",\"id\":\"p1003\"},\"x_scale\":{\"type\":\"object\",\"name\":\"LinearScale\",\"id\":\"p1010\"},\"y_scale\":{\"type\":\"object\",\"name\":\"LinearScale\",\"id\":\"p1011\"},\"title\":{\"type\":\"object\",\"name\":\"Title\",\"id\":\"p1008\"},\"renderers\":[{\"type\":\"object\",\"name\":\"GlyphRenderer\",\"id\":\"p1039\",\"attributes\":{\"data_source\":{\"type\":\"object\",\"name\":\"ColumnDataSource\",\"id\":\"p1033\",\"attributes\":{\"selected\":{\"type\":\"object\",\"name\":\"Selection\",\"id\":\"p1034\",\"attributes\":{\"indices\":[],\"line_indices\":[]}},\"selection_policy\":{\"type\":\"object\",\"name\":\"UnionRenderers\",\"id\":\"p1035\"},\"data\":{\"type\":\"map\",\"entries\":[[\"x\",{\"type\":\"ndarray\",\"array\":{\"type\":\"bytes\",\"data\":\"CtejcD0KFEApXI/C9SgXQIXrUbgehQdACtejcD0KEEDsUbgehesJQM3MzMzMzApAKVyPwvUoJECPwvUoXI8IQOxRuB6F6/0/SOF6FK5HC0B7FK5H4XoMQArXo3A9CglAH4XrUbgeB0CamZmZmZkQQJqZmZmZmQ1AXI/C9ShcHkDhehSuR+EKQAAAAAAAgCBAUrgehetRIECuR+F6FK4RQGZmZmZmZgpAzczMzMzMHUDhehSuR+ECQIXrUbgehQtA9ihcj8L1CEAK16NwPQoiQIXrUbgehRVAZmZmZmZmBEAfhetRuB4QQM3MzMzMzPw/ZmZmZmZmIEDhehSuR+EMQHE9CtejcB1ApHA9Ctej/D9cj8L1KFwRQGZmZmZmZgRAmpmZmZmZFEBmZmZmZmYOQB+F61G4Hg9AmpmZmZmZGUBxPQrXo3ARQKRwPQrXowJAMzMzMzMzCUC4HoXrUbgGQMP1KFyPwhpAmpmZmZmZBUDD9Shcj8ILQArXo3A9iiNA9ihcj8L1EEDNzMzMzEwhQD0K16NwPQRAcT0K16NwCUBcj8L1KFwcQEjhehSuRwNA16NwPQrXE0DhehSuR+ERQMP1KFyPwhhAuB6F61G4AkBSuB6F61EKQHE9CtejcA1ACtejcD0KEUAK16NwPQoSQJqZmZmZmQlAAAAAAACAIUC4HoXrUbgTQM3MzMzMzB1A4XoUrkfhHUAUrkfhehQOQHE9CtejcBlAH4XrUbgeDUAAAAAAAAAUQNejcD0K1xBAKVyPwvUoEEDD9Shcj0IjQPYoXI/C9RFAZmZmZmZmEkDXo3A9CtcTQHE9CtejcAdAw/UoXI/CC0CamZmZmZkNQEjhehSuRwlAKVyPwvUoGEAK16NwPQoLQM3MzMzMzBRAXI/C9ShcC0BI4XoUrkf9P3E9CtejcBVAUrgehetR/D+uR+F6FK4JQB+F61G4HhRArkfhehSuFUCkcD0K16MAQEjhehSuRx9AmpmZmZmZE0AK16NwPQoVQHE9CtejcBZAXI/C9SjcIUBSuB6F61EMQArXo3A9CgNA\"},\"shape\":[99],\"dtype\":\"float64\",\"order\":\"little\"}],[\"y\",{\"type\":\"ndarray\",\"array\":{\"type\":\"bytes\",\"data\":\"Rnc59znsE0AY+sDSRd8XQFZPLJxqUgRAKLjYPo3UEUBFU8f0LPsPQO8O/kfUCgxAw9P/FNCDIkB9+fVEP1UFQJAzygk7iv0/YUW8HQAvCUAgxYFNolcXQFAo5hLrKAhAXVgfp9CACkCozFezJqcQQO3EKLy0QA5Ag36j19gzGEC5pRO+CZYIQPDUCAaEkRxAWP+zfoS+GUBJ9JsPveQQQPztEehMEAlAHrx6m4u0HECSqMwl1/39Pz0yJI0NXgZAzdcXqt29B0CcK3embQQiQMj2/QBwqhdAdlSNvYiT9T9i2WWAZUQQQN0dOnckb/Q/BtoFIxblHUArQT3RknEPQGA9J06xoB1A+gH6Tw1SBUAPwKh6QzgQQPzYW4kJsgRAOpvxWtv9GEDxgi7YhegGQFHyA/o9vA1AcNfiQuPWGkCcXI8nlE4SQC7SPDTbyf0/zdfpE7s4DkBJiJ6HaOIBQAYmBQfcLRxAvReLy8tbCkAFU1/X+c4MQNGMGhi6CSJARFCBfAP4EEBnv/fWIN8gQHbWDl2e8wRACmVqEdLYCkDUNosWGEAcQA7XV4Obsvg/HzDPllUsFkAmpbYmH+YQQCTF8ZKPgBhAZbqBMjFQDEA+AN9ve2EGQGWLB2YoZAxAXZEPF411E0CIz2hdIdcRQAsCyUj4QgtAQjYx0ufJGkBc5RvnIUAUQLq3n1jCvR1ASG+Htjo1GkCt4NmfAVcPQKFGz2nzHhlAVxwZVFChDUDskEdGrbEXQBp4pExKBxFAe7ZFa2gOD0B+XESRbDEfQJJayOCJRhNAc9Tm5VvTCEBU0WucIYsWQOMHmG5W9w1A2hvamDN1FUCtAE+camYQQJkFZBrjZwxAlX+rfHz9F0Dt4L70lAkPQEyWEOYq9xRAkUXml6SGB0A2USSDtUz+P56PYvuqQRNAA1iI0GKbAkBzkbKC4BIPQDJBOOgTRx1AKMQO1Q5GFEAuzezzDrX0P7aEtFIBoRlAMl1yh7oIFEArS2HU1xsUQI+JwPhGqBVA0AtX8NphHUC0AFC5sH8KQB7+iS8PwvQ/\"},\"shape\":[99],\"dtype\":\"float64\",\"order\":\"little\"}]]}}},\"view\":{\"type\":\"object\",\"name\":\"CDSView\",\"id\":\"p1040\",\"attributes\":{\"filter\":{\"type\":\"object\",\"name\":\"AllIndices\",\"id\":\"p1041\"}}},\"glyph\":{\"type\":\"object\",\"name\":\"Scatter\",\"id\":\"p1036\",\"attributes\":{\"x\":{\"type\":\"field\",\"field\":\"x\"},\"y\":{\"type\":\"field\",\"field\":\"y\"},\"size\":{\"type\":\"value\",\"value\":3},\"line_color\":{\"type\":\"value\",\"value\":\"#1f77b4\"},\"fill_color\":{\"type\":\"value\",\"value\":\"#1f77b4\"}}},\"nonselection_glyph\":{\"type\":\"object\",\"name\":\"Scatter\",\"id\":\"p1037\",\"attributes\":{\"x\":{\"type\":\"field\",\"field\":\"x\"},\"y\":{\"type\":\"field\",\"field\":\"y\"},\"size\":{\"type\":\"value\",\"value\":3},\"line_color\":{\"type\":\"value\",\"value\":\"#1f77b4\"},\"line_alpha\":{\"type\":\"value\",\"value\":0.1},\"fill_color\":{\"type\":\"value\",\"value\":\"#1f77b4\"},\"fill_alpha\":{\"type\":\"value\",\"value\":0.1},\"hatch_alpha\":{\"type\":\"value\",\"value\":0.1}}},\"muted_glyph\":{\"type\":\"object\",\"name\":\"Scatter\",\"id\":\"p1038\",\"attributes\":{\"x\":{\"type\":\"field\",\"field\":\"x\"},\"y\":{\"type\":\"field\",\"field\":\"y\"},\"size\":{\"type\":\"value\",\"value\":3},\"line_color\":{\"type\":\"value\",\"value\":\"#1f77b4\"},\"line_alpha\":{\"type\":\"value\",\"value\":0.2},\"fill_color\":{\"type\":\"value\",\"value\":\"#1f77b4\"},\"fill_alpha\":{\"type\":\"value\",\"value\":0.2},\"hatch_alpha\":{\"type\":\"value\",\"value\":0.2}}}}}],\"toolbar\":{\"type\":\"object\",\"name\":\"Toolbar\",\"id\":\"p1009\",\"attributes\":{\"tools\":[{\"type\":\"object\",\"name\":\"PanTool\",\"id\":\"p1022\"},{\"type\":\"object\",\"name\":\"WheelZoomTool\",\"id\":\"p1023\",\"attributes\":{\"renderers\":\"auto\"}},{\"type\":\"object\",\"name\":\"BoxZoomTool\",\"id\":\"p1024\",\"attributes\":{\"overlay\":{\"type\":\"object\",\"name\":\"BoxAnnotation\",\"id\":\"p1025\",\"attributes\":{\"syncable\":false,\"level\":\"overlay\",\"visible\":false,\"left\":{\"type\":\"number\",\"value\":\"nan\"},\"right\":{\"type\":\"number\",\"value\":\"nan\"},\"top\":{\"type\":\"number\",\"value\":\"nan\"},\"bottom\":{\"type\":\"number\",\"value\":\"nan\"},\"left_units\":\"canvas\",\"right_units\":\"canvas\",\"top_units\":\"canvas\",\"bottom_units\":\"canvas\",\"line_color\":\"black\",\"line_alpha\":1.0,\"line_width\":2,\"line_dash\":[4,4],\"fill_color\":\"lightgrey\",\"fill_alpha\":0.5}}}},{\"type\":\"object\",\"name\":\"SaveTool\",\"id\":\"p1030\"},{\"type\":\"object\",\"name\":\"ResetTool\",\"id\":\"p1031\"},{\"type\":\"object\",\"name\":\"HelpTool\",\"id\":\"p1032\"}]}},\"left\":[{\"type\":\"object\",\"name\":\"LinearAxis\",\"id\":\"p1017\",\"attributes\":{\"ticker\":{\"type\":\"object\",\"name\":\"BasicTicker\",\"id\":\"p1018\",\"attributes\":{\"mantissas\":[1,2,5]}},\"formatter\":{\"type\":\"object\",\"name\":\"BasicTickFormatter\",\"id\":\"p1019\"},\"axis_label\":\"Predicted RT\",\"major_label_policy\":{\"type\":\"object\",\"name\":\"AllLabels\",\"id\":\"p1020\"}}}],\"below\":[{\"type\":\"object\",\"name\":\"LinearAxis\",\"id\":\"p1012\",\"attributes\":{\"ticker\":{\"type\":\"object\",\"name\":\"BasicTicker\",\"id\":\"p1013\",\"attributes\":{\"mantissas\":[1,2,5]}},\"formatter\":{\"type\":\"object\",\"name\":\"BasicTickFormatter\",\"id\":\"p1014\"},\"axis_label\":\"Library RT\",\"major_label_policy\":{\"type\":\"object\",\"name\":\"AllLabels\",\"id\":\"p1015\"}}}],\"center\":[{\"type\":\"object\",\"name\":\"Grid\",\"id\":\"p1016\",\"attributes\":{\"axis\":{\"id\":\"p1012\"}}},{\"type\":\"object\",\"name\":\"Grid\",\"id\":\"p1021\",\"attributes\":{\"dimension\":1,\"axis\":{\"id\":\"p1017\"}}},{\"type\":\"object\",\"name\":\"Slope\",\"id\":\"p1042\",\"attributes\":{\"gradient\":1,\"y_intercept\":0,\"line_alpha\":0.5}},{\"type\":\"object\",\"name\":\"Slope\",\"id\":\"p1043\",\"attributes\":{\"gradient\":0.8596574381805205,\"y_intercept\":0.5705522340847079,\"line_color\":\"blue\"}}]}}]}};\n  const render_items = [{\"docid\":\"877aa3ce-0ba6-4464-b245-e7775f89eade\",\"roots\":{\"p1001\":\"bc249799-2457-421f-a38b-00a4c7bf4033\"},\"root_ids\":[\"p1001\"]}];\n  void root.Bokeh.embed.embed_items_notebook(docs_json, render_items);\n  }\n  if (root.Bokeh !== undefined) {\n    embed_document(root);\n  } else {\n    let attempts = 0;\n    const timer = setInterval(function(root) {\n      if (root.Bokeh !== undefined) {\n        clearInterval(timer);\n        embed_document(root);\n      } else {\n        attempts++;\n        if (attempts > 100) {\n          clearInterval(timer);\n          console.log(\"Bokeh: ERROR: Unable to run BokehJS code because BokehJS library is missing\");\n        }\n      }\n    }, 10, root)\n  }\n})(window);",
      "application/vnd.bokehjs_exec.v0+json": ""
     },
     "metadata": {
      "application/vnd.bokehjs_exec.v0+json": {
       "id": "p1001"
      }
     },
     "output_type": "display_data"
    },
    {
     "name": "stderr",
     "output_type": "stream",
     "text": [
      "/home/npa/miniconda3/envs/pyretip/lib/python3.10/site-packages/sklearn/metrics/_regression.py:483: FutureWarning: 'squared' is deprecated in version 1.4 and will be removed in 1.6. To calculate the root mean squared error, use the function'root_mean_squared_error'.\n",
      "  warnings.warn(\n"
     ]
    },
    {
     "data": {
      "text/plain": [
       "{'root_mean_squared_error': 0.7518093232781802,\n",
       " 'mean_squared_error': 0.5652172585679952,\n",
       " 'mean_absolute_error': 0.5286310080732386,\n",
       " 'median_absolute_error': 0.3547846505062493,\n",
       " 'explained_variance_score': 0.8661380163386991,\n",
       " 'mean_absolute_percentage_error': 0.13172003232593252,\n",
       " 'absolute_median_relative_error': 0.08160248860206817,\n",
       " 'r2_score': 0.8647833510781637,\n",
       " 'pearson_correlation': 0.9306918080901826,\n",
       " '90_percent_confidence_interval': 1.033894318228597,\n",
       " '95_percent_confidence_interval': 1.3056565579737929}"
      ]
     },
     "execution_count": 14,
     "metadata": {},
     "output_type": "execute_result"
    }
   ],
   "source": [
    "trainer.score(plot=True)"
   ]
  },
  {
   "cell_type": "markdown",
   "metadata": {},
   "source": [
    "#### External Validation"
   ]
  },
  {
   "cell_type": "markdown",
   "metadata": {},
   "source": [
    "The model can be tested using the external dataset that we loaded initially. The target column must be specified."
   ]
  },
  {
   "cell_type": "code",
   "execution_count": 15,
   "metadata": {},
   "outputs": [
    {
     "name": "stdout",
     "output_type": "stream",
     "text": [
      "Parse progress: |████████████████████████████████████████████████████████████████| (done) 100%\n",
      "stackedensemble prediction progress: |███████████████████████████████████████████| (done) 100%\n",
      "Export File progress: |██████████████████████████████████████████████████████████| (done) 100%\n"
     ]
    },
    {
     "data": {
      "text/html": [
       "    <style>\n",
       "        .bk-notebook-logo {\n",
       "            display: block;\n",
       "            width: 20px;\n",
       "            height: 20px;\n",
       "            background-image: url(data:image/png;base64,iVBORw0KGgoAAAANSUhEUgAAABQAAAAUCAYAAACNiR0NAAAABHNCSVQICAgIfAhkiAAAAAlwSFlzAAALEgAACxIB0t1+/AAAABx0RVh0U29mdHdhcmUAQWRvYmUgRmlyZXdvcmtzIENTNui8sowAAAOkSURBVDiNjZRtaJVlGMd/1/08zzln5zjP1LWcU9N0NkN8m2CYjpgQYQXqSs0I84OLIC0hkEKoPtiH3gmKoiJDU7QpLgoLjLIQCpEsNJ1vqUOdO7ppbuec5+V+rj4ctwzd8IIbbi6u+8f1539dt3A78eXC7QizUF7gyV1fD1Yqg4JWz84yffhm0qkFqBogB9rM8tZdtwVsPUhWhGcFJngGeWrPzHm5oaMmkfEg1usvLFyc8jLRqDOMru7AyC8saQr7GG7f5fvDeH7Ej8CM66nIF+8yngt6HWaKh7k49Soy9nXurCi1o3qUbS3zWfrYeQDTB/Qj6kX6Ybhw4B+bOYoLKCC9H3Nu/leUTZ1JdRWkkn2ldcCamzrcf47KKXdAJllSlxAOkRgyHsGC/zRday5Qld9DyoM4/q/rUoy/CXh3jzOu3bHUVZeU+DEn8FInkPBFlu3+nW3Nw0mk6vCDiWg8CeJaxEwuHS3+z5RgY+YBR6V1Z1nxSOfoaPa4LASWxxdNp+VWTk7+4vzaou8v8PN+xo+KY2xsw6une2frhw05CTYOmQvsEhjhWjn0bmXPjpE1+kplmmkP3suftwTubK9Vq22qKmrBhpY4jvd5afdRA3wGjFAgcnTK2s4hY0/GPNIb0nErGMCRxWOOX64Z8RAC4oCXdklmEvcL8o0BfkNK4lUg9HTl+oPlQxdNo3Mg4Nv175e/1LDGzZen30MEjRUtmXSfiTVu1kK8W4txyV6BMKlbgk3lMwYCiusNy9fVfvvwMxv8Ynl6vxoByANLTWplvuj/nF9m2+PDtt1eiHPBr1oIfhCChQMBw6Aw0UulqTKZdfVvfG7VcfIqLG9bcldL/+pdWTLxLUy8Qq38heUIjh4XlzZxzQm19lLFlr8vdQ97rjZVOLf8nclzckbcD4wxXMidpX30sFd37Fv/GtwwhzhxGVAprjbg0gCAEeIgwCZyTV2Z1REEW8O4py0wsjeloKoMr6iCY6dP92H6Vw/oTyICIthibxjm/DfN9lVz8IqtqKYLUXfoKVMVQVVJOElGjrnnUt9T9wbgp8AyYKaGlqingHZU/uG2NTZSVqwHQTWkx9hxjkpWDaCg6Ckj5qebgBVbT3V3NNXMSiWSDdGV3hrtzla7J+duwPOToIg42ChPQOQjspnSlp1V+Gjdged7+8UN5CRAV7a5EdFNwCjEaBR27b3W890TE7g24NAP/mMDXRWrGoFPQI9ls/MWO2dWFAar/xcOIImbbpA3zgAAAABJRU5ErkJggg==);\n",
       "        }\n",
       "    </style>\n",
       "    <div>\n",
       "        <a href=\"https://bokeh.org\" target=\"_blank\" class=\"bk-notebook-logo\"></a>\n",
       "        <span id=\"cefc345d-4ef1-41c0-967c-c28dd555043f\">Loading BokehJS ...</span>\n",
       "    </div>\n"
      ]
     },
     "metadata": {},
     "output_type": "display_data"
    },
    {
     "data": {
      "application/javascript": "'use strict';\n(function(root) {\n  function now() {\n    return new Date();\n  }\n\n  const force = true;\n\n  if (typeof root._bokeh_onload_callbacks === \"undefined\" || force === true) {\n    root._bokeh_onload_callbacks = [];\n    root._bokeh_is_loading = undefined;\n  }\n\nconst JS_MIME_TYPE = 'application/javascript';\n  const HTML_MIME_TYPE = 'text/html';\n  const EXEC_MIME_TYPE = 'application/vnd.bokehjs_exec.v0+json';\n  const CLASS_NAME = 'output_bokeh rendered_html';\n\n  /**\n   * Render data to the DOM node\n   */\n  function render(props, node) {\n    const script = document.createElement(\"script\");\n    node.appendChild(script);\n  }\n\n  /**\n   * Handle when an output is cleared or removed\n   */\n  function handleClearOutput(event, handle) {\n    function drop(id) {\n      const view = Bokeh.index.get_by_id(id)\n      if (view != null) {\n        view.model.document.clear()\n        Bokeh.index.delete(view)\n      }\n    }\n\n    const cell = handle.cell;\n\n    const id = cell.output_area._bokeh_element_id;\n    const server_id = cell.output_area._bokeh_server_id;\n\n    // Clean up Bokeh references\n    if (id != null) {\n      drop(id)\n    }\n\n    if (server_id !== undefined) {\n      // Clean up Bokeh references\n      const cmd_clean = \"from bokeh.io.state import curstate; print(curstate().uuid_to_server['\" + server_id + \"'].get_sessions()[0].document.roots[0]._id)\";\n      cell.notebook.kernel.execute(cmd_clean, {\n        iopub: {\n          output: function(msg) {\n            const id = msg.content.text.trim()\n            drop(id)\n          }\n        }\n      });\n      // Destroy server and session\n      const cmd_destroy = \"import bokeh.io.notebook as ion; ion.destroy_server('\" + server_id + \"')\";\n      cell.notebook.kernel.execute(cmd_destroy);\n    }\n  }\n\n  /**\n   * Handle when a new output is added\n   */\n  function handleAddOutput(event, handle) {\n    const output_area = handle.output_area;\n    const output = handle.output;\n\n    // limit handleAddOutput to display_data with EXEC_MIME_TYPE content only\n    if ((output.output_type != \"display_data\") || (!Object.prototype.hasOwnProperty.call(output.data, EXEC_MIME_TYPE))) {\n      return\n    }\n\n    const toinsert = output_area.element.find(\".\" + CLASS_NAME.split(' ')[0]);\n\n    if (output.metadata[EXEC_MIME_TYPE][\"id\"] !== undefined) {\n      toinsert[toinsert.length - 1].firstChild.textContent = output.data[JS_MIME_TYPE];\n      // store reference to embed id on output_area\n      output_area._bokeh_element_id = output.metadata[EXEC_MIME_TYPE][\"id\"];\n    }\n    if (output.metadata[EXEC_MIME_TYPE][\"server_id\"] !== undefined) {\n      const bk_div = document.createElement(\"div\");\n      bk_div.innerHTML = output.data[HTML_MIME_TYPE];\n      const script_attrs = bk_div.children[0].attributes;\n      for (let i = 0; i < script_attrs.length; i++) {\n        toinsert[toinsert.length - 1].firstChild.setAttribute(script_attrs[i].name, script_attrs[i].value);\n        toinsert[toinsert.length - 1].firstChild.textContent = bk_div.children[0].textContent\n      }\n      // store reference to server id on output_area\n      output_area._bokeh_server_id = output.metadata[EXEC_MIME_TYPE][\"server_id\"];\n    }\n  }\n\n  function register_renderer(events, OutputArea) {\n\n    function append_mime(data, metadata, element) {\n      // create a DOM node to render to\n      const toinsert = this.create_output_subarea(\n        metadata,\n        CLASS_NAME,\n        EXEC_MIME_TYPE\n      );\n      this.keyboard_manager.register_events(toinsert);\n      // Render to node\n      const props = {data: data, metadata: metadata[EXEC_MIME_TYPE]};\n      render(props, toinsert[toinsert.length - 1]);\n      element.append(toinsert);\n      return toinsert\n    }\n\n    /* Handle when an output is cleared or removed */\n    events.on('clear_output.CodeCell', handleClearOutput);\n    events.on('delete.Cell', handleClearOutput);\n\n    /* Handle when a new output is added */\n    events.on('output_added.OutputArea', handleAddOutput);\n\n    /**\n     * Register the mime type and append_mime function with output_area\n     */\n    OutputArea.prototype.register_mime_type(EXEC_MIME_TYPE, append_mime, {\n      /* Is output safe? */\n      safe: true,\n      /* Index of renderer in `output_area.display_order` */\n      index: 0\n    });\n  }\n\n  // register the mime type if in Jupyter Notebook environment and previously unregistered\n  if (root.Jupyter !== undefined) {\n    const events = require('base/js/events');\n    const OutputArea = require('notebook/js/outputarea').OutputArea;\n\n    if (OutputArea.prototype.mime_types().indexOf(EXEC_MIME_TYPE) == -1) {\n      register_renderer(events, OutputArea);\n    }\n  }\n  if (typeof (root._bokeh_timeout) === \"undefined\" || force === true) {\n    root._bokeh_timeout = Date.now() + 5000;\n    root._bokeh_failed_load = false;\n  }\n\n  const NB_LOAD_WARNING = {'data': {'text/html':\n     \"<div style='background-color: #fdd'>\\n\"+\n     \"<p>\\n\"+\n     \"BokehJS does not appear to have successfully loaded. If loading BokehJS from CDN, this \\n\"+\n     \"may be due to a slow or bad network connection. Possible fixes:\\n\"+\n     \"</p>\\n\"+\n     \"<ul>\\n\"+\n     \"<li>re-rerun `output_notebook()` to attempt to load from CDN again, or</li>\\n\"+\n     \"<li>use INLINE resources instead, as so:</li>\\n\"+\n     \"</ul>\\n\"+\n     \"<code>\\n\"+\n     \"from bokeh.resources import INLINE\\n\"+\n     \"output_notebook(resources=INLINE)\\n\"+\n     \"</code>\\n\"+\n     \"</div>\"}};\n\n  function display_loaded(error = null) {\n    const el = document.getElementById(\"cefc345d-4ef1-41c0-967c-c28dd555043f\");\n    if (el != null) {\n      const html = (() => {\n        if (typeof root.Bokeh === \"undefined\") {\n          if (error == null) {\n            return \"BokehJS is loading ...\";\n          } else {\n            return \"BokehJS failed to load.\";\n          }\n        } else {\n          const prefix = `BokehJS ${root.Bokeh.version}`;\n          if (error == null) {\n            return `${prefix} successfully loaded.`;\n          } else {\n            return `${prefix} <b>encountered errors</b> while loading and may not function as expected.`;\n          }\n        }\n      })();\n      el.innerHTML = html;\n\n      if (error != null) {\n        const wrapper = document.createElement(\"div\");\n        wrapper.style.overflow = \"auto\";\n        wrapper.style.height = \"5em\";\n        wrapper.style.resize = \"vertical\";\n        const content = document.createElement(\"div\");\n        content.style.fontFamily = \"monospace\";\n        content.style.whiteSpace = \"pre-wrap\";\n        content.style.backgroundColor = \"rgb(255, 221, 221)\";\n        content.textContent = error.stack ?? error.toString();\n        wrapper.append(content);\n        el.append(wrapper);\n      }\n    } else if (Date.now() < root._bokeh_timeout) {\n      setTimeout(() => display_loaded(error), 100);\n    }\n  }\n\n  function run_callbacks() {\n    try {\n      root._bokeh_onload_callbacks.forEach(function(callback) {\n        if (callback != null)\n          callback();\n      });\n    } finally {\n      delete root._bokeh_onload_callbacks\n    }\n    console.debug(\"Bokeh: all callbacks have finished\");\n  }\n\n  function load_libs(css_urls, js_urls, callback) {\n    if (css_urls == null) css_urls = [];\n    if (js_urls == null) js_urls = [];\n\n    root._bokeh_onload_callbacks.push(callback);\n    if (root._bokeh_is_loading > 0) {\n      console.debug(\"Bokeh: BokehJS is being loaded, scheduling callback at\", now());\n      return null;\n    }\n    if (js_urls == null || js_urls.length === 0) {\n      run_callbacks();\n      return null;\n    }\n    console.debug(\"Bokeh: BokehJS not loaded, scheduling load and callback at\", now());\n    root._bokeh_is_loading = css_urls.length + js_urls.length;\n\n    function on_load() {\n      root._bokeh_is_loading--;\n      if (root._bokeh_is_loading === 0) {\n        console.debug(\"Bokeh: all BokehJS libraries/stylesheets loaded\");\n        run_callbacks()\n      }\n    }\n\n    function on_error(url) {\n      console.error(\"failed to load \" + url);\n    }\n\n    for (let i = 0; i < css_urls.length; i++) {\n      const url = css_urls[i];\n      const element = document.createElement(\"link\");\n      element.onload = on_load;\n      element.onerror = on_error.bind(null, url);\n      element.rel = \"stylesheet\";\n      element.type = \"text/css\";\n      element.href = url;\n      console.debug(\"Bokeh: injecting link tag for BokehJS stylesheet: \", url);\n      document.body.appendChild(element);\n    }\n\n    for (let i = 0; i < js_urls.length; i++) {\n      const url = js_urls[i];\n      const element = document.createElement('script');\n      element.onload = on_load;\n      element.onerror = on_error.bind(null, url);\n      element.async = false;\n      element.src = url;\n      console.debug(\"Bokeh: injecting script tag for BokehJS library: \", url);\n      document.head.appendChild(element);\n    }\n  };\n\n  function inject_raw_css(css) {\n    const element = document.createElement(\"style\");\n    element.appendChild(document.createTextNode(css));\n    document.body.appendChild(element);\n  }\n\n  const js_urls = [\"https://cdn.bokeh.org/bokeh/release/bokeh-3.4.1.min.js\", \"https://cdn.bokeh.org/bokeh/release/bokeh-gl-3.4.1.min.js\", \"https://cdn.bokeh.org/bokeh/release/bokeh-widgets-3.4.1.min.js\", \"https://cdn.bokeh.org/bokeh/release/bokeh-tables-3.4.1.min.js\", \"https://cdn.bokeh.org/bokeh/release/bokeh-mathjax-3.4.1.min.js\"];\n  const css_urls = [];\n\n  const inline_js = [    function(Bokeh) {\n      Bokeh.set_log_level(\"info\");\n    },\nfunction(Bokeh) {\n    }\n  ];\n\n  function run_inline_js() {\n    if (root.Bokeh !== undefined || force === true) {\n      try {\n            for (let i = 0; i < inline_js.length; i++) {\n      inline_js[i].call(root, root.Bokeh);\n    }\n\n      } catch (error) {display_loaded(error);throw error;\n      }if (force === true) {\n        display_loaded();\n      }} else if (Date.now() < root._bokeh_timeout) {\n      setTimeout(run_inline_js, 100);\n    } else if (!root._bokeh_failed_load) {\n      console.log(\"Bokeh: BokehJS failed to load within specified timeout.\");\n      root._bokeh_failed_load = true;\n    } else if (force !== true) {\n      const cell = $(document.getElementById(\"cefc345d-4ef1-41c0-967c-c28dd555043f\")).parents('.cell').data().cell;\n      cell.output_area.append_execute_result(NB_LOAD_WARNING)\n    }\n  }\n\n  if (root._bokeh_is_loading === 0) {\n    console.debug(\"Bokeh: BokehJS loaded, going straight to plotting\");\n    run_inline_js();\n  } else {\n    load_libs(css_urls, js_urls, function() {\n      console.debug(\"Bokeh: BokehJS plotting callback run at\", now());\n      run_inline_js();\n    });\n  }\n}(window));",
      "application/vnd.bokehjs_load.v0+json": ""
     },
     "metadata": {},
     "output_type": "display_data"
    },
    {
     "data": {
      "text/html": [
       "\n",
       "  <div id=\"b928af43-0dcc-4884-9f31-1c6f9bbb2932\" data-root-id=\"p1046\" style=\"display: contents;\"></div>\n"
      ]
     },
     "metadata": {},
     "output_type": "display_data"
    },
    {
     "data": {
      "application/javascript": "(function(root) {\n  function embed_document(root) {\n  const docs_json = {\"6b87ceec-f42f-4de5-8ec6-1087414b0b16\":{\"version\":\"3.4.1\",\"title\":\"Bokeh Application\",\"roots\":[{\"type\":\"object\",\"name\":\"Figure\",\"id\":\"p1046\",\"attributes\":{\"x_range\":{\"type\":\"object\",\"name\":\"DataRange1d\",\"id\":\"p1047\"},\"y_range\":{\"type\":\"object\",\"name\":\"DataRange1d\",\"id\":\"p1048\"},\"x_scale\":{\"type\":\"object\",\"name\":\"LinearScale\",\"id\":\"p1055\"},\"y_scale\":{\"type\":\"object\",\"name\":\"LinearScale\",\"id\":\"p1056\"},\"title\":{\"type\":\"object\",\"name\":\"Title\",\"id\":\"p1053\"},\"renderers\":[{\"type\":\"object\",\"name\":\"GlyphRenderer\",\"id\":\"p1084\",\"attributes\":{\"data_source\":{\"type\":\"object\",\"name\":\"ColumnDataSource\",\"id\":\"p1078\",\"attributes\":{\"selected\":{\"type\":\"object\",\"name\":\"Selection\",\"id\":\"p1079\",\"attributes\":{\"indices\":[],\"line_indices\":[]}},\"selection_policy\":{\"type\":\"object\",\"name\":\"UnionRenderers\",\"id\":\"p1080\"},\"data\":{\"type\":\"map\",\"entries\":[[\"x\",{\"type\":\"ndarray\",\"array\":{\"type\":\"bytes\",\"data\":\"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\"},\"shape\":[358],\"dtype\":\"float64\",\"order\":\"little\"}],[\"y\",{\"type\":\"ndarray\",\"array\":{\"type\":\"bytes\",\"data\":\"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\"},\"shape\":[358],\"dtype\":\"float64\",\"order\":\"little\"}]]}}},\"view\":{\"type\":\"object\",\"name\":\"CDSView\",\"id\":\"p1085\",\"attributes\":{\"filter\":{\"type\":\"object\",\"name\":\"AllIndices\",\"id\":\"p1086\"}}},\"glyph\":{\"type\":\"object\",\"name\":\"Scatter\",\"id\":\"p1081\",\"attributes\":{\"x\":{\"type\":\"field\",\"field\":\"x\"},\"y\":{\"type\":\"field\",\"field\":\"y\"},\"size\":{\"type\":\"value\",\"value\":3},\"line_color\":{\"type\":\"value\",\"value\":\"#1f77b4\"},\"fill_color\":{\"type\":\"value\",\"value\":\"#1f77b4\"}}},\"nonselection_glyph\":{\"type\":\"object\",\"name\":\"Scatter\",\"id\":\"p1082\",\"attributes\":{\"x\":{\"type\":\"field\",\"field\":\"x\"},\"y\":{\"type\":\"field\",\"field\":\"y\"},\"size\":{\"type\":\"value\",\"value\":3},\"line_color\":{\"type\":\"value\",\"value\":\"#1f77b4\"},\"line_alpha\":{\"type\":\"value\",\"value\":0.1},\"fill_color\":{\"type\":\"value\",\"value\":\"#1f77b4\"},\"fill_alpha\":{\"type\":\"value\",\"value\":0.1},\"hatch_alpha\":{\"type\":\"value\",\"value\":0.1}}},\"muted_glyph\":{\"type\":\"object\",\"name\":\"Scatter\",\"id\":\"p1083\",\"attributes\":{\"x\":{\"type\":\"field\",\"field\":\"x\"},\"y\":{\"type\":\"field\",\"field\":\"y\"},\"size\":{\"type\":\"value\",\"value\":3},\"line_color\":{\"type\":\"value\",\"value\":\"#1f77b4\"},\"line_alpha\":{\"type\":\"value\",\"value\":0.2},\"fill_color\":{\"type\":\"value\",\"value\":\"#1f77b4\"},\"fill_alpha\":{\"type\":\"value\",\"value\":0.2},\"hatch_alpha\":{\"type\":\"value\",\"value\":0.2}}}}}],\"toolbar\":{\"type\":\"object\",\"name\":\"Toolbar\",\"id\":\"p1054\",\"attributes\":{\"tools\":[{\"type\":\"object\",\"name\":\"PanTool\",\"id\":\"p1067\"},{\"type\":\"object\",\"name\":\"WheelZoomTool\",\"id\":\"p1068\",\"attributes\":{\"renderers\":\"auto\"}},{\"type\":\"object\",\"name\":\"BoxZoomTool\",\"id\":\"p1069\",\"attributes\":{\"overlay\":{\"type\":\"object\",\"name\":\"BoxAnnotation\",\"id\":\"p1070\",\"attributes\":{\"syncable\":false,\"level\":\"overlay\",\"visible\":false,\"left\":{\"type\":\"number\",\"value\":\"nan\"},\"right\":{\"type\":\"number\",\"value\":\"nan\"},\"top\":{\"type\":\"number\",\"value\":\"nan\"},\"bottom\":{\"type\":\"number\",\"value\":\"nan\"},\"left_units\":\"canvas\",\"right_units\":\"canvas\",\"top_units\":\"canvas\",\"bottom_units\":\"canvas\",\"line_color\":\"black\",\"line_alpha\":1.0,\"line_width\":2,\"line_dash\":[4,4],\"fill_color\":\"lightgrey\",\"fill_alpha\":0.5}}}},{\"type\":\"object\",\"name\":\"SaveTool\",\"id\":\"p1075\"},{\"type\":\"object\",\"name\":\"ResetTool\",\"id\":\"p1076\"},{\"type\":\"object\",\"name\":\"HelpTool\",\"id\":\"p1077\"}]}},\"left\":[{\"type\":\"object\",\"name\":\"LinearAxis\",\"id\":\"p1062\",\"attributes\":{\"ticker\":{\"type\":\"object\",\"name\":\"BasicTicker\",\"id\":\"p1063\",\"attributes\":{\"mantissas\":[1,2,5]}},\"formatter\":{\"type\":\"object\",\"name\":\"BasicTickFormatter\",\"id\":\"p1064\"},\"axis_label\":\"Predicted RT\",\"major_label_policy\":{\"type\":\"object\",\"name\":\"AllLabels\",\"id\":\"p1065\"}}}],\"below\":[{\"type\":\"object\",\"name\":\"LinearAxis\",\"id\":\"p1057\",\"attributes\":{\"ticker\":{\"type\":\"object\",\"name\":\"BasicTicker\",\"id\":\"p1058\",\"attributes\":{\"mantissas\":[1,2,5]}},\"formatter\":{\"type\":\"object\",\"name\":\"BasicTickFormatter\",\"id\":\"p1059\"},\"axis_label\":\"Library RT\",\"major_label_policy\":{\"type\":\"object\",\"name\":\"AllLabels\",\"id\":\"p1060\"}}}],\"center\":[{\"type\":\"object\",\"name\":\"Grid\",\"id\":\"p1061\",\"attributes\":{\"axis\":{\"id\":\"p1057\"}}},{\"type\":\"object\",\"name\":\"Grid\",\"id\":\"p1066\",\"attributes\":{\"dimension\":1,\"axis\":{\"id\":\"p1062\"}}},{\"type\":\"object\",\"name\":\"Slope\",\"id\":\"p1087\",\"attributes\":{\"gradient\":1,\"y_intercept\":0,\"line_alpha\":0.5}},{\"type\":\"object\",\"name\":\"Slope\",\"id\":\"p1088\",\"attributes\":{\"gradient\":0.8404616005624288,\"y_intercept\":0.8278320274436705,\"line_color\":\"blue\"}}]}}]}};\n  const render_items = [{\"docid\":\"6b87ceec-f42f-4de5-8ec6-1087414b0b16\",\"roots\":{\"p1046\":\"b928af43-0dcc-4884-9f31-1c6f9bbb2932\"},\"root_ids\":[\"p1046\"]}];\n  void root.Bokeh.embed.embed_items_notebook(docs_json, render_items);\n  }\n  if (root.Bokeh !== undefined) {\n    embed_document(root);\n  } else {\n    let attempts = 0;\n    const timer = setInterval(function(root) {\n      if (root.Bokeh !== undefined) {\n        clearInterval(timer);\n        embed_document(root);\n      } else {\n        attempts++;\n        if (attempts > 100) {\n          clearInterval(timer);\n          console.log(\"Bokeh: ERROR: Unable to run BokehJS code because BokehJS library is missing\");\n        }\n      }\n    }, 10, root)\n  }\n})(window);",
      "application/vnd.bokehjs_exec.v0+json": ""
     },
     "metadata": {
      "application/vnd.bokehjs_exec.v0+json": {
       "id": "p1046"
      }
     },
     "output_type": "display_data"
    },
    {
     "name": "stderr",
     "output_type": "stream",
     "text": [
      "/home/npa/miniconda3/envs/pyretip/lib/python3.10/site-packages/sklearn/metrics/_regression.py:483: FutureWarning: 'squared' is deprecated in version 1.4 and will be removed in 1.6. To calculate the root mean squared error, use the function'root_mean_squared_error'.\n",
      "  warnings.warn(\n"
     ]
    },
    {
     "data": {
      "text/plain": [
       "{'root_mean_squared_error': 0.8901671571001828,\n",
       " 'mean_squared_error': 0.7923975675798215,\n",
       " 'mean_absolute_error': 0.6660478845709784,\n",
       " 'median_absolute_error': 0.4978496284198073,\n",
       " 'explained_variance_score': 0.8263832563526607,\n",
       " 'mean_absolute_percentage_error': 0.15513346308724785,\n",
       " 'absolute_median_relative_error': 0.11241875449932781,\n",
       " 'r2_score': 0.8262742178526999,\n",
       " 'pearson_correlation': 0.9091838063647101,\n",
       " '90_percent_confidence_interval': 1.1181357910978242,\n",
       " '95_percent_confidence_interval': 1.4414338479245377}"
      ]
     },
     "execution_count": 15,
     "metadata": {},
     "output_type": "execute_result"
    }
   ],
   "source": [
    "trainer.score(dataset.get_validation_data(), target_column='RT', plot=True)"
   ]
  },
  {
   "cell_type": "markdown",
   "metadata": {},
   "source": [
    "### RT Prediction"
   ]
  },
  {
   "cell_type": "markdown",
   "metadata": {},
   "source": [
    "The trained model can be used to predict retention times for a new dataset."
   ]
  },
  {
   "cell_type": "code",
   "execution_count": 8,
   "metadata": {},
   "outputs": [
    {
     "name": "stdout",
     "output_type": "stream",
     "text": [
      "Parse progress: |████████████████████████████████████████████████████████████████| (done) 100%\n",
      "stackedensemble prediction progress: |███████████████████████████████████████████| (done) 100%\n",
      "Export File progress: |██████████████████████████████████████████████████████████| (done) 100%\n"
     ]
    },
    {
     "data": {
      "text/plain": [
       "array([7.45639603, 7.03725994, 6.82848188, 7.65852781, 6.59846003,\n",
       "       7.71689462, 7.50234916, 7.09493758, 6.92364969, 6.98828669,\n",
       "       6.89629856, 7.04426517, 6.62614395, 6.51693546, 7.52077073,\n",
       "       6.71158307, 6.44283815, 6.70908215, 7.17358798, 6.8449017 ,\n",
       "       6.60186754, 6.64052816, 8.68228444, 7.26832843, 7.18148477])"
      ]
     },
     "execution_count": 8,
     "metadata": {},
     "output_type": "execute_result"
    }
   ],
   "source": [
    "y_pred = trainer.predict(dataset.get_validation_data())\n",
    "y_pred[:25]"
   ]
  },
  {
   "cell_type": "markdown",
   "metadata": {},
   "source": [
    "These predicted values can be annotated to the dataset."
   ]
  },
  {
   "cell_type": "code",
   "execution_count": 9,
   "metadata": {},
   "outputs": [
    {
     "name": "stdout",
     "output_type": "stream",
     "text": [
      "Parse progress: |████████████████████████████████████████████████████████████████| (done) 100%\n",
      "stackedensemble prediction progress: |███████████████████████████████████████████| (done) 100%\n",
      "Export File progress: |██████████████████████████████████████████████████████████| (done) 100%\n"
     ]
    }
   ],
   "source": [
    "annotated = trainer.annotate(dataset.get_validation_data(include_metadata=True), prediction_column='RTP')"
   ]
  },
  {
   "cell_type": "code",
   "execution_count": 10,
   "metadata": {},
   "outputs": [
    {
     "data": {
      "text/html": [
       "<div>\n",
       "<style scoped>\n",
       "    .dataframe tbody tr th:only-of-type {\n",
       "        vertical-align: middle;\n",
       "    }\n",
       "\n",
       "    .dataframe tbody tr th {\n",
       "        vertical-align: top;\n",
       "    }\n",
       "\n",
       "    .dataframe thead th {\n",
       "        text-align: right;\n",
       "    }\n",
       "</style>\n",
       "<table border=\"1\" class=\"dataframe\">\n",
       "  <thead>\n",
       "    <tr style=\"text-align: right;\">\n",
       "      <th></th>\n",
       "      <th>Name</th>\n",
       "      <th>InChIKey</th>\n",
       "      <th>SMILES</th>\n",
       "      <th>RTP</th>\n",
       "      <th>RT</th>\n",
       "      <th>ABC</th>\n",
       "      <th>ABCGG</th>\n",
       "      <th>nAcid</th>\n",
       "      <th>nBase</th>\n",
       "      <th>nAromAtom</th>\n",
       "      <th>...</th>\n",
       "      <th>SRW09</th>\n",
       "      <th>SRW10</th>\n",
       "      <th>TSRW10</th>\n",
       "      <th>MW</th>\n",
       "      <th>AMW</th>\n",
       "      <th>WPath</th>\n",
       "      <th>WPol</th>\n",
       "      <th>Zagreb1</th>\n",
       "      <th>Zagreb2</th>\n",
       "      <th>mZagreb2</th>\n",
       "    </tr>\n",
       "  </thead>\n",
       "  <tbody>\n",
       "    <tr>\n",
       "      <th>0</th>\n",
       "      <td>Soyasapogenol E base + O-Hex-HexA</td>\n",
       "      <td>YDNHBSRZSMNZPB-NJAHCQCINA-N</td>\n",
       "      <td>O=C(O)C7OC(OC2CCC3(C)(C4CC=C1C5CC(C)(C)CC(=O)C...</td>\n",
       "      <td>7.456396</td>\n",
       "      <td>7.84</td>\n",
       "      <td>44.836157</td>\n",
       "      <td>32.982369</td>\n",
       "      <td>1</td>\n",
       "      <td>0</td>\n",
       "      <td>0</td>\n",
       "      <td>...</td>\n",
       "      <td>0.0</td>\n",
       "      <td>11.553443</td>\n",
       "      <td>96.348334</td>\n",
       "      <td>794.445257</td>\n",
       "      <td>6.511846</td>\n",
       "      <td>12554</td>\n",
       "      <td>131</td>\n",
       "      <td>330.0</td>\n",
       "      <td>420.0</td>\n",
       "      <td>11.631944</td>\n",
       "    </tr>\n",
       "    <tr>\n",
       "      <th>1</th>\n",
       "      <td>Soyasapogenol E base + O-HexA-Hex-dHex</td>\n",
       "      <td>CROUPKILZUPLQA-UHFFFAOYNA-N</td>\n",
       "      <td>O=C(O)C8OC(OC2CCC3(C)(C4CC=C1C5CC(C)(C)CC(=O)C...</td>\n",
       "      <td>7.037260</td>\n",
       "      <td>7.62</td>\n",
       "      <td>52.780741</td>\n",
       "      <td>38.464480</td>\n",
       "      <td>1</td>\n",
       "      <td>0</td>\n",
       "      <td>0</td>\n",
       "      <td>...</td>\n",
       "      <td>0.0</td>\n",
       "      <td>11.673657</td>\n",
       "      <td>107.062212</td>\n",
       "      <td>940.503166</td>\n",
       "      <td>6.623262</td>\n",
       "      <td>19659</td>\n",
       "      <td>152</td>\n",
       "      <td>386.0</td>\n",
       "      <td>489.0</td>\n",
       "      <td>13.743056</td>\n",
       "    </tr>\n",
       "    <tr>\n",
       "      <th>2</th>\n",
       "      <td>Soyasapogenol E base + O-HexA-Hex-Hex</td>\n",
       "      <td>JTXVTHCLTOUSSL-UHFFFAOYNA-N</td>\n",
       "      <td>O=C(O)C8OC(OC2CCC3(C)(C4CC=C1C5CC(C)(C)CC(=O)C...</td>\n",
       "      <td>6.828482</td>\n",
       "      <td>7.49</td>\n",
       "      <td>53.378458</td>\n",
       "      <td>38.971182</td>\n",
       "      <td>1</td>\n",
       "      <td>0</td>\n",
       "      <td>0</td>\n",
       "      <td>...</td>\n",
       "      <td>0.0</td>\n",
       "      <td>11.680125</td>\n",
       "      <td>108.106572</td>\n",
       "      <td>956.498080</td>\n",
       "      <td>6.688798</td>\n",
       "      <td>20502</td>\n",
       "      <td>154</td>\n",
       "      <td>390.0</td>\n",
       "      <td>494.0</td>\n",
       "      <td>14.076389</td>\n",
       "    </tr>\n",
       "    <tr>\n",
       "      <th>3</th>\n",
       "      <td>Soyasapogenol B base + O-HexA-Pen-dHex, O-C6H7...</td>\n",
       "      <td>VWKBHQGCNGULAZ-UHFFFAOYNA-N</td>\n",
       "      <td>O=C(O)C9OC(OC3CCC4(C)(C5CC=C2C6CC(C)(C)CC(OC1O...</td>\n",
       "      <td>7.658528</td>\n",
       "      <td>7.79</td>\n",
       "      <td>58.615935</td>\n",
       "      <td>41.117105</td>\n",
       "      <td>1</td>\n",
       "      <td>0</td>\n",
       "      <td>0</td>\n",
       "      <td>...</td>\n",
       "      <td>0.0</td>\n",
       "      <td>11.738011</td>\n",
       "      <td>114.489110</td>\n",
       "      <td>1038.539945</td>\n",
       "      <td>6.700258</td>\n",
       "      <td>27052</td>\n",
       "      <td>164</td>\n",
       "      <td>426.0</td>\n",
       "      <td>536.0</td>\n",
       "      <td>15.104167</td>\n",
       "    </tr>\n",
       "    <tr>\n",
       "      <th>4</th>\n",
       "      <td>Soyasapogenol B base + O-HexA-Hex-Pen, O-dHex</td>\n",
       "      <td>REIWEXDMDVAAEI-UHFFFAOYNA-N</td>\n",
       "      <td>CC1OC(OC2CC(C)(C)CC3C4=CCC5C6(C)CCC(OC7OC(C(O)...</td>\n",
       "      <td>6.598460</td>\n",
       "      <td>5.56</td>\n",
       "      <td>59.949268</td>\n",
       "      <td>42.489658</td>\n",
       "      <td>1</td>\n",
       "      <td>0</td>\n",
       "      <td>0</td>\n",
       "      <td>...</td>\n",
       "      <td>0.0</td>\n",
       "      <td>11.764827</td>\n",
       "      <td>116.612958</td>\n",
       "      <td>1074.561074</td>\n",
       "      <td>6.674292</td>\n",
       "      <td>28816</td>\n",
       "      <td>170</td>\n",
       "      <td>436.0</td>\n",
       "      <td>550.0</td>\n",
       "      <td>15.659722</td>\n",
       "    </tr>\n",
       "  </tbody>\n",
       "</table>\n",
       "<p>5 rows × 822 columns</p>\n",
       "</div>"
      ],
      "text/plain": [
       "                                                Name  \\\n",
       "0                  Soyasapogenol E base + O-Hex-HexA   \n",
       "1             Soyasapogenol E base + O-HexA-Hex-dHex   \n",
       "2              Soyasapogenol E base + O-HexA-Hex-Hex   \n",
       "3  Soyasapogenol B base + O-HexA-Pen-dHex, O-C6H7...   \n",
       "4      Soyasapogenol B base + O-HexA-Hex-Pen, O-dHex   \n",
       "\n",
       "                      InChIKey  \\\n",
       "0  YDNHBSRZSMNZPB-NJAHCQCINA-N   \n",
       "1  CROUPKILZUPLQA-UHFFFAOYNA-N   \n",
       "2  JTXVTHCLTOUSSL-UHFFFAOYNA-N   \n",
       "3  VWKBHQGCNGULAZ-UHFFFAOYNA-N   \n",
       "4  REIWEXDMDVAAEI-UHFFFAOYNA-N   \n",
       "\n",
       "                                              SMILES       RTP    RT  \\\n",
       "0  O=C(O)C7OC(OC2CCC3(C)(C4CC=C1C5CC(C)(C)CC(=O)C...  7.456396  7.84   \n",
       "1  O=C(O)C8OC(OC2CCC3(C)(C4CC=C1C5CC(C)(C)CC(=O)C...  7.037260  7.62   \n",
       "2  O=C(O)C8OC(OC2CCC3(C)(C4CC=C1C5CC(C)(C)CC(=O)C...  6.828482  7.49   \n",
       "3  O=C(O)C9OC(OC3CCC4(C)(C5CC=C2C6CC(C)(C)CC(OC1O...  7.658528  7.79   \n",
       "4  CC1OC(OC2CC(C)(C)CC3C4=CCC5C6(C)CCC(OC7OC(C(O)...  6.598460  5.56   \n",
       "\n",
       "         ABC      ABCGG  nAcid  nBase  nAromAtom  ...  SRW09      SRW10  \\\n",
       "0  44.836157  32.982369      1      0          0  ...    0.0  11.553443   \n",
       "1  52.780741  38.464480      1      0          0  ...    0.0  11.673657   \n",
       "2  53.378458  38.971182      1      0          0  ...    0.0  11.680125   \n",
       "3  58.615935  41.117105      1      0          0  ...    0.0  11.738011   \n",
       "4  59.949268  42.489658      1      0          0  ...    0.0  11.764827   \n",
       "\n",
       "       TSRW10           MW       AMW  WPath  WPol  Zagreb1  Zagreb2   mZagreb2  \n",
       "0   96.348334   794.445257  6.511846  12554   131    330.0    420.0  11.631944  \n",
       "1  107.062212   940.503166  6.623262  19659   152    386.0    489.0  13.743056  \n",
       "2  108.106572   956.498080  6.688798  20502   154    390.0    494.0  14.076389  \n",
       "3  114.489110  1038.539945  6.700258  27052   164    426.0    536.0  15.104167  \n",
       "4  116.612958  1074.561074  6.674292  28816   170    436.0    550.0  15.659722  \n",
       "\n",
       "[5 rows x 822 columns]"
      ]
     },
     "execution_count": 10,
     "metadata": {},
     "output_type": "execute_result"
    }
   ],
   "source": [
    "annotated.head()"
   ]
  },
  {
   "cell_type": "markdown",
   "metadata": {},
   "source": [
    "Now the dataset includes a new column `RTP` containing the predicted retention time. The `RTP` values of molecules that could not be loaded or descriptors could not be calculated will be empty or null."
   ]
  },
  {
   "cell_type": "markdown",
   "metadata": {},
   "source": [
    "### Saving/Loading Models"
   ]
  },
  {
   "cell_type": "markdown",
   "metadata": {},
   "source": [
    "The whole `H2OautoMLTrainer` object cannot be saved but it is possible to save one of the models included. Use the `save_model` function indicating the `model_num` parameter (the model number based on the order of the `trainer.leaderboard` output) and the `filename`."
   ]
  },
  {
   "cell_type": "code",
   "execution_count": 21,
   "metadata": {},
   "outputs": [],
   "source": [
    "trainer.save_model(model_num=0, filename=\"H2O_autoML_model0\")"
   ]
  },
  {
   "cell_type": "markdown",
   "metadata": {},
   "source": [
    "This exported model can then be reloaded and used to score datasets and predict new retention times. However, unless a dataset is first passed to the trainer, it cannot be retrained. "
   ]
  },
  {
   "cell_type": "code",
   "execution_count": 22,
   "metadata": {},
   "outputs": [
    {
     "name": "stdout",
     "output_type": "stream",
     "text": [
      "Checking whether there is an H2O instance running at http://localhost:54321."
     ]
    },
    {
     "name": "stdout",
     "output_type": "stream",
     "text": [
      " connected.\n"
     ]
    },
    {
     "data": {
      "text/html": [
       "\n",
       "<style>\n",
       "\n",
       "#h2o-table-3.h2o-container {\n",
       "  overflow-x: auto;\n",
       "}\n",
       "#h2o-table-3 .h2o-table {\n",
       "  /* width: 100%; */\n",
       "  margin-top: 1em;\n",
       "  margin-bottom: 1em;\n",
       "}\n",
       "#h2o-table-3 .h2o-table caption {\n",
       "  white-space: nowrap;\n",
       "  caption-side: top;\n",
       "  text-align: left;\n",
       "  /* margin-left: 1em; */\n",
       "  margin: 0;\n",
       "  font-size: larger;\n",
       "}\n",
       "#h2o-table-3 .h2o-table thead {\n",
       "  white-space: nowrap; \n",
       "  position: sticky;\n",
       "  top: 0;\n",
       "  box-shadow: 0 -1px inset;\n",
       "}\n",
       "#h2o-table-3 .h2o-table tbody {\n",
       "  overflow: auto;\n",
       "}\n",
       "#h2o-table-3 .h2o-table th,\n",
       "#h2o-table-3 .h2o-table td {\n",
       "  text-align: right;\n",
       "  /* border: 1px solid; */\n",
       "}\n",
       "#h2o-table-3 .h2o-table tr:nth-child(even) {\n",
       "  /* background: #F5F5F5 */\n",
       "}\n",
       "\n",
       "</style>      \n",
       "<div id=\"h2o-table-3\" class=\"h2o-container\">\n",
       "  <table class=\"h2o-table\">\n",
       "    <caption></caption>\n",
       "    <thead></thead>\n",
       "    <tbody><tr><td>H2O_cluster_uptime:</td>\n",
       "<td>10 mins 02 secs</td></tr>\n",
       "<tr><td>H2O_cluster_timezone:</td>\n",
       "<td>Europe/Madrid</td></tr>\n",
       "<tr><td>H2O_data_parsing_timezone:</td>\n",
       "<td>UTC</td></tr>\n",
       "<tr><td>H2O_cluster_version:</td>\n",
       "<td>3.46.0.2</td></tr>\n",
       "<tr><td>H2O_cluster_version_age:</td>\n",
       "<td>17 days</td></tr>\n",
       "<tr><td>H2O_cluster_name:</td>\n",
       "<td>H2O_from_python_npa_weiopi</td></tr>\n",
       "<tr><td>H2O_cluster_total_nodes:</td>\n",
       "<td>1</td></tr>\n",
       "<tr><td>H2O_cluster_free_memory:</td>\n",
       "<td>15.67 Gb</td></tr>\n",
       "<tr><td>H2O_cluster_total_cores:</td>\n",
       "<td>16</td></tr>\n",
       "<tr><td>H2O_cluster_allowed_cores:</td>\n",
       "<td>16</td></tr>\n",
       "<tr><td>H2O_cluster_status:</td>\n",
       "<td>locked, healthy</td></tr>\n",
       "<tr><td>H2O_connection_url:</td>\n",
       "<td>http://localhost:54321</td></tr>\n",
       "<tr><td>H2O_connection_proxy:</td>\n",
       "<td>{\"http\": null, \"https\": null}</td></tr>\n",
       "<tr><td>H2O_internal_security:</td>\n",
       "<td>False</td></tr>\n",
       "<tr><td>Python_version:</td>\n",
       "<td>3.10.14 final</td></tr></tbody>\n",
       "  </table>\n",
       "</div>\n"
      ],
      "text/plain": [
       "--------------------------  -----------------------------\n",
       "H2O_cluster_uptime:         10 mins 02 secs\n",
       "H2O_cluster_timezone:       Europe/Madrid\n",
       "H2O_data_parsing_timezone:  UTC\n",
       "H2O_cluster_version:        3.46.0.2\n",
       "H2O_cluster_version_age:    17 days\n",
       "H2O_cluster_name:           H2O_from_python_npa_weiopi\n",
       "H2O_cluster_total_nodes:    1\n",
       "H2O_cluster_free_memory:    15.67 Gb\n",
       "H2O_cluster_total_cores:    16\n",
       "H2O_cluster_allowed_cores:  16\n",
       "H2O_cluster_status:         locked, healthy\n",
       "H2O_connection_url:         http://localhost:54321\n",
       "H2O_connection_proxy:       {\"http\": null, \"https\": null}\n",
       "H2O_internal_security:      False\n",
       "Python_version:             3.10.14 final\n",
       "--------------------------  -----------------------------"
      ]
     },
     "metadata": {},
     "output_type": "display_data"
    },
    {
     "name": "stdout",
     "output_type": "stream",
     "text": [
      "Loaded H2O_autoML_model0\n"
     ]
    }
   ],
   "source": [
    "trainer = retip.H2OautoMLTrainer(dataset)\n",
    "trainer.load_model(\"H2O_autoML_model0\")"
   ]
  },
  {
   "cell_type": "code",
   "execution_count": 24,
   "metadata": {},
   "outputs": [],
   "source": [
    "trainer.model_columns"
   ]
  }
 ],
 "metadata": {
  "kernelspec": {
   "display_name": "pyretip",
   "language": "python",
   "name": "python3"
  },
  "language_info": {
   "codemirror_mode": {
    "name": "ipython",
    "version": 3
   },
   "file_extension": ".py",
   "mimetype": "text/x-python",
   "name": "python",
   "nbconvert_exporter": "python",
   "pygments_lexer": "ipython3",
   "version": "3.10.14"
  }
 },
 "nbformat": 4,
 "nbformat_minor": 2
}
