{
 "cells": [
  {
   "cell_type": "markdown",
   "id": "legislative-iceland",
   "metadata": {},
   "source": [
    "![Retip](../images/retip_logo.png)\n",
    "# Retip: Retention Time Prediction for Metabolomics"
   ]
  },
  {
   "cell_type": "markdown",
   "id": "outer-consumer",
   "metadata": {},
   "source": [
    "### Identiying False Annotations\n",
    "\n",
    "Given an annotated metabolomics dataset, we can use retention time prediction to identify likely misannotated features.  To begin, we import Retip and load our data as usual. Outlier analysis requires the same type of input as model building, namely a table of compound Name, SMILES (or other supported chemical identifier) and retention time.\n",
    "\n",
    "Since we are not building this model to apply on other datasets, we do not need a separate training and test set, and so we can set the `test_size` to 0."
   ]
  },
  {
   "cell_type": "code",
   "execution_count": null,
   "id": "agreed-defense",
   "metadata": {},
   "outputs": [],
   "source": [
    "try:\n",
    "    import retip\n",
    "except:\n",
    "    # add the parent directory to the path to load the Retip library locally in case it isn't installed\n",
    "    import sys\n",
    "    sys.path.insert(1, os.path.join(sys.path[0], '..'))\n",
    "    \n",
    "    import retip"
   ]
  },
  {
   "cell_type": "code",
   "execution_count": null,
   "id": "taken-january",
   "metadata": {},
   "outputs": [],
   "source": [
    "dataset = retip.Dataset('../example_data/tomato_annotations.csv', test_size=0)\n",
    "dataset = retip.Dataset('tmp.csv', test_size=0)"
   ]
  },
  {
   "cell_type": "code",
   "execution_count": null,
   "id": "lesser-element",
   "metadata": {},
   "outputs": [],
   "source": [
    "dataset.head()"
   ]
  },
  {
   "cell_type": "markdown",
   "id": "described-dominant",
   "metadata": {},
   "source": [
    "Starting the training process will automatically calculate descriptors if necessary/"
   ]
  },
  {
   "cell_type": "code",
   "execution_count": null,
   "id": "superior-embassy",
   "metadata": {},
   "outputs": [],
   "source": [
    "trainer = retip.XGBoostTrainer(dataset, cv=10, n_cpu=24)\n",
    "trainer.train()"
   ]
  },
  {
   "cell_type": "markdown",
   "id": "scheduled-exhaust",
   "metadata": {},
   "source": [
    "Running the `outlier_identification` function will provide two results:\n",
    "\n",
    "1. A plot showing the distribution of real vs. predicted retention times overlaid by a simple linear fit with 95% confidence intervals, with any annotations outside of this CI window are highlighted in red\n",
    "2. A table listing the outliers with their name, retention time and predicted retention time"
   ]
  },
  {
   "cell_type": "code",
   "execution_count": null,
   "id": "swedish-frank",
   "metadata": {},
   "outputs": [],
   "source": [
    "outliers = retip.outlier_identification(trainer, dataset, confidence_interval=95)\n",
    "outliers"
   ]
  },
  {
   "cell_type": "markdown",
   "id": "exposed-indie",
   "metadata": {},
   "source": [
    "You can also select a different confidence interval threshold, for example 90% CI:"
   ]
  },
  {
   "cell_type": "code",
   "execution_count": null,
   "id": "muslim-headline",
   "metadata": {},
   "outputs": [],
   "source": [
    "outliers = retip.outlier_identification(trainer, dataset, confidence_interval=90)\n",
    "outliers"
   ]
  }
 ],
 "metadata": {
  "kernelspec": {
   "display_name": "Python 3",
   "language": "python",
   "name": "python3"
  },
  "language_info": {
   "codemirror_mode": {
    "name": "ipython",
    "version": 3
   },
   "file_extension": ".py",
   "mimetype": "text/x-python",
   "name": "python",
   "nbconvert_exporter": "python",
   "pygments_lexer": "ipython3",
   "version": "3.7.10"
  }
 },
 "nbformat": 4,
 "nbformat_minor": 5
}
